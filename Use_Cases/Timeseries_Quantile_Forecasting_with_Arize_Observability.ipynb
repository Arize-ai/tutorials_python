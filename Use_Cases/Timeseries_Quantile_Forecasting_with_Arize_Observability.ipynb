{
 "cells": [
  {
   "cell_type": "markdown",
   "metadata": {
    "id": "zJ_9cbtEr00u"
   },
   "source": [
    "<img src=\"https://storage.googleapis.com/arize-assets/arize-logo-white.jpg\" width=\"200\"/>\n",
    "\n",
    "# Timeseries Observability in Arize with Quantile Forecasts\n",
    "Timeseries Forecasting models often produce quantile and/or upper and lower range predictions as well as midpoint predictions. This guide provides recommendations for the ideal format for uploading quantile and range forecast data to Arize, and covers how to calculate specific time series evaluation metrics such as Pinball Loss in Arize.\n",
    " \n",
    "In Timeseries Forecasting, it is is common to forecast upper and lower bounds as well as forecasting the midpoint prediction value.\n",
    " \n",
    "This example model is predicting 30 day revenue forecasts with upper and lower quantile ranges. The model produces a midpoint prediction, as well as upper and lower quantile range predictions. The model produces:\n",
    "* 75% quantile forecast values.\n",
    "* midpoint forecast values.\n",
    "* 25% quantile forecast values.\n",
    " \n",
    "This tutorial will step through formating the timeseries data and sending it to Arize. And then configuring MAE, MAPE, and Pinball Loss metrics using both the midpoint forecasts and the quartile forecasts in Arize.\n",
    "\n",
    "\n",
    "\n"
   ]
  },
  {
   "cell_type": "markdown",
   "metadata": {
    "id": "0zWStADKz7Qx"
   },
   "source": [
    "<img src=\"https://storage.cloud.google.com/arize-assets/claire/timeseries/timeseries_plot.png\" width=\"1000\"/>"
   ]
  },
  {
   "cell_type": "code",
   "execution_count": null,
   "metadata": {},
   "outputs": [],
   "source": [
    "!pip install -q arize"
   ]
  },
  {
   "cell_type": "code",
   "execution_count": null,
   "metadata": {},
   "outputs": [],
   "source": [
    "import pandas as pd\n",
    "import numpy as np\n",
    "\n",
    "from arize.pandas.logger import Client, Schema\n",
    "from arize.utils.types import ModelTypes, Environments"
   ]
  },
  {
   "cell_type": "code",
   "execution_count": null,
   "metadata": {},
   "outputs": [],
   "source": [
    "# Construct the df\n",
    "# For the purpose of this tutorial, We are randomly generating time series data to send to Arize.\n",
    "# The midpoint and quantile forecasts are random integers.\n",
    "# The timestamp is the date the forcasts are made for.\n",
    "# Prediction ids must be unique. we just convert the df index and reassing it as the id\n",
    "\n",
    "df = pd.DataFrame()\n",
    "df[\"timestamp\"] = pd.date_range(start=\"2021-11-06\", end=\"2022-11-06\", freq=\"M\")\n",
    "\n",
    "df[\"prediction\"] = np.random.randint(45, 55, size=12)\n",
    "df[\"actuals\"] = np.random.randint(45, 55, size=12)\n",
    "df[\"upper_quantile\"] = np.random.randint(75, 85, size=12)\n",
    "df[\"lower_quantile\"] = np.random.randint(15, 25, size=12)\n",
    "\n",
    "df.reset_index(inplace=True)\n",
    "df.rename(columns={\"index\": \"prediction_id\"}, inplace=True)\n",
    "print(df.dtypes)\n",
    "df.head()"
   ]
  },
  {
   "cell_type": "markdown",
   "metadata": {
    "id": "enLu4Ne9nP8L"
   },
   "source": [
    "We now construct a data schema for mapping data to Arize. Learn more about Arize data schema here https://docs.arize.com/arize/data-ingestion/model-schema \n",
    "\n",
    "* The prediction is sent as the midpoint forecast\n",
    "* Both quantile forecasts are sent as \"tags. \n",
    "\n",
    "Sending the quantile forecasts as tag data will allow us to plot the forecasts, and calculate the quantile metrics required. Learn more about Arize tag data here https://docs.arize.com/arize/data-ingestion/model-schema/9.-tags "
   ]
  },
  {
   "cell_type": "code",
   "execution_count": null,
   "metadata": {},
   "outputs": [],
   "source": [
    "import matplotlib.pyplot as plt\n",
    "\n",
    "# Using a inbuilt style to change\n",
    "# the look and feel of the plot\n",
    "plt.style.use(\"fivethirtyeight\")\n",
    "\n",
    "# setting figure size to 12, 10\n",
    "plt.figure(figsize=(25, 10))\n",
    "\n",
    "# Labelling the axes and setting\n",
    "# a title\n",
    "plt.xlabel(\"Date\")\n",
    "plt.ylabel(\"Values\")\n",
    "plt.title(\"Simulated Timeseries Data\")\n",
    "\n",
    "# plotting the \"A\" column and \"A\" column\n",
    "# of Rolling Dataframe (window_size  = 20)\n",
    "plt.plot(df[\"prediction\"], label=\"predictions\")\n",
    "plt.plot(df[\"actuals\"], label=\"actuals\")\n",
    "plt.plot(df[\"upper_quantile\"], label=\"75% quantile forecasts\")\n",
    "plt.plot(df[\"lower_quantile\"], label=\"25% quantile forecasts\")\n",
    "plt.legend()"
   ]
  },
  {
   "cell_type": "code",
   "execution_count": null,
   "metadata": {},
   "outputs": [],
   "source": [
    "# construct schema\n",
    "schema = Schema(\n",
    "    prediction_id_column_name=\"prediction_id\",\n",
    "    timestamp_column_name=\"timestamp\",\n",
    "    prediction_label_column_name=\"prediction\",\n",
    "    actual_label_column_name=\"actuals\",\n",
    "    tag_column_names=[\"upper_quantile\", \"lower_quantile\"],\n",
    ")"
   ]
  },
  {
   "cell_type": "markdown",
   "metadata": {
    "id": "oGhFM1q2uV4t"
   },
   "source": [
    "Log the data to Arize in batch through the python client. Notice that we choose the NUMERIC model type. Learn more about how to upload regression and forecasting models here https://docs.arize.com/arize/model-schema-mapping#regression"
   ]
  },
  {
   "cell_type": "code",
   "execution_count": null,
   "metadata": {},
   "outputs": [],
   "source": [
    "# initialize client\n",
    "arize_client = Client(space_key=\"SPACEKEY\", api_key=\"APIKEY\")\n",
    "\n",
    "# send data to arize\n",
    "response = arize_client.log(\n",
    "    dataframe=df,\n",
    "    model_id=\"timeseries-model-test\",\n",
    "    model_version=\"1.0\",\n",
    "    model_type=ModelTypes.NUMERIC,\n",
    "    environment=Environments.PRODUCTION,\n",
    "    schema=schema,\n",
    ")\n",
    "if response.status_code != 200:\n",
    "    print(\n",
    "        f\"logging failed with response code {response.status_code}, {response.text}\"\n",
    "    )\n",
    "else:\n",
    "    print(f\"✅ You have successfully sent data to Arize.\")"
   ]
  },
  {
   "cell_type": "markdown",
   "metadata": {
    "id": "4sxA11-cvhCf"
   },
   "source": [
    "Now that the data is successfully logged to Arize, go to the Arize UI and check the datasets tab to see the data details. "
   ]
  },
  {
   "cell_type": "markdown",
   "metadata": {
    "id": "eimZuhWAvL9W"
   },
   "source": [
    "## Vizualize the midpoint and quantile forecasts in Arize\n",
    "\n",
    "In the Arize app,\n",
    "* Navigate to Dashboards\n",
    "* Create a New Dashboard\n",
    "* Create a Timeseries widget\n",
    "  * Choose \"Data Metrics\" as the Chart Metrics Category.\n",
    "  * Add 4 plot to the widget. The plots will be displayed the data.\n",
    "  * Plot Prediction Average, Acutals Average, and the Average of both Quantiles forecasts."
   ]
  },
  {
   "cell_type": "markdown",
   "metadata": {
    "id": "L84-V3kk0RJQ"
   },
   "source": [
    "<img src=\"https://storage.cloud.google.com/arize-assets/claire/timeseries/dashboard.png\" width=\"1000\"/>"
   ]
  },
  {
   "cell_type": "markdown",
   "metadata": {
    "id": "PmNR4NJCtdHw"
   },
   "source": [
    "## Configure MAE and MAPE in Arize \n",
    "In the Arize app,\n",
    "* Navigate to the \"Config\" tab\n",
    " * Set the default metric. You can choose from MAE, MAPE, and others\n",
    " * Set the default evaluation windows. We recommend an evaluation window that corresponds to the frequency of the data uploads. In this case, we receive fresh forecasts every 30 days, so 30 days is a sensible ev evaluation window.\n",
    "* Navigate to the \"Performance Tracing\" tab\n",
    "* MAE and MAPE are default metrics in Arize. Select these metrics from the dropdown to see the performance of the midpoint forecast values. These are the values sent to the platform as \"predictions\".\n",
    " \n",
    "A comprehensive list of Arize default metrics can be found here https://docs.arize.com/arize/glossary/model-metric-definitions\n",
    " \n",
    "*Note that default metrics are calculated with the prediction data. These metrics are not configurable and cannot be calculated for Tags data. For bespoke time series metric calculations, we will leverage the Arize User Defined Metrics Feature\n"
   ]
  },
  {
   "cell_type": "markdown",
   "metadata": {
    "id": "2mbvcnpJ0bVk"
   },
   "source": [
    "<img src=\"https://storage.cloud.google.com/arize-assets/claire/timeseries/MAE.png\" width=\"1000\"/>"
   ]
  },
  {
   "cell_type": "markdown",
   "metadata": {
    "id": "bqmUf_T70bds"
   },
   "source": [
    "<img src=\"https://storage.cloud.google.com/arize-assets/claire/timeseries/MAPE.png\" width=\"1000\"/>"
   ]
  },
  {
   "cell_type": "markdown",
   "metadata": {
    "id": "8FRAuPBrvBnS"
   },
   "source": [
    "## Configure Pinball Loss in Arize\n",
    "Pinball Loss is used to assess the accuracy of an upper or lower quantile forecast. These forecasts are purposely biased high or low, so traditional metrics such as MAE will not be relevant. The Pinball Loss metric accounts for and adjusts for the bias.\n",
    "\n",
    "\n",
    "Learn more about Pinball Loss https://www.lokad.com/pinball-loss-function-definition#:~:text=The%20pinball%20loss%20function%2C%20also,forecast%20is%20a%20subtle%20problem. "
   ]
  },
  {
   "cell_type": "markdown",
   "metadata": {
    "id": "EoK9OCh-0rBI"
   },
   "source": [
    "<img src=\"https://storage.cloud.google.com/arize-assets/claire/timeseries/equation.png\" width=\"500\"/>"
   ]
  },
  {
   "cell_type": "markdown",
   "metadata": {
    "id": "LdMFOsJ-3amT"
   },
   "source": [
    "Because Pinball Loss is directly calculated from the quantile forecasts, we will use the Arize User Defined Metrics Feature to calculate the metrics. Once we write Pinball Loss as a UDM, we can use the metric elsewhere within Arize. \n",
    "\n",
    "In the Arize app,\n",
    "*Navigate to the \"Custom Metrics\" tab in Arize.\n",
    "* Select \"Create Custom Metric\" in the upper right corner.\n",
    "* Define your custom metrics using the UDMs interface.\n",
    "\n"
   ]
  },
  {
   "cell_type": "markdown",
   "metadata": {
    "id": "dMu3tJcK7Z9e"
   },
   "source": [
    "<img src=\"https://storage.cloud.google.com/arize-assets/claire/timeseries/custom_metric.png\" width=\"1000\"/>"
   ]
  },
  {
   "cell_type": "markdown",
   "metadata": {
    "id": "wxTEnlOSwfZC"
   },
   "source": [
    "## Set up monitors in Arize\n",
    "We will configure performance monitors for MAE, MAPE, and Pinball Loss.\n",
    " \n",
    " \n",
    "In the Arize app,\n",
    "* Navigate to the \"Monitors\" tab\n",
    "* click \"New Monitor\" in the upper right dropdown\n",
    "* select \"Create Performance Monitor.\n",
    "* Here you can configure monitors for model performance metrics. Note that the default configs for the evaluation window will apply here, but can be edited."
   ]
  },
  {
   "cell_type": "markdown",
   "metadata": {
    "id": "_6VvQA5k1BrS"
   },
   "source": [
    "<img src=\"https://storage.cloud.google.com/arize-assets/claire/timeseries/monitors-list.png\" width=\"1000\"/>"
   ]
  },
  {
   "cell_type": "markdown",
   "metadata": {
    "id": "xBXTpsoLF3t_"
   },
   "source": [
    "<img src=\"https://storage.cloud.google.com/arize-assets/claire/timeseries/monitor.png\" width=\"1000\"/>"
   ]
  },
  {
   "cell_type": "code",
   "execution_count": null,
   "metadata": {},
   "outputs": [],
   "source": []
  }
 ],
 "metadata": {
  "language_info": {
   "name": "python"
  }
 },
 "nbformat": 4,
 "nbformat_minor": 0
}
