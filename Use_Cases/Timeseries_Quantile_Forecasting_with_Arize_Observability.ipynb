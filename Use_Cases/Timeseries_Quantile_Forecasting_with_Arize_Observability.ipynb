{
  "cells": [
    {
      "cell_type": "markdown",
      "metadata": {
        "id": "zJ_9cbtEr00u"
      },
      "source": [
        "<img src=\"https://storage.googleapis.com/arize-assets/arize-logo-white.jpg\" width=\"200\"/>\n",
        "\n",
        "# Timeseries Observability in Arize with Quantile Forecasts\n",
        "Timeseries Forecasting models often produce quantile and/or upper and lower range predictions as well as midpoint predictions. This guide provides recommendations for the ideal format for uploading quantile and range forecast data to Arize, and covers how to calculate specific time series evaluation metrics such as Pinball Loss in Arize.\n",
        " \n",
        "In Timeseries Forecasting, it is is common to forecast upper and lower bounds as well as forecasting the midpoint prediction value.\n",
        " \n",
        "This example model is predicting 30 day revenue forecasts with upper and lower quantile ranges. The model produces a midpoint prediction, as well as upper and lower quantile range predictions. The model produces:\n",
        "* 75% quantile forecast values.\n",
        "* midpoint forecast values.\n",
        "* 25% quantile forecast values.\n",
        " \n",
        "This tutorial will step through formating the timeseries data and sending it to Arize. And then configuring MAE, MAPE, and Pinball Loss metrics using both the midpoint forecasts and the quartile forecasts in Arize.\n",
        "\n",
        "\n",
        "\n"
      ]
    },
    {
      "cell_type": "markdown",
      "metadata": {
        "id": "0zWStADKz7Qx"
      },
      "source": [
        "<img src=\"https://storage.cloud.google.com/arize-assets/claire/timeseries/timeseries_plot.png\" width=\"1000\"/>"
      ]
    },
    {
      "cell_type": "code",
      "execution_count": 3,
      "metadata": {
        "colab": {
          "base_uri": "https://localhost:8080/"
        },
        "id": "BSbhru7fbo-k",
        "outputId": "d9903cd6-41a8-4587-8917-864df9d0b724"
      },
      "outputs": [
        {
          "name": "stdout",
          "output_type": "stream",
          "text": [
            "\u001b[?25l\r\u001b[K     |███████▎                        | 10 kB 19.2 MB/s eta 0:00:01\r\u001b[K     |██████████████▋                 | 20 kB 23.2 MB/s eta 0:00:01\r\u001b[K     |██████████████████████          | 30 kB 11.9 MB/s eta 0:00:01\r\u001b[K     |█████████████████████████████▎  | 40 kB 5.0 MB/s eta 0:00:01\r\u001b[K     |████████████████████████████████| 44 kB 1.7 MB/s \n",
            "\u001b[?25h"
          ]
        }
      ],
      "source": [
        "!pip install -q arize"
      ]
    },
    {
      "cell_type": "code",
      "execution_count": 9,
      "metadata": {
        "id": "wDM6qKHKk9IJ"
      },
      "outputs": [],
      "source": [
        "import pandas as pd\n",
        "import numpy as np\n",
        "\n",
        "from arize.pandas.logger import Client, Schema\n",
        "from arize.utils.types import ModelTypes, Environments"
      ]
    },
    {
      "cell_type": "code",
      "execution_count": 76,
      "metadata": {
        "colab": {
          "base_uri": "https://localhost:8080/",
          "height": 331
        },
        "id": "oO2DNP1ebAoY",
        "outputId": "607f81f6-f80a-47a0-b1c7-86fcadc77d86"
      },
      "outputs": [
        {
          "name": "stdout",
          "output_type": "stream",
          "text": [
            "prediction_id              int64\n",
            "timestamp         datetime64[ns]\n",
            "prediction                 int64\n",
            "actuals                    int64\n",
            "upper_quantile             int64\n",
            "lower_quantile             int64\n",
            "dtype: object\n"
          ]
        },
        {
          "data": {
            "text/html": [
              "\n",
              "  <div id=\"df-2020475a-ca60-494a-baea-3a49ebcc285f\">\n",
              "    <div class=\"colab-df-container\">\n",
              "      <div>\n",
              "<style scoped>\n",
              "    .dataframe tbody tr th:only-of-type {\n",
              "        vertical-align: middle;\n",
              "    }\n",
              "\n",
              "    .dataframe tbody tr th {\n",
              "        vertical-align: top;\n",
              "    }\n",
              "\n",
              "    .dataframe thead th {\n",
              "        text-align: right;\n",
              "    }\n",
              "</style>\n",
              "<table border=\"1\" class=\"dataframe\">\n",
              "  <thead>\n",
              "    <tr style=\"text-align: right;\">\n",
              "      <th></th>\n",
              "      <th>prediction_id</th>\n",
              "      <th>timestamp</th>\n",
              "      <th>prediction</th>\n",
              "      <th>actuals</th>\n",
              "      <th>upper_quantile</th>\n",
              "      <th>lower_quantile</th>\n",
              "    </tr>\n",
              "  </thead>\n",
              "  <tbody>\n",
              "    <tr>\n",
              "      <th>0</th>\n",
              "      <td>0</td>\n",
              "      <td>2021-11-30</td>\n",
              "      <td>45</td>\n",
              "      <td>46</td>\n",
              "      <td>77</td>\n",
              "      <td>20</td>\n",
              "    </tr>\n",
              "    <tr>\n",
              "      <th>1</th>\n",
              "      <td>1</td>\n",
              "      <td>2021-12-31</td>\n",
              "      <td>50</td>\n",
              "      <td>46</td>\n",
              "      <td>83</td>\n",
              "      <td>16</td>\n",
              "    </tr>\n",
              "    <tr>\n",
              "      <th>2</th>\n",
              "      <td>2</td>\n",
              "      <td>2022-01-31</td>\n",
              "      <td>51</td>\n",
              "      <td>47</td>\n",
              "      <td>83</td>\n",
              "      <td>19</td>\n",
              "    </tr>\n",
              "    <tr>\n",
              "      <th>3</th>\n",
              "      <td>3</td>\n",
              "      <td>2022-02-28</td>\n",
              "      <td>47</td>\n",
              "      <td>48</td>\n",
              "      <td>77</td>\n",
              "      <td>21</td>\n",
              "    </tr>\n",
              "    <tr>\n",
              "      <th>4</th>\n",
              "      <td>4</td>\n",
              "      <td>2022-03-31</td>\n",
              "      <td>50</td>\n",
              "      <td>45</td>\n",
              "      <td>83</td>\n",
              "      <td>22</td>\n",
              "    </tr>\n",
              "  </tbody>\n",
              "</table>\n",
              "</div>\n",
              "      <button class=\"colab-df-convert\" onclick=\"convertToInteractive('df-2020475a-ca60-494a-baea-3a49ebcc285f')\"\n",
              "              title=\"Convert this dataframe to an interactive table.\"\n",
              "              style=\"display:none;\">\n",
              "        \n",
              "  <svg xmlns=\"http://www.w3.org/2000/svg\" height=\"24px\"viewBox=\"0 0 24 24\"\n",
              "       width=\"24px\">\n",
              "    <path d=\"M0 0h24v24H0V0z\" fill=\"none\"/>\n",
              "    <path d=\"M18.56 5.44l.94 2.06.94-2.06 2.06-.94-2.06-.94-.94-2.06-.94 2.06-2.06.94zm-11 1L8.5 8.5l.94-2.06 2.06-.94-2.06-.94L8.5 2.5l-.94 2.06-2.06.94zm10 10l.94 2.06.94-2.06 2.06-.94-2.06-.94-.94-2.06-.94 2.06-2.06.94z\"/><path d=\"M17.41 7.96l-1.37-1.37c-.4-.4-.92-.59-1.43-.59-.52 0-1.04.2-1.43.59L10.3 9.45l-7.72 7.72c-.78.78-.78 2.05 0 2.83L4 21.41c.39.39.9.59 1.41.59.51 0 1.02-.2 1.41-.59l7.78-7.78 2.81-2.81c.8-.78.8-2.07 0-2.86zM5.41 20L4 18.59l7.72-7.72 1.47 1.35L5.41 20z\"/>\n",
              "  </svg>\n",
              "      </button>\n",
              "      \n",
              "  <style>\n",
              "    .colab-df-container {\n",
              "      display:flex;\n",
              "      flex-wrap:wrap;\n",
              "      gap: 12px;\n",
              "    }\n",
              "\n",
              "    .colab-df-convert {\n",
              "      background-color: #E8F0FE;\n",
              "      border: none;\n",
              "      border-radius: 50%;\n",
              "      cursor: pointer;\n",
              "      display: none;\n",
              "      fill: #1967D2;\n",
              "      height: 32px;\n",
              "      padding: 0 0 0 0;\n",
              "      width: 32px;\n",
              "    }\n",
              "\n",
              "    .colab-df-convert:hover {\n",
              "      background-color: #E2EBFA;\n",
              "      box-shadow: 0px 1px 2px rgba(60, 64, 67, 0.3), 0px 1px 3px 1px rgba(60, 64, 67, 0.15);\n",
              "      fill: #174EA6;\n",
              "    }\n",
              "\n",
              "    [theme=dark] .colab-df-convert {\n",
              "      background-color: #3B4455;\n",
              "      fill: #D2E3FC;\n",
              "    }\n",
              "\n",
              "    [theme=dark] .colab-df-convert:hover {\n",
              "      background-color: #434B5C;\n",
              "      box-shadow: 0px 1px 3px 1px rgba(0, 0, 0, 0.15);\n",
              "      filter: drop-shadow(0px 1px 2px rgba(0, 0, 0, 0.3));\n",
              "      fill: #FFFFFF;\n",
              "    }\n",
              "  </style>\n",
              "\n",
              "      <script>\n",
              "        const buttonEl =\n",
              "          document.querySelector('#df-2020475a-ca60-494a-baea-3a49ebcc285f button.colab-df-convert');\n",
              "        buttonEl.style.display =\n",
              "          google.colab.kernel.accessAllowed ? 'block' : 'none';\n",
              "\n",
              "        async function convertToInteractive(key) {\n",
              "          const element = document.querySelector('#df-2020475a-ca60-494a-baea-3a49ebcc285f');\n",
              "          const dataTable =\n",
              "            await google.colab.kernel.invokeFunction('convertToInteractive',\n",
              "                                                     [key], {});\n",
              "          if (!dataTable) return;\n",
              "\n",
              "          const docLinkHtml = 'Like what you see? Visit the ' +\n",
              "            '<a target=\"_blank\" href=https://colab.research.google.com/notebooks/data_table.ipynb>data table notebook</a>'\n",
              "            + ' to learn more about interactive tables.';\n",
              "          element.innerHTML = '';\n",
              "          dataTable['output_type'] = 'display_data';\n",
              "          await google.colab.output.renderOutput(dataTable, element);\n",
              "          const docLink = document.createElement('div');\n",
              "          docLink.innerHTML = docLinkHtml;\n",
              "          element.appendChild(docLink);\n",
              "        }\n",
              "      </script>\n",
              "    </div>\n",
              "  </div>\n",
              "  "
            ],
            "text/plain": [
              "   prediction_id  timestamp  prediction  actuals  upper_quantile  \\\n",
              "0              0 2021-11-30          45       46              77   \n",
              "1              1 2021-12-31          50       46              83   \n",
              "2              2 2022-01-31          51       47              83   \n",
              "3              3 2022-02-28          47       48              77   \n",
              "4              4 2022-03-31          50       45              83   \n",
              "\n",
              "   lower_quantile  \n",
              "0              20  \n",
              "1              16  \n",
              "2              19  \n",
              "3              21  \n",
              "4              22  "
            ]
          },
          "execution_count": 76,
          "metadata": {},
          "output_type": "execute_result"
        }
      ],
      "source": [
        "# Construct the df\n",
        "# For the purpose of this tutorial, We are randomly generating time series data to send to Arize. \n",
        "# The midpoint and quantile forecasts are random integers.\n",
        "# The timestamp is the date the forcasts are made for.\n",
        "# Prediction ids must be unique. we just convert the df index and reassing it as the id\n",
        "\n",
        "df = pd.DataFrame()\n",
        "df[\"timestamp\"] = pd.date_range(start='2021-11-06', end='2022-11-06', freq='M')\n",
        "\n",
        "df[\"prediction\"] =  np.random.randint(45, 55, size=12)\n",
        "df[\"actuals\"] =  np.random.randint(45, 55, size=12)\n",
        "df[\"upper_quantile\"] =  np.random.randint(75, 85, size=12)\n",
        "df[\"lower_quantile\"] =  np.random.randint(15, 25, size=12)\n",
        "\n",
        "df.reset_index(inplace=True)\n",
        "df.rename(columns={'index': 'prediction_id'}, inplace=True)\n",
        "print(df.dtypes)\n",
        "df.head()"
      ]
    },
    {
      "cell_type": "markdown",
      "metadata": {
        "id": "enLu4Ne9nP8L"
      },
      "source": [
        "We now construct a data schema for mapping data to Arize. Learn more about Arize data schema here https://docs.arize.com/arize/data-ingestion/model-schema \n",
        "\n",
        "* The prediction is sent as the midpoint forecast\n",
        "* Both quantile forecasts are sent as \"tags. \n",
        "\n",
        "Sending the quantile forecasts as tag data will allow us to plot the forecasts, and calculate the quantile metrics required. Learn more about Arize tag data here https://docs.arize.com/arize/data-ingestion/model-schema/9.-tags "
      ]
    },
    {
      "cell_type": "code",
      "execution_count": null,
      "metadata": {},
      "outputs": [],
      "source": [
        "import matplotlib.pyplot as plt\n",
        " \n",
        "# Using a inbuilt style to change\n",
        "# the look and feel of the plot\n",
        "plt.style.use(\"fivethirtyeight\")\n",
        " \n",
        "# setting figure size to 12, 10\n",
        "plt.figure(figsize=(25, 10))\n",
        " \n",
        "# Labelling the axes and setting\n",
        "# a title\n",
        "plt.xlabel(\"Date\")\n",
        "plt.ylabel(\"Values\")\n",
        "plt.title(\"Simulated Timeseries Data\")\n",
        " \n",
        "# plotting the \"A\" column and \"A\" column\n",
        "# of Rolling Dataframe (window_size  = 20)\n",
        "plt.plot(df[\"prediction\"], label='predictions')\n",
        "plt.plot(df[\"actuals\"], label='actuals')\n",
        "plt.plot(df[\"upper_quantile\"], label='75% quantile forecasts')\n",
        "plt.plot(df[\"lower_quantile\"], label='25% quantile forecasts')\n",
        "plt.legend()"
      ]
    },
    {
      "cell_type": "code",
      "execution_count": 78,
      "metadata": {
        "id": "bSsQe-Pza1dp"
      },
      "outputs": [],
      "source": [
        "# construct schema\n",
        "schema = Schema(\n",
        "    prediction_id_column_name=\"prediction_id\",\n",
        "    timestamp_column_name=\"timestamp\",\n",
        "    prediction_label_column_name=\"prediction\",\n",
        "    actual_label_column_name=\"actuals\",\n",
        "    tag_column_names=[\"upper_quantile\", \"lower_quantile\"],\n",
        ")"
      ]
    },
    {
      "cell_type": "markdown",
      "metadata": {
        "id": "oGhFM1q2uV4t"
      },
      "source": [
        "Log the data to Arize in batch through the python client. Notice that we choose the NUMERIC model type. Learn more about how to upload regression and forecasting models here https://docs.arize.com/arize/model-schema-mapping#regression"
      ]
    },
    {
      "cell_type": "code",
      "execution_count": 81,
      "metadata": {
        "colab": {
          "base_uri": "https://localhost:8080/"
        },
        "id": "xF5e11a2ABA8",
        "outputId": "471f4466-d7e3-43ba-d92e-fc6f0c079a63"
      },
      "outputs": [
        {
          "name": "stdout",
          "output_type": "stream",
          "text": [
            "Success! Check out your data at https://app.arize.com/organizations/QWNjb3VudE9yZ2FuaXphdGlvbjoxMDU3/spaces/U3BhY2U6MTE2Ng==/models/modelName/timeseries-test?selectedTab=dataIngestion\n"
          ]
        },
        {
          "name": "stderr",
          "output_type": "stream",
          "text": [
            "INFO:arize.pandas.logger:Success! Check out your data at https://app.arize.com/organizations/QWNjb3VudE9yZ2FuaXphdGlvbjoxMDU3/spaces/U3BhY2U6MTE2Ng==/models/modelName/timeseries-test?selectedTab=dataIngestion\n"
          ]
        },
        {
          "name": "stdout",
          "output_type": "stream",
          "text": [
            "✅ You have successfully send data to to Arize. <3\n"
          ]
        }
      ],
      "source": [
        " # initialize client\n",
        "arize_client = Client(space_key=\"SPACEKEY\", api_key=\"APIKEY\")\n",
        "\n",
        "# send data to arize\n",
        "response = arize_client.log(\n",
        "    dataframe=df,\n",
        "    model_id=\"timeseries-model-test\",\n",
        "    model_version=\"1.0\",\n",
        "    model_type=ModelTypes.NUMERIC,\n",
        "    environment=Environments.PRODUCTION,\n",
        "    schema=schema,\n",
        ")\n",
        "if response.status_code != 200:\n",
        "    print(f\"logging failed with response code {response.status_code}, {response.text}\")\n",
        "else:\n",
        "     print(f\"✅ You have successfully sent data to Arize.\")"
      ]
    },
    {
      "cell_type": "markdown",
      "metadata": {
        "id": "4sxA11-cvhCf"
      },
      "source": [
        "Now that the data is successfully logged to Arize, go to the Arize UI and check the datasets tab to see the data details. "
      ]
    },
    {
      "cell_type": "markdown",
      "metadata": {
        "id": "eimZuhWAvL9W"
      },
      "source": [
        "## Vizualize the midpoint and quantile forecasts in Arize\n",
        "\n",
        "In the Arize app,\n",
        "* Navigate to Dashboards\n",
        "* Create a New Dashboard\n",
        "* Create a Timeseries widget\n",
        "  * Choose \"Data Metrics\" as the Chart Metrics Category.\n",
        "  * Add 4 plot to the widget. The plots will be displayed the data.\n",
        "  * Plot Prediction Average, Acutals Average, and the Average of both Quantiles forecasts."
      ]
    },
    {
      "cell_type": "markdown",
      "metadata": {
        "id": "L84-V3kk0RJQ"
      },
      "source": [
        "<img src=\"https://storage.cloud.google.com/arize-assets/claire/timeseries/dashboard.png\" width=\"1000\"/>"
      ]
    },
    {
      "cell_type": "markdown",
      "metadata": {
        "id": "PmNR4NJCtdHw"
      },
      "source": [
        "## Configure MAE and MAPE in Arize \n",
        "In the Arize app,\n",
        "* Navigate to the \"Config\" tab\n",
        " * Set the default metric. You can choose from MAE, MAPE, and others\n",
        " * Set the default evaluation windows. We recommend an evaluation window that corresponds to the frequency of the data uploads. In this case, we receive fresh forecasts every 30 days, so 30 days is a sensible ev evaluation window.\n",
        "* Navigate to the \"Performance Tracing\" tab\n",
        "* MAE and MAPE are default metrics in Arize. Select these metrics from the dropdown to see the performance of the midpoint forecast values. These are the values sent to the platform as \"predictions\".\n",
        " \n",
        "A comprehensive list of Arize default metrics can be found here https://docs.arize.com/arize/glossary/model-metric-definitions\n",
        " \n",
        "*Note that default metrics are calculated with the prediction data. These metrics are not configurable and cannot be calculated for Tags data. For bespoke time series metric calculations, we will leverage the Arize User Defined Metrics Feature\n"
      ]
    },
    {
      "cell_type": "markdown",
      "metadata": {
        "id": "2mbvcnpJ0bVk"
      },
      "source": [
        "<img src=\"https://storage.cloud.google.com/arize-assets/claire/timeseries/MAE.png\" width=\"1000\"/>"
      ]
    },
    {
      "cell_type": "markdown",
      "metadata": {
        "id": "bqmUf_T70bds"
      },
      "source": [
        "<img src=\"https://storage.cloud.google.com/arize-assets/claire/timeseries/MAPE.png\" width=\"1000\"/>"
      ]
    },
    {
      "cell_type": "markdown",
      "metadata": {
        "id": "8FRAuPBrvBnS"
      },
      "source": [
        "## Configure Pinball Loss in Arize\n",
        "Pinball Loss is used to assess the accuracy of an upper or lower quantile forecast. These forecasts are purposely biased high or low, so traditional metrics such as MAE will not be relevant. The Pinball Loss metric accounts for and adjusts for the bias.\n",
        "\n",
        "\n",
        "Learn more about Pinball Loss https://www.lokad.com/pinball-loss-function-definition#:~:text=The%20pinball%20loss%20function%2C%20also,forecast%20is%20a%20subtle%20problem. "
      ]
    },
    {
      "cell_type": "markdown",
      "metadata": {
        "id": "EoK9OCh-0rBI"
      },
      "source": [
        "<img src=\"https://storage.cloud.google.com/arize-assets/claire/timeseries/equation.png\" width=\"500\"/>"
      ]
    },
    {
      "cell_type": "markdown",
      "metadata": {
        "id": "LdMFOsJ-3amT"
      },
      "source": [
        "Because Pinball Loss is directly calculated from the quantile forecasts, we will use the Arize User Defined Metrics Feature to calculate the metrics. Once we write Pinball Loss as a UDM, we can use the metric elsewhere within Arize. \n",
        "\n",
        "In the Arize app,\n",
        "*Navigate to the \"Custom Metrics\" tab in Arize.\n",
        "* Select \"Create Custom Metric\" in the upper right corner.\n",
        "* Define your custom metrics using the UDMs interface.\n",
        "\n"
      ]
    },
    {
      "cell_type": "markdown",
      "metadata": {
        "id": "dMu3tJcK7Z9e"
      },
      "source": [
        "<img src=\"https://storage.cloud.google.com/arize-assets/claire/timeseries/custom_metric.png\" width=\"1000\"/>"
      ]
    },
    {
      "cell_type": "markdown",
      "metadata": {
        "id": "wxTEnlOSwfZC"
      },
      "source": [
        "## Set up monitors in Arize\n",
        "We will configure performance monitors for MAE, MAPE, and Pinball Loss.\n",
        " \n",
        " \n",
        "In the Arize app,\n",
        "* Navigate to the \"Monitors\" tab\n",
        "* click \"New Monitor\" in the upper right dropdown\n",
        "* select \"Create Performance Monitor.\n",
        "* Here you can configure monitors for model performance metrics. Note that the default configs for the evaluation window will apply here, but can be edited."
      ]
    },
    {
      "cell_type": "markdown",
      "metadata": {
        "id": "_6VvQA5k1BrS"
      },
      "source": [
        "<img src=\"https://storage.cloud.google.com/arize-assets/claire/timeseries/monitors-list.png\" width=\"1000\"/>"
      ]
    },
    {
      "cell_type": "markdown",
      "metadata": {
        "id": "xBXTpsoLF3t_"
      },
      "source": [
        "<img src=\"https://storage.cloud.google.com/arize-assets/claire/timeseries/monitor.png\" width=\"1000\"/>"
      ]
    },
    {
      "cell_type": "code",
      "execution_count": null,
      "metadata": {
        "id": "sJrz6f7hF9Wg"
      },
      "outputs": [],
      "source": []
    }
  ],
  "metadata": {
    "colab": {
      "collapsed_sections": [],
      "provenance": []
    },
    "kernelspec": {
      "display_name": "Python 3",
      "name": "python3"
    },
    "language_info": {
      "name": "python"
    }
  },
  "nbformat": 4,
  "nbformat_minor": 0
}
