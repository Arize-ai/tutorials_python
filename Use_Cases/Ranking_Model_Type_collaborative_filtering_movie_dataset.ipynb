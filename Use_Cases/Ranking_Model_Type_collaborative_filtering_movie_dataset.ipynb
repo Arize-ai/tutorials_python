{
 "cells": [
  {
   "cell_type": "markdown",
   "metadata": {
    "id": "mm6hf0Vjw9ha"
   },
   "source": [
    "# A Movie Recommendation Example\n",
    "\n",
    "In this example we will try to better understand what movies users will enjoy based on collaborative filtering and increase the satisfaction of our user base by giving a subset of them a free movie coupon code to watch a movie that our model thinks they will enjoy\n",
    "\n",
    "## Collaborative Filtering Example using SVD\n",
    "\n",
    "To address some of the limitations of content-based filtering, collaborative filtering uses similarities between users and items simultaneously to provide recommendations. This allows for serendipitous recommendations; that is, collaborative filtering models can recommend an item to user A based on the interests of a similar user B. Furthermore, the embeddings can be learned automatically, without relying on hand-engineering of features.\n"
   ]
  },
  {
   "cell_type": "code",
   "execution_count": null,
   "metadata": {
    "id": "j6vek8tsw4W3"
   },
   "outputs": [],
   "source": [
    "!pip install surprise\n",
    "\n",
    "import pandas as pd\n",
    "import numpy as np\n",
    "from random import sample\n",
    "\n",
    "from surprise import Reader\n",
    "from surprise import SVD\n",
    "from surprise import Dataset"
   ]
  },
  {
   "cell_type": "code",
   "execution_count": null,
   "metadata": {
    "colab": {
     "base_uri": "https://localhost:8080/",
     "height": 407
    },
    "id": "AwKofj3FxAkK",
    "outputId": "cdcfb1b8-c9c5-43f1-a825-9e08f096c610"
   },
   "outputs": [],
   "source": [
    "# Load datasets\n",
    "movie_list_df = pd.read_csv(\"https://storage.googleapis.com/arize-assets/tutorials/fixture_data/movielist-dataset.csv\", sep='\\t')\n",
    "movie_ratings_df = pd.read_csv(\"https://storage.googleapis.com/arize-assets/tutorials/fixture_data/movielens-dataset.csv\", sep='\\t')\n",
    "movie_ratings_df.sample(10)"
   ]
  },
  {
   "cell_type": "code",
   "execution_count": null,
   "metadata": {
    "id": "sa1Iuc-FxERM"
   },
   "outputs": [],
   "source": [
    "# A reader is still needed but only the rating_scale param is required.\n",
    "reader = Reader(rating_scale=(1, 5))\n",
    "\n",
    "# The columns must correspond to user id, item id and ratings (in that order).\n",
    "dataset = Dataset.load_from_df(movie_ratings_df[['userId', 'movieId', 'rating']], reader)"
   ]
  },
  {
   "cell_type": "markdown",
   "metadata": {
    "id": "pxMVLU7K66tm"
   },
   "source": [
    "### Train/Build Model\n",
    "Train a basic Matrix Factorization model as our Collaborative Filter "
   ]
  },
  {
   "cell_type": "code",
   "execution_count": null,
   "metadata": {
    "colab": {
     "base_uri": "https://localhost:8080/"
    },
    "id": "RR-GAW1ExH7C",
    "outputId": "6fdeb599-998c-413f-dbde-fff8071587e5"
   },
   "outputs": [],
   "source": [
    "# Singular Value Decomposition (SVD)\n",
    "svd = SVD(n_factors=50)\n",
    "\n",
    "trainingSet = dataset.build_full_trainset()\n",
    "svd.fit(trainingSet)"
   ]
  },
  {
   "cell_type": "code",
   "execution_count": null,
   "metadata": {
    "id": "OPZ8s07cxJ7q"
   },
   "outputs": [],
   "source": [
    "# Create mapping that will be useful later\n",
    "movie_mapping = dict()\n",
    "\n",
    "for movieId, movie_names in zip(movie_ratings_df['movieId'], movie_ratings_df['movie_names']):\n",
    "    movie_mapping[movieId] = movie_names"
   ]
  },
  {
   "cell_type": "code",
   "execution_count": null,
   "metadata": {
    "id": "sDYTWAiwxMOK"
   },
   "outputs": [],
   "source": [
    "# Define some useful functions\n",
    "\n",
    "# This function builds a test dataset using movies users have already rated so we have an actual label to work with\n",
    "def build_anti_testset(user_id):\n",
    "    fill = trainingSet.global_mean\n",
    "    anti_test_set = list()\n",
    "    u = trainingSet.to_inner_uid(user_id)\n",
    "\n",
    "    user_items = set([item_inner_id for (item_inner_id, rating) in trainingSet.ur[u]])\n",
    "    anti_test_set += [(trainingSet.to_raw_uid(u), trainingSet.to_raw_iid(i), fill) for\n",
    "                            i in trainingSet.all_items() if i not in user_items]\n",
    "    return anti_test_set\n",
    "\n",
    "\n",
    "# This function returns the top n recommendations for a specific user\n",
    "def rec_top_n_movies(user_id, num_recommendations=10, latest=False):\n",
    "\n",
    "    recommendation = list()\n",
    "    testSet = build_anti_testset(user_id)\n",
    "    predict = svd.test(testSet)\n",
    "\n",
    "    for userID, movieID, actualRating, estimatedRating, _ in predict:\n",
    "        intMovieID = int(movieID)\n",
    "        recommendation.append((intMovieID, estimatedRating))\n",
    "\n",
    "    recommendation.sort(key=lambda x: x[1], reverse=True)\n",
    "\n",
    "    movie_names = []\n",
    "    movie_ratings = []\n",
    "\n",
    "    for name, ratings in recommendation[:20]:\n",
    "        movie_names.append(movie_mapping[name])\n",
    "        movie_ratings.append(ratings)\n",
    "\n",
    "    movie_dataframe =  pd.DataFrame({'movie_names': movie_names,\n",
    "                                     'rating': movie_ratings}).merge(movie_list_df[['movie_names', 'release_year']],\n",
    "                                            on='movie_names', how='left')\n",
    "\n",
    "    if latest == True:\n",
    "        return movie_dataframe.sort_values('release_year', ascending=False)[['movie_names', 'rating']].head(num_recommendations)\n",
    "\n",
    "    else:\n",
    "        return movie_dataframe.drop('release_year', axis=1).head(num_recommendations)"
   ]
  },
  {
   "cell_type": "code",
   "execution_count": null,
   "metadata": {
    "colab": {
     "base_uri": "https://localhost:8080/"
    },
    "id": "DDD_Y9ndxPpQ",
    "outputId": "8153d2ab-e81e-41c8-e774-727440470cdc"
   },
   "outputs": [],
   "source": [
    "# Recommend top 10 latest movies for a user example based on collaborative filtering\n",
    "user_id = 2341\n",
    "\n",
    "recommendations= rec_top_n_movies(user_id=user_id, num_recommendations=10, latest=True)\n",
    "print(\"Top Movies for User: {}\".format(user_id))\n",
    "print(recommendations)"
   ]
  },
  {
   "cell_type": "code",
   "execution_count": null,
   "metadata": {
    "id": "gyixp0WGxRmZ"
   },
   "outputs": [],
   "source": [
    "# send a free movie coupon code to a subset of users in customer base with their top-rated latest movie\n",
    "coupon_list = []\n",
    "\n",
    "# get list of distinct users and choose sample size\n",
    "sample_size = 100\n",
    "allUsers = list(movie_ratings_df['userId'].unique())\n",
    "luckyUsers = sample(allUsers, sample_size)\n",
    "\n",
    "#make recommendations for top 5 movies for each user\n",
    "for i in luckyUsers:\n",
    "  recommendations = rec_top_n_movies(user_id=i, num_recommendations=5, latest=True).sort_values('rating', ascending=False)\n",
    "  recommendations[\"userId\"] = i\n",
    "  recommendations[\"rank\"] = [1, 2, 3, 4, 5]\n",
    "  coupon_list.append(recommendations)\n",
    "\n",
    "coupon_df = pd.concat(coupon_list)\n",
    "#to rank my rating, we scale rating between 0-1\n",
    "coupon_df[\"score\"] = coupon_df[\"rating\"] / 5"
   ]
  },
  {
   "cell_type": "code",
   "execution_count": null,
   "metadata": {
    "colab": {
     "base_uri": "https://localhost:8080/",
     "height": 206
    },
    "id": "jU3Q4IHdQdkT",
    "outputId": "3aebe18b-28db-4ed1-b73a-50cee324b335"
   },
   "outputs": [],
   "source": [
    "coupon_df.head()"
   ]
  },
  {
   "cell_type": "markdown",
   "metadata": {},
   "source": [
    "### Prepare Data for Arize"
   ]
  },
  {
   "cell_type": "code",
   "execution_count": null,
   "metadata": {
    "id": "qKn8vCATxWmN"
   },
   "outputs": [],
   "source": [
    "import uuid\n",
    "from datetime import datetime, timedelta\n",
    "\n",
    "# Prediction ID is required for all datasets\n",
    "def generate_prediction_ids(X):\n",
    "    return pd.Series((str(uuid.uuid4()) for _ in range(len(X))), index=X.index)\n",
    "\n",
    "\n",
    "# OPTIONAL: We can directly specify when inferences were made\n",
    "def simulate_production_timestamps(X, days=30):\n",
    "    t = datetime.now()\n",
    "    current_ts, earlier_ts = t.timestamp(), (t - timedelta(days=days)).timestamp()\n",
    "    return pd.Series(np.linspace(earlier_ts, current_ts, num=len(X)), index=X.index)"
   ]
  },
  {
   "cell_type": "code",
   "execution_count": null,
   "metadata": {
    "id": "eWxFu0_AxZdy"
   },
   "outputs": [],
   "source": [
    "# let's simulate some labeled data and assume all of the free coupons were used and users rated the movie they watched\n",
    "def bound(value):\n",
    "    return max(1, min(5, value))\n",
    "\n",
    "actuals = []\n",
    "\n",
    "for index, row in coupon_df.iterrows():\n",
    "    rating = row['rating']\n",
    "    s = np.random.normal(0, 1)\n",
    "    actual_rating = bound(round(rating + s))\n",
    "    actuals.append(actual_rating)\n",
    "\n",
    "actuals = pd.Series(actuals)"
   ]
  },
  {
   "cell_type": "code",
   "execution_count": null,
   "metadata": {
    "colab": {
     "base_uri": "https://localhost:8080/",
     "height": 337
    },
    "id": "zcbTLL_lbzkE",
    "outputId": "76485817-2f41-4677-82c0-3d24db074603"
   },
   "outputs": [],
   "source": [
    "# Assemble data for logging\n",
    "coupon_df[\"prediction_id\"] = generate_prediction_ids(coupon_df['userId'])\n",
    "coupon_df[\"prediction_ts\"] = simulate_production_timestamps(coupon_df['userId'])\n",
    "coupon_df[\"actual_rating\"] = actuals\n",
    "coupon_df[\"watched\"] = np.random.choice([0,1], size=len(coupon_df)) \n",
    "coupon_df[\"watched\"] = coupon_df[\"watched\"].astype(str)\n",
    "coupon_df.reset_index(inplace=True, drop=True)\n",
    "coupon_df.head()"
   ]
  },
  {
   "cell_type": "markdown",
   "metadata": {},
   "source": [
    "### Install and Initialize Arize Client"
   ]
  },
  {
   "cell_type": "code",
   "execution_count": null,
   "metadata": {
    "colab": {
     "base_uri": "https://localhost:8080/"
    },
    "id": "JTMK7Z5YUBfM",
    "outputId": "0d6caafe-b0da-4f8e-8af3-88366a19805a"
   },
   "outputs": [],
   "source": [
    "!pip install -q arize\n",
    "from arize.pandas.logger import Client, Schema\n",
    "from arize.utils.types import ModelTypes, Environments, Metrics\n",
    "\n",
    "SPACE_KEY = \"SPACE_KEY\"\n",
    "API_KEY = \"API_KEY\"\n",
    "\n",
    "arize_client = Client(space_key=SPACE_KEY, api_key=API_KEY)\n",
    "\n",
    "if SPACE_KEY == \"SPACE_KEY\" or API_KEY == \"API_KEY\":\n",
    "    raise ValueError(\"❌ NEED TO CHANGE SPACE AND/OR API_KEY\")\n",
    "else:\n",
    "    print(\"Step 2 ✅: Import and Setup Arize Client Done! Now we can start using Arize!\")"
   ]
  },
  {
   "cell_type": "markdown",
   "metadata": {},
   "source": [
    "### Log Data to Arize"
   ]
  },
  {
   "cell_type": "code",
   "execution_count": null,
   "metadata": {
    "colab": {
     "base_uri": "https://localhost:8080/"
    },
    "id": "GrK0OH2qVkPY",
    "outputId": "c4fa57f0-de3a-4fe8-eecc-8257c74424da"
   },
   "outputs": [],
   "source": [
    "# log production data Arize\n",
    "schema = Schema(\n",
    "    prediction_id_column_name=\"prediction_id\",\n",
    "    timestamp_column_name=\"prediction_ts\",\n",
    "    prediction_group_id_column_name = \"userId\",\n",
    "    rank_column_name = \"rank\",\n",
    "    relevance_score_column_name = \"rating\",\n",
    "    prediction_score_column_name = \"score\",\n",
    "    relevance_labels_column_name = \"watched\",\n",
    "    tag_column_names = [\"movie_names\"],\n",
    "\n",
    ")\n",
    "\n",
    "# arize_client.log returns a Response object from Python's requests module\n",
    "response = arize_client.log(\n",
    "    dataframe=coupon_df,\n",
    "    model_id=\"collaborative_filtering_movie_example\",\n",
    "    model_version=\"1.0\",\n",
    "    model_type=ModelTypes.RANKING,\n",
    "    metrics_validation=[Metrics.RANKING],\n",
    "    validate=True,\n",
    "    environment=Environments.PRODUCTION,\n",
    "    schema=schema\n",
    ")\n",
    "\n",
    "\n",
    "# If successful, the server will return a status_code of 200\n",
    "if response.status_code != 200:\n",
    "    print(\n",
    "        f\"❌ logging failed with response code {response.status_code}, {response.text}\"\n",
    "    )\n",
    "else:\n",
    "    print(\n",
    "        f\"Step 3 ✅: You have successfully logged {len(coupon_df)} data points to Arize!\"\n",
    "    )"
   ]
  }
 ],
 "metadata": {
  "colab": {
   "provenance": []
  },
  "kernelspec": {
   "display_name": "Python 3 (ipykernel)",
   "language": "python",
   "name": "python3"
  },
  "language_info": {
   "codemirror_mode": {
    "name": "ipython",
    "version": 3
   },
   "file_extension": ".py",
   "mimetype": "text/x-python",
   "name": "python",
   "nbconvert_exporter": "python",
   "pygments_lexer": "ipython3",
   "version": "3.10.0"
  }
 },
 "nbformat": 4,
 "nbformat_minor": 1
}
