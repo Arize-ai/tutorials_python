{
 "cells": [
  {
   "cell_type": "markdown",
   "metadata": {
    "id": "mm6hf0Vjw9ha"
   },
   "source": [
    "# A Movie Recommendation Example\n",
    "\n",
    "In this example we will try to better understand what movies users will enjoy based on collaborative filtering and increase the satisfaction of our user base by giving a subset of them a free movie coupon code to watch a movie that our model thinks they will enjoy\n",
    "\n",
    "## Collaborative Filtering Example using SVD\n",
    "\n",
    "To address some of the limitations of content-based filtering, collaborative filtering uses similarities between users and items simultaneously to provide recommendations. This allows for serendipitous recommendations; that is, collaborative filtering models can recommend an item to user A based on the interests of a similar user B. Furthermore, the embeddings can be learned automatically, without relying on hand-engineering of features.\n"
   ]
  },
  {
   "cell_type": "code",
   "execution_count": null,
   "metadata": {},
   "outputs": [],
   "source": [
    "!pip install surprise\n",
    "\n",
    "import pandas as pd\n",
    "import numpy as np\n",
    "from random import sample\n",
    "\n",
    "from surprise import Reader\n",
    "from surprise import SVD\n",
    "from surprise import Dataset"
   ]
  },
  {
   "cell_type": "code",
   "execution_count": null,
   "metadata": {},
   "outputs": [],
   "source": [
    "# Load datasets\n",
    "movie_list_df = pd.read_csv(\n",
    "    \"https://storage.googleapis.com/arize-assets/tutorials/fixture_data/movielist-dataset.csv\",\n",
    "    sep=\"\\t\",\n",
    ")\n",
    "movie_ratings_df = pd.read_csv(\n",
    "    \"https://storage.googleapis.com/arize-assets/tutorials/fixture_data/movielens-dataset.csv\",\n",
    "    sep=\"\\t\",\n",
    ")\n",
    "movie_ratings_df.sample(10)"
   ]
  },
  {
   "cell_type": "code",
   "execution_count": null,
   "metadata": {},
   "outputs": [],
   "source": [
    "# A reader is still needed but only the rating_scale param is required.\n",
    "reader = Reader(rating_scale=(1, 5))\n",
    "\n",
    "# The columns must correspond to user id, item id and ratings (in that order).\n",
    "dataset = Dataset.load_from_df(\n",
    "    movie_ratings_df[[\"userId\", \"movieId\", \"rating\"]], reader\n",
    ")"
   ]
  },
  {
   "cell_type": "markdown",
   "metadata": {
    "id": "pxMVLU7K66tm"
   },
   "source": [
    "### Train/Build Model\n",
    "Train a basic Matrix Factorization model as our Collaborative Filter "
   ]
  },
  {
   "cell_type": "code",
   "execution_count": null,
   "metadata": {},
   "outputs": [],
   "source": [
    "# Singular Value Decomposition (SVD)\n",
    "svd = SVD(n_factors=50)\n",
    "\n",
    "trainingSet = dataset.build_full_trainset()\n",
    "svd.fit(trainingSet)"
   ]
  },
  {
   "cell_type": "code",
   "execution_count": null,
   "metadata": {},
   "outputs": [],
   "source": [
    "# Create mapping that will be useful later\n",
    "movie_mapping = dict()\n",
    "\n",
    "for movieId, movie_names in zip(\n",
    "    movie_ratings_df[\"movieId\"], movie_ratings_df[\"movie_names\"]\n",
    "):\n",
    "    movie_mapping[movieId] = movie_names"
   ]
  },
  {
   "cell_type": "code",
   "execution_count": null,
   "metadata": {},
   "outputs": [],
   "source": [
    "# Define some useful functions\n",
    "\n",
    "# This function builds a test dataset using movies users have already rated so we have an actual label to work with\n",
    "def build_anti_testset(user_id):\n",
    "    fill = trainingSet.global_mean\n",
    "    anti_test_set = list()\n",
    "    u = trainingSet.to_inner_uid(user_id)\n",
    "\n",
    "    user_items = set(\n",
    "        [item_inner_id for (item_inner_id, rating) in trainingSet.ur[u]]\n",
    "    )\n",
    "    anti_test_set += [\n",
    "        (trainingSet.to_raw_uid(u), trainingSet.to_raw_iid(i), fill)\n",
    "        for i in trainingSet.all_items()\n",
    "        if i not in user_items\n",
    "    ]\n",
    "    return anti_test_set\n",
    "\n",
    "\n",
    "# This function returns the top n recommendations for a specific user\n",
    "def rec_top_n_movies(user_id, num_recommendations=10, latest=False):\n",
    "    recommendation = list()\n",
    "    testSet = build_anti_testset(user_id)\n",
    "    predict = svd.test(testSet)\n",
    "\n",
    "    for userID, movieID, actualRating, estimatedRating, _ in predict:\n",
    "        intMovieID = int(movieID)\n",
    "        recommendation.append((intMovieID, estimatedRating))\n",
    "\n",
    "    recommendation.sort(key=lambda x: x[1], reverse=True)\n",
    "\n",
    "    movie_names = []\n",
    "    movie_ratings = []\n",
    "\n",
    "    for name, ratings in recommendation[:20]:\n",
    "        movie_names.append(movie_mapping[name])\n",
    "        movie_ratings.append(ratings)\n",
    "\n",
    "    movie_dataframe = pd.DataFrame(\n",
    "        {\"movie_names\": movie_names, \"rating\": movie_ratings}\n",
    "    ).merge(\n",
    "        movie_list_df[[\"movie_names\", \"release_year\"]],\n",
    "        on=\"movie_names\",\n",
    "        how=\"left\",\n",
    "    )\n",
    "\n",
    "    if latest == True:\n",
    "        return movie_dataframe.sort_values(\"release_year\", ascending=False)[\n",
    "            [\"movie_names\", \"rating\"]\n",
    "        ].head(num_recommendations)\n",
    "\n",
    "    else:\n",
    "        return movie_dataframe.drop(\"release_year\", axis=1).head(\n",
    "            num_recommendations\n",
    "        )"
   ]
  },
  {
   "cell_type": "code",
   "execution_count": null,
   "metadata": {},
   "outputs": [],
   "source": [
    "# Recommend top 10 latest movies for a user example based on collaborative filtering\n",
    "user_id = 2341\n",
    "\n",
    "recommendations = rec_top_n_movies(\n",
    "    user_id=user_id, num_recommendations=10, latest=True\n",
    ")\n",
    "print(\"Top Movies for User: {}\".format(user_id))\n",
    "print(recommendations)"
   ]
  },
  {
   "cell_type": "code",
   "execution_count": null,
   "metadata": {},
   "outputs": [],
   "source": [
    "# send a free movie coupon code to a subset of users in customer base with their top-rated latest movie\n",
    "coupon_list = []\n",
    "\n",
    "# get list of distinct users and choose sample size\n",
    "sample_size = 100\n",
    "allUsers = list(movie_ratings_df[\"userId\"].unique())\n",
    "luckyUsers = sample(allUsers, sample_size)\n",
    "\n",
    "# make recommendations for top 5 movies for each user\n",
    "for i in luckyUsers:\n",
    "    recommendations = rec_top_n_movies(\n",
    "        user_id=i, num_recommendations=5, latest=True\n",
    "    ).sort_values(\"rating\", ascending=False)\n",
    "    recommendations[\"userId\"] = i\n",
    "    recommendations[\"rank\"] = [1, 2, 3, 4, 5]\n",
    "    coupon_list.append(recommendations)\n",
    "\n",
    "coupon_df = pd.concat(coupon_list)\n",
    "# to rank my rating, we scale rating between 0-1\n",
    "coupon_df[\"score\"] = coupon_df[\"rating\"] / 5"
   ]
  },
  {
   "cell_type": "code",
   "execution_count": null,
   "metadata": {},
   "outputs": [],
   "source": [
    "coupon_df.head()"
   ]
  },
  {
   "cell_type": "markdown",
   "metadata": {},
   "source": [
    "### Prepare Data for Arize"
   ]
  },
  {
   "cell_type": "code",
   "execution_count": null,
   "metadata": {},
   "outputs": [],
   "source": [
    "import uuid\n",
    "from datetime import datetime, timedelta\n",
    "\n",
    "\n",
    "# Prediction ID is required for all datasets\n",
    "def generate_prediction_ids(X):\n",
    "    return pd.Series((str(uuid.uuid4()) for _ in range(len(X))), index=X.index)\n",
    "\n",
    "\n",
    "# OPTIONAL: We can directly specify when inferences were made\n",
    "def simulate_production_timestamps(X, days=30):\n",
    "    t = datetime.now()\n",
    "    current_ts, earlier_ts = (\n",
    "        t.timestamp(),\n",
    "        (t - timedelta(days=days)).timestamp(),\n",
    "    )\n",
    "    return pd.Series(\n",
    "        np.linspace(earlier_ts, current_ts, num=len(X)), index=X.index\n",
    "    )"
   ]
  },
  {
   "cell_type": "code",
   "execution_count": null,
   "metadata": {},
   "outputs": [],
   "source": [
    "# let's simulate some labeled data and assume all of the free coupons were used and users rated the movie they watched\n",
    "def bound(value):\n",
    "    return max(1, min(5, value))\n",
    "\n",
    "\n",
    "actuals = []\n",
    "\n",
    "for index, row in coupon_df.iterrows():\n",
    "    rating = row[\"rating\"]\n",
    "    s = np.random.normal(0, 1)\n",
    "    actual_rating = bound(round(rating + s))\n",
    "    actuals.append(actual_rating)\n",
    "\n",
    "actuals = pd.Series(actuals)"
   ]
  },
  {
   "cell_type": "code",
   "execution_count": null,
   "metadata": {},
   "outputs": [],
   "source": [
    "# Assemble data for logging\n",
    "coupon_df[\"prediction_id\"] = generate_prediction_ids(coupon_df[\"userId\"])\n",
    "coupon_df[\"prediction_ts\"] = simulate_production_timestamps(coupon_df[\"userId\"])\n",
    "coupon_df[\"actual_rating\"] = actuals\n",
    "coupon_df[\"watched\"] = np.random.choice([0, 1], size=len(coupon_df))\n",
    "coupon_df[\"watched\"] = coupon_df[\"watched\"].astype(str)\n",
    "coupon_df.reset_index(inplace=True, drop=True)\n",
    "coupon_df.head()"
   ]
  },
  {
   "cell_type": "markdown",
   "metadata": {},
   "source": [
    "### Install and Initialize Arize Client"
   ]
  },
  {
   "cell_type": "code",
   "execution_count": null,
   "metadata": {},
   "outputs": [],
   "source": [
    "!pip install -q arize\n",
    "from arize.pandas.logger import Client, Schema\n",
    "from arize.utils.types import ModelTypes, Environments, Metrics\n",
    "\n",
    "SPACE_KEY = \"SPACE_KEY\"\n",
    "API_KEY = \"API_KEY\"\n",
    "\n",
    "arize_client = Client(space_key=SPACE_KEY, api_key=API_KEY)\n",
    "\n",
    "if SPACE_KEY == \"SPACE_KEY\" or API_KEY == \"API_KEY\":\n",
    "    raise ValueError(\"❌ NEED TO CHANGE SPACE AND/OR API_KEY\")\n",
    "else:\n",
    "    print(\n",
    "        \"Step 2 ✅: Import and Setup Arize Client Done! Now we can start using Arize!\"\n",
    "    )"
   ]
  },
  {
   "cell_type": "markdown",
   "metadata": {},
   "source": [
    "### Log Data to Arize"
   ]
  },
  {
   "cell_type": "code",
   "execution_count": null,
   "metadata": {},
   "outputs": [],
   "source": [
    "# log production data Arize\n",
    "schema = Schema(\n",
    "    prediction_id_column_name=\"prediction_id\",\n",
    "    timestamp_column_name=\"prediction_ts\",\n",
    "    prediction_group_id_column_name=\"userId\",\n",
    "    rank_column_name=\"rank\",\n",
    "    relevance_score_column_name=\"rating\",\n",
    "    prediction_score_column_name=\"score\",\n",
    "    relevance_labels_column_name=\"watched\",\n",
    "    tag_column_names=[\"movie_names\"],\n",
    ")\n",
    "\n",
    "# arize_client.log returns a Response object from Python's requests module\n",
    "response = arize_client.log(\n",
    "    dataframe=coupon_df,\n",
    "    model_id=\"collaborative_filtering_movie_example\",\n",
    "    model_version=\"1.0\",\n",
    "    model_type=ModelTypes.RANKING,\n",
    "    metrics_validation=[Metrics.RANKING],\n",
    "    validate=True,\n",
    "    environment=Environments.PRODUCTION,\n",
    "    schema=schema,\n",
    ")\n",
    "\n",
    "\n",
    "# If successful, the server will return a status_code of 200\n",
    "if response.status_code != 200:\n",
    "    print(\n",
    "        f\"❌ logging failed with response code {response.status_code}, {response.text}\"\n",
    "    )\n",
    "else:\n",
    "    print(\n",
    "        f\"Step 3 ✅: You have successfully logged {len(coupon_df)} data points to Arize!\"\n",
    "    )"
   ]
  }
 ],
 "metadata": {
  "language_info": {
   "name": "python"
  }
 },
 "nbformat": 4,
 "nbformat_minor": 1
}
