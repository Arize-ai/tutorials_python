{
  "nbformat": 4,
  "nbformat_minor": 2,
  "metadata": {
    "colab": {
      "provenance": []
    },
    "kernelspec": {
      "name": "python3",
      "display_name": "Python 3"
    },
    "language_info": {
      "name": "python"
    },
    "accelerator": "GPU",
    "gpuClass": "standard"
  },
  "cells": [
    {
      "cell_type": "markdown",
      "source": [
        "# COCO Python Tutorial\n",
        "COCO is a large-scale object detection, segmentation, and captioning dataset. \n",
        "\n",
        "In this tutorial we will show how to:\n",
        "\n",
        "1.   Download and use the COCO dataset\n",
        "2.   Load and show instance annotations for object detection, segmentation, key-point detection "
      ],
      "metadata": {
        "id": "2z9E1mUmfiKT"
      }
    },
    {
      "cell_type": "markdown",
      "source": [
        "Here is some information about the COCO API-\n",
        "\n",
        "*Throughout the API \"ann\"=annotation, \"cat\"=category, and \"img\"=image.*\n",
        "\n",
        "Get methods:\n",
        "* `getAnnIds` - Get ann ids that satisfy given filter conditions. \n",
        "* `getCatIds` - Get cat ids that satisfy given filter conditions. \n",
        "* `getImgIds` - Get img ids that satisfy given filter conditions. \n",
        "\n",
        "Load methods:\n",
        "* `loadAnns` - Load anns with the specified ids. \n",
        "* `loadCats` - Load cats with the specified ids. \n",
        "* `loadImgs` - Load imgs with the specified ids. \n",
        "* `loadRes`  - Load algorithm results and create API for accessing them.\n",
        "\n",
        "Show methods:\n",
        "* `showAnns` - Display the specified annotations.\n",
        "\n",
        "See source:\n",
        "https://github.com/cocodataset/cocoapi/blob/master/PythonAPI/pycocotools/coco.py\n"
      ],
      "metadata": {
        "id": "HnsBcPWYUgGr"
      }
    },
    {
      "cell_type": "markdown",
      "source": [
        "### Install packages"
      ],
      "metadata": {
        "id": "NNBPKYY5fl_V"
      }
    },
    {
      "cell_type": "code",
      "execution_count": null,
      "source": [
        "%matplotlib inline\n",
        "from pycocotools.coco import COCO\n",
        "import numpy as np\n",
        "import skimage\n",
        "import matplotlib.pyplot as plt"
      ],
      "outputs": [],
      "metadata": {
        "id": "inm5aNBlBlbO"
      }
    },
    {
      "cell_type": "markdown",
      "source": [
        "### Download the COCO Dataset\n",
        "Use the github [gist](https://gist.github.com/mkocabas/a6177fc00315403d31572e17700d7fd9) "
      ],
      "metadata": {
        "id": "SCq20l38RpaU"
      }
    },
    {
      "cell_type": "code",
      "execution_count": null,
      "source": [
        "!wget http://images.cocodataset.org/annotations/annotations_trainval2017.zip\n",
        "!unzip annotations_trainval2017.zip\n",
        "!rm annotations_trainval2017.zip"
      ],
      "outputs": [],
      "metadata": {
        "id": "j4kx9wO7teh8"
      }
    },
    {
      "cell_type": "markdown",
      "source": [
        "Initialize COCO api for instance annotations"
      ],
      "metadata": {}
    },
    {
      "cell_type": "code",
      "execution_count": null,
      "source": [
        "dataType='val2017'\n",
        "annFile=f'annotations/instances_{dataType}.json'\n",
        "coco=COCO(annFile)"
      ],
      "outputs": [],
      "metadata": {
        "id": "MF6OOHIcBu-B"
      }
    },
    {
      "cell_type": "markdown",
      "source": [
        "Display COCO categories and supercategories\n"
      ],
      "metadata": {}
    },
    {
      "cell_type": "code",
      "execution_count": null,
      "source": [
        "cats = coco.loadCats(coco.getCatIds())\n",
        "nms=[cat['name'] for cat in cats]\n",
        "print('COCO categories: \\n{}\\n'.format(' '.join(nms)))\n",
        "\n",
        "nms = set([cat['supercategory'] for cat in cats])\n",
        "print('COCO supercategories: \\n{}'.format(' '.join(nms)))"
      ],
      "outputs": [],
      "metadata": {
        "id": "k6Hf3go-B1F4"
      }
    },
    {
      "cell_type": "markdown",
      "source": [
        "Get all images containing given categories and select one at random\n"
      ],
      "metadata": {}
    },
    {
      "cell_type": "code",
      "execution_count": null,
      "source": [
        "catIds = coco.getCatIds(catNms=['person','sheep','dog']);\n",
        "imgIds = coco.getImgIds(catIds=catIds);\n",
        "img = coco.loadImgs(imgIds[np.random.randint(0,len(imgIds))])[0]"
      ],
      "outputs": [],
      "metadata": {
        "id": "kftMr0vOB7Qm"
      }
    },
    {
      "cell_type": "markdown",
      "source": [
        "Load and display image using the url"
      ],
      "metadata": {}
    },
    {
      "cell_type": "code",
      "execution_count": null,
      "source": [
        "I = skimage.io.imread(img['coco_url'])\n",
        "plt.axis('off')\n",
        "plt.imshow(I)\n",
        "plt.show()"
      ],
      "outputs": [],
      "metadata": {
        "id": "CTEOrmoZB7Ob"
      }
    },
    {
      "cell_type": "markdown",
      "source": [
        "### Object Detection"
      ],
      "metadata": {
        "id": "myTJZaxcU_Db"
      }
    },
    {
      "cell_type": "markdown",
      "source": [
        "Load and display image with bounding box\n"
      ],
      "metadata": {}
    },
    {
      "cell_type": "code",
      "execution_count": null,
      "source": [
        "plt.imshow(I); plt.axis('off')\n",
        "annIds = coco.getAnnIds(imgIds=img['id'], catIds=catIds, iscrowd=None)\n",
        "anns = coco.loadAnns(annIds)\n",
        "coco.showAnns(anns,  draw_bbox=True)"
      ],
      "outputs": [],
      "metadata": {
        "id": "MKPnmQagB7L7"
      }
    },
    {
      "cell_type": "markdown",
      "source": [
        "Load and display image with image classification\n"
      ],
      "metadata": {}
    },
    {
      "cell_type": "code",
      "execution_count": null,
      "source": [
        "fig, ax = plt.subplots(figsize=(10, 8))\n",
        "ax.imshow(I)\n",
        "coco.showAnns(anns, draw_bbox=True)\n",
        "for i, ann in enumerate(anns):\n",
        "    ax.text(anns[i]['bbox'][0], anns[i]['bbox'][1], coco.loadCats(anns[i]['category_id'])[0]['name'], style='italic', \n",
        "            bbox={'facecolor': 'white', 'alpha': 0.7, 'pad': 5})"
      ],
      "outputs": [],
      "metadata": {
        "id": "K73JokkOd2uF"
      }
    },
    {
      "cell_type": "markdown",
      "source": [
        "### Segementation\n",
        "Load and display instance annotations only"
      ],
      "metadata": {
        "id": "dIYCU8QWg6US"
      }
    },
    {
      "cell_type": "code",
      "execution_count": null,
      "source": [
        "plt.imshow(I); plt.axis('off')\n",
        "annIds = coco.getAnnIds(imgIds=img['id'], catIds=catIds, iscrowd=None)\n",
        "anns = coco.loadAnns(annIds)\n",
        "coco.showAnns(anns)"
      ],
      "outputs": [],
      "metadata": {
        "id": "4pMJj32FHtjd"
      }
    },
    {
      "cell_type": "markdown",
      "source": [
        "Load and display image with segemtation\n"
      ],
      "metadata": {}
    },
    {
      "cell_type": "code",
      "execution_count": null,
      "source": [
        "mask = coco.annToMask(anns[0])\n",
        "for i in range(len(anns)):\n",
        "    mask += coco.annToMask(anns[i])\n",
        "\n",
        "plt.imshow(mask)"
      ],
      "outputs": [],
      "metadata": {
        "id": "-IY5LWDaAUEf"
      }
    },
    {
      "cell_type": "markdown",
      "source": [
        "### Person Keypoints\n",
        "Initialize COCO api for person keypoints annotations\n"
      ],
      "metadata": {
        "id": "EJ06_60hfUb7"
      }
    },
    {
      "cell_type": "code",
      "execution_count": null,
      "source": [
        "annFile = f'annotations/person_keypoints_{dataType}.json'\n",
        "coco_kps=COCO(annFile)"
      ],
      "outputs": [],
      "metadata": {
        "id": "fiIXWBuYB7JU"
      }
    },
    {
      "cell_type": "markdown",
      "source": [
        "Load and display keypoints annotations\n"
      ],
      "metadata": {}
    },
    {
      "cell_type": "code",
      "execution_count": null,
      "source": [
        "plt.imshow(I); plt.axis('off')\n",
        "ax = plt.gca()\n",
        "annIds = coco_kps.getAnnIds(imgIds=img['id'], catIds=catIds, iscrowd=None)\n",
        "anns = coco_kps.loadAnns(annIds)\n",
        "coco_kps.showAnns(anns)"
      ],
      "outputs": [],
      "metadata": {
        "id": "RxYREhTMWa5V"
      }
    },
    {
      "cell_type": "markdown",
      "source": [
        "### Image Captions\n",
        "Initialize COCO api for caption annotations\n"
      ],
      "metadata": {
        "id": "qKVrzmOLSRh8"
      }
    },
    {
      "cell_type": "code",
      "execution_count": null,
      "source": [
        "annFile = f'annotations/captions_{dataType}.json'\n",
        "coco_caps=COCO(annFile)"
      ],
      "outputs": [],
      "metadata": {
        "id": "O_3XfpphX164"
      }
    },
    {
      "cell_type": "markdown",
      "source": [
        "Load and display caption annotations"
      ],
      "metadata": {}
    },
    {
      "cell_type": "code",
      "execution_count": null,
      "source": [
        "annIds = coco_caps.getAnnIds(imgIds=img['id']);\n",
        "anns = coco_caps.loadAnns(annIds)\n",
        "coco_caps.showAnns(anns)\n",
        "plt.imshow(I); plt.axis('off'); plt.show()"
      ],
      "outputs": [],
      "metadata": {
        "id": "YdirU_FSa0mF"
      }
    }
  ]
}