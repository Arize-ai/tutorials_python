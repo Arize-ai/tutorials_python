{
  "nbformat": 4,
  "nbformat_minor": 0,
  "metadata": {
    "colab": {
      "provenance": []
    },
    "kernelspec": {
      "name": "python3",
      "display_name": "Python 3"
    },
    "language_info": {
      "name": "python"
    },
    "accelerator": "GPU",
    "gpuClass": "standard"
  },
  "cells": [
    {
      "cell_type": "markdown",
      "source": [
        "# COCO Python Tutorial\n",
        "COCO is a large-scale object detection, segmentation, and captioning dataset. \n",
        "\n",
        "In this tutorial we will show how to:\n",
        "\n",
        "1.   Download and use the COCO dataset\n",
        "2.   Load and show instance annotations for object detection, segmentation, key-point detection "
      ],
      "metadata": {
        "id": "2z9E1mUmfiKT"
      }
    },
    {
      "cell_type": "markdown",
      "source": [
        "Here is some information about the COCO API-\n",
        "\n",
        "*Throughout the API \"ann\"=annotation, \"cat\"=category, and \"img\"=image.*\n",
        "\n",
        "Get methods:\n",
        "* `getAnnIds` - Get ann ids that satisfy given filter conditions. \n",
        "* `getCatIds` - Get cat ids that satisfy given filter conditions. \n",
        "* `getImgIds` - Get img ids that satisfy given filter conditions. \n",
        "\n",
        "Load methods:\n",
        "* `loadAnns` - Load anns with the specified ids. \n",
        "* `loadCats` - Load cats with the specified ids. \n",
        "* `loadImgs` - Load imgs with the specified ids. \n",
        "* `loadRes`  - Load algorithm results and create API for accessing them.\n",
        "\n",
        "Show methods:\n",
        "* `showAnns` - Display the specified annotations.\n",
        "\n",
        "See source:\n",
        "https://github.com/cocodataset/cocoapi/blob/master/PythonAPI/pycocotools/coco.py\n"
      ],
      "metadata": {
        "id": "HnsBcPWYUgGr"
      }
    },
    {
      "cell_type": "markdown",
      "source": [
        "###Install packages"
      ],
      "metadata": {
        "id": "NNBPKYY5fl_V"
      }
    },
    {
      "cell_type": "code",
      "execution_count": null,
      "metadata": {
        "id": "inm5aNBlBlbO"
      },
      "outputs": [],
      "source": [
        "%matplotlib inline\n",
        "from pycocotools.coco import COCO\n",
        "import numpy as np\n",
        "import skimage\n",
        "import matplotlib.pyplot as plt\n",
        "import pylab"
      ]
    },
    {
      "cell_type": "markdown",
      "source": [
        "### Download the COCO Dataset"
      ],
      "metadata": {
        "id": "SCq20l38RpaU"
      }
    },
    {
      "cell_type": "code",
      "source": [
        "!wget http://images.cocodataset.org/annotations/annotations_trainval2017.zip\n",
        "!unzip annotations_trainval2017.zip\n",
        "!rm annotations_trainval2017.zip"
      ],
      "metadata": {
        "id": "j4kx9wO7teh8"
      },
      "execution_count": null,
      "outputs": []
    },
    {
      "cell_type": "code",
      "source": [
        "# initialize COCO api for instance annotations\n",
        "dataType='val2017'\n",
        "annFile=f'annotations/instances_{dataType}.json'\n",
        "coco=COCO(annFile)"
      ],
      "metadata": {
        "id": "MF6OOHIcBu-B"
      },
      "execution_count": null,
      "outputs": []
    },
    {
      "cell_type": "code",
      "source": [
        "# display COCO categories and supercategories\n",
        "cats = coco.loadCats(coco.getCatIds())\n",
        "nms=[cat['name'] for cat in cats]\n",
        "print('COCO categories: \\n{}\\n'.format(' '.join(nms)))\n",
        "\n",
        "nms = set([cat['supercategory'] for cat in cats])\n",
        "print('COCO supercategories: \\n{}'.format(' '.join(nms)))"
      ],
      "metadata": {
        "id": "k6Hf3go-B1F4"
      },
      "execution_count": null,
      "outputs": []
    },
    {
      "cell_type": "code",
      "source": [
        "# get all images containing given categories, select one at random\n",
        "catIds = coco.getCatIds(catNms=['person','sheep','dog']);\n",
        "imgIds = coco.getImgIds(catIds=catIds);\n",
        "img = coco.loadImgs(imgIds[np.random.randint(0,len(imgIds))])[0]"
      ],
      "metadata": {
        "id": "kftMr0vOB7Qm"
      },
      "execution_count": null,
      "outputs": []
    },
    {
      "cell_type": "code",
      "source": [
        "# load and display image\n",
        "# use url to load image\n",
        "I = skimage.io.imread(img['coco_url'])\n",
        "plt.axis('off')\n",
        "plt.imshow(I)\n",
        "plt.show()"
      ],
      "metadata": {
        "id": "CTEOrmoZB7Ob"
      },
      "execution_count": null,
      "outputs": []
    },
    {
      "cell_type": "markdown",
      "source": [
        "### Object Detection"
      ],
      "metadata": {
        "id": "myTJZaxcU_Db"
      }
    },
    {
      "cell_type": "code",
      "source": [
        "# load and display image with bounding box\n",
        "plt.imshow(I); plt.axis('off')\n",
        "annIds = coco.getAnnIds(imgIds=img['id'], catIds=catIds, iscrowd=None)\n",
        "anns = coco.loadAnns(annIds)\n",
        "coco.showAnns(anns,  draw_bbox=True)"
      ],
      "metadata": {
        "id": "MKPnmQagB7L7"
      },
      "execution_count": null,
      "outputs": []
    },
    {
      "cell_type": "code",
      "source": [
        "# load and display image with image classification\n",
        "fig, ax = plt.subplots(figsize=(10, 8))\n",
        "ax.imshow(I)\n",
        "coco.showAnns(anns, draw_bbox=True)\n",
        "for i, ann in enumerate(anns):\n",
        "    ax.text(anns[i]['bbox'][0], anns[i]['bbox'][1], coco.loadCats(anns[i]['category_id'])[0]['name'], style='italic', \n",
        "            bbox={'facecolor': 'white', 'alpha': 0.7, 'pad': 5})"
      ],
      "metadata": {
        "id": "K73JokkOd2uF"
      },
      "execution_count": null,
      "outputs": []
    },
    {
      "cell_type": "markdown",
      "source": [
        "### Segementation"
      ],
      "metadata": {
        "id": "dIYCU8QWg6US"
      }
    },
    {
      "cell_type": "code",
      "source": [
        "# load and display instance annotations only\n",
        "plt.imshow(I); plt.axis('off')\n",
        "annIds = coco.getAnnIds(imgIds=img['id'], catIds=catIds, iscrowd=None)\n",
        "anns = coco.loadAnns(annIds)\n",
        "coco.showAnns(anns)"
      ],
      "metadata": {
        "id": "4pMJj32FHtjd"
      },
      "execution_count": null,
      "outputs": []
    },
    {
      "cell_type": "code",
      "source": [
        "# load and display image with segemtation\n",
        "mask = coco.annToMask(anns[0])\n",
        "for i in range(len(anns)):\n",
        "    mask += coco.annToMask(anns[i])\n",
        "\n",
        "plt.imshow(mask)"
      ],
      "metadata": {
        "id": "-IY5LWDaAUEf"
      },
      "execution_count": null,
      "outputs": []
    },
    {
      "cell_type": "markdown",
      "source": [
        "###Person Keypoints"
      ],
      "metadata": {
        "id": "EJ06_60hfUb7"
      }
    },
    {
      "cell_type": "code",
      "source": [
        "# initialize COCO api for person keypoints annotations\n",
        "annFile = f'annotations/person_keypoints_{dataType}.json'\n",
        "coco_kps=COCO(annFile)"
      ],
      "metadata": {
        "id": "fiIXWBuYB7JU"
      },
      "execution_count": null,
      "outputs": []
    },
    {
      "cell_type": "code",
      "source": [
        "# load and display keypoints annotations\n",
        "plt.imshow(I); plt.axis('off')\n",
        "ax = plt.gca()\n",
        "annIds = coco_kps.getAnnIds(imgIds=img['id'], catIds=catIds, iscrowd=None)\n",
        "anns = coco_kps.loadAnns(annIds)\n",
        "coco_kps.showAnns(anns)"
      ],
      "metadata": {
        "id": "RxYREhTMWa5V"
      },
      "execution_count": null,
      "outputs": []
    },
    {
      "cell_type": "markdown",
      "source": [
        "### Image Captions"
      ],
      "metadata": {
        "id": "qKVrzmOLSRh8"
      }
    },
    {
      "cell_type": "code",
      "source": [
        "# initialize COCO api for caption annotations\n",
        "annFile = f'annotations/captions_{dataType}.json'\n",
        "coco_caps=COCO(annFile)"
      ],
      "metadata": {
        "id": "O_3XfpphX164"
      },
      "execution_count": null,
      "outputs": []
    },
    {
      "cell_type": "code",
      "source": [
        "# load and display caption annotations\n",
        "annIds = coco_caps.getAnnIds(imgIds=img['id']);\n",
        "anns = coco_caps.loadAnns(annIds)\n",
        "coco_caps.showAnns(anns)\n",
        "plt.imshow(I); plt.axis('off'); plt.show()"
      ],
      "metadata": {
        "id": "YdirU_FSa0mF"
      },
      "execution_count": null,
      "outputs": []
    }
  ]
}