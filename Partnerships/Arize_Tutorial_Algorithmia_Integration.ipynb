{
  "cells": [
    {
      "cell_type": "markdown",
      "metadata": {
        "id": "tQbQfDXT99TS"
      },
      "source": [
        "# Algorithmia Integration Notebook\n",
        "\n",
        "Let's get started on using Arize with Algorithmia!✨\n",
        "\n",
        "Arize helps you visualize your model performance, understand drift & data quality issues, and share insights learned from your models. Algorithmia is a platform for model serving and help you manage machine learning at scale.\n",
        "\n",
        "In this notebook, we show that we can quickly create a model and download it to serve on Algorithmia, and integration with Arize platform can be done directly on Algorithmia, without needing any environment dependency aside from Algorithmia from user environment.\n",
        "\n",
        "1. **Step 1-2:** creates a basic model and downloads it as a .pkl file to be loaded on algorithmia.\n",
        "2. **Step 3-4** Importing and testing Arize API\n",
        "2. **Step 5** Develop and Build on Algorithmia\n",
        "3. **Step 6** Test and verify results from Algorithmia!\n",
        "\n",
        "[![Open In Colab](https://colab.research.google.com/assets/colab-badge.svg)](https://colab.research.google.com/github/Arize-ai/client_python/blob/main/arize/examples/tutorials/Arize_Tutorial_Algorithmia_Integration.ipynb)"
      ]
    },
    {
      "cell_type": "markdown",
      "metadata": {
        "id": "VYXL94qq-NSX"
      },
      "source": [
        "## Step 1: Load Data and Build Model"
      ]
    },
    {
      "cell_type": "code",
      "execution_count": null,
      "metadata": {
        "colab": {
          "base_uri": "https://localhost:8080/"
        },
        "id": "tDLpUDEXgta2",
        "outputId": "c933197f-8580-4199-9f95-11be37e23830",
        "vscode": {
          "languageId": "python"
        }
      },
      "outputs": [],
      "source": [
        "!wget https://storage.googleapis.com/arize-assets/tutorials/b_open_source_dataset.csv\n",
        "import pandas as pd\n",
        "import xgboost\n",
        "import uuid\n",
        "import concurrent.futures as cf\n",
        "from xgboost import XGBClassifier\n",
        "from sklearn.model_selection import train_test_split\n",
        "\n",
        "###############################################################################\n",
        "# 1 Load data and split data\n",
        "def load_dataset(file):\n",
        "    data = pd.read_csv(file, delimiter=\";\", header='infer')\n",
        "    data = pd.get_dummies(data, columns=['job','marital',\n",
        "                                         'education','default',\n",
        "                                         'housing','loan',\n",
        "                                         'contact','month',\n",
        "                                         'poutcome'])\n",
        "    data.y.replace(('yes', 'no'), (1, 0), inplace=True)\n",
        "    return data\n",
        "\n",
        "data = load_dataset('b_open_source_dataset.csv')\n",
        "X, y = data.drop(['y'], axis=1), pd.Series(data['y'])\n",
        "\n",
        "X_train, X_test, y_train, y_test = train_test_split(X, y, test_size=0.3, random_state=2, stratify=y)\n",
        "\n",
        "###############################################################################\n",
        "# 2 Fit a classification model\n",
        "\n",
        "clf = XGBClassifier().fit(X_train, y_train.values.ravel())\n",
        "\n",
        "# 3 Use the model to generate predictions\n",
        "y_train_pred = clf.predict(X_train)\n",
        "y_test_pred = clf.predict(X_test)\n",
        "\n",
        "print('Step 1 ✅: Load Data & Build Model Done!')"
      ]
    },
    {
      "cell_type": "markdown",
      "metadata": {
        "id": "wObMCuNTCg2T"
      },
      "source": [
        "## Step 2: Download Model for Serving on Algorithmia"
      ]
    },
    {
      "cell_type": "code",
      "execution_count": null,
      "metadata": {
        "colab": {
          "base_uri": "https://localhost:8080/",
          "height": 34
        },
        "id": "YHFr6axiBXb8",
        "outputId": "7c4a66b9-ea5d-4e2c-e9c6-4f553019fd93",
        "vscode": {
          "languageId": "python"
        }
      },
      "outputs": [],
      "source": [
        "import pickle\n",
        "from IPython.display import display, FileLink # if not using Google Colab\n",
        "from google.colab import files\n",
        "\n",
        "# Creating the pickle file\n",
        "model_name = \"algorithmia_example\"\n",
        "filename = \"{}.pkl\".format(model_name)\n",
        "pickle.dump(clf, open(filename, 'wb'))\n",
        "\n",
        "## Download file from Colab\n",
        "files.download(filename)\n",
        "print('Step 2 ✅: The file should have been successfully downloaded!')"
      ]
    },
    {
      "cell_type": "markdown",
      "metadata": {
        "id": "WOXD9QY9Erge"
      },
      "source": [
        "## Step 3: Import and Setup Arize Client\n",
        "You can find your `API_KEY` and `SPACE_KEY` by navigating to the settings page in your workspace (only space admins can see the keys). Copy those over to the set-up section. We will also be setting up some metadata to use across all logging."
      ]
    },
    {
      "cell_type": "code",
      "execution_count": null,
      "metadata": {
        "colab": {
          "base_uri": "https://localhost:8080/"
        },
        "id": "iC44soHGDqrs",
        "outputId": "7a886774-1c91-4fb1-bb43-8dd886dbb6ec",
        "vscode": {
          "languageId": "python"
        }
      },
      "outputs": [],
      "source": [
        "!pip install arize -q\n",
        "from arize.api import Client\n",
        "from arize.utils.types import ModelTypes\n",
        "\n",
        "SPACE_KEY = 'YOUR_SPACE_KEY'\n",
        "API_KEY = 'YOUR_API_KEY'\n",
        "arize_client = Client(space_key=SPACE_KEY, api_key=API_KEY)\n",
        "\n",
        "# Saving model metadata for passing in later\n",
        "model_id = 'your_model_name'\n",
        "model_version = '1.0'\n",
        "model_type = ModelTypes.SCORE_CATEGORICAL\n",
        "\n",
        "print('Step 3 ✅: Import and Setup Arize Client Done! Now we can start using Arize!')"
      ]
    },
    {
      "cell_type": "markdown",
      "metadata": {
        "id": "2mvb2n9_hgDh"
      },
      "source": [
        "## Step 4: Testing Arize API\n",
        "We test one of Arize's Client API `log_bulk_predictions`. We will need to use this segment of code in our `.py` file, and it would behave the exact same way."
      ]
    },
    {
      "cell_type": "code",
      "execution_count": null,
      "metadata": {
        "colab": {
          "base_uri": "https://localhost:8080/"
        },
        "id": "Lvp6m2DZjoTA",
        "outputId": "45e63efa-bdbe-4b36-b7de-32fa3f6195e0",
        "vscode": {
          "languageId": "python"
        }
      },
      "outputs": [],
      "source": [
        "readable_features = X_test.loc[X_test.index]\n",
        "pred = pd.Series([str(y) for y in y_test_pred])\n",
        "ids = pd.DataFrame([str(uuid.uuid4()) for _ in range(len(y_test_pred))])\n",
        "\n",
        "tfuture = arize_client.log_bulk_predictions(\n",
        "    model_id=model_name,\n",
        "    model_version=model_version, # same as a above cell, named\n",
        "    model_type =ModelTypes.SCORE_CATEGORICAL, # Arize version 2.0, soon to be optional\n",
        "    features=readable_features,\n",
        "    prediction_ids=ids,\n",
        "    prediction_labels=pred)\n",
        "\n",
        "## Helper to listen to response code to ensure successful delivery\n",
        "def arize_responses_helper(responses):\n",
        "  for response in cf.as_completed(responses):\n",
        "    res = response.result()\n",
        "    if res.status_code != 200:\n",
        "      print(f'future failed with response code {res.status_code}, {res.text}')\n",
        "\n",
        "arize_responses_helper(tfuture)\n",
        "\n",
        "print('Step 4 ✅: If no errors show up, you can use this code on Algorithmia!')"
      ]
    },
    {
      "cell_type": "markdown",
      "metadata": {
        "id": "toL_UhLDM7rW"
      },
      "source": [
        "## Step 5: Upload the Model & Develop on Algorithmia\n",
        "Next, follow these steps to build and deploy on Algorithmia:\n",
        "\n",
        "1. Create a [new algorithm](https://algorithmia.com/users) on Algorithmia\n",
        "2. Upload the `.pkl` file to the [data center](https://algorithmia.com/data) so that it is accessible by your Algorithm. You can copy the relative path for developing on Algorithmia here as well.\n",
        "3. Create the `apply(input)` and add any dependencies you have for the environment.\n",
        "4. Click `Build` and see the model is working in production\n",
        "\n",
        "**NOTE:** The following are example codes that could get you started on Algorithmia. You don't have to run it in this notebook."
      ]
    },
    {
      "cell_type": "code",
      "execution_count": null,
      "metadata": {
        "colab": {
          "base_uri": "https://localhost:8080/"
        },
        "id": "1moSHWaIQXUz",
        "outputId": "ff19c4b8-9e5e-4983-b1bb-b24c057a1afc",
        "vscode": {
          "languageId": "python"
        }
      },
      "outputs": [],
      "source": [
        "!pip install algorithmia\n",
        "import Algorithmia\n",
        "import pandas as pd\n",
        "from xgboost import XGBClassifier\n",
        "from arize.api import Client\n",
        "from arize.utils.types import ModelTypes\n",
        "\n",
        "import sklearn\n",
        "import joblib\n",
        "\n",
        "import datetime\n",
        "import pickle\n",
        "\n",
        "# API calls will begin at the apply() method, with the request body passed as 'input'\n",
        "# For more details, see algorithmia.com/developers/algorithm-development/languages\n",
        "\n",
        "# setting up algorithmia portal\n",
        "\"\"\"\n",
        "Note: You need to uncomment this in Algorithmia\n",
        "\n",
        "filename = \"model/path/\"\n",
        "client = Algorithmia.client()\n",
        "model_file = client.file(filename).getFile().name\n",
        "versioned_model = joblib.load(model_file)\n",
        "\"\"\"\n",
        "\n",
        "# setting up arize client\n",
        "space_key = 'ARIZE_SPACE_KEY'\n",
        "api_key = 'ARIZE_API_KEY'\n",
        "arize_client = Client(space_key=space_key, api_key=api_key)\n",
        "logging = True\n",
        "\n",
        "def apply(input):\n",
        "    data = pd.read_json(input)\n",
        "    result = versioned_model.predict(data)\n",
        "\n",
        "    if logging:\n",
        "        # creating names for logging\n",
        "        model_name = \"alan_algorithmia_client\"\n",
        "        model_name_versioned = \"{}_ver_{}\".format(model_name, datetime.datetime.today().strftime('%m_%d_%Y__%H_%M_%S'))\n",
        "        readable_features = data.loc[data.index]\n",
        "        pred = pd.DataFrame([str(y) for y in result])\n",
        "        ids = pd.DataFrame([str(id) for id in data.index])\n",
        "\n",
        "        tfuture = arize_client.log_bulk_predictions(\n",
        "            model_id=model_name,\n",
        "            model_version=model_name_versioned,\n",
        "            model_type=ModelTypes.SCORE_CATEGORICAL,\n",
        "            features=readable_features,\n",
        "            prediction_ids=ids,\n",
        "            prediction_labels=pred)\n",
        "\n",
        "    return pd.DataFrame(result).to_json()\n",
        "\n",
        "print('Step 5 ✅: This section is just sample code to get you starts on Algorithmia!')"
      ]
    },
    {
      "cell_type": "markdown",
      "metadata": {
        "id": "KtNg-bS8hjlg"
      },
      "source": [
        "## Step 6: Testing Algorithmia API\n",
        "Next, we test and simulate an API call to algorithmia to\n",
        "1. Obtain the prediction made by our model, deployed and ran on Algorithmia\n",
        "2. Log our production features and results to Arize platform. No need for client to install anything!\n",
        "\n",
        "To get your Algorithmia API and algorithm name, go to \"ALGO_NAME/Install and Use/Python/Use\""
      ]
    },
    {
      "cell_type": "code",
      "execution_count": null,
      "metadata": {
        "colab": {
          "base_uri": "https://localhost:8080/",
          "height": 415
        },
        "id": "FnNMuMsxhpSq",
        "outputId": "1ddc8e10-89b0-4768-c379-5a9857cf88cd",
        "vscode": {
          "languageId": "python"
        }
      },
      "outputs": [],
      "source": [
        "import Algorithmia\n",
        "\n",
        "# Create a dummy tutorial\n",
        "_, X_test_2, _, y_test_2 = train_test_split(data_X, data_y, test_size=0.04, stratify=data_y)\n",
        "\n",
        "ALGO_API_KEY = 'ALGO_API_KEY' # TODO: put your Algorithmia API Key\n",
        "ALGO_ALG_NAME = 'USERNAME/ALGO_ALG_NAME/VERSION' # TODO: put your algorithm name, as shown on API call documentation\n",
        "\n",
        "# Note: input must be json formatted\n",
        "input = X_test_2.to_json()\n",
        "client = Algorithmia.client(ALGO_API_KEY)\n",
        "algo = client.algo(ALGO_ALG_NAME)\n",
        "algo.set_options(timeout=60) # optional, for your testing purposes\n",
        "\n",
        "# Actual format shape of input for pipe(input) should depend on your algorithm\n",
        "res = algo.pipe(input).result\n",
        "\n",
        "# Result should also be json formatted\n",
        "pd.read_json(res)"
      ]
    },
    {
      "cell_type": "markdown",
      "metadata": {
        "collapsed": false
      },
      "source": [
        "### Overview\n",
        "Arize is an end-to-end ML observability and model monitoring platform. The platform is designed to help ML engineers and data science practitioners surface and fix issues with ML models in production faster with:\n",
        "- Automated ML monitoring and model monitoring\n",
        "- Workflows to troubleshoot model performance\n",
        "- Real-time visualizations for model performance monitoring, data quality monitoring, and drift monitoring\n",
        "- Model prediction cohort analysis\n",
        "- Pre-deployment model validation\n",
        "- Integrated model explainability\n",
        "\n",
        "### Website\n",
        "Visit Us At: https://arize.com/model-monitoring/\n",
        "\n",
        "### Additional Resources\n",
        "- [What is ML observability?](https://arize.com/what-is-ml-observability/)\n",
        "- [Playbook to model monitoring in production](https://arize.com/the-playbook-to-monitor-your-models-performance-in-production/)\n",
        "- [Using statistical distance metrics for ML monitoring and observability](https://arize.com/using-statistical-distance-metrics-for-machine-learning-observability/)\n",
        "- [ML infrastructure tools for data preparation](https://arize.com/ml-infrastructure-tools-for-data-preparation/)\n",
        "- [ML infrastructure tools for model building](https://arize.com/ml-infrastructure-tools-for-model-building/)\n",
        "- [ML infrastructure tools for production](https://arize.com/ml-infrastructure-tools-for-production-part-1/)\n",
        "- [ML infrastructure tools for model deployment and model serving](https://arize.com/ml-infrastructure-tools-for-production-part-2-model-deployment-and-serving/)\n",
        "- [ML infrastructure tools for ML monitoring and observability](https://arize.com/ml-infrastructure-tools-ml-observability/)\n",
        "\n",
        "Visit the [Arize Blog](https://arize.com/blog) and [Resource Center](https://arize.com/resource-hub/) for more resources on ML observability and model monitoring.\n"
      ]
    },
    {
      "cell_type": "code",
      "execution_count": null,
      "metadata": {
        "collapsed": false,
        "pycharm": {
          "name": "#%%\n"
        },
        "vscode": {
          "languageId": "python"
        }
      },
      "outputs": [],
      "source": []
    }
  ],
  "metadata": {
    "colab": {
      "collapsed_sections": [],
      "name": "Arize_Tutorial_Algorithmia_Integration.ipynb",
      "provenance": [],
      "toc_visible": true
    },
    "kernelspec": {
      "display_name": "Python 3",
      "name": "python3"
    }
  },
  "nbformat": 4,
  "nbformat_minor": 0
}
