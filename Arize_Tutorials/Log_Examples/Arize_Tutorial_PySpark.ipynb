{
  "cells": [
    {
      "cell_type": "markdown",
      "metadata": {
        "id": "yQj9YRzkS9St"
      },
      "source": [
        "# Tutorial: Sending PySpark DataFrame to Arize\n",
        "\n",
        "In the current version of Arize Python SDK, only Pandas DataFrames are supported. To log Spark DataFrames, which have `rdds` as their underlying structure, we will use `mapInPandas` to log them to arize."
      ]
    },
    {
      "cell_type": "markdown",
      "metadata": {
        "id": "EjTwoaJ_GzbZ"
      },
      "source": [
        "# Install Dependencies in Colab"
      ]
    },
    {
      "cell_type": "code",
      "execution_count": 13,
      "metadata": {
        "id": "QGfDxZNUW_Fe"
      },
      "outputs": [],
      "source": [
        "!pip install -q pyspark\n",
        "!pip install -q arize"
      ]
    },
    {
      "cell_type": "markdown",
      "metadata": {
        "id": "ldVoUMYSVKbF"
      },
      "source": [
        "# Parallelizing PySpark DataFrame\n",
        "We first create a dummy PySpark DataFrame to send.\n"
      ]
    },
    {
      "cell_type": "code",
      "execution_count": 14,
      "metadata": {
        "id": "wYYYHJYhj9BP",
        "colab": {
          "base_uri": "https://localhost:8080/",
          "height": 584
        },
        "outputId": "7316f17c-f7ef-4014-e9cf-b0a38f75fe09"
      },
      "outputs": [
        {
          "output_type": "stream",
          "name": "stdout",
          "text": [
            "This is a pandas DataFrame:\n"
          ]
        },
        {
          "output_type": "display_data",
          "data": {
            "text/plain": [
              "      loan_amount  interest_rate grade prediction  score  \\\n",
              "0         10000.0          10.99     B      fraud   0.60   \n",
              "1          8200.0          15.61     D  not_fraud   0.60   \n",
              "2         14000.0           9.17     B      fraud   0.15   \n",
              "3          5400.0          24.50     F      fraud   0.60   \n",
              "4          1500.0          13.18     C      fraud   0.27   \n",
              "...           ...            ...   ...        ...    ...   \n",
              "1131      25475.0          12.99     C  not_fraud   0.15   \n",
              "1132       5200.0           7.90     A  not_fraud   0.60   \n",
              "1133      18000.0           7.90     A      fraud   0.60   \n",
              "1134      28000.0          16.99     D      fraud   0.27   \n",
              "1135       6450.0          21.99     F      fraud   0.60   \n",
              "\n",
              "                             prediction_id  \n",
              "0     135ccb03-2603-4041-8d57-a7310032f2d7  \n",
              "1     a938e0fe-c989-4ecc-885f-8a64cb83f8b0  \n",
              "2     6a13cffd-463a-47f4-9f6b-d0ef9336cb65  \n",
              "3     d3416441-3aa3-43bb-a783-e822a719b9bc  \n",
              "4     109a537a-88bf-4b1d-a58b-b418a6766808  \n",
              "...                                    ...  \n",
              "1131  de0ece77-bf44-427d-b852-6e342cd3ea3e  \n",
              "1132  b4765d9b-6c26-4f68-9317-f113207c74b9  \n",
              "1133  75b706e9-bfcf-43c0-abc3-8b847795b6d8  \n",
              "1134  e308c456-7e12-49f9-a9a4-b24d5d85bb7d  \n",
              "1135  ec924c9f-ad0f-42f6-ad5c-48c83f7b7d3d  \n",
              "\n",
              "[5680 rows x 6 columns]"
            ],
            "text/html": [
              "\n",
              "  <div id=\"df-8885d5c1-8345-46cb-930f-27f93547b37e\">\n",
              "    <div class=\"colab-df-container\">\n",
              "      <div>\n",
              "<style scoped>\n",
              "    .dataframe tbody tr th:only-of-type {\n",
              "        vertical-align: middle;\n",
              "    }\n",
              "\n",
              "    .dataframe tbody tr th {\n",
              "        vertical-align: top;\n",
              "    }\n",
              "\n",
              "    .dataframe thead th {\n",
              "        text-align: right;\n",
              "    }\n",
              "</style>\n",
              "<table border=\"1\" class=\"dataframe\">\n",
              "  <thead>\n",
              "    <tr style=\"text-align: right;\">\n",
              "      <th></th>\n",
              "      <th>loan_amount</th>\n",
              "      <th>interest_rate</th>\n",
              "      <th>grade</th>\n",
              "      <th>prediction</th>\n",
              "      <th>score</th>\n",
              "      <th>prediction_id</th>\n",
              "    </tr>\n",
              "  </thead>\n",
              "  <tbody>\n",
              "    <tr>\n",
              "      <th>0</th>\n",
              "      <td>10000.0</td>\n",
              "      <td>10.99</td>\n",
              "      <td>B</td>\n",
              "      <td>fraud</td>\n",
              "      <td>0.60</td>\n",
              "      <td>135ccb03-2603-4041-8d57-a7310032f2d7</td>\n",
              "    </tr>\n",
              "    <tr>\n",
              "      <th>1</th>\n",
              "      <td>8200.0</td>\n",
              "      <td>15.61</td>\n",
              "      <td>D</td>\n",
              "      <td>not_fraud</td>\n",
              "      <td>0.60</td>\n",
              "      <td>a938e0fe-c989-4ecc-885f-8a64cb83f8b0</td>\n",
              "    </tr>\n",
              "    <tr>\n",
              "      <th>2</th>\n",
              "      <td>14000.0</td>\n",
              "      <td>9.17</td>\n",
              "      <td>B</td>\n",
              "      <td>fraud</td>\n",
              "      <td>0.15</td>\n",
              "      <td>6a13cffd-463a-47f4-9f6b-d0ef9336cb65</td>\n",
              "    </tr>\n",
              "    <tr>\n",
              "      <th>3</th>\n",
              "      <td>5400.0</td>\n",
              "      <td>24.50</td>\n",
              "      <td>F</td>\n",
              "      <td>fraud</td>\n",
              "      <td>0.60</td>\n",
              "      <td>d3416441-3aa3-43bb-a783-e822a719b9bc</td>\n",
              "    </tr>\n",
              "    <tr>\n",
              "      <th>4</th>\n",
              "      <td>1500.0</td>\n",
              "      <td>13.18</td>\n",
              "      <td>C</td>\n",
              "      <td>fraud</td>\n",
              "      <td>0.27</td>\n",
              "      <td>109a537a-88bf-4b1d-a58b-b418a6766808</td>\n",
              "    </tr>\n",
              "    <tr>\n",
              "      <th>...</th>\n",
              "      <td>...</td>\n",
              "      <td>...</td>\n",
              "      <td>...</td>\n",
              "      <td>...</td>\n",
              "      <td>...</td>\n",
              "      <td>...</td>\n",
              "    </tr>\n",
              "    <tr>\n",
              "      <th>1131</th>\n",
              "      <td>25475.0</td>\n",
              "      <td>12.99</td>\n",
              "      <td>C</td>\n",
              "      <td>not_fraud</td>\n",
              "      <td>0.15</td>\n",
              "      <td>de0ece77-bf44-427d-b852-6e342cd3ea3e</td>\n",
              "    </tr>\n",
              "    <tr>\n",
              "      <th>1132</th>\n",
              "      <td>5200.0</td>\n",
              "      <td>7.90</td>\n",
              "      <td>A</td>\n",
              "      <td>not_fraud</td>\n",
              "      <td>0.60</td>\n",
              "      <td>b4765d9b-6c26-4f68-9317-f113207c74b9</td>\n",
              "    </tr>\n",
              "    <tr>\n",
              "      <th>1133</th>\n",
              "      <td>18000.0</td>\n",
              "      <td>7.90</td>\n",
              "      <td>A</td>\n",
              "      <td>fraud</td>\n",
              "      <td>0.60</td>\n",
              "      <td>75b706e9-bfcf-43c0-abc3-8b847795b6d8</td>\n",
              "    </tr>\n",
              "    <tr>\n",
              "      <th>1134</th>\n",
              "      <td>28000.0</td>\n",
              "      <td>16.99</td>\n",
              "      <td>D</td>\n",
              "      <td>fraud</td>\n",
              "      <td>0.27</td>\n",
              "      <td>e308c456-7e12-49f9-a9a4-b24d5d85bb7d</td>\n",
              "    </tr>\n",
              "    <tr>\n",
              "      <th>1135</th>\n",
              "      <td>6450.0</td>\n",
              "      <td>21.99</td>\n",
              "      <td>F</td>\n",
              "      <td>fraud</td>\n",
              "      <td>0.60</td>\n",
              "      <td>ec924c9f-ad0f-42f6-ad5c-48c83f7b7d3d</td>\n",
              "    </tr>\n",
              "  </tbody>\n",
              "</table>\n",
              "<p>5680 rows × 6 columns</p>\n",
              "</div>\n",
              "      <button class=\"colab-df-convert\" onclick=\"convertToInteractive('df-8885d5c1-8345-46cb-930f-27f93547b37e')\"\n",
              "              title=\"Convert this dataframe to an interactive table.\"\n",
              "              style=\"display:none;\">\n",
              "        \n",
              "  <svg xmlns=\"http://www.w3.org/2000/svg\" height=\"24px\"viewBox=\"0 0 24 24\"\n",
              "       width=\"24px\">\n",
              "    <path d=\"M0 0h24v24H0V0z\" fill=\"none\"/>\n",
              "    <path d=\"M18.56 5.44l.94 2.06.94-2.06 2.06-.94-2.06-.94-.94-2.06-.94 2.06-2.06.94zm-11 1L8.5 8.5l.94-2.06 2.06-.94-2.06-.94L8.5 2.5l-.94 2.06-2.06.94zm10 10l.94 2.06.94-2.06 2.06-.94-2.06-.94-.94-2.06-.94 2.06-2.06.94z\"/><path d=\"M17.41 7.96l-1.37-1.37c-.4-.4-.92-.59-1.43-.59-.52 0-1.04.2-1.43.59L10.3 9.45l-7.72 7.72c-.78.78-.78 2.05 0 2.83L4 21.41c.39.39.9.59 1.41.59.51 0 1.02-.2 1.41-.59l7.78-7.78 2.81-2.81c.8-.78.8-2.07 0-2.86zM5.41 20L4 18.59l7.72-7.72 1.47 1.35L5.41 20z\"/>\n",
              "  </svg>\n",
              "      </button>\n",
              "      \n",
              "  <style>\n",
              "    .colab-df-container {\n",
              "      display:flex;\n",
              "      flex-wrap:wrap;\n",
              "      gap: 12px;\n",
              "    }\n",
              "\n",
              "    .colab-df-convert {\n",
              "      background-color: #E8F0FE;\n",
              "      border: none;\n",
              "      border-radius: 50%;\n",
              "      cursor: pointer;\n",
              "      display: none;\n",
              "      fill: #1967D2;\n",
              "      height: 32px;\n",
              "      padding: 0 0 0 0;\n",
              "      width: 32px;\n",
              "    }\n",
              "\n",
              "    .colab-df-convert:hover {\n",
              "      background-color: #E2EBFA;\n",
              "      box-shadow: 0px 1px 2px rgba(60, 64, 67, 0.3), 0px 1px 3px 1px rgba(60, 64, 67, 0.15);\n",
              "      fill: #174EA6;\n",
              "    }\n",
              "\n",
              "    [theme=dark] .colab-df-convert {\n",
              "      background-color: #3B4455;\n",
              "      fill: #D2E3FC;\n",
              "    }\n",
              "\n",
              "    [theme=dark] .colab-df-convert:hover {\n",
              "      background-color: #434B5C;\n",
              "      box-shadow: 0px 1px 3px 1px rgba(0, 0, 0, 0.15);\n",
              "      filter: drop-shadow(0px 1px 2px rgba(0, 0, 0, 0.3));\n",
              "      fill: #FFFFFF;\n",
              "    }\n",
              "  </style>\n",
              "\n",
              "      <script>\n",
              "        const buttonEl =\n",
              "          document.querySelector('#df-8885d5c1-8345-46cb-930f-27f93547b37e button.colab-df-convert');\n",
              "        buttonEl.style.display =\n",
              "          google.colab.kernel.accessAllowed ? 'block' : 'none';\n",
              "\n",
              "        async function convertToInteractive(key) {\n",
              "          const element = document.querySelector('#df-8885d5c1-8345-46cb-930f-27f93547b37e');\n",
              "          const dataTable =\n",
              "            await google.colab.kernel.invokeFunction('convertToInteractive',\n",
              "                                                     [key], {});\n",
              "          if (!dataTable) return;\n",
              "\n",
              "          const docLinkHtml = 'Like what you see? Visit the ' +\n",
              "            '<a target=\"_blank\" href=https://colab.research.google.com/notebooks/data_table.ipynb>data table notebook</a>'\n",
              "            + ' to learn more about interactive tables.';\n",
              "          element.innerHTML = '';\n",
              "          dataTable['output_type'] = 'display_data';\n",
              "          await google.colab.output.renderOutput(dataTable, element);\n",
              "          const docLink = document.createElement('div');\n",
              "          docLink.innerHTML = docLinkHtml;\n",
              "          element.appendChild(docLink);\n",
              "        }\n",
              "      </script>\n",
              "    </div>\n",
              "  </div>\n",
              "  "
            ]
          },
          "metadata": {}
        },
        {
          "output_type": "stream",
          "name": "stdout",
          "text": [
            "root\n",
            " |-- loan_amount: double (nullable = true)\n",
            " |-- interest_rate: double (nullable = true)\n",
            " |-- grade: string (nullable = true)\n",
            " |-- prediction: string (nullable = true)\n",
            " |-- score: double (nullable = true)\n",
            " |-- prediction_id: string (nullable = true)\n",
            "\n"
          ]
        }
      ],
      "source": [
        "import pyspark\n",
        "from pyspark.sql import Row, SparkSession\n",
        "import pandas as pd\n",
        "import uuid\n",
        "\n",
        "spark = SparkSession.builder.getOrCreate()\n",
        "\n",
        "# Read some dummy data for logging to Arize later\n",
        "data = pd.read_csv(\n",
        "    \"https://storage.googleapis.com/arize-assets/fixtures/compare-model-a.csv\"\n",
        ")\n",
        "df_pandas = data[[\"loan_amount\", \"interest_rate\", \"grade\", \"prediction\", \"score\"]]\n",
        "\n",
        "# create many rows with UUID\n",
        "df_pandas = pd.concat([df_pandas] * 5)\n",
        "df_pandas['prediction_id'] = [uuid.uuid4() for _ in range(len(df_pandas.index))]\n",
        "df_pandas = df_pandas.astype({'grade':'string', 'prediction':'string', 'prediction_id':'string'})\n",
        "\n",
        "print(\"This is a pandas DataFrame:\")\n",
        "display(df_pandas)\n",
        "\n",
        "# # Create PySpark dataframe unparallelized\n",
        "df_spark = spark.createDataFrame(df_pandas)\n",
        "\n",
        "\n",
        "# print(\"\\nThis is the corresponding spark DataFrame\")\n",
        "df_spark.printSchema()"
      ]
    },
    {
      "cell_type": "markdown",
      "metadata": {
        "id": "X7vQo-N3cggh"
      },
      "source": [
        "# Using `mapInPandas` to log each partition to Arize\n",
        "`mapInPandas`, maps an iterator of batches in the current DataFrame using a Python native function that takes and outputs a pandas DataFrame, and returns the result as a DataFrame.\n",
        "\n",
        "The function should take an iterator of pandas.DataFrames and return another iterator of pandas.DataFrames. All columns are passed together as an iterator of pandas.DataFrames to the function and the returned iterator of pandas.DataFrames are combined as a DataFrame. Each pandas.DataFrame size can be controlled by spark.sql.execution.arrow.maxRecordsPerBatch.\n",
        "\n",
        "We should send `spark_df` to Arize with at least one of: `shap, prediction_labels, actual_labels`\n",
        "\n",
        "## How To Log to Arize:\n",
        "\n",
        "You will need to update the `API_KEY` and `SPACE_KEY`\n",
        "### Setting up Arize Client:\n",
        "First, copy the Arize `API_KEY` and `SPACE_KEY` from your admin page linked below!\n",
        "\n",
        "\n",
        "\n",
        "\n",
        "<img src=\"https://storage.googleapis.com/arize-assets/fixtures/copy-keys.png\" width=\"700\">"
      ]
    },
    {
      "cell_type": "code",
      "execution_count": 15,
      "metadata": {
        "id": "fA9UAhVkAhO0"
      },
      "outputs": [],
      "source": [
        "from arize.pandas.logger import Client, Schema\n",
        "from arize.utils.types import ModelTypes, Environments\n",
        "\n",
        "SPACE_KEY = \"SPACE_KEY\"\n",
        "API_KEY = \"API_KEY\"\n",
        "SPACE_KEY = \"RRYuDqH3\"\n",
        "API_KEY = \"DW9Tzpz15ydGbpGeppmN\"\n",
        "arize_client = Client(space_key=SPACE_KEY, api_key=API_KEY)\n",
        "\n",
        "if SPACE_KEY == \"SPACE_KEY\" or API_KEY == \"API_KEY\":\n",
        "    raise ValueError(\"❌ NEED TO CHANGE SPACE AND/OR API_KEY\")"
      ]
    },
    {
      "cell_type": "markdown",
      "metadata": {
        "id": "iTVAA--tKdrL"
      },
      "source": [
        "# Define Logging Function"
      ]
    },
    {
      "cell_type": "code",
      "execution_count": 10,
      "metadata": {
        "id": "_xTlDkWMJ9wU"
      },
      "outputs": [],
      "source": [
        "import itertools\n",
        "import uuid\n",
        "\n",
        "\n",
        "# Pandas transformation function returning pandas dataframe\n",
        "def log_to_arize(dfs):\n",
        "  for df in dfs:\n",
        "    pandas_df_schema = Schema(\n",
        "    prediction_id_column_name=\"prediction_id\",  # REQUIRED\n",
        "    prediction_label_column_name=\"prediction\",\n",
        "    prediction_score_column_name=\"score\",\n",
        "    feature_column_names=[\"loan_amount\", \"interest_rate\", \"grade\"],\n",
        "    )\n",
        "\n",
        "    # Step 3: Log to arize\n",
        "    response = arize_client.log(\n",
        "        dataframe=df,\n",
        "        schema=pandas_df_schema,\n",
        "        model_id=\"pyspark-loan-model\",\n",
        "        model_version=\"1.0\",\n",
        "        model_type=ModelTypes.SCORE_CATEGORICAL,\n",
        "        environment=Environments.PRODUCTION,\n",
        "      )\n",
        "    \n",
        "    yield df"
      ]
    },
    {
      "cell_type": "markdown",
      "metadata": {
        "id": "x9LQq2PujitJ"
      },
      "source": [
        "# Logging Example\n",
        "Here we will take our spark dataframe and apply the `mapInPandas` method, with input args being our `log_to_arize` function, and specifying our spark shcema. We apply the `count` method to make enforce the entire spark dataframe is iterated over. \n",
        "\n",
        "You should see your inference count that was sent to the Arize Platform"
      ]
    },
    {
      "cell_type": "code",
      "execution_count": 12,
      "metadata": {
        "id": "R1M6GRzXS2zF",
        "colab": {
          "base_uri": "https://localhost:8080/"
        },
        "outputId": "c49fa7ef-5049-4840-e0b0-e50fa336f618"
      },
      "outputs": [
        {
          "output_type": "execute_result",
          "data": {
            "text/plain": [
              "5680"
            ]
          },
          "metadata": {},
          "execution_count": 12
        }
      ],
      "source": [
        "df_spark.mapInPandas(log_to_arize, df_spark.schema).count()"
      ]
    },
    {
      "cell_type": "markdown",
      "metadata": {
        "id": "TjezXxbOWcjY"
      },
      "source": [
        "# **Overview**\n",
        "\n",
        "\n",
        "Arize is an end-to-end ML observability and model monitoring platform. The platform is designed to help ML engineers and data science practitioners surface and fix issues with ML models in production faster with:\n",
        "- Automated ML monitoring and model monitoring\n",
        "- Workflows to troubleshoot model performance\n",
        "- Real-time visualizations for model performance monitoring, data quality monitoring, and drift monitoring\n",
        "- Model prediction cohort analysis\n",
        "- Pre-deployment model validation\n",
        "- Integrated model explainability\n",
        "\n",
        "### Website\n",
        "Visit Us At: https://arize.com/model-monitoring/\n",
        "\n",
        "### Additional Resources\n",
        "- [What is ML observability?](https://arize.com/what-is-ml-observability/)\n",
        "- [Playbook to model monitoring in production](https://arize.com/the-playbook-to-monitor-your-models-performance-in-production/)\n",
        "- [Using statistical distance metrics for ML monitoring and observability](https://arize.com/using-statistical-distance-metrics-for-machine-learning-observability/)\n",
        "- [ML infrastructure tools for data preparation](https://arize.com/ml-infrastructure-tools-for-data-preparation/)\n",
        "- [ML infrastructure tools for model building](https://arize.com/ml-infrastructure-tools-for-model-building/)\n",
        "- [ML infrastructure tools for production](https://arize.com/ml-infrastructure-tools-for-production-part-1/)\n",
        "- [ML infrastructure tools for model deployment and model serving](https://arize.com/ml-infrastructure-tools-for-production-part-2-model-deployment-and-serving/)\n",
        "- [ML infrastructure tools for ML monitoring and observability](https://arize.com/ml-infrastructure-tools-ml-observability/)\n",
        "\n",
        "Visit the [Arize Blog](https://arize.com/blog) and [Resource Center](https://arize.com/resource-hub/) for more resources on ML observability and model monitoring."
      ]
    }
  ],
  "metadata": {
    "colab": {
      "collapsed_sections": [],
      "name": "Arize_Tutorial_PySpark.ipynb",
      "provenance": []
    },
    "kernelspec": {
      "display_name": "Python 3",
      "name": "python3"
    },
    "language_info": {
      "name": "python"
    }
  },
  "nbformat": 4,
  "nbformat_minor": 0
}