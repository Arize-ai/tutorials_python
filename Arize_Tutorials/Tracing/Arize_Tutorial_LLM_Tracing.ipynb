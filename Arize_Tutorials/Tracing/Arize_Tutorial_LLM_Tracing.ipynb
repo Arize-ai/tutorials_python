{
 "cells": [
  {
   "cell_type": "markdown",
   "id": "337e1025",
   "metadata": {},
   "source": [
    "<center> <img src=\"https://storage.googleapis.com/arize-assets/arize-logo-white.jpg\" width=\"200\"/> </center>\n",
    "\n",
    "# <center>Getting Started with the Arize Platform</center>"
   ]
  },
  {
   "cell_type": "markdown",
   "id": "0ec36718",
   "metadata": {},
   "source": [
    "## <center>LLM Application Tracing Workflows </center>\n",
    "This guide demonstrates how to use Arize for monitoring and debugging your LLM using Traces and Spans. We're going to use data from a chatbot built on top of Arize docs (https://docs.arize.com/arize/), with example query and retrieved text. Let's figure out how to understand how well our RAG system is working.\n",
    "\n",
    "You can read more about LLM tracing here : https://docs.arize.com/arize/llm-large-language-models/llm-traces"
   ]
  },
  {
   "cell_type": "markdown",
   "id": "dcbaac9f",
   "metadata": {},
   "source": [
    "## Step 1: Install Dependencies, Import Libraries 📚\n",
    "Let's get the notebook setup with Arize dependencies."
   ]
  },
  {
   "cell_type": "code",
   "execution_count": null,
   "id": "7dfa5c18-0ccd-454c-8ec1-8e86c855c89e",
   "metadata": {},
   "outputs": [],
   "source": [
    "!pip install -q arize[Tracing]\n",
    "from arize.pandas.logger import Client\n",
    "import pandas as pd"
   ]
  },
  {
   "cell_type": "markdown",
   "id": "02663b40",
   "metadata": {},
   "source": [
    "## Step 2: Download Data 📁\n",
    "We built a chatbot at Arize that performs RAG on top of our technical documents. We collected traces from user queries and responses. Let's downloaded a file that contains traces of input queries, output LLM responses and metadata. We're going to inspect this data further in the Arize platform, to understand the relationship between various calls and overall system token + latency."
   ]
  },
  {
   "cell_type": "code",
   "execution_count": null,
   "id": "de439614-8f75-4ced-b607-1e7a4a7ecbf6",
   "metadata": {},
   "outputs": [],
   "source": [
    "spans_df = pd.read_parquet(\n",
    "    \"https://storage.googleapis.com/arize-assets/fixtures/Embeddings/arize-demo-models-data/TRACING/tracing_spans_from_phoenix_with_sessions.parquet\",\n",
    ")\n",
    "spans_df.head()  # print a sample of the file"
   ]
  },
  {
   "cell_type": "markdown",
   "id": "95f3d583-ca5f-4af5-8fb4-bff5a981b98c",
   "metadata": {},
   "source": [
    "## Step 3: Setup Arize Client 🧑‍💻\n",
    "\n",
    "Sign up/ log in to your Arize account [here](https://app.arize.com/auth/login). Find your [space ID and API key](https://docs.arize.com/arize/api-reference/arize.pandas/client). Copy/paste into the cell below."
   ]
  },
  {
   "cell_type": "code",
   "execution_count": null,
   "id": "49ca2a34-371d-4e4f-9b13-5008b0eea968",
   "metadata": {},
   "outputs": [],
   "source": [
    "SPACE_ID = \"SPACE_ID\"  # Change this line\n",
    "API_KEY = \"API_KEY\"  # Change this line\n",
    "\n",
    "if SPACE_ID == \"SPACE_ID\" or API_KEY == \"API_KEY\":\n",
    "    raise ValueError(\"❌ CHANGE SPACE_ID AND/OR API_KEY\")\n",
    "else:\n",
    "    print(\n",
    "        \"✅ Import and Setup Arize Client Done! Now we can start using Arize!\"\n",
    "    )\n",
    "\n",
    "arize_client = Client(space_id=SPACE_ID, api_key=API_KEY)\n",
    "model_id = \"generative-spans-tutorial-test\"\n",
    "model_version = \"1.0\""
   ]
  },
  {
   "cell_type": "markdown",
   "id": "ec550220",
   "metadata": {},
   "source": [
    "## Step 4: Log Data to Arize 🚀\n",
    "\n",
    "Log the DataFrame using the Arize Pandas API"
   ]
  },
  {
   "cell_type": "code",
   "execution_count": null,
   "id": "c62f9b21-c3f2-403c-8b0d-015fe7556d09",
   "metadata": {},
   "outputs": [],
   "source": [
    "response = arize_client.log_spans(\n",
    "    dataframe=spans_df,\n",
    "    model_id=model_id,\n",
    "    model_version=model_version,\n",
    ")\n",
    "\n",
    "# If successful, the server will return a status_code of 200\n",
    "if response.status_code != 200:\n",
    "    print(\n",
    "        f\"❌ logging failed with response code {response.status_code}, {response.text}\"\n",
    "    )\n",
    "else:\n",
    "    print(f\"✅ You have successfully logged traces set to Arize\")"
   ]
  }
 ],
 "metadata": {
  "language_info": {
   "name": "python"
  }
 },
 "nbformat": 4,
 "nbformat_minor": 5
}
