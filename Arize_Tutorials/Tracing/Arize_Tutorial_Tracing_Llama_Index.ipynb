{
 "cells": [
  {
   "cell_type": "code",
   "execution_count": null,
   "id": "7dfa5c18-0ccd-454c-8ec1-8e86c855c89e",
   "metadata": {},
   "outputs": [],
   "source": [
    "# !pip install -q 'arize=7.10.0a1'"
   ]
  },
  {
   "cell_type": "code",
   "execution_count": null,
   "id": "eb65a039-b6d1-4e6d-86a4-1f33b87222a8",
   "metadata": {},
   "outputs": [],
   "source": [
    "from arize.pandas.logger import Client\n",
    "import pandas as pd"
   ]
  },
  {
   "cell_type": "code",
   "execution_count": null,
   "id": "016109d8-f417-430b-8981-c7be0219ddcc",
   "metadata": {},
   "outputs": [],
   "source": [
    "from arize import __version__ as av\n",
    "print(av)"
   ]
  },
  {
   "cell_type": "code",
   "execution_count": null,
   "id": "fbd8b6c9-b77f-4647-80e2-ffb5537a01bd",
   "metadata": {},
   "outputs": [],
   "source": [
    "from arize.pandas.spans.utils import convert_timestamps"
   ]
  },
  {
   "cell_type": "code",
   "execution_count": null,
   "id": "de439614-8f75-4ced-b607-1e7a4a7ecbf6",
   "metadata": {},
   "outputs": [],
   "source": [
    "spans_df = pd.read_parquet(\n",
    "    \"https://storage.googleapis.com/arize-assets/fixtures/Embeddings/arize-demo-models-data/SPANS/spans_from_phoenix_tutorial.parquet\"\n",
    ")"
   ]
  },
  {
   "cell_type": "code",
   "execution_count": null,
   "id": "c1bf9a2a-02a3-45a1-a4d9-8a3ea7105e0f",
   "metadata": {},
   "outputs": [],
   "source": [
    "spans_df.head()"
   ]
  },
  {
   "cell_type": "markdown",
   "id": "bfe537db-ef32-4412-bb3a-34db7a47a864",
   "metadata": {},
   "source": [
    "Q: Should we accept JSON strings or dicts/list_of_dicts?\n",
    "\n",
    "Q: How should we deal with floats on token counts?"
   ]
  },
  {
   "cell_type": "markdown",
   "id": "1fe9cbdf-e8ad-4be5-bcd4-cbe4ab6d7525",
   "metadata": {},
   "source": [
    "# PLEASE IGNORE THIS SECTION. FOR KIKO TO CLEAN AND INCORPORATE INTO SDK"
   ]
  },
  {
   "cell_type": "markdown",
   "id": "21b57261-ccec-4cfd-b153-2f7e2023abcd",
   "metadata": {},
   "source": [
    "## QUESTIONS\n",
    "### Should we accept JSON strings or dicts/list_of_dicts?\n",
    "\n",
    "### How should we deal with floats on token counts?\n",
    "\n",
    "### Events are handled as list of objects(dictionaries) correct? Alternative is list of JSON strings"
   ]
  },
  {
   "cell_type": "markdown",
   "id": "2036c326-9bbb-4926-952a-021f5d969c40",
   "metadata": {},
   "source": [
    "## NOTES\n",
    "### Timestamps\n",
    "You can send start/end times timestamps as integers, floats, or strings. If you pass them as strings, you may have to pass the string datetime format `datetime_format` to the `log_spans` call. Default value is: `%Y-%m-%dT%H:%M:%S.%f+00:00`, as returned from Phoenix. We expect timestamps in Zulu time, please do the conversion yourself"
   ]
  },
  {
   "cell_type": "markdown",
   "id": "a9f9a240-eeb0-4ffe-965a-b347954476e8",
   "metadata": {},
   "source": [
    "## TODOS\n",
    "The following must be done before release:\n",
    "* Check event handling\n",
    "* Handling of NaN values, not just None. Probably worth looking into +Inf/-Inf as well."
   ]
  },
  {
   "cell_type": "markdown",
   "id": "95f3d583-ca5f-4af5-8fb4-bff5a981b98c",
   "metadata": {},
   "source": [
    "# CONTINUE HERE"
   ]
  },
  {
   "cell_type": "code",
   "execution_count": null,
   "id": "49ca2a34-371d-4e4f-9b13-5008b0eea968",
   "metadata": {},
   "outputs": [],
   "source": [
    "SPACE_KEY = \"SPACE_KEY\"\n",
    "API_KEY = \"API_KEY\"\n",
    "\n",
    "if SPACE_KEY == \"SPACE_KEY\" or API_KEY == \"API_KEY\":\n",
    "    raise ValueError(\"❌ NEED TO CHANGE SPACE AND/OR API_KEY\")\n",
    "else:\n",
    "    print(\"✅ Import and Setup Arize Client Done! Now we can start using Arize!\")\n",
    "    \n",
    "arize_client = Client(space_key=SPACE_KEY, api_key=API_KEY)\n",
    "model_id = \"generative-spans-tutorial-test\"\n",
    "model_version = \"1.0\""
   ]
  },
  {
   "cell_type": "code",
   "execution_count": null,
   "id": "c62f9b21-c3f2-403c-8b0d-015fe7556d09",
   "metadata": {},
   "outputs": [],
   "source": [
    "response = arize_client.log_spans(\n",
    "    dataframe=spans_df,\n",
    "    model_id=model_id,\n",
    "    model_version=model_version,\n",
    "    verbose=True,   # REMOVE THIS, ONLY FOR TESTING\n",
    ")\n",
    "\n",
    "\n",
    "# If successful, the server will return a status_code of 200\n",
    "if response.status_code != 200:\n",
    "    print(f\"❌ logging failed with response code {response.status_code}, {response.text}\")\n",
    "else:\n",
    "    print(f\"✅ You have successfully logged training set to Arize\")\n"
   ]
  },
  {
   "cell_type": "code",
   "execution_count": null,
   "id": "40de5480-507d-4a08-aa34-b0f7500cc828",
   "metadata": {},
   "outputs": [],
   "source": []
  }
 ],
 "metadata": {
  "language_info": {
   "name": "python"
  }
 },
 "nbformat": 4,
 "nbformat_minor": 5
}
