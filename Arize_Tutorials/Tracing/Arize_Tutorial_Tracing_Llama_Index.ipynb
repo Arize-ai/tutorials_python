{
 "cells": [
  {
   "cell_type": "code",
   "execution_count": null,
   "id": "7dfa5c18-0ccd-454c-8ec1-8e86c855c89e",
   "metadata": {},
   "outputs": [],
   "source": [
    "!pip install -q 'arize=7.10.0a0'"
   ]
  },
  {
   "cell_type": "code",
   "execution_count": null,
   "id": "eb65a039-b6d1-4e6d-86a4-1f33b87222a8",
   "metadata": {},
   "outputs": [],
   "source": [
    "from arize.pandas.logger import Client\n",
    "import pandas as pd"
   ]
  },
  {
   "cell_type": "code",
   "execution_count": null,
   "id": "016109d8-f417-430b-8981-c7be0219ddcc",
   "metadata": {},
   "outputs": [],
   "source": [
    "from arize import __version__ as av\n",
    "print(av)"
   ]
  },
  {
   "cell_type": "code",
   "execution_count": null,
   "id": "de439614-8f75-4ced-b607-1e7a4a7ecbf6",
   "metadata": {},
   "outputs": [],
   "source": [
    "spans_df = pd.read_parquet(\n",
    "    \"https://storage.googleapis.com/arize-assets/fixtures/Embeddings/arize-demo-models-data/SPANS/spans_from_phoenix_tutorial_01_19.parquet\"\n",
    ")"
   ]
  },
  {
   "cell_type": "code",
   "execution_count": null,
   "id": "9e60ff16-00d8-46c5-b073-413215b9227f",
   "metadata": {},
   "outputs": [],
   "source": [
    "len(spans_df)"
   ]
  },
  {
   "cell_type": "code",
   "execution_count": null,
   "id": "c1bf9a2a-02a3-45a1-a4d9-8a3ea7105e0f",
   "metadata": {},
   "outputs": [],
   "source": [
    "spans_df.head()"
   ]
  },
  {
   "cell_type": "markdown",
   "id": "bfe537db-ef32-4412-bb3a-34db7a47a864",
   "metadata": {},
   "source": [
    "MASSAGING:\n",
    "* timestamps to ns\n",
    "* numpy arrays not serializable, forces checking every piece of data\n",
    "* token counts to int\n",
    "\n",
    "Q: Should we accept JSON strings or dicts/list_of_dicts?\n",
    "\n",
    "Q: How should we deal with floats on token counts?"
   ]
  },
  {
   "cell_type": "markdown",
   "id": "1fe9cbdf-e8ad-4be5-bcd4-cbe4ab6d7525",
   "metadata": {},
   "source": [
    "# PLEASE IGNORE THIS SECTION. FOR KIKO TO CLEAN AND INCORPORATE INTO SDK"
   ]
  },
  {
   "cell_type": "code",
   "execution_count": null,
   "id": "837d4ff8-be40-486b-885e-00350a29b321",
   "metadata": {},
   "outputs": [],
   "source": [
    "# def from_str_to_ns(datetime_str:str,fmt:str =\"%Y-%m-%dT%H:%M:%S.%f\")->int:\n",
    "#     return int(datetime.timestamp(datetime.strptime(datetime_str,fmt))*1e9)\n",
    "# spans_df[\"start_time\"]=spans_df[\"start_time\"].apply(lambda dt_str: from_str_to_ns(dt_str.split(\"+\")[0]))\n",
    "# spans_df[\"end_time\"]=spans_df[\"end_time\"].apply(lambda dt_str: from_str_to_ns(dt_str.split(\"+\")[0]))"
   ]
  },
  {
   "cell_type": "code",
   "execution_count": null,
   "id": "c28543d4-3de3-482a-b85f-619117320ccc",
   "metadata": {},
   "outputs": [],
   "source": [
    "# import numpy as np\n",
    "# def from_array_to_list(list_of_embeddings):\n",
    "#     if list_of_embeddings is None:\n",
    "#         return None\n",
    "#     mod_list = []\n",
    "#     for embedding_dict in list_of_embeddings:\n",
    "#         if isinstance(embedding_dict[\"embedding.vector\"], np.ndarray):\n",
    "#             embedding_dict[\"embedding.vector\"] = embedding_dict[\"embedding.vector\"].tolist()\n",
    "#         mod_list.append(embedding_dict)\n",
    "#     return mod_list\n",
    "\n",
    "# spans_df[\"attributes.embedding.embeddings\"] = spans_df[\"attributes.embedding.embeddings\"].apply(\n",
    "#     lambda emb_list: from_array_to_list(emb_list)\n",
    "# )"
   ]
  },
  {
   "cell_type": "code",
   "execution_count": null,
   "id": "10b87a59-5f6d-44c2-ade5-f34c4c5f4cf7",
   "metadata": {},
   "outputs": [],
   "source": [
    "# token_count_cols = [\n",
    "#     \"attributes.llm.token_count.prompt\",\n",
    "#     \"attributes.llm.token_count.completion\",\n",
    "#     \"attributes.llm.token_count.total\",\n",
    "# ]\n",
    "# for col in token_count_cols:\n",
    "#     spans_df[col] = spans_df[col].astype('Int64')\n",
    "\n",
    "# spans_df = spans_df.to_parquet(\"spans_data_revised_4.parquet\",index=False)"
   ]
  },
  {
   "cell_type": "code",
   "execution_count": null,
   "id": "0e84c217-aeed-420d-acc5-1bfd1e62e93f",
   "metadata": {},
   "outputs": [],
   "source": [
    "# kw = \"\"\n",
    "# for col in spans_df.columns:\n",
    "#     if kw in col:\n",
    "#         print(col)"
   ]
  },
  {
   "cell_type": "markdown",
   "id": "95f3d583-ca5f-4af5-8fb4-bff5a981b98c",
   "metadata": {},
   "source": [
    "# CONTINUE HERE"
   ]
  },
  {
   "cell_type": "code",
   "execution_count": null,
   "id": "49ca2a34-371d-4e4f-9b13-5008b0eea968",
   "metadata": {},
   "outputs": [],
   "source": [
    "SPACE_KEY = \"SPACE_KEY\"\n",
    "API_KEY = \"API_KEY\"\n",
    "\n",
    "if SPACE_KEY == \"SPACE_KEY\" or API_KEY == \"API_KEY\":\n",
    "    raise ValueError(\"❌ NEED TO CHANGE SPACE AND/OR API_KEY\")\n",
    "else:\n",
    "    print(\"✅ Import and Setup Arize Client Done! Now we can start using Arize!\")\n",
    "    \n",
    "arize_client = Client(space_key=SPACE_KEY, api_key=API_KEY)\n",
    "model_id = \"generative-spans-tutorial-test\"\n",
    "model_version = \"1.0\""
   ]
  },
  {
   "cell_type": "code",
   "execution_count": null,
   "id": "c62f9b21-c3f2-403c-8b0d-015fe7556d09",
   "metadata": {},
   "outputs": [],
   "source": [
    "response = arize_client.log_spans(\n",
    "    dataframe=spans_df,\n",
    "    model_id=model_id,\n",
    "    model_version=model_version,\n",
    "    verbose=True,   # REMOVE THIS, ONLY FOR TESTING\n",
    ")\n",
    "\n",
    "\n",
    "# If successful, the server will return a status_code of 200\n",
    "if response.status_code != 200:\n",
    "    print(f\"❌ logging failed with response code {response.status_code}, {response.text}\")\n",
    "else:\n",
    "    print(f\"✅ You have successfully logged training set to Arize\")\n"
   ]
  },
  {
   "cell_type": "code",
   "execution_count": null,
   "id": "e0a4ff37-5b76-421c-80dc-2857ed756757",
   "metadata": {},
   "outputs": [],
   "source": []
  }
 ],
 "metadata": {
  "language_info": {
   "name": "python"
  }
 },
 "nbformat": 4,
 "nbformat_minor": 5
}
