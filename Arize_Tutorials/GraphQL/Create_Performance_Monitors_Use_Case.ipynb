{
 "cells": [
  {
   "cell_type": "markdown",
   "metadata": {},
   "source": [
    "# Create Performance Monitors Using the Arize GraphQL API"
   ]
  },
  {
   "cell_type": "markdown",
   "metadata": {},
   "source": [
    "### Step 1: Initialize the GraphQL Client using your developer API Key"
   ]
  },
  {
   "cell_type": "code",
   "execution_count": null,
   "metadata": {},
   "outputs": [],
   "source": [
    "!pip install gql[all]\n",
    "from gql import Client, gql\n",
    "from gql.transport.requests import RequestsHTTPTransport"
   ]
  },
  {
   "cell_type": "markdown",
   "metadata": {},
   "source": [
    "### Get your API key\n",
    "First - make sure you have developer permissions. If you are able to visit the [API explorer](https://app.arize.com/graphql), you have developer permissions, if not, please ask your Account Admin to provide you with access. \n",
    "\n",
    "The API key can be retrieved from the [API explorer](https://app.arize.com/graphql) page. Click the button on the top right called \"Get Your API Key.\" A modal will pop up with your key, copy that into the `API_KEY` constant below. \n",
    "\n",
    "NOTE: this key is different than the SDK key used to send data to Arize. "
   ]
  },
  {
   "cell_type": "code",
   "execution_count": null,
   "metadata": {},
   "outputs": [],
   "source": [
    "API_KEY = \"YOUR_API_KEY\"\n",
    "\n",
    "# Select your transport with a defined url endpoint\n",
    "transport = RequestsHTTPTransport(\n",
    "    url=\"https://app.arize.com/graphql/\", headers={\"x-api-key\": API_KEY}\n",
    ")\n",
    "\n",
    "# Create a GraphQL client using the defined transport\n",
    "client = Client(transport=transport, fetch_schema_from_transport=True)"
   ]
  },
  {
   "cell_type": "markdown",
   "metadata": {},
   "source": [
    "### Step 2: Execute a GraphQL query to get all your models and monitors"
   ]
  },
  {
   "cell_type": "code",
   "execution_count": null,
   "metadata": {},
   "outputs": [],
   "source": [
    "# We start this query from your space. Spaces have globally unique IDs. You can get your spaceId by visiting app.arize.com.\n",
    "# The url will be in this format: https://app.arize.com/organizations/:orgId/spaces/:spaceId\n",
    "# NOTE: this is not the same as the space key used to send data using the SDK\n",
    "SPACE_ID = \"YOUR_SPACE_ID\"\n",
    "\n",
    "# A re-usable query for fetching your models, a page at a time\n",
    "models_query = gql(\n",
    "    \"\"\"\n",
    "    query getModels($spaceId: ID!, $cursor: String) {\n",
    "        space: node(id: $spaceId) {\n",
    "            ... on Space {\n",
    "                name\n",
    "                models (first: 50, after: $cursor) {\n",
    "                    pageInfo {\n",
    "                        endCursor\n",
    "                    }\n",
    "                    edges {\n",
    "                        model: node {\n",
    "                            id\n",
    "                            name\n",
    "                        }\n",
    "                    }\n",
    "                }\n",
    "            }\n",
    "        }\n",
    "    }\n",
    "\"\"\"\n",
    ")\n",
    "\n",
    "# Base query parameters for fetching models\n",
    "params = {\"spaceId\": SPACE_ID}\n",
    "# An array of models that we will append to\n",
    "models = []\n",
    "space_name = \"\"\n",
    "\n",
    "\n",
    "# Execute the query on the transport. Continue to pull data until there is no more monitors\n",
    "while True:\n",
    "    paged_response = client.execute(models_query, params)\n",
    "    space_name = paged_response[\"space\"][\"name\"]\n",
    "    # Append the monitors to your list\n",
    "    models.extend(paged_response[\"space\"][\"models\"][\"edges\"])\n",
    "    # If there is another page of information, point the cursor to the next page and fetch more\n",
    "    end_cursor = paged_response[\"space\"][\"models\"][\"pageInfo\"][\"endCursor\"]\n",
    "    print(\"pageInfo end_cursor %s\" % (end_cursor))\n",
    "    if end_cursor:\n",
    "        print(\"There is another page of models. Loading more.\")\n",
    "        params[\"cursor\"] = end_cursor\n",
    "    else:\n",
    "        # No more models to pull. The list is complete!\n",
    "        break\n",
    "\n",
    "print(\"Retrieved {} models\".format(len(models)))"
   ]
  },
  {
   "cell_type": "markdown",
   "metadata": {},
   "source": [
    "#### Step 2a: Print our some of the models to check that exports are expected"
   ]
  },
  {
   "cell_type": "code",
   "execution_count": null,
   "metadata": {},
   "outputs": [],
   "source": [
    "import pandas as pd\n",
    "\n",
    "# The models have a nested JSON structure, let's flatten it into a data frame\n",
    "models_df = pd.json_normalize(models, sep=\".\")\n",
    "models_df.head()"
   ]
  },
  {
   "cell_type": "markdown",
   "metadata": {},
   "source": [
    "### Important: Step 3 involves exporting, manipulating, and importing modified data leveraging google sheets (recommended). If you prefer to use a standard .csv instead, consult the following cell. Otherwise, ignore and proceed to step 3."
   ]
  },
  {
   "cell_type": "code",
   "execution_count": null,
   "metadata": {},
   "outputs": [],
   "source": [
    "# only consult this section if using csv, then skip ahead to step 4.\n",
    "# uncomment the following code to create a monitors.csv file in your current directory,\n",
    "# modify the csv by adding column headers and rows (consult monitor_columns in step 3a.),\n",
    "# and convert back to a pandas dataframe\n",
    "\n",
    "# monitors_csv = monitors_df.to_csv('monitors.csv')\n",
    "# perf_monitors_df = pd.read_csv('monitors.csv')\n",
    "# perf_monitors_df.head()"
   ]
  },
  {
   "cell_type": "markdown",
   "metadata": {},
   "source": [
    "### Step 3: Save models in a spreadsheet to reference for modelId"
   ]
  },
  {
   "cell_type": "code",
   "execution_count": null,
   "metadata": {},
   "outputs": [],
   "source": [
    "!pip install gspread\n",
    "# src: https://colab.research.google.com/notebooks/snippets/sheets.ipynb\n",
    "from google.colab import auth\n",
    "\n",
    "auth.authenticate_user()\n",
    "\n",
    "import gspread\n",
    "from google.auth import default\n",
    "\n",
    "creds, _ = default()\n",
    "\n",
    "gc = gspread.authorize(creds)\n",
    "\n",
    "sheet_name = f\"{space_name} models\"\n",
    "sh = gc.create(sheet_name)\n",
    "\n",
    "# Open our new sheet and add some data.\n",
    "worksheet = gc.open(sheet_name).sheet1\n",
    "\n",
    "# Let's now write the dataframe to google sheets\n",
    "worksheet.update([models_df.columns.values.tolist()] + models_df.values.tolist())\n",
    "\n",
    "# print the URL\n",
    "print(sh.url)"
   ]
  },
  {
   "cell_type": "markdown",
   "metadata": {},
   "source": [
    "#### 3a. Create a second sheet within the spreadsheet to populate with monitor inputs"
   ]
  },
  {
   "cell_type": "markdown",
   "metadata": {},
   "source": [
    "We want to create a second sheet for creating performance monitors. Reference the first sheet to populate the modelId column for the creation of performance monitors"
   ]
  },
  {
   "cell_type": "code",
   "execution_count": null,
   "metadata": {},
   "outputs": [],
   "source": [
    "# consult the documentation for examples about these fields and their optionality\n",
    "# optional fields may be left blank in the sheet\n",
    "monitor_columns = [\n",
    "    \"modelId\",\n",
    "    \"name\",\n",
    "    \"performanceMetric\",\n",
    "    \"operator\",\n",
    "    \"threshold\",\n",
    "    \"filters\",  # set to 1 in cell if there is a filter\n",
    "    \"filters.dimensionType\",\n",
    "    \"filters.operator\",\n",
    "    \"filters.name\",\n",
    "    \"filters.values\",\n",
    "    \"evaluationWindowLengthSeconds\",\n",
    "    \"contacts\",\n",
    "]"
   ]
  },
  {
   "cell_type": "code",
   "execution_count": null,
   "metadata": {},
   "outputs": [],
   "source": [
    "# run this cell only once to create a new worksheet and populate it with column headers\n",
    "create_worksheet_name = \"example_inputs\"\n",
    "sh.add_worksheet(title=create_worksheet_name, rows=\"100\", cols=\"20\")\n",
    "worksheet = sh.worksheet(create_worksheet_name)\n",
    "worksheet.update([monitor_columns])"
   ]
  },
  {
   "cell_type": "markdown",
   "metadata": {},
   "source": [
    "#### Step 3b. Import the data back into a dataframe"
   ]
  },
  {
   "cell_type": "code",
   "execution_count": null,
   "metadata": {},
   "outputs": [],
   "source": [
    "worksheet = sh.worksheet(create_worksheet_name)\n",
    "\n",
    "# convert the spreadsheet rows back into a pandas dataframe\n",
    "perf_monitors_df = pd.DataFrame(worksheet.get_all_records())\n",
    "perf_monitors_df.head()"
   ]
  },
  {
   "attachments": {},
   "cell_type": "markdown",
   "metadata": {},
   "source": [
    "### Step 4: Create performance monitors\n",
    "\n",
    "Create a performance monitor for each row in the sheet with explicit thresholds. The below example is specifically for creating monitors with one filtered dimension with either an explicit threshold or dynamicAutoThreshold."
   ]
  },
  {
   "attachments": {},
   "cell_type": "markdown",
   "metadata": {},
   "source": [
    "Tip: Exclude threshold from the mutation to enable the dynamicAutoThreshold (set above/below 2\n",
    "standard deviations of the 14-day average of each datapoint). \n",
    "\n",
    "Include dynamicAutoThreshold in the mutation input INSTEAD of threshold AND in the worksheet as a column to specify a multiple of the standard deviation to set the threshold."
   ]
  },
  {
   "cell_type": "code",
   "execution_count": null,
   "metadata": {},
   "outputs": [],
   "source": [
    "create_performance_monitor_mutation = gql(\n",
    "    \"\"\"\n",
    "    mutation createPerformanceMonitorMutation(\n",
    "      $modelId: ID!, \n",
    "      $name: String!, \n",
    "      $performanceMetric: PerformanceMetric!, \n",
    "      $operator: ComparisonOperator!, \n",
    "      $threshold: Float, \n",
    "      $filters: [DimensionFilterInput!], \n",
    "      $evaluationWindowLengthSeconds: Float, \n",
    "      $contacts: [MonitorContactInput!]\n",
    "    ) {\n",
    "      createPerformanceMonitor(\n",
    "        input: { \n",
    "          modelId: $modelId, \n",
    "          name: $name, \n",
    "          performanceMetric: $performanceMetric, \n",
    "          operator: $operator, \n",
    "          threshold: $threshold, \n",
    "          filters: $filters, \n",
    "          evaluationWindowLengthSeconds: $evaluationWindowLengthSeconds, \n",
    "          contacts: $contacts\n",
    "        }\n",
    "      ) {\n",
    "        monitor { id, name, threshold }\n",
    "      }\n",
    "    }\n",
    "\"\"\"\n",
    ")\n",
    "\n",
    "n = 0\n",
    "\n",
    "for _, row in perf_monitors_df.iterrows():\n",
    "\n",
    "    seven_days = 259200  # seconds\n",
    "\n",
    "    param_keys = [\n",
    "        \"modelId\",\n",
    "        \"name\",\n",
    "        \"performanceMetric\",\n",
    "        \"operator\",\n",
    "        \"threshold\",\n",
    "        \"evaluationWindowLengthSeconds\",\n",
    "    ]\n",
    "\n",
    "    params = {key: row[key] for key in param_keys if key in row}\n",
    "\n",
    "    filter_params = {}\n",
    "    contact_params = {}\n",
    "\n",
    "    if row[\"filters\"]:\n",
    "        filter_params[\"dimensionType\"] = row[\"filters.dimensionType\"]\n",
    "        filter_params[\"operator\"] = row[\"filters.operator\"]\n",
    "        if row[\"filters.name\"]:\n",
    "            filter_params[\"name\"] = row[\"filters.name\"]\n",
    "        filter_params[\"values\"] = [str(row[\"filters.values\"])]\n",
    "        params[\"filters\"] = filter_params\n",
    "    if row[\"evaluationWindowLengthSeconds\"]:\n",
    "        params[\"evaluationWindowLengthSeconds\"] = row[\"evaluationWindowLengthSeconds\"]\n",
    "    else:\n",
    "        params[\"evaluationWindowLengthSeconds\"] = seven_days\n",
    "    if row[\"contacts\"]:\n",
    "        contact_params[\"notificationChannelType\"] = \"email\"\n",
    "        contact_params[\"emailAddress\"] = row[\"contacts\"]\n",
    "        params[\"contacts\"] = contact_params\n",
    "\n",
    "    result = client.execute(create_performance_monitor_mutation, params)\n",
    "    n += 1\n",
    "    print(f\"{n} created performance monitor with {params}\")"
   ]
  }
 ],
 "metadata": {
  "language_info": {
   "name": "python"
  }
 },
 "nbformat": 4,
 "nbformat_minor": 2
}
