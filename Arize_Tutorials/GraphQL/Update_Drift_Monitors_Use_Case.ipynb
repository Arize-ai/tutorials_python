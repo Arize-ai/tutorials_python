{
 "cells": [
  {
   "cell_type": "markdown",
   "metadata": {},
   "source": [
    "# Update Drift Monitors Using the Arize GraphQL API"
   ]
  },
  {
   "cell_type": "markdown",
   "metadata": {},
   "source": [
    "### Step 1: Initialize the GraphQL Client using your developer API Key"
   ]
  },
  {
   "cell_type": "code",
   "execution_count": null,
   "metadata": {},
   "outputs": [],
   "source": [
    "!pip install gql[all]\n",
    "from gql import Client, gql\n",
    "from gql.transport.requests import RequestsHTTPTransport"
   ]
  },
  {
   "cell_type": "markdown",
   "metadata": {},
   "source": [
    "### Get your API key\n",
    "First - make sure you have developer permissions. If you are able to visit the [API explorer](https://app.arize.com/graphql), you have developer permissions, if not, please ask your Account Admin to provide you with access. \n",
    "\n",
    "The API key can be retrieved from the [API explorer](https://app.arize.com/graphql) page. Click the button on the top right called \"Get Your API Key.\" A modal will pop up with your key, copy that into the `API_KEY` constant below. \n",
    "\n",
    "NOTE: this key is different than the SDK key used to send data to Arize. "
   ]
  },
  {
   "cell_type": "code",
   "execution_count": null,
   "metadata": {},
   "outputs": [],
   "source": [
    "API_KEY = \"YOUR_API_KEY\"  # Make sure this is the API key from the GraphQL explorer!\n",
    "\n",
    "# Select your transport with a defined URL endpoint\n",
    "transport = RequestsHTTPTransport(\n",
    "    url=\"https://app.arize.com/graphql/\", headers={\"x-api-key\": API_KEY}\n",
    ")\n",
    "\n",
    "# Create a GraphQL client using the defined transport\n",
    "client = Client(transport=transport, fetch_schema_from_transport=True)"
   ]
  },
  {
   "cell_type": "markdown",
   "metadata": {},
   "source": [
    "### Step 2: Execute a GraphQL query to get all your models and monitors"
   ]
  },
  {
   "cell_type": "code",
   "execution_count": null,
   "metadata": {},
   "outputs": [],
   "source": [
    "# We start this query from your space. Spaces have globally unique IDs. You can get your spaceId by visiting app.arize.com.\n",
    "# The url will be in this format: https://app.arize.com/organizations/:orgId/spaces/:spaceId\n",
    "# NOTE: this is not the same as the space key used to send data using the SDK\n",
    "SPACE_ID = \"YOUR_SPACE_ID\"\n",
    "\n",
    "# A re-usable query for fetching your monitors, a page at a time\n",
    "# Tip: `isManaged` may be set as a boolean parameter on monitors- true for showing only managed monitors\n",
    "# or false for showing only custom monitors\n",
    "drift_monitors_query = gql(\n",
    "    \"\"\"\n",
    "  query getDriftMonitors($spaceId: ID!, $cursor: String) {\n",
    "    space: node(id: $spaceId) {\n",
    "      ... on Space {\n",
    "        name\n",
    "        monitors(\n",
    "          first: 50, \n",
    "          after: $cursor, \n",
    "          monitorCategory: drift\n",
    "        ) {\n",
    "          pageInfo {\n",
    "            endCursor\n",
    "          }\n",
    "          edges {\n",
    "            monitor: node {\n",
    "              id\n",
    "              name\n",
    "              threshold\n",
    "              operator\n",
    "              currentMetricValue\n",
    "              status\n",
    "              isManaged\n",
    "              primaryMetricWindow {\n",
    "                dimension {\n",
    "                  name\n",
    "                  category\n",
    "                }\n",
    "                model {\n",
    "                  id\n",
    "                  name\n",
    "                }\n",
    "              }\n",
    "            }\n",
    "          }\n",
    "        }\n",
    "      }\n",
    "    }\n",
    "  }\n",
    "  \"\"\"\n",
    ")\n",
    "\n",
    "# Base query parameters for fetching monitors\n",
    "params = {\"spaceId\": SPACE_ID}\n",
    "# An array of monitors that we will append to\n",
    "drift_monitors = []\n",
    "space_name = \"\"\n",
    "\n",
    "# Execute the query on the transport. Continue to pull data until there are no more monitors\n",
    "while True:\n",
    "    paged_response = client.execute(drift_monitors_query, params)\n",
    "    space_name = paged_response[\"space\"][\"name\"]\n",
    "    # Append the monitors to your list\n",
    "    drift_monitors.extend(paged_response[\"space\"][\"monitors\"][\"edges\"])\n",
    "    # If there is another page of information, point the cursor to the next page and fetch more\n",
    "    end_cursor = paged_response[\"space\"][\"monitors\"][\"pageInfo\"][\"endCursor\"]\n",
    "    print(\"pageInfo end_cursor %s\" % (end_cursor))\n",
    "    if end_cursor:\n",
    "        print(\"There is another page of monitors. Loading more.\")\n",
    "        params[\"cursor\"] = end_cursor\n",
    "    else:\n",
    "        # No more monitors to pull. The list is complete!\n",
    "        break\n",
    "\n",
    "print(\"Retrieved {} drift monitors\".format(len(drift_monitors)))"
   ]
  },
  {
   "cell_type": "markdown",
   "metadata": {},
   "source": [
    "#### Step 2a: Print our some of the monitors to check that exports are expected"
   ]
  },
  {
   "cell_type": "code",
   "execution_count": null,
   "metadata": {},
   "outputs": [],
   "source": [
    "import pandas as pd\n",
    "\n",
    "# The monitors have a nested JSON structure, let's flatten it into a data frame\n",
    "monitors_df = pd.json_normalize(drift_monitors, sep=\".\")\n",
    "monitors_df.head()"
   ]
  },
  {
   "cell_type": "markdown",
   "metadata": {},
   "source": [
    "### Important: Steps 3-4 involve exporting, manipulating, and importing modified data leveraging google sheets (recommended). If you prefer to use a standard .csv instead, consult the following cell. Otherwise, ignore and proceed to step 3."
   ]
  },
  {
   "cell_type": "code",
   "execution_count": null,
   "metadata": {},
   "outputs": [],
   "source": [
    "# only consult this section if using csv, then skip ahead to step 5.\n",
    "# uncomment the following code to create a monitors.csv file in your current directory, modify the csv,\n",
    "# and convert back to a pandas dataframe\n",
    "\n",
    "# monitors_csv = monitors_df.to_csv('monitors.csv')\n",
    "# monitor_updates_df = pd.read_csv('monitors.csv')\n",
    "# monitor_updates_df.head()"
   ]
  },
  {
   "cell_type": "markdown",
   "metadata": {},
   "source": [
    "### Step 3: Save monitors in a spreadsheet for editing"
   ]
  },
  {
   "cell_type": "code",
   "execution_count": null,
   "metadata": {},
   "outputs": [],
   "source": [
    "!pip install gspread\n",
    "# documentation: https://colab.research.google.com/notebooks/snippets/sheets.ipynb\n",
    "from google.colab import auth\n",
    "\n",
    "auth.authenticate_user()\n",
    "\n",
    "import gspread\n",
    "from google.auth import default\n",
    "\n",
    "creds, _ = default()\n",
    "\n",
    "gc = gspread.authorize(creds)\n",
    "\n",
    "sheet_name = \"{} drift monitors\".format(space_name)\n",
    "sh = gc.create(sheet_name)\n",
    "\n",
    "# Open our new sheet and add some data\n",
    "worksheet = gc.open(sheet_name).sheet1\n",
    "\n",
    "# Write the dataframe to google sheets\n",
    "worksheet.update([monitors_df.columns.values.tolist()] + monitors_df.values.tolist())\n",
    "\n",
    "# print the URL\n",
    "print(sh.url)"
   ]
  },
  {
   "cell_type": "markdown",
   "metadata": {},
   "source": [
    "### Step 4: Make changes to the spreadsheet and save. Import data from updated spreadsheet\n",
    "IMPORTANT: Do not add or remove monitors from the spreadsheet - only edit the desired thresholds. If you need to create or delete monitors, consult the documentation for monitor creation and deletion."
   ]
  },
  {
   "cell_type": "code",
   "execution_count": null,
   "metadata": {},
   "outputs": [],
   "source": [
    "worksheet = gc.open(sheet_name).sheet1\n",
    "\n",
    "monitor_updates_df = pd.DataFrame(worksheet.get_all_records())\n",
    "monitor_updates_df.head()"
   ]
  },
  {
   "cell_type": "markdown",
   "metadata": {},
   "source": [
    "### Step 5: Configure the dataframes"
   ]
  },
  {
   "cell_type": "code",
   "execution_count": null,
   "metadata": {},
   "outputs": [],
   "source": [
    "# set the index of the dataframes to be the ids of the monitors\n",
    "monitor_updates_df = monitor_updates_df.set_index(\"monitor.id\")\n",
    "monitors_df = monitors_df.set_index(\"monitor.id\")"
   ]
  },
  {
   "cell_type": "markdown",
   "metadata": {},
   "source": [
    "### Step 6: Update your monitors the reflect changes by executing the mutation"
   ]
  },
  {
   "cell_type": "code",
   "execution_count": null,
   "metadata": {},
   "outputs": [],
   "source": [
    "import time\n",
    "\n",
    "update_monitor_mutation = gql(\n",
    "    \"\"\"\n",
    "     mutation updateMonitorThreshold($monitorId: ID!, $threshold: Float!) {\n",
    "      patchDriftMonitor(input: { monitorId: $monitorId, set: { threshold: $threshold, dynamicAutoThresholdEnabled: false }}) {\n",
    "        monitor { id, name, threshold }\n",
    "      }\n",
    "    }\n",
    "\"\"\"\n",
    ")\n",
    "\n",
    "for monitor_id, existing_row in monitor_updates_df.iterrows():\n",
    "    params = {}\n",
    "    updated_row = monitor_updates_df.loc[monitor_id].to_dict()\n",
    "    try:\n",
    "        original_row = monitors_df.loc[monitor_id].to_dict()\n",
    "    except:\n",
    "        print(\n",
    "            f\"❌ Please do not add or remove rows from the spreadsheet, remove monitor {monitor_id}\"\n",
    "        )\n",
    "        break\n",
    "    if updated_row[\"monitor.threshold\"] != original_row[\"monitor.threshold\"]:\n",
    "        params = {\n",
    "            \"monitorId\": monitor_id,\n",
    "            \"threshold\": updated_row[\"monitor.threshold\"],\n",
    "        }\n",
    "        print(f\"Update params: {params}\")\n",
    "        result = client.execute(update_monitor_mutation, params)\n",
    "        print(f\"Monitor updated: {result}\")\n",
    "        \"\"\"\n",
    "      give a bit of breathing room between updates\n",
    "    \"\"\"\n",
    "        time.sleep(0.1)\n",
    "\n",
    "print(\"✅ You have successfully updated your drift monitor(s)\")"
   ]
  }
 ],
 "metadata": {
  "language_info": {
   "name": "python"
  }
 },
 "nbformat": 4,
 "nbformat_minor": 2
}
