{
 "cells": [
  {
   "cell_type": "markdown",
   "metadata": {
    "id": "T_n7tnlZdPQb"
   },
   "source": [
    "# Programmatically Create Dashboard using Arize's GrapQL API\n",
    "\n",
    "This tutorial demonstrates how to create a custom dashboard using Arize's GraphQL API. Here's what we will cover:\n",
    "\n",
    "- Fetching model metadata and features.\n",
    "- Creating different types of widgets such as bar charts, line charts, and drift widgets.\n",
    "- Placing these widgets on a dashboard in a specified order.\n",
    "\n",
    "**Important Notes:**\n",
    "- Although line charts and distributions can have multiple plots, in this example, we will add only one plot to keep it simple.\n",
    "- Widgets will be placed on the dashboard in the order they're added. Users can specify grid positions or adjust them later in the UI.\n",
    "- Iterating through multiple items to create multiple widgets is possible; however, for demonstration purposes, we make one of each widget type.\n",
    "- You can adapt this notebook to use different models, making it versatile for various use cases.\n",
    "\n",
    "\n",
    "For more information on specific mutations and input fields, check out our [GraphQL Documentation](https://app.arize.com/graphql)."
   ]
  },
  {
   "cell_type": "markdown",
   "metadata": {
    "id": "49uv1go_uNcG"
   },
   "source": [
    "### Step 1: Initialize the GraphQL Client using your developer API key"
   ]
  },
  {
   "cell_type": "code",
   "execution_count": null,
   "metadata": {},
   "outputs": [],
   "source": [
    "!pip install -q gql[all]\n",
    "from gql import Client, gql\n",
    "from gql.transport.requests import RequestsHTTPTransport\n",
    "import pandas as pd\n",
    "import time"
   ]
  },
  {
   "cell_type": "markdown",
   "metadata": {
    "id": "swVl6b00uNcH"
   },
   "source": [
    "### Get your API key\n",
    "First, make sure you have developer permissions. If you are able to visit the [API explorer](https://app.arize.com/graphql), then you have developer permissions. If not, please ask your Account Admin to provide you with access.\n",
    "\n",
    "The API key can be retrieved from the [API explorer](https://app.arize.com/graphql) page. Click the button on the top right called \"Get Your API Key.\" A modal will pop up with your key, copy that into the `API_KEY` constant below.\n",
    "\n",
    "NOTE: this key is different than the SDK key used to send data to Arize."
   ]
  },
  {
   "cell_type": "code",
   "execution_count": null,
   "metadata": {},
   "outputs": [],
   "source": [
    "API_KEY = \"\"\n",
    "\n",
    "# Select your transport with a defined URL endpoint\n",
    "transport = RequestsHTTPTransport(\n",
    "    url=\"https://app.arize.com/graphql/\", headers={\"x-api-key\": API_KEY}\n",
    ")\n",
    "\n",
    "# Create a GraphQL client using the defined transport\n",
    "client = Client(transport=transport, fetch_schema_from_transport=True)"
   ]
  },
  {
   "cell_type": "markdown",
   "metadata": {
    "id": "XC426zGz27E3"
   },
   "source": [
    "## Get Model Metadata\n",
    "\n",
    "Retrieve the metadata for the model you wish to make a dashboard for. This information will be used in the dashboard creation."
   ]
  },
  {
   "cell_type": "code",
   "execution_count": null,
   "metadata": {},
   "outputs": [],
   "source": [
    "MODEL_ID = \"\"\n",
    "MODEL_ENV = \"production\""
   ]
  },
  {
   "cell_type": "code",
   "execution_count": null,
   "metadata": {},
   "outputs": [],
   "source": [
    "model_query = gql(\n",
    "    \"\"\"\n",
    "  query getModelMetaData($modelID:ID!){\n",
    "  node(id: $modelID) {\n",
    "    ... on Model {\n",
    "      name\n",
    "      modelType\n",
    "      modelEnvironments{\n",
    "        environmentId\n",
    "        name\n",
    "      }\n",
    "      uri\n",
    "    }\n",
    "  }\n",
    "}\n",
    "    \"\"\"\n",
    ")\n",
    "\n",
    "\n",
    "# Base query parameters for fetching monitors\n",
    "params = {\"modelID\": str(MODEL_ID)}\n",
    "\n",
    "# An array of monitors that we will append to\n",
    "metadata = []\n",
    "model_name = \"\"\n",
    "\n",
    "\n",
    "paged_response = client.execute(model_query, params)"
   ]
  },
  {
   "cell_type": "code",
   "execution_count": null,
   "metadata": {},
   "outputs": [],
   "source": [
    "df = pd.json_normalize(paged_response, record_path=None)\n",
    "\n",
    "df = df.explode(\"node.modelEnvironments\").reset_index(drop=True)\n",
    "\n",
    "model_env_df = pd.json_normalize(df[\"node.modelEnvironments\"])\n",
    "\n",
    "result_df = pd.concat(\n",
    "    [df.drop(columns=[\"node.modelEnvironments\"]), model_env_df], axis=1\n",
    ")"
   ]
  },
  {
   "cell_type": "code",
   "execution_count": null,
   "metadata": {},
   "outputs": [],
   "source": [
    "environmentId_value = result_df.loc[\n",
    "    result_df[\"name\"] == MODEL_ENV, \"environmentId\"\n",
    "].item()\n",
    "environmentId_value"
   ]
  },
  {
   "cell_type": "markdown",
   "metadata": {
    "id": "SUVd9hZV3QMm"
   },
   "source": [
    "###  Feature Retrieval"
   ]
  },
  {
   "cell_type": "markdown",
   "metadata": {
    "id": "xTKwlFWQ0XUd"
   },
   "source": [
    "Retrieving features is crucial for creating widgets that reflect specific model dimensions."
   ]
  },
  {
   "cell_type": "code",
   "execution_count": null,
   "metadata": {},
   "outputs": [],
   "source": [
    "features_query = gql(\n",
    "    \"\"\"\n",
    "    query getFeatures($modelId: ID!, $cursor: String) {\n",
    "        model: node(id: $modelId) {\n",
    "            ... on Model {\n",
    "                name\n",
    "              \tid\n",
    "              \tmodelEnvironments{\n",
    "                  environmentId\n",
    "                  name\n",
    "                }\n",
    "                modelSchema {\n",
    "                    features(first: 20, after: $cursor, filter: { exclude:{ dataTypes:EMBEDDING }}) {\n",
    "                        edges {\n",
    "                            feature: node {\n",
    "                                dimension {\n",
    "                                  id\n",
    "                                    name,\n",
    "                                    dataType,\n",
    "                                  category\n",
    "                                }\n",
    "                            }\n",
    "                        }\n",
    "                        pageInfo {\n",
    "                            endCursor\n",
    "                        }\n",
    "                    }\n",
    "                }\n",
    "            }\n",
    "        }\n",
    "    }\n",
    "\n",
    "\"\"\"\n",
    ")\n",
    "\n",
    "# Base query parameters for fetching features\n",
    "params = {\"modelId\": MODEL_ID, \"cursor\": None}\n",
    "# An array of features that we will append to\n",
    "feature_data = []\n",
    "model_name = \"\"\n",
    "\n",
    "# Execute the query on the transport. Continue to pull data until there is no more features\n",
    "while True:\n",
    "    paged_response = client.execute(features_query, params)\n",
    "    model_name = paged_response[\"model\"][\"name\"]\n",
    "    # Append the monitors to your list\n",
    "    feature_data.extend(\n",
    "        paged_response[\"model\"][\"modelSchema\"][\"features\"][\"edges\"]\n",
    "    )\n",
    "    # If there is another page of information, point the cursor to the next page and fetch more\n",
    "    end_cursor = paged_response[\"model\"][\"modelSchema\"][\"features\"][\"pageInfo\"][\n",
    "        \"endCursor\"\n",
    "    ]\n",
    "    print(\"pageInfo end_cursor %s\" % (end_cursor))\n",
    "    if end_cursor:\n",
    "        print(\"There is another page of features. Loading more.\")\n",
    "        params[\"cursor\"] = end_cursor\n",
    "    else:\n",
    "        print(\"No more features to pull. The list is complete!\")\n",
    "        break\n",
    "    time.sleep(1)\n",
    "\n",
    "print(\"Retrieved {} features\".format(len(feature_data)))"
   ]
  },
  {
   "cell_type": "code",
   "execution_count": null,
   "metadata": {},
   "outputs": [],
   "source": [
    "features = pd.json_normalize(feature_data, sep=\".\")\n",
    "features.head()"
   ]
  },
  {
   "cell_type": "markdown",
   "metadata": {
    "id": "ODOVnM7Kwuij"
   },
   "source": [
    "## Dashboard Creation\n",
    "\n",
    "Creating a new custom dashboard involves several steps, starting with initializing an empty dashboard state. Below we'll walk through each type of widget you can add to your dashboard.\n"
   ]
  },
  {
   "cell_type": "markdown",
   "metadata": {
    "id": "oDu0klRm3MOf"
   },
   "source": [
    "### Initialize Dashboard\n",
    "\n",
    "When creating a new custom dashboard, the first step is to create an empty state dashboard using the `createDashboard` mutation. This mutation provides you with a `dashboardId` which will be used subsequently when adding widgets.\n"
   ]
  },
  {
   "cell_type": "code",
   "execution_count": null,
   "metadata": {},
   "outputs": [],
   "source": [
    "create_mutation = gql(\"\"\"\n",
    "mutation createDashTest($name: String!, $spaceId: ID!) {\n",
    "  createDashboard(input: { name: $name, spaceId: $spaceId }) {\n",
    "    dashboard {\n",
    "      id\n",
    "    }\n",
    "  }\n",
    "}\n",
    "\"\"\")"
   ]
  },
  {
   "cell_type": "code",
   "execution_count": null,
   "metadata": {},
   "outputs": [],
   "source": [
    "new_dashboard_name = \"Test Dashboard\"\n",
    "SPACE_ID = \"\"\n",
    "params = {\"name\": new_dashboard_name, \"spaceId\": SPACE_ID}\n",
    "dashboard_response = client.execute(create_mutation, params)"
   ]
  },
  {
   "cell_type": "code",
   "execution_count": null,
   "metadata": {},
   "outputs": [],
   "source": [
    "DASHBOARD_ID = dashboard_response[\"createDashboard\"][\"dashboard\"][\"id\"]"
   ]
  },
  {
   "cell_type": "markdown",
   "metadata": {
    "id": "xMq2rL6OeID-"
   },
   "source": [
    "### Distribution Widgets\n",
    "\n",
    "To visualize data variations and overall distribution patterns, you can use the `createBarChartWidget` mutation. This widget is ideal for displaying the distribution of a specific dimension or metric across your dataset."
   ]
  },
  {
   "cell_type": "code",
   "execution_count": null,
   "metadata": {},
   "outputs": [],
   "source": [
    "widget_title = \"Distribution of State\"\n",
    "dimension = \"state\"\n",
    "dimension_id = features.loc[features[\"feature.dimension.name\"] == dimension][\n",
    "    \"feature.dimension.id\"\n",
    "].item()\n",
    "dimension_datatype = features.loc[\n",
    "    features[\"feature.dimension.name\"] == dimension\n",
    "][\"feature.dimension.dataType\"].item()\n",
    "dimension_category = features.loc[\n",
    "    features[\"feature.dimension.name\"] == dimension\n",
    "][\"feature.dimension.category\"].item()"
   ]
  },
  {
   "cell_type": "code",
   "execution_count": null,
   "metadata": {},
   "outputs": [],
   "source": [
    "params = {\n",
    "    \"title\": widget_title,\n",
    "    \"dashboardId\": DASHBOARD_ID,\n",
    "    \"plots\": [\n",
    "        {\n",
    "            \"title\": dimension,\n",
    "            \"position\": 1,\n",
    "            \"modelId\": MODEL_ID,\n",
    "            \"dimension\": {\n",
    "                \"id\": dimension_id,\n",
    "                \"name\": dimension,\n",
    "                \"dataType\": dimension_datatype,\n",
    "            },\n",
    "            \"dimensionCategory\": dimension_category,\n",
    "            \"filters\": [],\n",
    "            \"modelVersionIds\": [],\n",
    "        }\n",
    "    ],\n",
    "}"
   ]
  },
  {
   "cell_type": "code",
   "execution_count": null,
   "metadata": {},
   "outputs": [],
   "source": [
    "createBarChartWidgetMutation = gql(\"\"\"\n",
    "\n",
    "mutation createBarChartWidget(\n",
    "$title:String!\n",
    "  $dashboardId:ID!\n",
    "  $plots:[BarChartPlotInputInput!]!\n",
    "\n",
    "\n",
    "){\n",
    "  createBarChartWidget(\n",
    "    input:\n",
    "  {\n",
    "    title:$title\n",
    "    dashboardId: $dashboardId # returned from createDashboard\n",
    "    plots: $plots\n",
    "  }\n",
    "  ){\n",
    "    barChartWidget{\n",
    "      id\n",
    "\n",
    "    }\n",
    "  }\n",
    "}\n",
    "\"\"\")"
   ]
  },
  {
   "cell_type": "code",
   "execution_count": null,
   "metadata": {},
   "outputs": [],
   "source": [
    "result = client.execute(createBarChartWidgetMutation, params)"
   ]
  },
  {
   "cell_type": "markdown",
   "metadata": {
    "id": "EP7DK_Uy1MXg"
   },
   "source": [
    "### Time Series Widget - Peromance Metrics\n",
    "To add a line chart that tracks performance metrics like AUC or accuracy, use the createLineChartWidget mutation. Specify each metric you wish to track, and position them accordingly on your dashboard."
   ]
  },
  {
   "cell_type": "code",
   "execution_count": null,
   "metadata": {},
   "outputs": [],
   "source": [
    "widget_title = \"AUC\"\n",
    "metric = \"auc\"\n",
    "positive_class = \"fraud\"\n",
    "plot_title = \"auc\""
   ]
  },
  {
   "cell_type": "code",
   "execution_count": null,
   "metadata": {},
   "outputs": [],
   "source": [
    "params = {\n",
    "    \"title\": widget_title,\n",
    "    \"dashboardId\": DASHBOARD_ID,\n",
    "    \"timeSeriesMetricType\": \"evaluationMetric\",\n",
    "    \"plots\": {\n",
    "        \"modelId\": MODEL_ID,\n",
    "        \"modelVersionIds\": [],\n",
    "        \"dimensionCategory\": \"prediction\",\n",
    "        \"metric\": metric,\n",
    "        \"positiveClass\": positive_class,\n",
    "        \"title\": plot_title,\n",
    "        \"position\": 1,\n",
    "        \"modelEnvironmentName\": MODEL_ENV,\n",
    "        \"filters\": [],\n",
    "    },\n",
    "}"
   ]
  },
  {
   "cell_type": "code",
   "execution_count": null,
   "metadata": {},
   "outputs": [],
   "source": [
    "createLineChartWidgetMutation = gql(\"\"\"\n",
    "mutation createLineChartWidget(\n",
    "  $title:String!\n",
    "  $dashboardId:ID!\n",
    "  $plots:[LineChartPlotInputInput!]!\n",
    "  $timeSeriesMetricType: TimeSeriesMetricCategory!\n",
    "){\n",
    "  createLineChartWidget(\n",
    "    input:\n",
    "  {\n",
    "    title:$title\n",
    "    timeSeriesMetricType: $timeSeriesMetricType\n",
    "    dashboardId: $dashboardId\n",
    "    plots: $plots\n",
    "    widgetType: lineChartWidget\n",
    "  }\n",
    "  ){\n",
    "    lineChartWidget{\n",
    "      id\n",
    "    }\n",
    "  }\n",
    "}\n",
    "\"\"\")"
   ]
  },
  {
   "cell_type": "code",
   "execution_count": null,
   "metadata": {},
   "outputs": [],
   "source": [
    "result = client.execute(createLineChartWidgetMutation, params)"
   ]
  },
  {
   "cell_type": "markdown",
   "metadata": {
    "id": "1Tqv6SrX8O70"
   },
   "source": [
    "### Time Series Widget - Data Quality Metrics\n",
    "\n",
    "Similarly, for data quality metrics such as missing data percentages or outlier counts, utilize the same mutation. Configuration may include specifying dimensions and metrics that are relevant to your data quality analysis."
   ]
  },
  {
   "cell_type": "code",
   "execution_count": null,
   "metadata": {},
   "outputs": [],
   "source": [
    "widget_title = \"Percent Empty\"\n",
    "metric = \"percentEmpty\"\n",
    "plot_title = \"percent Empty for merchant_id\"\n",
    "dimension = \"merchant_ID\"\n",
    "dimension_id = features.loc[features[\"feature.dimension.name\"] == dimension][\n",
    "    \"feature.dimension.id\"\n",
    "].item()\n",
    "dimension_datatype = features.loc[\n",
    "    features[\"feature.dimension.name\"] == dimension\n",
    "][\"feature.dimension.dataType\"].item()\n",
    "dimension_category = features.loc[\n",
    "    features[\"feature.dimension.name\"] == dimension\n",
    "][\"feature.dimension.category\"].item()"
   ]
  },
  {
   "cell_type": "code",
   "execution_count": null,
   "metadata": {},
   "outputs": [],
   "source": [
    "params = {\n",
    "    \"title\": widget_title,\n",
    "    \"dashboardId\": DASHBOARD_ID,\n",
    "    \"timeSeriesMetricType\": \"evaluationMetric\",\n",
    "    \"plots\": {\n",
    "        \"modelId\": MODEL_ID,\n",
    "        \"modelVersionIds\": [],\n",
    "        \"dimensionCategory\": dimension_category,\n",
    "        \"metric\": metric,\n",
    "        \"dimension\": {\n",
    "            \"id\": dimension_id,\n",
    "            \"name\": dimension,\n",
    "            \"dataType\": dimension_datatype,\n",
    "        },\n",
    "        \"title\": plot_title,\n",
    "        \"position\": 1,\n",
    "        \"modelEnvironmentName\": MODEL_ENV,\n",
    "        \"filters\": [],\n",
    "    },\n",
    "}"
   ]
  },
  {
   "cell_type": "code",
   "execution_count": null,
   "metadata": {},
   "outputs": [],
   "source": [
    "createDQLineChartWidgetMutation = gql(\"\"\"\n",
    "mutation createLineChartWidget(\n",
    "  $title:String!\n",
    "  $dashboardId:ID!\n",
    "  $plots:[LineChartPlotInputInput!]!\n",
    "  $timeSeriesMetricType: TimeSeriesMetricCategory!\n",
    "){\n",
    "  createLineChartWidget(\n",
    "    input:\n",
    "  {\n",
    "    title:$title\n",
    "    timeSeriesMetricType: $timeSeriesMetricType\n",
    "    dashboardId: $dashboardId\n",
    "    plots: $plots\n",
    "    widgetType: lineChartWidget\n",
    "  }\n",
    "  ){\n",
    "    lineChartWidget{\n",
    "      id\n",
    "    }\n",
    "  }\n",
    "}\n",
    "\"\"\")"
   ]
  },
  {
   "cell_type": "code",
   "execution_count": null,
   "metadata": {},
   "outputs": [],
   "source": [
    "result = client.execute(createDQLineChartWidgetMutation, params)"
   ]
  },
  {
   "cell_type": "markdown",
   "metadata": {
    "id": "ucT_sN9F9BlK"
   },
   "source": [
    "### Drift Widget\n",
    "Monitoring data drift is crucial for maintaining model performance. Use the `createLineChartWidget` mutation with a `widgetType` set to `driftLineChartWidget` to track drift using various statistical methods like PSI, JS divergence, or KL divergence.\n",
    "\n",
    "First, retrieve a baseline ID, which is essential for comparing current model performance against a historical benchmark:"
   ]
  },
  {
   "cell_type": "code",
   "execution_count": null,
   "metadata": {},
   "outputs": [],
   "source": [
    "getModelBaselineMutation = gql(\n",
    "    \"\"\"\n",
    "query getBaseline($modelID:ID!){\n",
    "  node(id: $modelID) {\n",
    "    ... on Model {\n",
    "      modelPrimaryBaseline{\n",
    "        id\n",
    "      }\n",
    "    }\n",
    "  }\n",
    "}\n",
    "    \"\"\"\n",
    ")\n",
    "\n",
    "baseline_response = client.execute(\n",
    "    getModelBaselineMutation, {\"modelID\": MODEL_ID}\n",
    ")\n",
    "BASELINE_ID = baseline_response[\"node\"][\"modelPrimaryBaseline\"][\"id\"]"
   ]
  },
  {
   "cell_type": "code",
   "execution_count": null,
   "metadata": {},
   "outputs": [],
   "source": [
    "widget_title = \"Prediction Drift\"\n",
    "metric = \"psi\"\n",
    "plot_title = \"\""
   ]
  },
  {
   "cell_type": "code",
   "execution_count": null,
   "metadata": {},
   "outputs": [],
   "source": [
    "params = {\n",
    "    \"title\": widget_title,\n",
    "    \"dashboardId\": DASHBOARD_ID,\n",
    "    \"timeSeriesMetricType\": \"evaluationMetric\",\n",
    "    \"plots\": [\n",
    "        {\n",
    "            \"modelId\": MODEL_ID,\n",
    "            \"modelVersionIds\": [],\n",
    "            \"dimensionCategory\": \"prediction\",\n",
    "            \"metric\": metric,\n",
    "            \"title\": plot_title,\n",
    "            \"position\": 1,\n",
    "            \"modelEnvironmentName\": MODEL_ENV,\n",
    "            \"filters\": [],\n",
    "            \"comparisonDatasetModelBaselineId\": BASELINE_ID,\n",
    "        }\n",
    "    ],\n",
    "}"
   ]
  },
  {
   "cell_type": "code",
   "execution_count": null,
   "metadata": {},
   "outputs": [],
   "source": [
    "createDriftWidgetMutation = gql(\n",
    "    \"\"\"\n",
    "    mutation createDriftWidget(\n",
    "    $title:String!\n",
    "      $dashboardId:ID!\n",
    "      $plots:[LineChartPlotInputInput!]!\n",
    "      $timeSeriesMetricType: TimeSeriesMetricCategory!\n",
    "    ){\n",
    "      createLineChartWidget(\n",
    "        input:\n",
    "      {\n",
    "        title:$title\n",
    "        timeSeriesMetricType: $timeSeriesMetricType\n",
    "        dashboardId: $dashboardId\n",
    "        plots: $plots\n",
    "        widgetType: driftLineChartWidget\n",
    "      }\n",
    "      ){\n",
    "        lineChartWidget{\n",
    "          id\n",
    "        }\n",
    "      }\n",
    "    }\n",
    "    \"\"\"\n",
    ")"
   ]
  },
  {
   "cell_type": "code",
   "execution_count": null,
   "metadata": {},
   "outputs": [],
   "source": [
    "client.execute(createDriftWidgetMutation, params)"
   ]
  },
  {
   "cell_type": "markdown",
   "metadata": {
    "id": "ecE4crni-lNz"
   },
   "source": [
    "### Statistic Widget\n",
    "\n",
    "Add a statistics widget to provide a quick overview of key metrics. This widget can focus on either performance indicators or data quality metrics, offering valuable insights at a glance. Configure this widget to display counts, averages, or other statistical summaries of specified dimensions."
   ]
  },
  {
   "cell_type": "code",
   "execution_count": null,
   "metadata": {},
   "outputs": [],
   "source": [
    "widget_title = \"count of fico score\"\n",
    "metric = \"count\"\n",
    "dimension = \"fico_score\"\n",
    "dimension_id = features.loc[features[\"feature.dimension.name\"] == dimension][\n",
    "    \"feature.dimension.id\"\n",
    "].item()\n",
    "dimension_datatype = features.loc[\n",
    "    features[\"feature.dimension.name\"] == dimension\n",
    "][\"feature.dimension.dataType\"].item()\n",
    "dimension_category = features.loc[\n",
    "    features[\"feature.dimension.name\"] == dimension\n",
    "][\"feature.dimension.category\"].item()"
   ]
  },
  {
   "cell_type": "code",
   "execution_count": null,
   "metadata": {},
   "outputs": [],
   "source": [
    "params = {\n",
    "    \"title\": widget_title,\n",
    "    \"dashboardId\": DASHBOARD_ID,\n",
    "    \"timeSeriesMetricType\": \"modelDataMetric\",\n",
    "    \"modelId\": MODEL_ID,\n",
    "    \"aggregation\": metric,\n",
    "    \"dimension\": {\n",
    "        \"id\": dimension_id,\n",
    "        \"name\": dimension,\n",
    "        \"dataType\": dimension_datatype,\n",
    "    },\n",
    "    \"dimensionCategory\": dimension_category,\n",
    "    \"filters\": [],\n",
    "}"
   ]
  },
  {
   "cell_type": "code",
   "execution_count": null,
   "metadata": {},
   "outputs": [],
   "source": [
    "createStatWidgetMutation = gql(\n",
    "    \"\"\"\n",
    "mutation createStatWidget(\n",
    "  $title:String!\n",
    "  $dashboardId:ID!\n",
    "  $timeSeriesMetricType: TimeSeriesMetricCategory!\n",
    "  $modelId:ID!\n",
    "  $aggregation: DataQualityMetric\n",
    "  $dimension:DimensionInput\n",
    "  $dimensionCategory: DimensionCategory\n",
    "  $filters: [StatisticWidgetFilterItemInput!]!\n",
    "\n",
    "){\n",
    "  createStatisticWidget(\n",
    "    input:\n",
    "  {\n",
    "    dashboardId: $dashboardId\n",
    "    title:$title\n",
    "    timeSeriesMetricType:$timeSeriesMetricType\n",
    "    modelId:$modelId\n",
    "    aggregation:$aggregation\n",
    "    dimensionCategory:$dimensionCategory\n",
    "    dimension:$dimension\n",
    "    filters:$filters\n",
    "    creationStatus:published\n",
    "    modelVersionEnvironmentMetadataIds:[]\n",
    "    modelVersionIds:[]\n",
    "  })\n",
    "  {\n",
    "    statisticWidget{\n",
    "      id\n",
    "    }\n",
    "  }\n",
    "}\n",
    "\"\"\"\n",
    ")"
   ]
  },
  {
   "cell_type": "code",
   "execution_count": null,
   "metadata": {},
   "outputs": [],
   "source": [
    "client.execute(createStatWidgetMutation, params)"
   ]
  },
  {
   "cell_type": "markdown",
   "metadata": {
    "id": "0FVTo_HJFf8a"
   },
   "source": [
    "### Text Widget\n",
    "\n",
    "Add a text widget to your dashboard to offer explanatory text, headings, or contextual information, enriching the dashboard's narrative and usability."
   ]
  },
  {
   "cell_type": "code",
   "execution_count": null,
   "metadata": {},
   "outputs": [],
   "source": [
    "params = {\n",
    "    \"title\": \"text-widget-title\",\n",
    "    \"dashboardId\": DASHBOARD_ID,\n",
    "    \"content\": \"content for the text widget\",\n",
    "}"
   ]
  },
  {
   "cell_type": "code",
   "execution_count": null,
   "metadata": {},
   "outputs": [],
   "source": [
    "createTextWidgetMutation = gql(\n",
    "    \"\"\"\n",
    "mutation createTextWidget(\n",
    "  $title:String!\n",
    "  $dashboardId:ID!\n",
    "  $content:String!\n",
    "\n",
    "){\n",
    "  createTextWidget(\n",
    "    input:\n",
    "  {\n",
    "    dashboardId: $dashboardId\n",
    "    title:$title\n",
    "    content: $content\n",
    "    creationStatus:published\n",
    "\n",
    "  })\n",
    "  {\n",
    "    textWidget{\n",
    "      id\n",
    "    }\n",
    "  }\n",
    "}\n",
    "\"\"\"\n",
    ")"
   ]
  },
  {
   "cell_type": "code",
   "execution_count": null,
   "metadata": {},
   "outputs": [],
   "source": [
    "client.execute(createTextWidgetMutation, params)"
   ]
  }
 ],
 "metadata": {
  "language_info": {
   "name": "python"
  }
 },
 "nbformat": 4,
 "nbformat_minor": 4
}
