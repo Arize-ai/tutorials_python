{
 "cells": [
  {
   "cell_type": "markdown",
   "metadata": {
    "id": "mmhGRh7i5b_z"
   },
   "source": [
    "<center><img src=\"https://storage.googleapis.com/arize-assets/arize-logo-white.jpg\" width=\"200\"/></center>\n",
    "\n",
    "# Query For All Custom Metrics Using GraphQL API\n",
    "\n",
    "This example walks through how to query for all custom metrics in a given Space and export to a CSV file. For more information on the GraphQL API for custom metrics, see the Arize documentation [here](https://docs.arize.com/arize/api-reference/graphql-api/custom-metrics-api)."
   ]
  },
  {
   "cell_type": "markdown",
   "metadata": {
    "id": "wXfwEcAv6NuI"
   },
   "source": [
    "## Install and Import Dependencies"
   ]
  },
  {
   "cell_type": "code",
   "execution_count": null,
   "metadata": {},
   "outputs": [],
   "source": [
    "%pip install -q gql[all]\n",
    "import time\n",
    "import pandas as pd\n",
    "from gql import Client, gql\n",
    "from gql.transport.requests import RequestsHTTPTransport\n",
    "from gql.transport.exceptions import TransportQueryError"
   ]
  },
  {
   "cell_type": "markdown",
   "metadata": {
    "id": "0nomL8Hj6SKO"
   },
   "source": [
    "## Get your API key\n",
    "First, make sure you have developer permissions. If you are able to visit the [API explorer](https://app.arize.com/graphql), then you have developer permissions. If not, please ask your Account Admin to provide you with access.\n",
    "\n",
    "The API key can be retrieved from the [API explorer](https://app.arize.com/graphql) page. Click the button on the top right called \"Get Your API Key.\" A modal will pop up with your key, copy that into the `API_KEY` constant below.\n",
    "\n",
    "NOTE: this key is different than the SDK key used to send data to Arize."
   ]
  },
  {
   "cell_type": "code",
   "execution_count": null,
   "metadata": {},
   "outputs": [],
   "source": [
    "API_KEY = \"API_KEY\"\n",
    "\n",
    "# Select your transport with a defined URL endpoint\n",
    "transport = RequestsHTTPTransport(\n",
    "    url=\"https://app.arize.com/graphql/\", headers={\"x-api-key\": API_KEY}\n",
    ")\n",
    "\n",
    "# Create a GraphQL client using the defined transport\n",
    "client = Client(transport=transport, fetch_schema_from_transport=True)"
   ]
  },
  {
   "cell_type": "markdown",
   "metadata": {
    "id": "tNCH7HFn6hx_"
   },
   "source": [
    "## Get all model IDs in a given space"
   ]
  },
  {
   "cell_type": "code",
   "execution_count": null,
   "metadata": {},
   "outputs": [],
   "source": [
    "# We start this query from your space. Spaces have globally unique IDs. You can get your space ID by visiting app.arize.com.\n",
    "# The url will be in this format: https://app.arize.com/organizations/:orgId/spaces/:spaceId\n",
    "# NOTE: this is not the same as the space key used to send data using the SDK\n",
    "SPACE_ID = \"SPACE_ID\""
   ]
  },
  {
   "cell_type": "code",
   "execution_count": null,
   "metadata": {},
   "outputs": [],
   "source": [
    "# Function for getting all your models in the space\n",
    "def get_models(space_id):\n",
    "    # A re-usable query for fetching your models, a page at a time\n",
    "    models_query = gql(\n",
    "    \"\"\"\n",
    "        query getModels($spaceId: ID!, $cursor: String) {\n",
    "            space: node(id: $spaceId) {\n",
    "                ... on Space {\n",
    "                    name\n",
    "                    models (first: 50, after: $cursor) {\n",
    "                        pageInfo {\n",
    "                            endCursor\n",
    "                        }\n",
    "                        edges {\n",
    "                            model: node {\n",
    "                                id\n",
    "                                name\n",
    "                            }\n",
    "                        }\n",
    "                    }\n",
    "                }\n",
    "            }\n",
    "        }\n",
    "    \"\"\"\n",
    "    )\n",
    "    # Base query parameters for fetching models\n",
    "    params = {\"spaceId\": space_id}\n",
    "\n",
    "    # An array of models that we will append to\n",
    "    models = []\n",
    "    space_name = \"\"\n",
    "\n",
    "    # Execute the query on the transport. Continue to pull data until there is no more monitors\n",
    "    print(\"Retrieving models...\")\n",
    "    while True:\n",
    "        paged_response = client.execute(models_query, params)\n",
    "        space_name = paged_response[\"space\"][\"name\"]\n",
    "        # Append the monitors to your list\n",
    "        models.extend(paged_response[\"space\"][\"models\"][\"edges\"])\n",
    "        # If there is another page of information, point the cursor to the next page and fetch more\n",
    "        end_cursor = paged_response[\"space\"][\"models\"]['pageInfo']['endCursor']\n",
    "        print('pageInfo end_cursor %s' % (end_cursor))\n",
    "        if end_cursor:\n",
    "            print(\"There is another page of models. Loading more.\")\n",
    "            params[\"cursor\"] = end_cursor\n",
    "        else:\n",
    "            # No more models to pull. The list is complete!\n",
    "            break\n",
    "    print(\"\\nRetrieved {} models.\".format(len(models)))\n",
    "    return models"
   ]
  },
  {
   "cell_type": "code",
   "execution_count": null,
   "metadata": {},
   "outputs": [],
   "source": [
    "# Get all models in the space\n",
    "models = get_models(SPACE_ID)"
   ]
  },
  {
   "cell_type": "code",
   "execution_count": null,
   "metadata": {},
   "outputs": [],
   "source": [
    "# Put models into dataframe\n",
    "models_df = pd.json_normalize(models, sep=\".\")\n",
    "models_df.head()"
   ]
  },
  {
   "cell_type": "markdown",
   "metadata": {
    "id": "8EookOda8OWc"
   },
   "source": [
    "## Get custom metric IDs for each model"
   ]
  },
  {
   "cell_type": "code",
   "execution_count": null,
   "metadata": {},
   "outputs": [],
   "source": [
    "# Function get IDs for each custom metric\n",
    "def fetch_custom_metric_ids(model_id):\n",
    "    custom_metric_query = gql(\"\"\"\n",
    "        query GetCustomMetricIDs($modelId: ID!) {\n",
    "            node(id: $modelId) {\n",
    "                ...on Model {\n",
    "                    customMetrics(first: 10) {\n",
    "                        edges {\n",
    "                            node {\n",
    "                                id\n",
    "                            }\n",
    "                        }\n",
    "                    }\n",
    "                }\n",
    "            }\n",
    "        }\n",
    "    \"\"\")\n",
    "    response = client.execute(custom_metric_query, {\"modelId\": model_id})\n",
    "    metric_ids = [edge['node']['id'] for edge in response['node']['customMetrics']['edges']]\n",
    "    return metric_ids\n",
    "\n",
    "models_df['custom_metric_ids'] = models_df['model.id'].apply(fetch_custom_metric_ids)"
   ]
  },
  {
   "cell_type": "code",
   "execution_count": null,
   "metadata": {},
   "outputs": [],
   "source": [
    "models_df"
   ]
  },
  {
   "cell_type": "markdown",
   "metadata": {
    "id": "yOl5c8Jg8yDJ"
   },
   "source": [
    "## Get custom metric config for each custom metric ID"
   ]
  },
  {
   "cell_type": "code",
   "execution_count": null,
   "metadata": {},
   "outputs": [],
   "source": [
    "def fetch_custom_metric_meta(metric_id):\n",
    "    metric_meta_query = gql(\"\"\"\n",
    "        {\n",
    "            node(id: \"$metricId\") {\n",
    "                ... on CustomMetric {\n",
    "                    id\n",
    "                    createdAt\n",
    "                    name\n",
    "                    description\n",
    "                    metric\n",
    "                    requiresPositiveClass\n",
    "                }\n",
    "            }\n",
    "        }\n",
    "    \"\"\".replace(\"$metricId\", metric_id))  # Using replace for simplicity in this example\n",
    "    response = client.execute(metric_meta_query)\n",
    "    return response['node']\n",
    "\n",
    "\n",
    "def fetch_custom_metric_meta_with_retry(metric_id, retry_delay=5, max_retries=5):\n",
    "    \"\"\"Fetch custom metric meta data with retries on rate limit errors.\"\"\"\n",
    "    for attempt in range(max_retries):\n",
    "        try:\n",
    "            # Attempt to fetch the custom metric meta data\n",
    "            return fetch_custom_metric_meta(metric_id)\n",
    "        except TransportQueryError as e:\n",
    "            if \"TOO_MANY_REQUESTS\" in str(e):\n",
    "                print(f\"Rate limit hit, retrying in {retry_delay} seconds... (Attempt {attempt + 1}/{max_retries})\")\n",
    "                time.sleep(retry_delay)\n",
    "                # Optionally, increase retry_delay here for exponential backoff\n",
    "            else:\n",
    "                # If the error is not related to rate limiting, raise it\n",
    "                raise e\n",
    "    raise Exception(f\"Failed to fetch custom metric meta after {max_retries} attempts due to rate limiting.\")\n",
    "\n",
    "\n",
    "# Flatten the list of lists of custom metric IDs\n",
    "all_metric_ids = [metric_id for sublist in models_df['custom_metric_ids'].tolist() for metric_id in sublist]\n",
    "\n",
    "# Fetch metadata for each metric ID\n",
    "metrics_meta_data = [fetch_custom_metric_meta_with_retry(metric_id) for metric_id in all_metric_ids]\n",
    "\n",
    "# # Convert to DataFrame\n",
    "metrics_meta_df = pd.DataFrame(metrics_meta_data)"
   ]
  },
  {
   "cell_type": "code",
   "execution_count": null,
   "metadata": {},
   "outputs": [],
   "source": [
    "metrics_meta_df"
   ]
  }
 ],
 "metadata": {
  "language_info": {
   "name": "python"
  }
 },
 "nbformat": 4,
 "nbformat_minor": 0
}
