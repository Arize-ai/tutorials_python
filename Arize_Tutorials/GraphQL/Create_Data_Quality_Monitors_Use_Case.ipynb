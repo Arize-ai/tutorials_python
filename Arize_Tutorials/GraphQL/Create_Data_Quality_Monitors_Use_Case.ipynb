{
 "cells": [
  {
   "cell_type": "markdown",
   "metadata": {},
   "source": [
    "# Create Data Quality Monitors Using the Arize GraphQL API"
   ]
  },
  {
   "cell_type": "markdown",
   "metadata": {},
   "source": [
    "### Step 1: Initialize the GraphQL Client using your developer API Key"
   ]
  },
  {
   "cell_type": "code",
   "execution_count": null,
   "metadata": {},
   "outputs": [],
   "source": [
    "!pip install gql[all]\n",
    "\n",
    "from gql import Client, gql\n",
    "from gql.transport.requests import RequestsHTTPTransport"
   ]
  },
  {
   "cell_type": "markdown",
   "metadata": {},
   "source": [
    "### Get your API key\n",
    "First - make sure you have developer permissions. If you are able to visit the [API explorer](https://app.arize.com/graphql), you have developer permissions, if not, please ask your Account Admin to provide you with access. \n",
    "\n",
    "The API key can be retrieved from the [API explorer](https://app.arize.com/graphql) page. Click the button on the top right called \"Get Your API Key.\" A modal will pop up with your key, copy that into the `API_KEY` constant below. \n",
    "\n",
    "NOTE: this key is different than the SDK key used to send data to Arize. "
   ]
  },
  {
   "cell_type": "code",
   "execution_count": null,
   "metadata": {},
   "outputs": [],
   "source": [
    "API_KEY = \"YOUR_API_KEY\"\n",
    "\n",
    "# Select your transport with a defined url endpoint\n",
    "transport = RequestsHTTPTransport(\n",
    "    url=\"https://app.arize.com/graphql/\", headers={\"x-api-key\": API_KEY}\n",
    ")\n",
    "\n",
    "# Create a GraphQL client using the defined transport\n",
    "client = Client(transport=transport, fetch_schema_from_transport=True)"
   ]
  },
  {
   "cell_type": "markdown",
   "metadata": {},
   "source": [
    "### Step 2: Execute a GraphQL query to get all your model's features"
   ]
  },
  {
   "cell_type": "code",
   "execution_count": null,
   "metadata": {},
   "outputs": [],
   "source": [
    "# We start this query from your model. Models have globally unique IDs. You can get your modelId by visiting app.arize.com.\n",
    "# The url will be in this format: https://app.arize.com/organizations/:orgId/spaces/:spaceId/models/:modelId\n",
    "\n",
    "MODEL_ID = \"YOUR_MODEL_ID\"\n",
    "\n",
    "\n",
    "# A re-usable query for fetching your model's features, a page at a time\n",
    "features_query = gql(\n",
    "    \"\"\"\n",
    "    query getFeatures($modelId: ID!, $cursor: String) {\n",
    "        model: node(id: $modelId) {\n",
    "            ... on Model {\n",
    "                name\n",
    "                modelSchema {\n",
    "                    features(first: 20, after: $cursor, filter: { exclude:{ dataTypes:EMBEDDING }}) {\n",
    "                        edges {\n",
    "                            feature: node {\n",
    "                                dimension {\n",
    "                                    name\n",
    "                                }\n",
    "                            }\n",
    "                        }\n",
    "                        pageInfo {\n",
    "                            endCursor\n",
    "                        }\n",
    "                    }\n",
    "                }\n",
    "            }\n",
    "        }\n",
    "    }\n",
    "\n",
    "\"\"\"\n",
    ")\n",
    "\n",
    "# Base query parameters for fetching features\n",
    "params = {\"modelId\": MODEL_ID}\n",
    "# An array of features that we will append to\n",
    "features = []\n",
    "model_name = \"\"\n",
    "\n",
    "# Execute the query on the transport. Continue to pull data until there is no more features\n",
    "while True:\n",
    "    paged_response = client.execute(features_query, params)\n",
    "    model_name = paged_response[\"model\"][\"name\"]\n",
    "    # Append the monitors to your list\n",
    "    features.extend(paged_response[\"model\"][\"modelSchema\"][\"features\"][\"edges\"])\n",
    "    # If there is another page of information, point the cursor to the next page and fetch more\n",
    "    end_cursor = paged_response[\"model\"][\"modelSchema\"][\"features\"][\"pageInfo\"][\"endCursor\"]\n",
    "    print(\"pageInfo end_cursor %s\" % (end_cursor))\n",
    "    if end_cursor:\n",
    "        print(\"There is another page of features. Loading more.\")\n",
    "        params[\"cursor\"] = end_cursor\n",
    "    else:\n",
    "        print(\"No more features to pull. The list is complete!\")\n",
    "        break\n",
    "\n",
    "print(\"Retrieved {} features\".format(len(features)))"
   ]
  },
  {
   "cell_type": "markdown",
   "metadata": {},
   "source": [
    "#### Step 2a: Print our some of the features to check that results are what is expected"
   ]
  },
  {
   "cell_type": "code",
   "execution_count": null,
   "metadata": {},
   "outputs": [],
   "source": [
    "import pandas as pd\n",
    "\n",
    "# The features have a nested JSON structure, let's flatten it into a data frame\n",
    "features_df = pd.json_normalize(features, sep=\".\")\n",
    "features_df.head()"
   ]
  },
  {
   "cell_type": "markdown",
   "metadata": {},
   "source": [
    "### Step 3: Iterate over features and create Data Quality Monitors"
   ]
  },
  {
   "cell_type": "code",
   "execution_count": null,
   "metadata": {},
   "outputs": [],
   "source": [
    "# now we can create data quality monitors for all of our model's features\n",
    "create_data_quality_monitor_query = gql(\n",
    "    \"\"\"\n",
    "        mutation CreateDataQualityMonitor(\n",
    "            $input: CreateDataQualityMonitorMutationInput!\n",
    "        ) {\n",
    "            createDataQualityMonitor(input: $input) {\n",
    "                monitor {\n",
    "                    id\n",
    "                    name\n",
    "                    monitorCategory\n",
    "                    dataQualityMetric\n",
    "                    threshold\n",
    "                    operator\n",
    "                }\n",
    "            }\n",
    "        }\n",
    "    \"\"\"\n",
    ")\n",
    "\n",
    "created_monitors = []\n",
    "\n",
    "for f in features:\n",
    "    feature = f[\"feature\"][\"dimension\"][\"name\"]\n",
    "    monitor_name = f\"{feature} Percent Empty\"\n",
    "    input = {\n",
    "        \"input\": {\n",
    "            \"name\": monitor_name,\n",
    "            \"modelId\": MODEL_ID,\n",
    "            \"dimensionName\": feature,\n",
    "            \"dimensionCategory\": \"featureLabel\",\n",
    "            \"dataQualityMetric\": \"percentEmpty\",\n",
    "            \"threshold\": 10,\n",
    "            \"operator\": \"greaterThan\",\n",
    "        }\n",
    "    }\n",
    "    print(f\"Creating Data Quality Monitor: {monitor_name}\")\n",
    "    create_monitor_response = client.execute(create_data_quality_monitor_query, input)\n",
    "    created_monitors.append(create_monitor_response[\"createDataQualityMonitor\"][\"monitor\"])\n",
    "\n",
    "print(\"Created {} Data Quality Monitors\".format(len(created_monitors)))\n",
    "\n",
    "monitors_df = pd.json_normalize(created_monitors, sep=\".\")"
   ]
  },
  {
   "cell_type": "markdown",
   "metadata": {},
   "source": [
    "### Step 4: Export the resulting monitors to a spreadsheet"
   ]
  },
  {
   "cell_type": "code",
   "execution_count": null,
   "metadata": {},
   "outputs": [],
   "source": [
    "!pip install gspread\n",
    "# src: https://colab.research.google.com/notebooks/snippets/sheets.ipynb\n",
    "from google.colab import auth\n",
    "\n",
    "auth.authenticate_user()\n",
    "\n",
    "import gspread\n",
    "from google.auth import default\n",
    "\n",
    "creds, _ = default()\n",
    "\n",
    "gc = gspread.authorize(creds)\n",
    "\n",
    "sheet_name = f\"{model_name} Data Quality Monitors\"\n",
    "sh = gc.create(sheet_name)\n",
    "\n",
    "# Open our new sheet and add some data.\n",
    "worksheet = gc.open(sheet_name).sheet1\n",
    "\n",
    "# Let's now write the dataframe to google sheets\n",
    "worksheet.update([monitors_df.columns.values.tolist()] + monitors_df.values.tolist())\n",
    "\n",
    "# print the URL\n",
    "print(sh.url)"
   ]
  }
 ],
 "metadata": {
  "language_info": {
   "name": "python"
  }
 },
 "nbformat": 4,
 "nbformat_minor": 2
}
