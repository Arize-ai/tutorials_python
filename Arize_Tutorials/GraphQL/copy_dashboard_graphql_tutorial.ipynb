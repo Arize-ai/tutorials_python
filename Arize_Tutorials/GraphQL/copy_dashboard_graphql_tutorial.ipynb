{
 "cells": [
  {
   "cell_type": "markdown",
   "metadata": {
    "id": "ccme4WJSnCfO"
   },
   "source": [
    "# Copy and Update Dashboards using Arize GraphQL API"
   ]
  },
  {
   "cell_type": "markdown",
   "metadata": {
    "id": "S_6A7VeVnVSm"
   },
   "source": [
    "### Objective\n",
    "\n",
    "The objective of this notebook is to facilitate the easy duplication of an existing dashboard configuration and adapt it to a new model environment. This includes:\n",
    "- Fetching the existing dashboard configuration.\n",
    "- Modifying and updating dashboard widgets to suit the new model.\n",
    "- Saving the updated configuration to the Arize platform."
   ]
  },
  {
   "cell_type": "markdown",
   "metadata": {
    "id": "49uv1go_uNcG"
   },
   "source": [
    "### Step 1: Initialize the GraphQL Client using your developer API key"
   ]
  },
  {
   "cell_type": "code",
   "execution_count": null,
   "metadata": {},
   "outputs": [],
   "source": [
    "!pip install -q gql[all]\n",
    "from gql import Client, gql\n",
    "from gql.transport.requests import RequestsHTTPTransport\n",
    "import pandas as pd\n",
    "import time"
   ]
  },
  {
   "cell_type": "markdown",
   "metadata": {
    "id": "swVl6b00uNcH"
   },
   "source": [
    "### Get your API key\n",
    "First, make sure you have developer permissions. If you are able to visit the [API explorer](https://app.arize.com/graphql), then you have developer permissions. If not, please ask your Account Admin to provide you with access.\n",
    "\n",
    "The API key can be retrieved from the [API explorer](https://app.arize.com/graphql) page. Click the button on the top right called \"Get Your API Key.\" A modal will pop up with your key, copy that into the `API_KEY` constant below.\n",
    "\n",
    "NOTE: this key is different than the SDK key used to send data to Arize."
   ]
  },
  {
   "cell_type": "code",
   "execution_count": null,
   "metadata": {},
   "outputs": [],
   "source": [
    "API_KEY = \"\"\n",
    "\n",
    "# Select your transport with a defined URL endpoint\n",
    "transport = RequestsHTTPTransport(\n",
    "    url=\"https://app.arize.com/graphql/\", headers={\"x-api-key\": API_KEY}\n",
    ")\n",
    "\n",
    "# Create a GraphQL client using the defined transport\n",
    "client = Client(transport=transport, fetch_schema_from_transport=True)"
   ]
  },
  {
   "cell_type": "markdown",
   "metadata": {
    "id": "4st3cNGJabiS"
   },
   "source": [
    "## Get the target dashboard information\n",
    "\n",
    "Query to retreive all the widgets from the dashbaord you wish to copy.\n"
   ]
  },
  {
   "cell_type": "code",
   "execution_count": null,
   "metadata": {},
   "outputs": [],
   "source": [
    "# This query works at the model level\n",
    "# The url will be in this format: https://app.arize.com/organizations/:orgId/spaces/:spaceId/models/:modelId\n",
    "\n",
    "DASHBOARD_ID = \"\"\n",
    "\n",
    "\n",
    "dashboard_query = gql(\n",
    "    \"\"\"\n",
    "query getDashboard($dashboardId: ID!) {\n",
    "  node(id: $dashboardId) {\n",
    "    ... on Dashboard {\n",
    "      id\n",
    "      driftLineChartWidgets {\n",
    "        edges {\n",
    "          node {\n",
    "            title\n",
    "            gridPosition\n",
    "            timeSeriesMetricType\n",
    "            creationStatus\n",
    "            yMin\n",
    "            yMax\n",
    "            plots {\n",
    "              title\n",
    "              position\n",
    "              modelId\n",
    "              dimensionCategory\n",
    "              metric\n",
    "              customMetric {\n",
    "                id\n",
    "              }\n",
    "              splitByEnabled\n",
    "              splitByDimension\n",
    "              splitByDimensionCategory\n",
    "              cohorts\n",
    "              dimension {\n",
    "                id\n",
    "              }\n",
    "              predictionValueClass {\n",
    "                id\n",
    "              }\n",
    "              rankingAtK\n",
    "              filters {\n",
    "                id\n",
    "                filterType\n",
    "                operator\n",
    "                dimension {\n",
    "                  id\n",
    "                  name\n",
    "                  dataType\n",
    "                }\n",
    "                dimensionValues {\n",
    "                  id\n",
    "                  value\n",
    "                }\n",
    "                binaryValues\n",
    "                numericValues\n",
    "                categoricalValues\n",
    "              }\n",
    "              modelPrimaryBaseline {\n",
    "                referenceType\n",
    "                filteredBaseline {\n",
    "                  modelEnvironmentName\n",
    "                  filteredMovingWindowSeconds\n",
    "                  filteredMovingWindowDelaySeconds\n",
    "                  filteredStartDate\n",
    "                  filteredEndDate\n",
    "                }\n",
    "                modelVersionEnvironmentBatch {\n",
    "                  id\n",
    "                }\n",
    "                baselineType\n",
    "                startDateOverride\n",
    "                endDateOverride\n",
    "              }\n",
    "              comparisonDataset {\n",
    "                referenceSource\n",
    "                referenceBaselineId\n",
    "              }\n",
    "            }\n",
    "          }\n",
    "        }\n",
    "      }\n",
    "      statisticWidgets {\n",
    "        edges {\n",
    "          node {\n",
    "            title\n",
    "            dimensionCategory\n",
    "            performanceMetric\n",
    "            aggregation\n",
    "            predictionValueClass {\n",
    "              id\n",
    "              name\n",
    "            }\n",
    "            rankingAtK\n",
    "            gridPosition\n",
    "            timeSeriesMetricType\n",
    "            id\n",
    "            creationStatus\n",
    "            filters {\n",
    "              id\n",
    "              filterType\n",
    "              operator\n",
    "              dimension {\n",
    "                id\n",
    "                name\n",
    "                dataType\n",
    "              }\n",
    "              dimensionValues {\n",
    "                id\n",
    "                value\n",
    "              }\n",
    "              binaryValues\n",
    "              numericValues\n",
    "              categoricalValues\n",
    "            }\n",
    "            dimension {\n",
    "              id\n",
    "              name\n",
    "              dataType\n",
    "            }\n",
    "          }\n",
    "        }\n",
    "      }\n",
    "      barChartWidgets {\n",
    "        edges {\n",
    "          node {\n",
    "            title\n",
    "            gridPosition\n",
    "            creationStatus\n",
    "            sortOrder\n",
    "            yMin\n",
    "            yMax\n",
    "            isNormalized\n",
    "            binOption\n",
    "            numBins\n",
    "            customBins\n",
    "            quantiles\n",
    "            performanceMetric\n",
    "            plots {\n",
    "              title\n",
    "              position\n",
    "              modelId\n",
    "              dimension {\n",
    "                id\n",
    "                name\n",
    "                dataType\n",
    "              }\n",
    "              dimensionCategory\n",
    "              aggregation\n",
    "              rankingAtK\n",
    "              filters {\n",
    "                id\n",
    "                filterType\n",
    "                operator\n",
    "                dimension {\n",
    "                  id\n",
    "                  name\n",
    "                  dataType\n",
    "                }\n",
    "                dimensionValues {\n",
    "                  id\n",
    "                  value\n",
    "                }\n",
    "                binaryValues\n",
    "                numericValues\n",
    "                categoricalValues\n",
    "              }\n",
    "            }\n",
    "          }\n",
    "        }\n",
    "      }\n",
    "      lineChartWidgets {\n",
    "        edges {\n",
    "          node {\n",
    "            title\n",
    "            gridPosition\n",
    "            timeSeriesMetricType\n",
    "            creationStatus\n",
    "            yMin\n",
    "            yMax\n",
    "            plots {\n",
    "              title\n",
    "              position\n",
    "              modelId\n",
    "              dimensionCategory\n",
    "              metric\n",
    "              customMetric {\n",
    "                id\n",
    "              }\n",
    "              splitByEnabled\n",
    "              splitByDimension\n",
    "              splitByDimensionCategory\n",
    "              cohorts\n",
    "              dimension {\n",
    "                id\n",
    "              }\n",
    "              predictionValueClass {\n",
    "                id\n",
    "              }\n",
    "              rankingAtK\n",
    "              filters {\n",
    "                id\n",
    "                filterType\n",
    "                operator\n",
    "                dimension {\n",
    "                  id\n",
    "                  name\n",
    "                  dataType\n",
    "                }\n",
    "                dimensionValues {\n",
    "                  id\n",
    "                  value\n",
    "                }\n",
    "                binaryValues\n",
    "                numericValues\n",
    "                categoricalValues\n",
    "              }\n",
    "              modelPrimaryBaseline {\n",
    "                referenceType\n",
    "                filteredBaseline {\n",
    "                  modelEnvironmentName\n",
    "                  filteredMovingWindowSeconds\n",
    "                  filteredMovingWindowDelaySeconds\n",
    "                  filteredStartDate\n",
    "                  filteredEndDate\n",
    "                }\n",
    "                modelVersionEnvironmentBatch {\n",
    "                  id\n",
    "                }\n",
    "                baselineType\n",
    "                startDateOverride\n",
    "                endDateOverride\n",
    "              }\n",
    "              comparisonDataset {\n",
    "                referenceSource\n",
    "                referenceBaselineId\n",
    "              }\n",
    "            }\n",
    "          }\n",
    "        }\n",
    "      }\n",
    "      monitorLineChartWidgets {\n",
    "        edges {\n",
    "          node {\n",
    "            title\n",
    "            gridPosition\n",
    "            timeSeriesMetricType\n",
    "            creationStatus\n",
    "            yMin\n",
    "            yMax\n",
    "            monitor {\n",
    "              __typename\n",
    "              ... on WidgetMonitor {\n",
    "                id\n",
    "                name\n",
    "              }\n",
    "            }\n",
    "          }\n",
    "        }\n",
    "      }\n",
    "    }\n",
    "  }\n",
    "}\n",
    "\n",
    "\n",
    "  \"\"\"\n",
    ")\n",
    "\n",
    "\n",
    "# Base query parameters for fetching monitors\n",
    "params = {\"dashboardId\": str(DASHBOARD_ID)}\n",
    "\n",
    "paged_response = client.execute(dashboard_query, params)"
   ]
  },
  {
   "cell_type": "markdown",
   "metadata": {
    "id": "pxi8OYLllmmU"
   },
   "source": [
    "### Seperate each widget type to use later"
   ]
  },
  {
   "cell_type": "code",
   "execution_count": null,
   "metadata": {},
   "outputs": [],
   "source": [
    "stats = paged_response[\"node\"][\"statisticWidgets\"]\n",
    "stats_df = pd.json_normalize(stats[\"edges\"], sep=\".\")"
   ]
  },
  {
   "cell_type": "code",
   "execution_count": null,
   "metadata": {},
   "outputs": [],
   "source": [
    "linecharts = paged_response[\"node\"][\"lineChartWidgets\"]\n",
    "linechart_df = pd.json_normalize(linecharts[\"edges\"], sep=\".\")"
   ]
  },
  {
   "cell_type": "code",
   "execution_count": null,
   "metadata": {},
   "outputs": [],
   "source": [
    "barcharts = paged_response[\"node\"][\"barChartWidgets\"]\n",
    "barcharts_df = pd.json_normalize(barcharts[\"edges\"], sep=\".\")"
   ]
  },
  {
   "cell_type": "code",
   "execution_count": null,
   "metadata": {},
   "outputs": [],
   "source": [
    "monitors = paged_response[\"node\"][\"monitorLineChartWidgets\"]\n",
    "monitors_df = pd.json_normalize(monitors[\"edges\"], sep=\".\")"
   ]
  },
  {
   "cell_type": "code",
   "execution_count": null,
   "metadata": {},
   "outputs": [],
   "source": [
    "drift = paged_response[\"node\"][\"driftLineChartWidgets\"]\n",
    "drift_df = pd.json_normalize(drift[\"edges\"], sep=\".\")"
   ]
  },
  {
   "cell_type": "markdown",
   "metadata": {
    "id": "__0kWAaskKUk"
   },
   "source": [
    "# Create New Jobs"
   ]
  },
  {
   "cell_type": "markdown",
   "metadata": {
    "id": "2rLvXuBI3Ila"
   },
   "source": [
    "## Get New Model Metadata\n",
    "\n",
    "Retrieve the new model's environment ID for later use."
   ]
  },
  {
   "cell_type": "code",
   "execution_count": null,
   "metadata": {},
   "outputs": [],
   "source": [
    "NEW_MODEL_ID = \"\"\n",
    "NEW_MODEL_ENV = \"production\""
   ]
  },
  {
   "cell_type": "code",
   "execution_count": null,
   "metadata": {},
   "outputs": [],
   "source": [
    "model_query = gql(\n",
    "    \"\"\"\n",
    "  query getModelMetaData($modelID:ID!){\n",
    "  node(id: $modelID) {\n",
    "    ... on Model {\n",
    "      name\n",
    "      modelType\n",
    "      modelEnvironments{\n",
    "        environmentId\n",
    "        name\n",
    "      }\n",
    "      uri\n",
    "    }\n",
    "  }\n",
    "}\n",
    "    \"\"\"\n",
    ")\n",
    "\n",
    "\n",
    "# Base query parameters for fetching monitors\n",
    "params = {\"modelID\": str(NEW_MODEL_ID)}\n",
    "\n",
    "# An array of monitors that we will append to\n",
    "metadata = []\n",
    "model_name = \"\"\n",
    "\n",
    "\n",
    "paged_response = client.execute(model_query, params)\n",
    "\n",
    "print(paged_response)"
   ]
  },
  {
   "cell_type": "code",
   "execution_count": null,
   "metadata": {},
   "outputs": [],
   "source": [
    "df = pd.json_normalize(paged_response, record_path=None)\n",
    "\n",
    "df = df.explode(\"node.modelEnvironments\").reset_index(drop=True)\n",
    "\n",
    "\n",
    "model_env_df = pd.json_normalize(df[\"node.modelEnvironments\"])\n",
    "\n",
    "result_df = pd.concat(\n",
    "    [df.drop(columns=[\"node.modelEnvironments\"]), model_env_df], axis=1\n",
    ")"
   ]
  },
  {
   "cell_type": "code",
   "execution_count": null,
   "metadata": {},
   "outputs": [],
   "source": [
    "# Assuming 'name' matches 'NEW_MODEL_ENV' and there's exactly one such match\n",
    "environmentId_value = result_df.loc[\n",
    "    result_df[\"name\"] == NEW_MODEL_ENV, \"environmentId\"\n",
    "].item()\n",
    "environmentId_value"
   ]
  },
  {
   "cell_type": "markdown",
   "metadata": {
    "id": "SUVd9hZV3QMm"
   },
   "source": [
    "## Get features"
   ]
  },
  {
   "cell_type": "markdown",
   "metadata": {
    "id": "xTKwlFWQ0XUd"
   },
   "source": [
    "Fetch and update features including their IDs for the new model's dashboard configuration."
   ]
  },
  {
   "cell_type": "code",
   "execution_count": null,
   "metadata": {},
   "outputs": [],
   "source": [
    "features_query = gql(\n",
    "    \"\"\"\n",
    "    query getFeatures($modelId: ID!, $cursor: String) {\n",
    "        model: node(id: $modelId) {\n",
    "            ... on Model {\n",
    "                name\n",
    "              \tid\n",
    "              \tmodelEnvironments{\n",
    "                  environmentId\n",
    "                  name\n",
    "                }\n",
    "                modelSchema {\n",
    "                    features(first: 20, after: $cursor, filter: { exclude:{ dataTypes:EMBEDDING }}) {\n",
    "                        edges {\n",
    "                            feature: node {\n",
    "                                dimension {\n",
    "                                  id\n",
    "                                    name,\n",
    "                                    dataType,\n",
    "                                  category\n",
    "                                }\n",
    "                            }\n",
    "                        }\n",
    "                        pageInfo {\n",
    "                            endCursor\n",
    "                        }\n",
    "                    }\n",
    "                }\n",
    "            }\n",
    "        }\n",
    "    }\n",
    "\n",
    "\"\"\"\n",
    ")\n",
    "\n",
    "# Base query parameters for fetching features\n",
    "params = {\"modelId\": NEW_MODEL_ID, \"cursor\": None}\n",
    "# An array of features that we will append to\n",
    "feature_data = []\n",
    "model_name = \"\"\n",
    "\n",
    "# Execute the query on the transport. Continue to pull data until there is no more features\n",
    "while True:\n",
    "    paged_response = client.execute(features_query, params)\n",
    "    model_name = paged_response[\"model\"][\"name\"]\n",
    "    # Append the monitors to your list\n",
    "    feature_data.extend(\n",
    "        paged_response[\"model\"][\"modelSchema\"][\"features\"][\"edges\"]\n",
    "    )\n",
    "    # If there is another page of information, point the cursor to the next page and fetch more\n",
    "    end_cursor = paged_response[\"model\"][\"modelSchema\"][\"features\"][\"pageInfo\"][\n",
    "        \"endCursor\"\n",
    "    ]\n",
    "    print(\"pageInfo end_cursor %s\" % (end_cursor))\n",
    "    if end_cursor:\n",
    "        print(\"There is another page of features. Loading more.\")\n",
    "        params[\"cursor\"] = end_cursor\n",
    "    else:\n",
    "        print(\"No more features to pull. The list is complete!\")\n",
    "        break\n",
    "    time.sleep(1)\n",
    "\n",
    "print(\"Retrieved {} features\".format(len(feature_data)))"
   ]
  },
  {
   "cell_type": "code",
   "execution_count": null,
   "metadata": {},
   "outputs": [],
   "source": [
    "features = pd.json_normalize(feature_data, sep=\".\")\n",
    "features.head()"
   ]
  },
  {
   "cell_type": "markdown",
   "metadata": {
    "id": "ODOVnM7Kwuij"
   },
   "source": [
    "## Create New Dashboard\n",
    "\n",
    "When creating a new custom dashboard, the first step is to create an empty state dashboard using the `createDashboard` mutation. This mutation provides you with a `dashboardId` which will be used subsequently when adding widgets."
   ]
  },
  {
   "cell_type": "code",
   "execution_count": null,
   "metadata": {},
   "outputs": [],
   "source": [
    "create_mutation = gql(\"\"\"\n",
    "mutation createDashTest($name: String!, $spaceId: ID!) {\n",
    "  createDashboard(input: { name: $name, spaceId: $spaceId }) {\n",
    "    dashboard {\n",
    "      id\n",
    "    }\n",
    "  }\n",
    "}\n",
    "\"\"\")"
   ]
  },
  {
   "cell_type": "code",
   "execution_count": null,
   "metadata": {},
   "outputs": [],
   "source": [
    "new_dashboard_name = \"Test Dashboard\"\n",
    "SPACE_ID = \"\"\n",
    "params = {\"name\": new_dashboard_name, \"spaceId\": SPACE_ID}\n",
    "dashboard_response = client.execute(create_mutation, params)"
   ]
  },
  {
   "cell_type": "code",
   "execution_count": null,
   "metadata": {},
   "outputs": [],
   "source": [
    "DASHBOARD_ID = dashboard_response[\"createDashboard\"][\"dashboard\"][\"id\"]"
   ]
  },
  {
   "cell_type": "markdown",
   "metadata": {
    "id": "xMq2rL6OeID-"
   },
   "source": [
    "## Adding Distribution Widgets\n",
    "\n",
    "This section explains how to modify the distribution widgets to align with the new model's data dimensions. Depending on whether your models share the same feature space, you may choose to either retain the existing features or update them using the feature IDs retrieved from the previous queries."
   ]
  },
  {
   "cell_type": "markdown",
   "metadata": {
    "id": "RtVq37EjMypi"
   },
   "source": [
    "### Example: Updating Feature IDs in Widgets\n",
    "Here’s how you can update the feature IDs for your distribution widgets using the retrieved feature data. This example assumes you have a dictionary of updates ready to apply based on feature names."
   ]
  },
  {
   "cell_type": "code",
   "execution_count": null,
   "metadata": {},
   "outputs": [],
   "source": [
    "bar_chart_updates = {\n",
    "    \"feature_name\": {\n",
    "        \"feature\": \"delinq_2yrs\",\n",
    "        \"title\": \"distribution for delinq_2yrs\",\n",
    "    },\n",
    "    \"feature_name_2\": {\"feature\": \"state\", \"title\": \"distribution for state\"},\n",
    "    \"state\": {\"feature\": \"dti\", \"title\": \"distribution of dti\"},\n",
    "}"
   ]
  },
  {
   "cell_type": "code",
   "execution_count": null,
   "metadata": {},
   "outputs": [],
   "source": [
    "createBarChartWidgetMutation = gql(\"\"\"\n",
    "\n",
    "mutation createBarChartWidget(\n",
    "$title:String!\n",
    "  $creationStatus: WidgetCreationStatus!\n",
    "  $dashboardId:ID!\n",
    "  $gridPosition:[Int!]!\n",
    "  $performanceMetric: PerformanceMetric\n",
    "  $isNormalized:Boolean!\n",
    "  $plots:[BarChartPlotInputInput!]!\n",
    "\n",
    "\n",
    "){\n",
    "  createBarChartWidget(\n",
    "    input:\n",
    "  {\n",
    "    title:$title\n",
    "    creationStatus:$creationStatus\n",
    "    performanceMetric: $performanceMetric\n",
    "    dashboardId: $dashboardId # returned from createDashboard\n",
    "    #how can we automatically get the min available grid position?\n",
    "    gridPosition: $gridPosition\n",
    "    isNormalized: $isNormalized # true or false; unless user explictly says it default to False\n",
    "    plots: $plots\n",
    "  }\n",
    "  ){\n",
    "    barChartWidget{\n",
    "      id\n",
    "\n",
    "    }\n",
    "  }\n",
    "}\n",
    "\"\"\")"
   ]
  },
  {
   "cell_type": "code",
   "execution_count": null,
   "metadata": {},
   "outputs": [],
   "source": [
    "for id, existing_row in barcharts_df.iterrows():\n",
    "    title = existing_row[\"node.title\"]\n",
    "    gridPosition = existing_row[\"node.gridPosition\"]\n",
    "    creationStatus = existing_row[\"node.creationStatus\"]\n",
    "    isNormalized = existing_row[\"node.isNormalized\"]\n",
    "    performanceMetric = existing_row[\"node.performanceMetric\"]\n",
    "    plots = existing_row[\"node.plots\"]\n",
    "    for plot in plots:\n",
    "        plot[\"modelId\"] = NEW_MODEL_ID\n",
    "        plot[\"modelVersionIds\"] = []\n",
    "        plot[\"modelVersionEnvironmentMetadataIds\"] = []\n",
    "        if plot[\"title\"] in bar_chart_updates:\n",
    "            new_dim_name = bar_chart_updates[plot[\"title\"]][\"feature\"]\n",
    "            new_plot_title = bar_chart_updates[plot[\"title\"]][\"title\"]\n",
    "            new_dimension = features.loc[\n",
    "                features[\"feature.dimension.name\"] == new_dim_name\n",
    "            ].iloc[0]\n",
    "            plot[\"dimension\"][\"id\"] = new_dimension[\"feature.dimension.id\"]\n",
    "            plot[\"dimension\"][\"name\"] = new_dimension[\"feature.dimension.name\"]\n",
    "            plot[\"dimension\"][\"dataType\"] = new_dimension[\n",
    "                \"feature.dimension.dataType\"\n",
    "            ]\n",
    "\n",
    "    params = {\n",
    "        \"title\": title,\n",
    "        \"gridPosition\": gridPosition,\n",
    "        \"creationStatus\": creationStatus,\n",
    "        \"dashboardId\": (DASHBOARD_ID),\n",
    "        \"performanceMetric\": performanceMetric,\n",
    "        \"isNormalized\": isNormalized,\n",
    "        \"plots\": plots,\n",
    "    }\n",
    "    result = client.execute(createBarChartWidgetMutation, params)\n",
    "    # print(f'Widget created: {title}')\n",
    "    \"\"\"\n",
    "      give a bit of breathing room between updates\n",
    "    \"\"\"\n",
    "    time.sleep(0.1)"
   ]
  },
  {
   "cell_type": "markdown",
   "metadata": {
    "id": "EP7DK_Uy1MXg"
   },
   "source": [
    "## Adding Time Series Widgets"
   ]
  },
  {
   "cell_type": "markdown",
   "metadata": {
    "id": "oR5QYXdqLsz4"
   },
   "source": [
    "This section details how to update the parameters for line chart widgets when adapting them to a new model within the dashboard. You have the option to retain existing metrics and dimensions or modify them to better align with the new model's data structure."
   ]
  },
  {
   "cell_type": "markdown",
   "metadata": {
    "id": "MJx9Uuo1vlLc"
   },
   "source": [
    "### Example: Updating Line Chart Parameters\n",
    "Below are examples of how to update the parameters for two different line chart widgets. In the first widget, we update only the model ID and environment name, while in the second widget, we change the metric to falseNegativeRate instead of mae."
   ]
  },
  {
   "cell_type": "code",
   "execution_count": null,
   "metadata": {},
   "outputs": [],
   "source": [
    "line_chart_updates = {\n",
    "    \"MAE by State\": {\n",
    "        \"plots\": {\n",
    "            \"title\": \"test mae\",\n",
    "            \"modelId\": NEW_MODEL_ID,\n",
    "            \"modelVersionIds\": [],\n",
    "            \"dimensionCategory\": \"predictionClass\",\n",
    "            \"metric\": \"mae\",\n",
    "            \"position\": 1,\n",
    "            \"modelEnvironmentName\": NEW_MODEL_ENV,\n",
    "            \"modelVersionIds\": [],\n",
    "            \"filters\": [],\n",
    "        },\n",
    "        \"title\": \"MAE\",\n",
    "    },\n",
    "    \"MAE by home_ownership\": {\n",
    "        \"plots\": {\n",
    "            \"title\": \"test fnr\",\n",
    "            \"position\": 0,\n",
    "            \"modelId\": NEW_MODEL_ID,\n",
    "            \"dimensionCategory\": \"predictionClass\",\n",
    "            \"metric\": \"falseNegativeRate\",\n",
    "            \"modelId\": NEW_MODEL_ID,\n",
    "            \"modelEnvironmentName\": NEW_MODEL_ENV,\n",
    "            \"modelVersionIds\": [],\n",
    "            \"filters\": [],\n",
    "        },\n",
    "        \"title\": \"predictionClass\",\n",
    "    },\n",
    "}"
   ]
  },
  {
   "cell_type": "code",
   "execution_count": null,
   "metadata": {},
   "outputs": [],
   "source": [
    "createLineChartWidgetMutation = gql(\"\"\"\n",
    "mutation createLineChartWidget(\n",
    "  $title:String!\n",
    "  $dashboardId:ID!\n",
    "  $gridPosition: [Int!]\n",
    "  $plots:[LineChartPlotInputInput!]!\n",
    "  $timeSeriesMetricType: TimeSeriesMetricCategory!\n",
    "){\n",
    "  createLineChartWidget(\n",
    "    input:\n",
    "  {\n",
    "    gridPosition: $gridPosition\n",
    "    title:$title\n",
    "    timeSeriesMetricType: $timeSeriesMetricType\n",
    "    dashboardId: $dashboardId\n",
    "    plots: $plots\n",
    "    widgetType: lineChartWidget\n",
    "  }\n",
    "  ){\n",
    "    lineChartWidget{\n",
    "      id\n",
    "    }\n",
    "  }\n",
    "}\n",
    "\"\"\")"
   ]
  },
  {
   "cell_type": "code",
   "execution_count": null,
   "metadata": {},
   "outputs": [],
   "source": [
    "for id, existing_row in linechart_df.iterrows():\n",
    "    title = existing_row[\"node.title\"]\n",
    "    gridPosition = existing_row[\"node.gridPosition\"]\n",
    "    timeSeriesMetricType = existing_row[\"node.timeSeriesMetricType\"]\n",
    "    if title in line_chart_updates:\n",
    "        new_params = line_chart_updates[title]\n",
    "        plots = new_params[\"plots\"]\n",
    "        widget_title = new_params[\"title\"]\n",
    "        params = {\n",
    "            \"title\": widget_title,\n",
    "            \"gridPosition\": gridPosition,\n",
    "            \"dashboardId\": str(DASHBOARD_ID),\n",
    "            \"plots\": [plots],\n",
    "            \"timeSeriesMetricType\": timeSeriesMetricType,\n",
    "        }\n",
    "        result = client.execute(createLineChartWidgetMutation, params)\n",
    "        print(f\"Widget created: {title}\")\n",
    "    \"\"\"\n",
    "      give a bit of breathing room between updates\n",
    "    \"\"\"\n",
    "\n",
    "    time.sleep(0.1)"
   ]
  },
  {
   "cell_type": "markdown",
   "metadata": {
    "id": "EzTCBQca7IDU"
   },
   "source": [
    "## Adding Drift Widgets\n",
    "\n",
    "In this section, we will focus on adding drift widgets to your dashboard, which involves retrieving a baseline ID and updating the widget parameters to suit the new model's metrics and dimensions.\n"
   ]
  },
  {
   "cell_type": "markdown",
   "metadata": {
    "id": "F_oIUW0fMek_"
   },
   "source": [
    "### Retrieve a Baseline ID\n",
    "Before creating drift widgets, you must retrieve a baseline ID from your existing model."
   ]
  },
  {
   "cell_type": "code",
   "execution_count": null,
   "metadata": {},
   "outputs": [],
   "source": [
    "getModelBaselineMutation = gql(\n",
    "    \"\"\"\n",
    "query getBaseline($modelID:ID!){\n",
    "  node(id: $modelID) {\n",
    "    ... on Model {\n",
    "      modelPrimaryBaseline{\n",
    "        id\n",
    "      }\n",
    "    }\n",
    "  }\n",
    "}\n",
    "    \"\"\"\n",
    ")\n",
    "\n",
    "baseline_response = client.execute(\n",
    "    getModelBaselineMutation, {\"modelID\": NEW_MODEL_ID}\n",
    ")\n",
    "BASELINE_ID = baseline_response[\"node\"][\"modelPrimaryBaseline\"][\"id\"]"
   ]
  },
  {
   "cell_type": "markdown",
   "metadata": {
    "id": "pAxZtvpxMkJ5"
   },
   "source": [
    "### Example: Updating Drift Widget Parameters\n",
    "Once you have the baseline ID, you can proceed to update the drift widget parameters to reflect the metrics and dimensions appropriate for the new model. This section provides an example of how to keep the drift metric and dimension unchanged while updating the model_id and baseline_id to reflect the new model settings."
   ]
  },
  {
   "cell_type": "code",
   "execution_count": null,
   "metadata": {},
   "outputs": [],
   "source": [
    "drift_chart_updates = {\n",
    "    \"drift test\": {\n",
    "        \"plots\": [\n",
    "            {\n",
    "                \"title\": \"test drift\",\n",
    "                \"position\": 0,\n",
    "                \"modelId\": NEW_MODEL_ID,\n",
    "                \"dimensionCategory\": \"predictionClass\",\n",
    "                \"metric\": \"psi\",\n",
    "                \"filters\": [],\n",
    "                \"modelVersionIds\": [],\n",
    "                \"modelVersionEnvironmentMetadataIds\": [],\n",
    "                \"modelEnvironmentName\": \"production\",\n",
    "                \"comparisonDatasetModelBaselineId\": BASELINE_ID,\n",
    "            }\n",
    "        ],\n",
    "        \"title\": \"Prediction Drift\",\n",
    "    }\n",
    "}"
   ]
  },
  {
   "cell_type": "code",
   "execution_count": null,
   "metadata": {},
   "outputs": [],
   "source": [
    "createDriftWidgetMutation = gql(\n",
    "    \"\"\"\n",
    "    mutation createDriftWidget(\n",
    "    $title:String!\n",
    "      $dashboardId:ID!\n",
    "      $plots:[LineChartPlotInputInput!]!\n",
    "      $timeSeriesMetricType: TimeSeriesMetricCategory!\n",
    "    ){\n",
    "      createLineChartWidget(\n",
    "        input:\n",
    "      {\n",
    "        title:$title\n",
    "        timeSeriesMetricType: $timeSeriesMetricType\n",
    "        dashboardId: $dashboardId\n",
    "        plots: $plots\n",
    "        widgetType: driftLineChartWidget\n",
    "      }\n",
    "      ){\n",
    "        lineChartWidget{\n",
    "          id\n",
    "        }\n",
    "      }\n",
    "    }\n",
    "    \"\"\"\n",
    ")"
   ]
  },
  {
   "cell_type": "code",
   "execution_count": null,
   "metadata": {},
   "outputs": [],
   "source": [
    "for id, existing_row in drift_df.iterrows():\n",
    "    title = existing_row[\"node.title\"]\n",
    "    gridPosition = existing_row[\"node.gridPosition\"]\n",
    "    creationStatus = existing_row[\"node.creationStatus\"]\n",
    "    plots = existing_row[\"node.plots\"]\n",
    "    # print(json.dumps(plot, indent=4))\n",
    "    new_plots = {}\n",
    "    if title in line_chart_updates:\n",
    "        new_params = drift_chart_updates[title]\n",
    "        new_plot = new_params[\"plots\"]\n",
    "        widget_title = new_params[\"title\"]\n",
    "        params = {\n",
    "            \"title\": title,\n",
    "            \"gridPosition\": gridPosition,\n",
    "            \"creationStatus\": creationStatus,\n",
    "            \"dashboardId\": (DASHBOARD_ID),\n",
    "            \"plots\": new_plots,\n",
    "        }\n",
    "        result = client.execute(createDriftWidgetMutation, params)\n",
    "        # print(f'Widget created: {title}')\n",
    "        \"\"\"\n",
    "        give a bit of breathing room between updates\n",
    "      \"\"\"\n",
    "        time.sleep(0.1)"
   ]
  }
 ],
 "metadata": {
  "language_info": {
   "name": "python"
  }
 },
 "nbformat": 4,
 "nbformat_minor": 0
}
