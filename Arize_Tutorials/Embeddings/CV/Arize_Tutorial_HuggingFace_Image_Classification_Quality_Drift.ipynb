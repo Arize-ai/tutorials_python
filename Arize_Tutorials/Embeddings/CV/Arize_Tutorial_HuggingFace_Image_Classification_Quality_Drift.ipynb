{
  "cells": [
    {
      "cell_type": "markdown",
      "source": [
        "<img src=\"https://storage.googleapis.com/arize-assets/arize-logo-white.jpg\" width=\"200\"/>\n",
        "\n",
        "# <center>Getting Started with the Arize Platform</center>\n",
        "## <center>Investigating Embedding Drift in Image Classification</center>\n",
        "\n",
        "**In this walkthrough, we are going to ingest embedding data and look at embedding drift.** \n",
        "\n",
        "In this scenario, you are in charge of maintaining an Image Classification model. Your model, resnet-50, will classify the input images into the 10 predefined categories of the Fashion MNIST (see [dataset](https://huggingface.co/datasets/arize-ai/fashion_mnist_quality_drift)). However, once the model is released into production, you notice that the performance of the model has degraded over a period of time.\n",
        "\n",
        "\n",
        "This notebook will show you how Arize can automatically surface and troubleshoot the reason for this performance degradation by analyzing _image vectors_ associated with the input image so that you can take the right action to retrain your model/clean your data, saving you time and effort to correctly wrangle the datasets and visualize them. In this example, there are worse quality images in the production set during some period of time.\n",
        "\n",
        "It is worth noting that, according to our research, inspecting embedding drift can surface problems with your data before they cause performance degradation.\n",
        "\n",
        "In this tutorial, we will start from scratch. We will:\n",
        "* Download the data\n",
        "* Preprocess the data\n",
        "* Train the model\n",
        "* Extract image vectors and predictions\n",
        "* Log the inferences into the Arize Plaftorm\n",
        "\n",
        "We will be using [🤗 Hugging Face](https://huggingface.co/)'s open source libraries to make this process extremely easy. In particular, we will use:\n",
        "* [🤗 Datasets](https://huggingface.co/docs/datasets/index): a library for easily accessing and sharing datasets, and evaluation metrics for Computer Vision, Natural Language Processing (NLP), and audio tasks.\n",
        "* [🤗 Transformers](https://huggingface.co/docs/transformers/index): a library to easily download and use state-of-the-art pre-trained models. Using pre-trained models can lower your compute costs, reduce your carbon footprint, and save you time from training a model from scratch.\n",
        "\n",
        "Before we start, if this is your first Arize Tutorial, we recommend that you complete [Send Data to Arize in 5 Easy Steps](https://colab.research.google.com/github/Arize-ai/client_python/blob/main/arize/examples/tutorials/Arize_Tutorials/Quick_Start/Send_data_to_Arize_in_5_easy_steps_classification.ipynb) before continuing. If you are familiar with sending data to Arize, it only takes a few more lines to send embedding data. \n",
        "\n",
        "Let's get started!"
      ],
      "metadata": {
        "id": "QOudyT6lPBqp"
      }
    },
    {
      "cell_type": "markdown",
      "source": [
        "# Step 0. Setup and Getting the Data\n",
        "\n",
        "We will first install 🤗Hugging Face's `datasets` and `transformers` libraries, mentioned above. In addition, we will import some metrics from `sklearn`. Find out more [here](https://github.com/scikit-learn/scikit-learn).\n",
        "\n",
        "We'll explain each of the imports below as we use them through this tutorial.\n",
        "\n",
        "\n",
        "## Install Dependencies and Import Libraries 📚"
      ],
      "metadata": {
        "id": "_X9GuXoSXleA"
      }
    },
    {
      "cell_type": "code",
      "execution_count": null,
      "source": [
        "!pip install -q datasets transformers arize umap-learn pandas==1.3.5 pickle5\n",
        "\n",
        "import tensorflow as tf \n",
        "import pandas as pd\n",
        "import numpy as np\n",
        "import torch\n",
        "from datasets import load_dataset\n",
        "from transformers import AutoModelForImageClassification, TrainingArguments, Trainer, AutoFeatureExtractor\n",
        "from keras.preprocessing.image import image\n",
        "from transformers import ConvNextFeatureExtractor, ConvNextModel, ImageFeatureExtractionMixin\n",
        "from torchvision.transforms import RandomResizedCrop, Compose, Normalize, ToTensor\n",
        "\n",
        "from sklearn.metrics import accuracy_score, f1_score\n",
        "\n",
        "from matplotlib import pyplot as plt\n",
        "\n",
        "from datetime import datetime\n",
        "import uuid\n",
        "from arize.pandas.logger import Client, Schema\n",
        "from arize.utils.types import Environments, ModelTypes, EmbeddingColumnNames"
      ],
      "outputs": [],
      "metadata": {
        "id": "QvPo5LKZjpfs"
      }
    },
    {
      "cell_type": "markdown",
      "source": [
        "## Check if GPU is available\n",
        "Here we use Pytorch to check whether a GPU is available or not. When appropriate, we will use PyTorch's `nn.Module.to()` method to ensure that the model will run on the GPU if we have one."
      ],
      "metadata": {
        "id": "8mF98asfZvUf"
      }
    },
    {
      "cell_type": "code",
      "execution_count": null,
      "source": [
        "device = torch.device(\"cuda\" if torch.cuda.is_available() else \"cpu\")"
      ],
      "outputs": [],
      "metadata": {
        "id": "Ef8TK-TxZswV"
      }
    },
    {
      "cell_type": "markdown",
      "source": [
        "## **🌐 Download the Data**\n",
        "\n",
        "The easiest way to load a dataset is from the [Hugging Face Hub](https://huggingface.co/datasets). There are already over 6000 datasets on the Hub. The [arize-ai/fashion_mnist_quality_drift](https://huggingface.co/datasets/arize-ai/fashion_mnist_quality_drift) dataset has been crafted by Arize for this example notebook.\n",
        "\n",
        "Thanks to Hugging Face 🤗 Datasets, we can download the dataset in one line of code. The `Dataset` object comes equipped with methods that make it very easy to inspect, pre-process, and post-process your data.\n"
      ],
      "metadata": {
        "id": "74GhmA4Adbe2"
      }
    },
    {
      "cell_type": "code",
      "execution_count": null,
      "source": [
        "dataset = load_dataset(\"arize-ai/fashion_mnist_label_drift\")\n",
        "dataset"
      ],
      "outputs": [],
      "metadata": {
        "id": "JNt3UFf8pwxD"
      }
    },
    {
      "cell_type": "markdown",
      "source": [
        "You can select the splits of the dataset as you would in a dictionary."
      ],
      "metadata": {
        "id": "wehqNFNcMiuV"
      }
    },
    {
      "cell_type": "code",
      "execution_count": null,
      "source": [
        "train_ds, val_ds, prod_ds = dataset['training'], dataset['validation'], dataset['production']"
      ],
      "outputs": [],
      "metadata": {
        "id": "hQI9Himx6P9R"
      }
    },
    {
      "cell_type": "markdown",
      "source": [
        "## Inspect the Data\n",
        "\n",
        "It is often convenient to convert a `Dataset` object to a Pandas `DataFrame` so we can access high-level APIs for data visualization. 🤗 Datasets provides a `set_format()` method that allows us to change the output format of the `Dataset`. This does not change the underlying data format, an Arrow table. When the `DataFrame` format is no longer needed, we can reset the output format using `reset_format()`."
      ],
      "metadata": {
        "id": "EMkfZThnIsR3"
      }
    },
    {
      "cell_type": "code",
      "execution_count": null,
      "source": [
        "train_ds.set_format(\"pandas\")\n",
        "display(train_ds[:].head())\n",
        "train_ds.reset_format()"
      ],
      "outputs": [],
      "metadata": {
        "id": "ia5ARILmIrqB"
      }
    },
    {
      "cell_type": "markdown",
      "source": [
        "Let's also take a look at the categories we will be classifiying into:"
      ],
      "metadata": {
        "id": "o9RUh3yeIyUD"
      }
    },
    {
      "cell_type": "code",
      "execution_count": null,
      "source": [
        "labels = train_ds.features[\"label\"]\n",
        "labels"
      ],
      "outputs": [],
      "metadata": {
        "id": "nPVXvRoJI3eQ"
      }
    },
    {
      "cell_type": "markdown",
      "source": [
        "# Step 1. Setting up your Image Classification Model"
      ],
      "metadata": {
        "id": "ALcGD4v6I_bw"
      }
    },
    {
      "cell_type": "markdown",
      "source": [
        "## Pre-processing the data\n",
        "\n",
        "In order to input our data into our model for fine-tuning, we first need to perform some transformations: *convert to RGB* and *feature extraction*.\n",
        "\n",
        "\n"
      ],
      "metadata": {
        "id": "41moQxywJEIJ"
      }
    },
    {
      "cell_type": "markdown",
      "source": [
        "### Convert greyscale images to RGB\n",
        "\n",
        "We define the function `convert_to_rgb()` and we apply it to the entire dataset using the `map()` method which will convert all the images from greyscale to RGB."
      ],
      "metadata": {}
    },
    {
      "cell_type": "code",
      "execution_count": null,
      "source": [
        "def convert_to_rgb(batch):\n",
        "  return {'image': [image.convert(\"RGB\") for image in batch['image']]}"
      ],
      "outputs": [],
      "metadata": {}
    },
    {
      "cell_type": "code",
      "execution_count": null,
      "source": [
        "process_batch_size = 100\n",
        "train_ds = train_ds.map(convert_to_rgb, batched = True, batch_size = process_batch_size)\n",
        "val_ds = val_ds.map(convert_to_rgb, batched = True, batch_size = process_batch_size)\n",
        "prod_ds = prod_ds.map(convert_to_rgb, batched = True, batch_size = process_batch_size)"
      ],
      "outputs": [],
      "metadata": {}
    },
    {
      "cell_type": "markdown",
      "source": [
        "### Feature Extractor\n",
        "\n",
        "For audio and vision tasks, a feature extractor processes the audio signal or image into the correct input format. 🤗 Transformers provides the `AutoFeatureExtractor` class, which allows us to quickly download the FeatureExtractor required by the pre-trained model of our choosing. In this tutorial, we will use `microsoft/resnet-50`.\n"
      ],
      "metadata": {
        "id": "LI-7UzFxJD62"
      }
    },
    {
      "cell_type": "code",
      "execution_count": null,
      "source": [
        "feature_extractor = AutoFeatureExtractor.from_pretrained(\"microsoft/resnet-50\", do_resize = True)\n",
        "feature_extractor"
      ],
      "outputs": [],
      "metadata": {
        "id": "_a3vJn4ePC6B"
      }
    },
    {
      "cell_type": "markdown",
      "source": [
        "Image data augmentation is a technique that can be used to artificially expand the size of a training dataset by creating modified versions of images in the dataset. Training deep learning neural network models on more data can result in more skillful models, and the augmentation techniques can create variations of the images that can improve the ability of the fit models to generalize what they have learned to new images.\n",
        "\n",
        "With the feature extractor configuration above, we can now apply some transformations to augment our dataset and improve training results. In this case we chose transformations from the torchvision package: [RandomResizedCrop](https://pytorch.org/vision/main/generated/torchvision.transforms.RandomResizedCrop.html?highlight=randomresizedcrop#torchvision.transforms.RandomResizedCrop) and [Normalize](https://pytorch.org/vision/main/generated/torchvision.transforms.Normalize.html?highlight=normalize#torchvision.transforms.Normalize)."
      ],
      "metadata": {}
    },
    {
      "cell_type": "code",
      "execution_count": null,
      "source": [
        "normalize = Normalize(mean=feature_extractor.image_mean, std=feature_extractor.image_std)\n",
        "_transforms = Compose([RandomResizedCrop(feature_extractor.size), ToTensor(), normalize])"
      ],
      "outputs": [],
      "metadata": {}
    },
    {
      "cell_type": "markdown",
      "source": [
        "### Image augmentation on the entire training set"
      ],
      "metadata": {
        "id": "PzS__gmIPIv6"
      }
    },
    {
      "cell_type": "markdown",
      "source": [
        "Here we will use 🤗 Dataset’s [`with_transform()`](https://huggingface.co/docs/datasets/package_reference/main_classes.html?#datasets.Dataset.with_transform) method to apply the transforms over the entire dataset in batches. Since the transformations are meant to help training, we only apply them to the training and validation dataset.\n",
        "\n",
        "\n"
      ],
      "metadata": {
        "id": "IwMoyqt8PkCS"
      }
    },
    {
      "cell_type": "code",
      "execution_count": null,
      "source": [
        "def augmentation(dataset):\n",
        "    dataset[\"pixel_values\"] = [_transforms(img.convert(\"RGB\")) for img in dataset[\"image\"]]\n",
        "    del dataset[\"image\"]      #deleting dataset[\"image\"] as the model only takes in \"pixel_values\" as inputs  \n",
        "    return dataset"
      ],
      "outputs": [],
      "metadata": {
        "id": "_YbAzxI7RwP6"
      }
    },
    {
      "cell_type": "code",
      "execution_count": null,
      "source": [
        "train_ds = train_ds.with_transform(augmentation)\n",
        "val_ds = val_ds.with_transform(augmentation)"
      ],
      "outputs": [],
      "metadata": {
        "id": "SfLIujP_RwNQ"
      }
    },
    {
      "cell_type": "markdown",
      "source": [
        "## Build the Model\n",
        "\n",
        "Similar to how we obtained the feature extractor, 🤗 Transformers provides the `AutoModelForImageClassification` class, which allows us to quickly download a pre-trained model with a token classification [task head](https://huggingface.co/course/en/chapter2/2?fw=pt#model-heads-making-sense-out-of-numbers) on top. The pre-trained model to use in this tutorial is [microsoft/resnet-50](https://huggingface.co/microsoft/resnet-50).\n",
        "\n",
        "It is important to pass `output_hidden_states = True` to be able to compute the embedding vectors associated with the image (explained below).\n",
        "\n",
        "_NOTE_: You may skip the fine-tuning section if you would like to use a model that Arize has already fine-tuned for you. To skip, set `SKIP_TRAINING = True` and go ahead to [_B) Download the model_](#B\\)-Download-the-fine-tuned-model).\n"
      ],
      "metadata": {
        "id": "g_Eg8zYuSqST"
      }
    },
    {
      "cell_type": "code",
      "execution_count": null,
      "source": [
        "model_name = f\"microsoft/resnet-50\"\n",
        "SKIP_TRAINING = False # Make True if you want to skip training"
      ],
      "outputs": [],
      "metadata": {
        "id": "lZJQzbrnTYqU"
      }
    },
    {
      "cell_type": "markdown",
      "source": [
        "### A) Fine-tune the model"
      ],
      "metadata": {
        "id": "rSwCH1UMTRzA"
      }
    },
    {
      "cell_type": "markdown",
      "source": [
        "Before downloading the pre-trained model, we will need to provide the mapping of each label to a label ID (integer) and vice versa to help the model recover the label name from the label ID."
      ],
      "metadata": {
        "id": "1a6LJg9yTj19"
      }
    },
    {
      "cell_type": "code",
      "execution_count": null,
      "source": [
        "id2label = {idx: label for idx, label in enumerate(labels.names)}\n",
        "label2id = {label: idx for idx, label in enumerate(labels.names)}"
      ],
      "outputs": [],
      "metadata": {
        "id": "M8PQnzTsTi5j"
      }
    },
    {
      "cell_type": "markdown",
      "source": [
        "Let's download the pre-trained model."
      ],
      "metadata": {
        "id": "lfA9fzi-TqOE"
      }
    },
    {
      "cell_type": "code",
      "execution_count": null,
      "source": [
        "model = AutoModelForImageClassification.from_pretrained(\n",
        "    model_name,\n",
        "    num_labels=labels.num_classes,\n",
        "    id2label=id2label,\n",
        "    label2id=label2id,\n",
        "    output_hidden_states=True,\n",
        "    ignore_mismatched_sizes=True\n",
        ")\n"
      ],
      "outputs": [],
      "metadata": {
        "id": "_BwWN_MjR-9g"
      }
    },
    {
      "cell_type": "markdown",
      "source": [
        "Further, we use the [`TrainingArguments`](https://huggingface.co/docs/transformers/v4.21.1/en/main_classes/trainer#transformers.TrainingArguments) class to define the training parameters. This class stores a lot of information and gives you control over the training and evaluation."
      ],
      "metadata": {
        "id": "xZvSM-XhTuBC"
      }
    },
    {
      "cell_type": "code",
      "execution_count": null,
      "source": [
        "training_batch_size = 8\n",
        "training_epochs = 3\n",
        "logging_steps= len(train_ds) // training_batch_size\n",
        "\n",
        "training_args = TrainingArguments(\n",
        "    output_dir=model_name,\n",
        "    per_device_train_batch_size=training_batch_size,\n",
        "    per_device_eval_batch_size=training_batch_size,\n",
        "    evaluation_strategy=\"epoch\",\n",
        "    num_train_epochs=training_epochs,                        \n",
        "    fp16=True,\n",
        "    logging_steps=logging_steps,\n",
        "    log_level=\"error\",\n",
        "    optim=\"adamw_torch\",\n",
        "    learning_rate=2e-4,\n",
        "    remove_unused_columns=False,\n",
        ")\n"
      ],
      "outputs": [],
      "metadata": {
        "id": "z4iHowNWR-68"
      }
    },
    {
      "cell_type": "markdown",
      "source": [
        "Now, we will define the evaluation function that calculates the accuracy and f1 score of the model."
      ],
      "metadata": {
        "id": "pzPLX177UXmc"
      }
    },
    {
      "cell_type": "code",
      "execution_count": null,
      "source": [
        "def compute_metrics(pred):\n",
        "    labels = pred.label_ids\n",
        "    preds = pred.predictions[0].argmax(-1)\n",
        "    f1 = f1_score(labels, preds, average=\"weighted\")\n",
        "    acc = accuracy_score(labels, preds)\n",
        "    return {\"accuracy\": acc, \"f1\": f1}"
      ],
      "outputs": [],
      "metadata": {
        "id": "aYfNpSFsUA6J"
      }
    },
    {
      "cell_type": "markdown",
      "source": [
        "Next, we need a _data collator_ so that we can unpack and stack the batches that are coming in as lists of dicts into batch tensors."
      ],
      "metadata": {
        "id": "G-cy7L_SUttM"
      }
    },
    {
      "cell_type": "code",
      "execution_count": null,
      "source": [
        "def collate_fn(dataset):\n",
        "    pixel_values = torch.stack([ds[\"pixel_values\"] for ds in dataset])\n",
        "    labels = torch.tensor([ds[\"label\"] for ds in dataset])\n",
        "    return {\"pixel_values\": pixel_values, \"labels\": labels}"
      ],
      "outputs": [],
      "metadata": {
        "id": "nrCBa9iFUOmO"
      }
    },
    {
      "cell_type": "markdown",
      "source": [
        "Finally, we can fine-tune our model using the `Trainer` class."
      ],
      "metadata": {}
    },
    {
      "cell_type": "code",
      "execution_count": null,
      "source": [
        "if SKIP_TRAINING == False:\n",
        "  trainer = Trainer(\n",
        "      model=model,\n",
        "      args=training_args,\n",
        "      data_collator=collate_fn,\n",
        "      train_dataset=train_ds,\n",
        "      eval_dataset=val_ds,\n",
        "      tokenizer=feature_extractor,\n",
        "      compute_metrics=compute_metrics,\n",
        "  )\n",
        "\n",
        "  print(\"Evaluation before training\")\n",
        "  eval = trainer.evaluate(eval_dataset=val_ds)\n",
        "  eval_df = pd.DataFrame({'Epoch':0, 'Validation Loss': eval['eval_loss'], 'Accuracy': eval['eval_accuracy'], 'F1': eval['eval_f1']}, index=[0])\n",
        "  display(eval_df)\n",
        "\n",
        "  torch.cuda.empty_cache() # Free up some memory\n",
        "\n",
        "  print(\"\\n\\nTraining...\")\n",
        "  trainer.train()"
      ],
      "outputs": [],
      "metadata": {
        "id": "dGzSPwWRT_LX"
      }
    },
    {
      "cell_type": "markdown",
      "source": [
        "### B) Download the fine-tuned model \n",
        "\n",
        "If you decided to skip step 1, you can download the already fine-tuned model [arize-ai/resnet-50-fashion-mnist-quality-drift](https://huggingface.co/arize-ai/resnet-50-fashion-mnist-quality-drift) from Arize's page in the Hugging Face Hub.\n"
      ],
      "metadata": {
        "id": "2UVMYFbnl6Kg"
      }
    },
    {
      "cell_type": "code",
      "execution_count": null,
      "source": [
        "if SKIP_TRAINING == True: # Make sure you marked SKIP_TRAINING = True if you wanted to skip training\n",
        "    model_ckpt = f\"arize-ai/resnet-50-fashion-mnist-quality-drift\"\n",
        "\n",
        "    model = (AutoModelForImageClassification\n",
        "            .from_pretrained(model_ckpt, \n",
        "                             num_labels = tags.num_classes,\n",
        "                             output_hidden_states=True\n",
        "                             )\n",
        "            .to(device))"
      ],
      "outputs": [],
      "metadata": {
        "id": "UziFBoeHagmP"
      }
    },
    {
      "cell_type": "markdown",
      "source": [
        "# Step 2. Post-Processing your data"
      ],
      "metadata": {
        "id": "L7YBqdsebIF_"
      }
    },
    {
      "cell_type": "markdown",
      "source": [
        "## Get model outputs\n",
        "Now we will extract the prediction labels and the image embedding vectors. The latter are formed from the hidden states of our pre-trained (and then fine-tuned) model. We will choose the last hidden state layer, with a shape of `(batch_size, embedding_size, 7, 7)`*. To obtain the embedding vector, we will average on the last 2 dimensions.\n",
        "\n",
        "\n",
        "***NOTE:** The last 2 components of the shape (7, 7) are due to the output size of the last convolutional layer in the resnet-50 architecture. See Table 1 on page 5 in [Deep Residual Learning for Image Recognition](https://arxiv.org/pdf/1512.03385.pdf) for more information. In the same table, you can also see that the `embedding_size` is 2048."
      ],
      "metadata": {
        "id": "klUW0X57mVdA"
      }
    },
    {
      "cell_type": "code",
      "execution_count": null,
      "source": [
        "def postprocess(batch):\n",
        "    inputs = feature_extractor([x.convert(\"RGB\") for x in batch[\"image\"]], return_tensors=\"pt\").to(device)\n",
        "    with torch.no_grad():\n",
        "        outputs = model(**inputs)\n",
        "\n",
        "    pred_labels = torch.argmax(outputs.logits, dim=1).cpu().numpy()\n",
        "\n",
        "    last_hidden_states = outputs.hidden_states[-1]\n",
        "    embeddings= torch.mean(last_hidden_states, (2,3)).cpu().numpy()\n",
        "\n",
        "    return {'pred_label':pred_labels, 'image_vector': embeddings}"
      ],
      "outputs": [],
      "metadata": {
        "id": "3TO3LXYtTMPg"
      }
    },
    {
      "cell_type": "markdown",
      "source": [
        "Before applying the post-processing function defined above, we need to apply  [`reset_format()`](https://huggingface.co/docs/datasets/v2.4.0/en/package_reference/main_classes#datasets.Dataset.reset_format) on the training and validation set in order to reset the dataset to their original formats that contained the `\"image\"` feature."
      ],
      "metadata": {}
    },
    {
      "cell_type": "code",
      "execution_count": null,
      "source": [
        "train_ds.reset_format()\n",
        "val_ds.reset_format()"
      ],
      "outputs": [],
      "metadata": {
        "id": "MdHQmHpKhXjM"
      }
    },
    {
      "cell_type": "markdown",
      "source": [
        "Next, we apply the post-processing to all datasets."
      ],
      "metadata": {}
    },
    {
      "cell_type": "code",
      "execution_count": null,
      "source": [
        "train_ds = train_ds.map(postprocess, batched = True, batch_size = process_batch_size)\n",
        "val_ds = val_ds.map(postprocess, batched = True, batch_size = process_batch_size)\n",
        "prod_ds = prod_ds.map(postprocess, batched = True, batch_size = process_batch_size)"
      ],
      "outputs": [],
      "metadata": {
        "id": "qYZtL2pNUmBf"
      }
    },
    {
      "cell_type": "markdown",
      "source": [
        "# Step 3. Prepare your data to be sent to Arize\n"
      ],
      "metadata": {
        "id": "0BIeGAemfziv"
      }
    },
    {
      "cell_type": "markdown",
      "source": [
        "From this point forward, it is convenient to use Pandas DataFrames. We can do so easily using the `to_pandas()` method that returns a Pandas DataFrame."
      ],
      "metadata": {}
    },
    {
      "cell_type": "code",
      "execution_count": null,
      "source": [
        "train_df = train_ds.to_pandas()\n",
        "val_df = val_ds.to_pandas()\n",
        "prod_df = prod_ds.to_pandas()"
      ],
      "outputs": [],
      "metadata": {
        "id": "MnOpfUVSMLeg"
      }
    },
    {
      "cell_type": "markdown",
      "source": [
        "## Update the timestamps\n",
        "\n",
        "The data that you are working with was constructed in April of 2022. Hence, we will update the timestamps so they are current at the time that you're sending data to Arize."
      ],
      "metadata": {
        "id": "Cyer0ywollCt"
      }
    },
    {
      "cell_type": "code",
      "execution_count": null,
      "source": [
        "last_ts = max(prod_df['prediction_ts'])\n",
        "now_ts = datetime.timestamp(datetime.now())\n",
        "delta_ts = now_ts - last_ts    \n",
        "\n",
        "train_df['prediction_ts'] = (train_df['prediction_ts'] + delta_ts).astype(float)\n",
        "val_df['prediction_ts'] = (val_df['prediction_ts'] + delta_ts).astype(float)\n",
        "prod_df['prediction_ts'] = (prod_df['prediction_ts'] + delta_ts).astype(float)"
      ],
      "outputs": [],
      "metadata": {
        "id": "xzYoV-hemYsE"
      }
    },
    {
      "cell_type": "markdown",
      "source": [
        "## Add prediction ids\n",
        "\n",
        "The Arize platform uses prediction IDs to link a prediction to an actual. Visit the [Arize documentation](https://docs.arize.com/arize/data-ingestion/model-schema/5.-prediction-id?q=prediction_id) for more details.\n",
        "\n",
        "You can generate prediction IDs as follows:"
      ],
      "metadata": {
        "id": "e37r7yiLpbvf"
      }
    },
    {
      "cell_type": "code",
      "execution_count": null,
      "source": [
        "def add_prediction_id(df):\n",
        "    return [str(uuid.uuid4()) for _ in range(df.shape[0])]"
      ],
      "outputs": [],
      "metadata": {
        "id": "RI4G0fNBm5UC"
      }
    },
    {
      "cell_type": "code",
      "execution_count": null,
      "source": [
        "train_df['prediction_id'] = add_prediction_id(train_df)\n",
        "val_df['prediction_id'] = add_prediction_id(val_df)\n",
        "prod_df['prediction_id'] = add_prediction_id(prod_df)"
      ],
      "outputs": [],
      "metadata": {
        "id": "n28vEY31niZ0"
      }
    },
    {
      "cell_type": "markdown",
      "source": [
        "## Convert integer labels to strings\n",
        "\n"
      ],
      "metadata": {
        "id": "lWLA7px4NmLb"
      }
    },
    {
      "cell_type": "code",
      "execution_count": null,
      "source": [
        "train_df['label'] = train_df['label'].map(lambda label: id2label[label])\n",
        "train_df['pred_label'] = train_df['pred_label'].map(lambda label: id2label[label])\n",
        "\n",
        "val_df['label'] = val_df['label'].map(lambda label: id2label[label])\n",
        "val_df['pred_label'] = val_df['pred_label'].map(lambda label: id2label[label])\n",
        "\n",
        "prod_df['label'] = prod_df['label'].map(lambda label: id2label[label])\n",
        "prod_df['pred_label'] = prod_df['pred_label'].map(lambda label: id2label[label])"
      ],
      "outputs": [],
      "metadata": {
        "id": "A3DvevhXNzvR"
      }
    },
    {
      "cell_type": "markdown",
      "source": [
        "# Step 4. Sending Data into Arize 💫\n",
        "\n",
        "## Select the columns we want to send to Arize (optional)\n",
        "\n",
        "This step is not really necessary, since we will select the columns we want to send to Arize using the `Schema` definition (below). However, for the purpose of visibility, this is our final `DataFrame` with the data that will be sent to Arize."
      ],
      "metadata": {
        "id": "-PXrjo3Qpgm-"
      }
    },
    {
      "cell_type": "code",
      "execution_count": null,
      "source": [
        "arize_columns = [\n",
        "    'prediction_id', \n",
        "    'prediction_ts', \n",
        "    'label',\n",
        "    'pred_label',\n",
        "    'image_vector',\n",
        "    'url'\n",
        "    ]\n",
        "\n",
        "train_df = train_df[arize_columns]\n",
        "val_df = val_df[arize_columns]\n",
        "prod_df = prod_df[arize_columns]\n",
        "\n",
        "train_df.head()"
      ],
      "outputs": [],
      "metadata": {
        "id": "Dfi-z2sfmnyK"
      }
    },
    {
      "cell_type": "markdown",
      "source": [
        "## Import and Setup Arize Client\n",
        "\n",
        "The first step is to setup the Arize client. After that we will log the data.\n",
        "\n",
        "Copy the Arize `API_KEY` and `SPACE_KEY` from your admin page (shown below) to the variables in the cell below. We will also be setting up some metadata to use across all logging."
      ],
      "metadata": {
        "id": "pwvCUBqkeW4V"
      }
    },
    {
      "cell_type": "markdown",
      "source": [
        "<img src=\"https://storage.googleapis.com/arize-assets/fixtures/copy-keys.png\" width=\"700\">"
      ],
      "metadata": {
        "id": "j3jd6J3qQb_K"
      }
    },
    {
      "cell_type": "code",
      "execution_count": null,
      "source": [
        "SPACE_KEY = \"SPACE_KEY\"\n",
        "API_KEY = \"API_KEY\"\n",
        "arize_client = Client(space_key=SPACE_KEY, api_key=API_KEY)\n",
        "model_id = \"CV-demo-fashion-mnist-quality-drift\"\n",
        "model_version = \"1.0\"\n",
        "model_type = ModelTypes.SCORE_CATEGORICAL\n",
        "if SPACE_KEY == \"SPACE_KEY\" or API_KEY == \"API_KEY\":\n",
        "    raise ValueError(\"❌ NEED TO CHANGE SPACE AND/OR API_KEY\")\n",
        "else:\n",
        "    print(\"✅ Import and Setup Arize Client Done! Now we can start using Arize!\")"
      ],
      "outputs": [],
      "metadata": {
        "id": "SvkUY2dodBL5",
        "colab": {
          "base_uri": "https://localhost:8080/"
        },
        "outputId": "e723839b-03b1-4c81-db3b-ea66693308a9"
      }
    },
    {
      "cell_type": "markdown",
      "source": [
        "\n",
        "Now that our Arize client is set up, let's go ahead and log all of our data to the platform. For more details on how **`arize.pandas.logger`** works, visit our documentation.\n",
        "\n",
        "[![Buttons_OpenOrange.png](https://storage.googleapis.com/arize-assets/fixtures/Buttons_OpenOrange.png)](https://docs.arize.com/arize/sdks-and-integrations/python-sdk/arize.pandas)"
      ],
      "metadata": {
        "id": "MhYZ7xOVfasj"
      }
    },
    {
      "cell_type": "markdown",
      "source": [
        "## Define the Schema \n",
        "\n",
        "A Schema instance specifies the column names for corresponding data in the dataframe. While we could define different Schemas for training and production datasets, the dataframes have the same column names, so the Schema will be the same in this instance.\n",
        "\n",
        "To ingest non-embedding features, it suffices to provide a list of column names that contain the features in our dataframe. Embedding features, however, are a little bit different.\n",
        "\n",
        "Arize allows you to ingest not only the embedding vector but the raw data associated with that embedding, or a URL link to that raw data. Therefore, up to 3 columns can be associated with the same _embedding object_*. To be able to do this, Arize's SDK provides the `EmbeddingColumnNames` class, used below.\n",
        "\n",
        "\n",
        "***NOTE**: This is how we refer to the 3 possible pieces of information that can be sent as embedding objects:\n",
        "* Embedding `vector` (required)\n",
        "* Embedding `data` (optional): raw text associated with the embedding vector\n",
        "* Embedding `link_to_data` (optional): link to the data file (image, audio, ...) associated with the embedding vector\n",
        "\n",
        "\n",
        "\n",
        "Learn more [here](https://docs.arize.com/arize/data-ingestion/model-schema/7b.-embedding-features)."
      ],
      "metadata": {
        "id": "rCMZsMpi3aiA"
      }
    },
    {
      "cell_type": "code",
      "execution_count": null,
      "source": [
        "features = []\n",
        "arize_columns = [\n",
        "    'prediction_id', \n",
        "    'prediction_ts', \n",
        "    'label',\n",
        "    'pred_label',\n",
        "    'image_vector',\n",
        "    'url'\n",
        "    ]\n",
        "\n",
        "\n",
        "embedding_features = [\n",
        "    EmbeddingColumnNames(\n",
        "        vector_column_name=\"image_vector\",  # Will be name of embedding feature in the app\n",
        "        link_to_data_column_name=\"url\",\n",
        "    ),\n",
        "]\n",
        "\n",
        "# Define a Schema() object for Arize to pick up data from the correct columns for logging\n",
        "schema = Schema(\n",
        "    prediction_id_column_name=\"prediction_id\",\n",
        "    timestamp_column_name=\"prediction_ts\",\n",
        "    prediction_label_column_name=\"pred_label\",\n",
        "    actual_label_column_name=\"label\",\n",
        "    feature_column_names=features,\n",
        "    embedding_feature_column_names=embedding_features\n",
        ")\n",
        "\n"
      ],
      "outputs": [],
      "metadata": {
        "id": "JOGpBqA034Zt"
      }
    },
    {
      "cell_type": "markdown",
      "source": [
        "## Log Training Data"
      ],
      "metadata": {
        "id": "Lw8vPvEj7sUu"
      }
    },
    {
      "cell_type": "code",
      "execution_count": null,
      "source": [
        "# Logging Training DataFrame\n",
        "response = arize_client.log(\n",
        "    dataframe=train_df,\n",
        "    model_id=model_id,\n",
        "    model_version=model_version,\n",
        "    model_type=model_type,\n",
        "    environment=Environments.TRAINING,\n",
        "    schema=schema,\n",
        "    sync=True\n",
        ")\n",
        "\n",
        "\n",
        "# If successful, the server will return a status_code of 200\n",
        "if response.status_code != 200:\n",
        "    print(f\"❌ logging failed with response code {response.status_code}, {response.text}\")\n",
        "else:\n",
        "    print(f\"✅ You have successfully logged training set to Arize\")\n"
      ],
      "outputs": [],
      "metadata": {
        "id": "ZeevDQO_7sUu",
        "colab": {
          "base_uri": "https://localhost:8080/"
        },
        "outputId": "5a678c46-2258-49de-d984-0c27b73a3459"
      }
    },
    {
      "cell_type": "markdown",
      "source": [
        "## Log Validation Data"
      ],
      "metadata": {
        "id": "6dEt_DLx2bYl"
      }
    },
    {
      "cell_type": "code",
      "execution_count": null,
      "source": [
        "# Logging Training DataFrame\n",
        "response = arize_client.log(\n",
        "    dataframe=val_df,\n",
        "    model_id=model_id,\n",
        "    model_version=model_version,\n",
        "    batch_id=\"validation\",\n",
        "    model_type=model_type,\n",
        "    environment=Environments.VALIDATION,\n",
        "    schema=schema,\n",
        "    sync=True\n",
        ")\n",
        "\n",
        "\n",
        "# If successful, the server will return a status_code of 200\n",
        "if response.status_code != 200:\n",
        "    print(f\"❌ logging failed with response code {response.status_code}, {response.text}\")\n",
        "else:\n",
        "    print(f\"✅ You have successfully logged training set to Arize\")\n"
      ],
      "outputs": [],
      "metadata": {
        "id": "TyUavdbiNfzy",
        "colab": {
          "base_uri": "https://localhost:8080/"
        },
        "outputId": "ee596956-f992-42f3-c96c-4d1e0d3c8667"
      }
    },
    {
      "cell_type": "markdown",
      "source": [
        "## Log Production Data"
      ],
      "metadata": {
        "id": "dLeCjcQRDWF6"
      }
    },
    {
      "cell_type": "code",
      "execution_count": null,
      "source": [
        "# send production data\n",
        "response = arize_client.log(\n",
        "    dataframe=prod_df,\n",
        "    model_id=model_id,\n",
        "    model_version=model_version,\n",
        "    model_type=model_type,\n",
        "    environment=Environments.PRODUCTION,\n",
        "    schema=schema,\n",
        "    sync=True\n",
        ")\n",
        "\n",
        "if response.status_code != 200:\n",
        "    print(f\"❌ logging failed with response code {response.status_code}, {response.text}\")\n",
        "else:\n",
        "    print(f\"✅ You have successfully logged production set to Arize\")"
      ],
      "outputs": [],
      "metadata": {
        "id": "CXjzjXP2hsah",
        "colab": {
          "base_uri": "https://localhost:8080/"
        },
        "outputId": "4793af5c-8941-4960-df88-964e6a81c215"
      }
    },
    {
      "cell_type": "markdown",
      "source": [
        "# Step 5. Confirm Data in Arize ✅\n",
        "Note that the Arize platform takes about 15 minutes to index embedding data. While the model should appear immediately, the data will not show up until the indexing is complete. Feel free to head over to the **Data Ingestion** tab for your model to watch Arize work its magic!🔮\n",
        "\n",
        "You will be able to see the predictions, actuals, and feature importances that have been sent in the last 30 minutes, last day or last week.\n",
        "\n",
        "An example view of the Data Ingestion tab from a model, when data is sent continuously over 30 minutes, is shown in the image below.\n",
        "\n",
        "<img src=\"https://storage.googleapis.com/arize-assets/fixtures/Embeddings/fashion_mnist_ingestion.png\" width=\"700\">"
      ],
      "metadata": {
        "id": "MX-GEkla5Rnh"
      }
    },
    {
      "cell_type": "markdown",
      "source": [
        "# Check the Embedding Data in Arize\n",
        "Now, you can see how Arize surfaces the low quality images before your customer does and troubleshoots the degradation in performance to save you the time and effort. \n",
        "\n",
        "First, set the baseline to the training set that we logged before.\n",
        "\n",
        "<img src=\"https://storage.googleapis.com/arize-assets/fixtures/Embeddings/fashion mnist baseline setup.gif\" width=\"700\">\n",
        "\n",
        "\n",
        "If your model contains embedding data, you will see it in your Model's Overview page. \n",
        "\n",
        "<img src=\"https://storage.googleapis.com/arize-assets/fixtures/Embeddings/fashion_mnist_embedding.png\" width=\"700\">\n",
        "\n",
        " Click on the Embedding Name or the Euclidean Distance value to see how your embedding data is drifting over time. In the picture below we represent the global euclidean distance between your production set (at different points in time) and the baseline (which we set to be our training set). We can see there is a period of a week where suddenly the distance is remarkably higher. This shows us that during that time image data was sent to our model that was different than what it was trained on. This is the period of time when the quality of some images is worse.\n",
        " \n",
        "<img src=\"https://storage.googleapis.com/arize-assets/fixtures/Embeddings/fashion_mnist _drift.png\" width=\"700\">\n",
        "\n",
        "In addition to the drift tracking plot above, below you can find the UMAP visualization of your data, according to the point in time selected. Notice that the production data and our baseline (training) data are superimposed, which is indicative that the model is seeing data in production similar to the data it was trained on.\n",
        "\n",
        "<img src=\"https://storage.googleapis.com/arize-assets/fixtures/Embeddings/fashion_mnist_no_drift_umap.png\" width=\"700\">\n",
        "\n",
        "Next, select a point in time when the drift was high and select a UMAP visualization in 2D. We can see that both training and production data are superimposed for the most part, but another cluster of production data has appeared. This indicates that the model is seeing data in production qualitatively different to the data it was trained on, and in this case causing performance degradation.\n",
        "\n",
        "<img src=\"https://storage.googleapis.com/arize-assets/fixtures/Embeddings/fashion_mnist_drift_umap.png\" width=\"700\">\n",
        "\n",
        "For further inspection, you may select a 3D UMAP view and clicked _Explore UMAP_ to expand the view. With this view we can interact in 3D with our dataset. We can zoom, rotate, and drag so we can see the areas of our dataset that are most interesting to us. We can also use the Lasso feature to select a part of the UMAP plot for further investigation. Check out the workflow below:\n",
        "\n",
        "<img src=\"https://storage.googleapis.com/arize-assets/fixtures/Embeddings/umap 3d fashion mnist drift.gif\" width=\"700\">\n",
        "\n",
        "You can see that the coloring has been made to distinguish production data vs baseline data (training in this example). There are more coloring options to help understand/debug your dataset, including:\n",
        "* Color by prediction label\n",
        "* Color by actual label\n",
        "* Color by accuracy (correct vs incorrect predictions)\n",
        "* Color by Confusion Matrix\n",
        "\n",
        "Here is an example of coloring datapoint by Prediction label. \n",
        "\n",
        "\n",
        "<img src=\"https://storage.googleapis.com/arize-assets/fixtures/Embeddings/fashion_mnist_umap_3d_pred_label.gif\" width=\"700\">\n"
      ],
      "metadata": {
        "id": "S1JYzltL8Z3g"
      }
    },
    {
      "cell_type": "markdown",
      "source": [
        "# Wrap Up 🎁\n",
        "Congratulations, you've now sent your first machine learning embedding data to the Arize platform!!\n",
        "\n",
        "Additionally, if you want to remove this example model from your account, just click **Models** -> **CV-demo-fashion-mnist-quality-drift** -> **config** -> **delete**"
      ],
      "metadata": {
        "id": "aby-AFAe6jsV"
      }
    },
    {
      "cell_type": "markdown",
      "source": [
        "### Overview\n",
        "Arize is an end-to-end ML observability and model monitoring platform. The platform is designed to help ML engineers and data science practitioners surface and fix issues with ML models in production faster with:\n",
        "- Automated ML monitoring and model monitoring\n",
        "- Workflows to troubleshoot model performance\n",
        "- Real-time visualizations for model performance monitoring, data quality monitoring, and drift monitoring\n",
        "- Model prediction cohort analysis\n",
        "- Pre-deployment model validation\n",
        "- Integrated model explainability\n",
        "\n",
        "### Website\n",
        "Visit Us At: https://arize.com/model-monitoring/\n",
        "\n",
        "### Additional Resources\n",
        "- [What is ML observability?](https://arize.com/what-is-ml-observability/)\n",
        "- [Monitor Unstructured Data with Arize](https://arize.com/blog/monitor-unstructured-data-with-arize)\n",
        "- [Getting Started With Embeddings Is Easier Than You Think](https://arize.com/blog/getting-started-with-embeddings-is-easier-than-you-think)\n",
        "- [Playbook to model monitoring in production](https://arize.com/the-playbook-to-monitor-your-models-performance-in-production/)\n",
        "- [Using statistical distance metrics for ML monitoring and observability](https://arize.com/using-statistical-distance-metrics-for-machine-learning-observability/)\n",
        "<!-- - [ML infrastructure tools for data preparation](https://arize.com/ml-infrastructure-tools-for-data-preparation/) -->\n",
        "- [ML infrastructure tools for model building](https://arize.com/ml-infrastructure-tools-for-model-building/)\n",
        "- [ML infrastructure tools for production](https://arize.com/ml-infrastructure-tools-for-production-part-1/)\n",
        "<!-- - [ML infrastructure tools for model deployment and model serving](https://arize.com/ml-infrastructure-tools-for-production-part-2-model-deployment-and-serving/) -->\n",
        "\n",
        "- [ML infrastructure tools for ML monitoring and observability](https://arize.com/ml-infrastructure-tools-ml-observability/)\n",
        "\n",
        "Visit the [Arize Blog](https://arize.com/blog) and [Resource Center](https://arize.com/resource-hub/) for more resources on ML observability and model monitoring.\n"
      ],
      "metadata": {
        "id": "TP304Ecf6ePX"
      }
    }
  ],
  "metadata": {
    "accelerator": "GPU",
    "colab": {
      "background_execution": "on",
      "collapsed_sections": [
        "QOudyT6lPBqp"
      ],
      "machine_shape": "hm",
      "name": "Arize_Tutorial_HuggingFace_Image_Classification_Quality_Drift.ipynb",
      "provenance": [],
      "toc_visible": true
    },
    "kernelspec": {
      "display_name": "Python 3 (ipykernel)",
      "language": "python",
      "name": "python3"
    },
    "language_info": {
      "codemirror_mode": {
        "name": "ipython",
        "version": 3
      },
      "file_extension": ".py",
      "mimetype": "text/x-python",
      "name": "python",
      "nbconvert_exporter": "python",
      "pygments_lexer": "ipython3",
      "version": "3.8.13"
    }
  },
  "nbformat": 4,
  "nbformat_minor": 2
}