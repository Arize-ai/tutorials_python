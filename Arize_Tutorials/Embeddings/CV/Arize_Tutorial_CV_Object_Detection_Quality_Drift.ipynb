{
 "cells": [
  {
   "cell_type": "markdown",
   "metadata": {
    "id": "aVq_1jxBo7YW"
   },
   "source": [
    "<img src=\"https://storage.googleapis.com/arize-assets/arize-logo-white.jpg\" width=\"200\"/>\n",
    "\n",
    "# <center>Getting Started with the Arize Platform</center>\n",
    "## <center>Investigating Embedding Drift in Object Detection</center>\n",
    "\n",
    "\n",
    "In this tutorial, we are going to ingest model data from the [Facebook DETR](https://huggingface.co/facebook/detr-resnet-101) using input images from the [COCO dataset](https://cocodataset.org/#home).\n",
    "\n",
    "\n",
    "Guides for other model types are available [here](https://docs.arize.com/arize/sending-data-to-arize/model-types).\n",
    "\n",
    "\n",
    "**In this walkthrough, we are going to ingest embedding data and look at embedding drift.** \n",
    "\n",
    "In this scenario, you are in charge of maintaining an Object Detection model. Your model, [Facebook DETR](https://huggingface.co/facebook/detr-resnet-101), will localize and classify entities in input images from the [COCO dataset](https://cocodataset.org/#home). However, once the model is released into production, you notice that the performance of the model has degraded over a period of time.\n",
    "\n",
    "\n",
    "This notebook will show you how Arize can automatically surface and troubleshoot the reason for this performance degradation by analyzing _image vectors_ associated with the input image so that you can take the right action to retrain your model/clean your data, saving you time and effort to correctly wrangle the datasets and visualize them. In this example, there are worse quality images in the production set during some period of time.\n",
    "\n",
    "It is worth noting that, according to our research, inspecting embedding drift can surface problems with your data before they cause performance degradation.\n",
    "\n",
    "In this tutorial, we will start from scratch. We will:\n",
    "* Download the embedding vectors and predictions of a dataset we have curated for this tutorial\n",
    "* Log the inferences into Arize\n",
    "* Visually explore embeddings in the Arize Platform\n",
    "\n",
    "**Note**: This example compares training vs production data. Arize supports sending only one dataset.\n",
    "\n",
    "\n",
    "Let's get started! \n"
   ]
  },
  {
   "cell_type": "markdown",
   "metadata": {
    "id": "NlEQkPeDJUIw"
   },
   "source": [
    "# Step 0. Install Dependencies and Import Libraries 📚"
   ]
  },
  {
   "cell_type": "code",
   "execution_count": null,
   "metadata": {},
   "outputs": [],
   "source": [
    "!pip install -q arize "
   ]
  },
  {
   "cell_type": "code",
   "execution_count": null,
   "metadata": {},
   "outputs": [],
   "source": [
    "import uuid\n",
    "import pandas as pd\n",
    "\n",
    "from datetime import datetime\n",
    "from arize.pandas.logger import Client\n",
    "from arize.utils.types import (\n",
    "    Schema,\n",
    "    Environments,\n",
    "    ModelTypes,\n",
    "    EmbeddingColumnNames,\n",
    "    ObjectDetectionColumnNames,\n",
    ")"
   ]
  },
  {
   "cell_type": "markdown",
   "metadata": {
    "id": "MSf170h4JVfN"
   },
   "source": [
    "# Step 1. Download and Display the data\n",
    "\n",
    "We have curated a dataset for you so that you can send it to Arize in this tutorial."
   ]
  },
  {
   "cell_type": "code",
   "execution_count": null,
   "metadata": {},
   "outputs": [],
   "source": [
    "url = \"https://storage.googleapis.com/arize-assets/fixtures/Embeddings/arize-demo-models-data/CV/Object-Detection/coco_detection_quality_drift\"\n",
    "train_df = pd.read_parquet(f\"{url}_training.parquet\")\n",
    "prod_df = pd.read_parquet(f\"{url}_production.parquet\")"
   ]
  },
  {
   "cell_type": "markdown",
   "metadata": {
    "id": "IooTaCBlxl26"
   },
   "source": [
    "# Step 2. Prepare your data to be sent to Arize\n"
   ]
  },
  {
   "cell_type": "markdown",
   "metadata": {
    "id": "eRWk1tVbJqLK"
   },
   "source": [
    "## Update the timestamps\n",
    "\n",
    "The data that you are working with was constructed in May of 2023. Hence, we will update the timestamps so they are current at the time that you're sending data to Arize."
   ]
  },
  {
   "cell_type": "code",
   "execution_count": null,
   "metadata": {},
   "outputs": [],
   "source": [
    "last_ts = max(prod_df[\"prediction_ts\"])\n",
    "now_ts = datetime.timestamp(datetime.now())\n",
    "delta_ts = now_ts - last_ts\n",
    "\n",
    "train_df[\"prediction_ts\"] = (train_df[\"prediction_ts\"] + delta_ts).astype(float)\n",
    "prod_df[\"prediction_ts\"] = (prod_df[\"prediction_ts\"] + delta_ts).astype(float)"
   ]
  },
  {
   "cell_type": "markdown",
   "metadata": {
    "id": "ooTNfTlBxqaR"
   },
   "source": [
    "## Add prediction ids\n",
    "\n",
    "The Arize platform uses prediction IDs to link a prediction to an actual. Visit the [Arize documentation](https://docs.arize.com/arize/data-ingestion/model-schema/5.-prediction-id?q=prediction_id) for more details.\n",
    "\n",
    "You can generate prediction IDs as follows:"
   ]
  },
  {
   "cell_type": "code",
   "execution_count": null,
   "metadata": {},
   "outputs": [],
   "source": [
    "def add_prediction_id(df):\n",
    "    return [str(uuid.uuid4()) for _ in range(df.shape[0])]"
   ]
  },
  {
   "cell_type": "code",
   "execution_count": null,
   "metadata": {},
   "outputs": [],
   "source": [
    "train_df[\"prediction_id\"] = add_prediction_id(train_df)\n",
    "prod_df[\"prediction_id\"] = add_prediction_id(prod_df)"
   ]
  },
  {
   "cell_type": "markdown",
   "metadata": {
    "id": "LvS_VbG2xvdc"
   },
   "source": [
    "# Step 3. Sending Data into Arize 💫"
   ]
  },
  {
   "cell_type": "markdown",
   "metadata": {
    "id": "K44p7e-6JxaM"
   },
   "source": [
    "## Import and Setup Arize Client\n",
    "\n",
    "The first step is to setup the Arize client. After that we will log the data.\n",
    "\n",
    "Copy the Arize `API_KEY` and `SPACE_ID` from your Space Settings page (shown below) to the variables in the cell below. We will also be setting up some metadata to use across all logging."
   ]
  },
  {
   "cell_type": "markdown",
   "metadata": {
    "id": "xxJ1C2EHxI2U"
   },
   "source": [
    "<img src=\"https://storage.googleapis.com/arize-assets/fixtures/copy-id-and-key.png\" width=\"700\">"
   ]
  },
  {
   "cell_type": "code",
   "execution_count": null,
   "metadata": {},
   "outputs": [],
   "source": [
    "SPACE_ID = \"SPACE_ID\"\n",
    "API_KEY = \"API_KEY\"\n",
    "arize_client = Client(space_id=SPACE_ID, api_key=API_KEY)\n",
    "model_id = \"CV-demo-coco-object-detection-quality-drift\"\n",
    "model_version = \"1.0\"\n",
    "model_type = ModelTypes.OBJECT_DETECTION\n",
    "if SPACE_ID == \"SPACE_ID\" or API_KEY == \"API_KEY\":\n",
    "    raise ValueError(\"❌ CHANGE SPACE_ID AND/OR API_KEY\")\n",
    "else:\n",
    "    print(\n",
    "        \"✅ Import and Setup Arize Client Done! Now we can start using Arize!\"\n",
    "    )"
   ]
  },
  {
   "cell_type": "markdown",
   "metadata": {},
   "source": [
    "Now that our Arize client is set up, let's go ahead and log all of our data to the platform. For more details on how **`arize.pandas.logger`** works, visit our documentation.\n",
    "\n",
    "[![Buttons_OpenOrange.png](https://storage.googleapis.com/arize-assets/fixtures/Buttons_OpenOrange.png)](https://docs.arize.com/arize/sdks-and-integrations/python-sdk/arize.pandas)"
   ]
  },
  {
   "cell_type": "markdown",
   "metadata": {},
   "source": [
    "We will use the `ObjectDetectionColumnNames` and `EmbeddingColumnNames` classes from Arize's SDK. \n",
    "\n",
    "[Here](https://docs.arize.com/arize/sending-data/model-schema-reference#8.-embedding-features-unstructured) is more information about defining embedding features using `EmbeddingColumnNames`."
   ]
  },
  {
   "cell_type": "markdown",
   "metadata": {
    "id": "MkJzocn7J3Mw"
   },
   "source": [
    "## Define Schema\n",
    "\n",
    "A Schema specifies the column names for corresponding data in the dataframe. While we could define different Schemas for training and production datasets, the dataframes have the same column names, so the Schema will be the same in this example.\n",
    "\n",
    "#### Embedding features\n",
    "\n",
    "To ingest non-embedding features, it suffices to provide a list of column names that contain the features in our dataframe. Embedding features, however, are a little bit different.\n",
    "\n",
    "Arize allows you to ingest not only the embedding vector but the raw data associated with that embedding, or a URL link to that raw data. Therefore, up to 3 columns can be associated with the same _embedding object_*. To be able to do this, Arize's SDK provides the `EmbeddingColumnNames` class, used below.\n",
    "\n",
    "***NOTE**: This is how we refer to the 3 possible pieces of information that can be sent as embedding objects:\n",
    "* Embedding `vector` (required)\n",
    "* Embedding `data` (optional): raw text associated with the embedding vector\n",
    "* Embedding `link_to_data` (optional): link to the data file (image, audio, ...) associated with the embedding vector\n",
    "\n",
    "[Here](https://docs.arize.com/arize/sending-data/model-schema-reference#8.-embedding-features-unstructured) is more information about defining embedding features using `EmbeddingColumnNames`.\n",
    "\n",
    "#### Object Detection predictions & actuals\n",
    "\n",
    "In order to send predictions and actuals for an object detection model, we will use the `ObjectDetectionColumnNames` class. Similarly to `EmbeddingColumnNames`, there are 3 pieces of information for `ObjectDetectionColumnNames`:\n",
    "* `bounding_boxes_coordinates_column_name` (str): Column name containing the coordinates of the rectangular outline that locates an object within an image or video. Pascal VOC format required. The contents of this column must be a List[List[float]].\n",
    "* `categories_column_name` (str): Column name containing the predefined classes or labels used by the model to classify the detected objects. The contents of this column must be List[str].\n",
    "* `scores_column_names` (str, optional): Column name containint the confidence scores that the model assigns to it's predictions, indicating how certain the model is that the predicted class is contained within the bounding box. This argument is only applicable for prediction values. The contents of this column must be List[float]."
   ]
  },
  {
   "cell_type": "code",
   "execution_count": null,
   "metadata": {},
   "outputs": [],
   "source": [
    "tags = [\"drift_type\"]\n",
    "embedding_feature_column_names = {\n",
    "    \"image_embedding\": EmbeddingColumnNames(\n",
    "        vector_column_name=\"image_vector\", link_to_data_column_name=\"url\"\n",
    "    )\n",
    "}\n",
    "object_detection_prediction_column_names = ObjectDetectionColumnNames(\n",
    "    bounding_boxes_coordinates_column_name=\"prediction_bboxes\",\n",
    "    categories_column_name=\"prediction_categories\",\n",
    "    scores_column_name=\"prediction_scores\",\n",
    ")\n",
    "object_detection_actual_column_names = ObjectDetectionColumnNames(\n",
    "    bounding_boxes_coordinates_column_name=\"actual_bboxes\",\n",
    "    categories_column_name=\"actual_categories\",\n",
    ")\n",
    "\n",
    "# Define a Schema() object for Arize to pick up data from the correct columns for logging\n",
    "schema = Schema(\n",
    "    prediction_id_column_name=\"prediction_id\",\n",
    "    timestamp_column_name=\"prediction_ts\",\n",
    "    tag_column_names=tags,\n",
    "    embedding_feature_column_names=embedding_feature_column_names,\n",
    "    object_detection_prediction_column_names=object_detection_prediction_column_names,\n",
    "    object_detection_actual_column_names=object_detection_actual_column_names,\n",
    ")"
   ]
  },
  {
   "cell_type": "markdown",
   "metadata": {
    "id": "dNmzjXOAKCoA"
   },
   "source": [
    "## Log Training Data\n",
    "\n",
    "**Note**: This example compares training vs production data. Arize supports sending only one dataset."
   ]
  },
  {
   "cell_type": "code",
   "execution_count": null,
   "metadata": {},
   "outputs": [],
   "source": [
    "# Logging Training DataFrame\n",
    "response = arize_client.log(\n",
    "    dataframe=train_df,\n",
    "    schema=schema,\n",
    "    model_id=model_id,\n",
    "    model_version=model_version,\n",
    "    model_type=model_type,\n",
    "    environment=Environments.TRAINING,\n",
    ")\n",
    "\n",
    "# If successful, the server will return a status_code of 200\n",
    "if response.status_code != 200:\n",
    "    print(\n",
    "        f\"❌ logging failed with response code {response.status_code}, {response.text}\"\n",
    "    )\n",
    "else:\n",
    "    print(f\"✅ You have successfully logged training set to Arize\")"
   ]
  },
  {
   "cell_type": "markdown",
   "metadata": {},
   "source": [
    "## Log Production Data"
   ]
  },
  {
   "cell_type": "code",
   "execution_count": null,
   "metadata": {},
   "outputs": [],
   "source": [
    "# Logging Production DataFrame\n",
    "response = arize_client.log(\n",
    "    dataframe=prod_df,\n",
    "    schema=schema,\n",
    "    model_id=model_id,\n",
    "    model_version=model_version,\n",
    "    model_type=model_type,\n",
    "    environment=Environments.PRODUCTION,\n",
    ")\n",
    "\n",
    "# If successful, the server will return a status_code of 200\n",
    "if response.status_code != 200:\n",
    "    print(\n",
    "        f\"❌ logging failed with response code {response.status_code}, {response.text}\"\n",
    "    )\n",
    "else:\n",
    "    print(f\"✅ You have successfully logged training set to Arize\")"
   ]
  },
  {
   "cell_type": "markdown",
   "metadata": {
    "id": "MX-GEkla5Rnh"
   },
   "source": [
    "# Step 4. Confirm Data in Arize ✅\n",
    "Note that the Arize platform takes about 15 minutes to index embedding data. While the model should appear immediately, the data will not show up until the indexing is complete. Feel free to head over to the **Data Ingestion** tab for your model to watch Arize work its magic!🔮\n",
    "\n",
    "You will be able to see the predictions, actuals, and feature importances that have been sent in the last 30 minutes, last day or last week.\n",
    "\n",
    "An example view of the Data Ingestion tab from a model, when data is sent continuously over 30 minutes, is shown in the image below.\n",
    "\n",
    "<img src=\"https://storage.googleapis.com/arize-assets/fixtures/data-ingestion-tab.png\" width=\"700\">"
   ]
  },
  {
   "cell_type": "markdown",
   "metadata": {
    "id": "aby-AFAe6jsV"
   },
   "source": [
    "# Wrap Up 🎁\n",
    "Congratulations, you've now sent your first machine learning embedding data to the Arize platform!!\n",
    "\n",
    "Additionally, if you want to remove this example model from your account, just click **Models** -> **CV-demo-coco-object-detection-quality-drift** -> **config** -> **delete**"
   ]
  },
  {
   "cell_type": "markdown",
   "metadata": {
    "id": "TP304Ecf6ePX"
   },
   "source": [
    "### Overview\n",
    "Arize is an end-to-end ML observability and model monitoring platform. The platform is designed to help ML engineers and data science practitioners surface and fix issues with ML models in production faster with:\n",
    "- Automated ML monitoring and model monitoring\n",
    "- Workflows to troubleshoot model performance\n",
    "- Real-time visualizations for model performance monitoring, data quality monitoring, and drift monitoring\n",
    "- Model prediction cohort analysis\n",
    "- Pre-deployment model validation\n",
    "- Integrated model explainability\n",
    "\n",
    "### Website\n",
    "Visit Us At: https://arize.com/model-monitoring/\n",
    "\n",
    "### Additional Resources\n",
    "- [What is ML observability?](https://arize.com/what-is-ml-observability/)\n",
    "- [Monitor Unstructured Data with Arize](https://arize.com/blog/monitor-unstructured-data-with-arize)\n",
    "- [Getting Started With Embeddings Is Easier Than You Think](https://arize.com/blog/getting-started-with-embeddings-is-easier-than-you-think)\n",
    "- [Playbook to model monitoring in production](https://arize.com/the-playbook-to-monitor-your-models-performance-in-production/)\n",
    "- [Using statistical distance metrics for ML monitoring and observability](https://arize.com/using-statistical-distance-metrics-for-machine-learning-observability/)\n",
    "<!-- - [ML infrastructure tools for data preparation](https://arize.com/ml-infrastructure-tools-for-data-preparation/) -->\n",
    "- [ML infrastructure tools for model building](https://arize.com/ml-infrastructure-tools-for-model-building/)\n",
    "- [ML infrastructure tools for production](https://arize.com/ml-infrastructure-tools-for-production-part-1/)\n",
    "<!-- - [ML infrastructure tools for model deployment and model serving](https://arize.com/ml-infrastructure-tools-for-production-part-2-model-deployment-and-serving/) -->\n",
    "\n",
    "- [ML infrastructure tools for ML monitoring and observability](https://arize.com/ml-infrastructure-tools-ml-observability/)\n",
    "\n",
    "Visit the [Arize Blog](https://arize.com/blog) and [Resource Center](https://arize.com/resource-hub/) for more resources on ML observability and model monitoring.\n"
   ]
  }
 ],
 "metadata": {
  "language_info": {
   "name": "python"
  }
 },
 "nbformat": 4,
 "nbformat_minor": 2
}
