{
 "cells": [
  {
   "cell_type": "markdown",
   "metadata": {
    "id": "aVq_1jxBo7YW"
   },
   "source": [
    "<img src=\"https://storage.googleapis.com/arize-assets/arize-logo-white.jpg\" width=\"200\"/>\n",
    "\n",
    "# <center>Ingesting an Object Detection Model</center>\n",
    "\n",
    "In this tutorial, we are going to ingest model data from the [Facebook DETR](https://huggingface.co/facebook/detr-resnet-101) using input images from the [COCO dataset](https://cocodataset.org/#home).\n",
    "\n",
    "\n",
    "Guides for other model types are available [here](https://docs.arize.com/arize/sending-data-to-arize/model-types).\n"
   ]
  },
  {
   "cell_type": "markdown",
   "metadata": {
    "id": "NlEQkPeDJUIw"
   },
   "source": [
    "# Step 0. Install Dependencies and Import Libraries 📚"
   ]
  },
  {
   "cell_type": "code",
   "execution_count": null,
   "metadata": {},
   "outputs": [],
   "source": [
    "!pip install arize \n",
    "from arize.pandas.logger import Client, Schema\n",
    "from arize.utils.types import Environments, ModelTypes, EmbeddingColumnNames, Schema, ObjectDetectionColumnNames\n",
    "import pandas as pd\n",
    "import uuid\n",
    "import requests\n",
    "import numpy as np\n",
    "import datetime\n"
   ]
  },
  {
   "cell_type": "markdown",
   "metadata": {
    "id": "MSf170h4JVfN"
   },
   "source": [
    "# Step 1. Download and Display the data\n",
    "\n",
    "We have curated a dataset for you so that you can send it to Arize in this tutorial."
   ]
  },
  {
   "cell_type": "code",
   "execution_count": null,
   "metadata": {},
   "outputs": [],
   "source": [
    "url=\"https://storage.googleapis.com/arize-assets/fixtures/Embeddings/arize-demo-models-data/CV/Object-Detection/raw_data_with_predictions_and_embeddings_Object_Detection_no_negatives.parquet\"\n",
    "df = pd.read_parquet(url)"
   ]
  },
  {
   "cell_type": "code",
   "execution_count": null,
   "metadata": {},
   "outputs": [],
   "source": [
    "df.head()"
   ]
  },
  {
   "cell_type": "markdown",
   "metadata": {
    "id": "IooTaCBlxl26"
   },
   "source": [
    "# Step 2. Prepare your data to be sent to Arize\n"
   ]
  },
  {
   "cell_type": "markdown",
   "metadata": {
    "id": "eRWk1tVbJqLK"
   },
   "source": [
    "## Add Timestamps for Predictions"
   ]
  },
  {
   "cell_type": "code",
   "execution_count": null,
   "metadata": {},
   "outputs": [],
   "source": [
    "current_time = datetime.datetime.now().timestamp()\n",
    "\n",
    "earlier_time = (\n",
    "    datetime.datetime.now() - datetime.timedelta(days=30)\n",
    ").timestamp()\n",
    "\n",
    "optional_prediction_timestamps = np.linspace(\n",
    "    earlier_time, current_time, num=df.shape[0]\n",
    ")\n",
    "\n",
    "df[\"prediction_ts\"] = pd.Series(optional_prediction_timestamps.astype(int))\n",
    "df[[\"prediction_ts\"]].head()"
   ]
  },
  {
   "cell_type": "markdown",
   "metadata": {
    "id": "ooTNfTlBxqaR"
   },
   "source": [
    "## Add prediction ids\n",
    "\n",
    "The Arize platform uses prediction IDs to link a prediction to an actual. Visit the [Arize documentation](https://docs.arize.com/arize/data-ingestion/model-schema/5.-prediction-id?q=prediction_id) for more details.\n",
    "\n",
    "You can generate prediction IDs as follows:"
   ]
  },
  {
   "cell_type": "code",
   "execution_count": null,
   "metadata": {},
   "outputs": [],
   "source": [
    "def add_prediction_id(df):\n",
    "    return [str(uuid.uuid4()) for _ in range(df.shape[0])]"
   ]
  },
  {
   "cell_type": "code",
   "execution_count": null,
   "metadata": {},
   "outputs": [],
   "source": [
    "df[\"prediction_id\"] = add_prediction_id(df)"
   ]
  },
  {
   "cell_type": "markdown",
   "metadata": {
    "id": "LvS_VbG2xvdc"
   },
   "source": [
    "# Step 3. Sending Data into Arize 💫"
   ]
  },
  {
   "cell_type": "markdown",
   "metadata": {
    "id": "K44p7e-6JxaM"
   },
   "source": [
    "## Import and Setup Arize Client\n",
    "\n",
    "The first step is to setup the Arize client. After that we will log the data.\n",
    "\n",
    "Copy the Arize `API_KEY` and `SPACE_KEY` from your Space Settings page (shown below) to the variables in the cell below. We will also be setting up some metadata to use across all logging."
   ]
  },
  {
   "cell_type": "markdown",
   "metadata": {
    "id": "xxJ1C2EHxI2U"
   },
   "source": [
    "<img src=\"https://storage.googleapis.com/arize-assets/fixtures/copy-keys.png\" width=\"700\">"
   ]
  },
  {
   "cell_type": "code",
   "execution_count": null,
   "metadata": {},
   "outputs": [],
   "source": [
    "SPACE_KEY = \"SPACE_KEY\"  # Change this line.\n",
    "API_KEY = \"API_KEY\"  # Change this line.\n",
    "arize_client = Client(space_key=SPACE_KEY, api_key=API_KEY)\n",
    "if SPACE_KEY == \"SPACE_KEY\" or API_KEY == \"API_KEY\":\n",
    "    raise ValueError(\"❌ CHANGE SPACE AND API KEYS\")\n",
    "else:\n",
    "    print(\"✅ Arize client setup done! Now you can start using Arize!\")"
   ]
  },
  {
   "cell_type": "markdown",
   "metadata": {
    "id": "MkJzocn7J3Mw"
   },
   "source": [
    "## Define Schema\n",
    "\n",
    "Now that our Arize client is set up, let's go ahead and log all of our data to the platform. For more details on how **`arize.pandas.logger`** works, visit our documentation.\n",
    "\n",
    "[![Buttons_OpenOrange.png](https://storage.googleapis.com/arize-assets/fixtures/Buttons_OpenOrange.png)](https://docs.arize.com/arize/sdks-and-integrations/python-sdk/arize.pandas)\n",
    "\n",
    "We will use the `ObjectDetectionColumnNames` and `EmbeddingColumnNames` classes from Arize's SDK. \n",
    "\n",
    "[Here](https://docs.arize.com/arize/sending-data/model-schema-reference#8.-embedding-features-unstructured) is more information about defining embedding features using `EmbeddingColumnNames`."
   ]
  },
  {
   "cell_type": "code",
   "execution_count": null,
   "metadata": {},
   "outputs": [],
   "source": [
    "tags=[\n",
    "  \"drift_type\"\n",
    "]\n",
    "embedding_feature_column_names={\n",
    "    \"image_embedding\": EmbeddingColumnNames(\n",
    "        vector_column_name=\"image_vector\",\n",
    "        link_to_data_column_name=\"url\"\n",
    "    )\n",
    "}\n",
    "object_detection_prediction_column_names=ObjectDetectionColumnNames(\n",
    "    bounding_boxes_coordinates_column_name=\"prediction_bboxes\",\n",
    "    categories_column_name=\"prediction_categories\",\n",
    "    scores_column_name=\"prediction_scores\"\n",
    ")\n",
    "object_detection_actual_column_names=ObjectDetectionColumnNames(\n",
    "    bounding_boxes_coordinates_column_name=\"actual_bboxes\",\n",
    "    categories_column_name=\"actual_categories\",\n",
    ")\n",
    "\n",
    "# Defina the Schema, including embedding information\n",
    "schema = Schema(\n",
    "    prediction_id_column_name=\"prediction_id\",\n",
    "    timestamp_column_name=\"prediction_ts\",\n",
    "    tag_column_names=tags,\n",
    "    embedding_feature_column_names=embedding_feature_column_names,\n",
    "    object_detection_prediction_column_names=object_detection_prediction_column_names,\n",
    "    object_detection_actual_column_names=object_detection_actual_column_names,\n",
    ")"
   ]
  },
  {
   "cell_type": "markdown",
   "metadata": {
    "id": "dNmzjXOAKCoA"
   },
   "source": [
    "## Log Data to Arize\n",
    "\n",
    "Log the DataFrame using the [pandas API](https://docs.arize.com/arize/sending-data-to-arize/data-ingestion-methods/sdk-reference/python-sdk/arize.pandas)."
   ]
  },
  {
   "cell_type": "code",
   "execution_count": null,
   "metadata": {},
   "outputs": [],
   "source": [
    "# Log the dataframe with the schema mapping \n",
    "response = arize_client.log(\n",
    "    model_id= \"CV-object-detection\",\n",
    "    model_version= \"v1\",\n",
    "    model_type=ModelTypes.OBJECT_DETECTION,\n",
    "    environment=Environments.PRODUCTION,\n",
    "    dataframe=df,\n",
    "    schema=schema,\n",
    "    sync=True,\n",
    ")\n",
    "\n",
    "# If successful, the server will return a status_code of 200\n",
    "if response.status_code != 200:\n",
    "    print(f\"❌ logging failed with response code {response.status_code}, {response.text}\")\n",
    "else:\n",
    "    print(f\"✅ You have successfully logged training set to Arize\")"
   ]
  }
 ],
 "metadata": {
  "language_info": {
   "name": "python"
  }
 },
 "nbformat": 4,
 "nbformat_minor": 2
}
