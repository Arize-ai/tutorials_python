{
  "cells": [
    {
      "cell_type": "markdown",
      "source": [
        "<img src=\"https://storage.googleapis.com/arize-assets/arize-logo-white.jpg\" width=\"200\"/>\n",
        "\n",
        "# <center>Getting Started with the Arize Platform</center>\n",
        "## <center>Investigating Embedding Drift in Image Classification</center>\n",
        "\n",
        "**In this walkthrough, we are going to ingest embedding data and look at embedding drift.** \n",
        "\n",
        "In this scenario, you are in charge of maintaining an Image Classification model. Your model, resnet-50, will classify the input images into the 10 predefined categories of the Fashion MNIST (see [dataset](https://huggingface.co/datasets/arize-ai/fashion_mnist_quality_drift)). However, once the model is released into production, you notice that the performance of the model has degraded over a period of time.\n",
        "\n",
        "\n",
        "This notebook will show you how Arize can automatically surface and troubleshoot the reason for this performance degradation by analyzing _image vectors_ associated with the input image so that you can take the right action to retrain your model/clean your data, saving you time and effort to correctly wrangle the datasets and visualize them. In this example, there are worse quality images in the production set during some period of time.\n",
        "\n",
        "It is worth noting that, according to our research, inspecting embedding drift can surface problems with your data before they cause performance degradation.\n",
        "\n",
        "In this tutorial, we will start from scratch. We will:\n",
        "* Download the embedding vectors and predictions of a dataset we have curated for this tutorial\n",
        "* Log the inferences into Arize\n",
        "* Visually explore embeddings in the Arize Platform\n",
        "\n",
        "Let's get started! "
      ],
      "metadata": {
        "id": "QOudyT6lPBqp"
      }
    },
    {
      "cell_type": "markdown",
      "source": [
        "# Step 0. Install Dependencies and Import Libraries 📚"
      ],
      "metadata": {
        "id": "_X9GuXoSXleA"
      }
    },
    {
      "cell_type": "code",
      "execution_count": null,
      "source": [
        "!pip install -q arize\n",
        "\n",
        "import uuid\n",
        "from datetime import datetime\n",
        "\n",
        "import pandas as pd\n",
        "from arize.pandas.logger import Client\n",
        "from arize.utils.types import Environments, ModelTypes, EmbeddingColumnNames, Schema"
      ],
      "outputs": [],
      "metadata": {
        "id": "QvPo5LKZjpfs"
      }
    },
    {
      "cell_type": "markdown",
      "source": [
        "# Step 1. Download the data\n",
        "\n",
        "We have curated a dataset for you so that you can send it to Arize in this tutorial.\n"
      ],
      "metadata": {}
    },
    {
      "cell_type": "code",
      "execution_count": null,
      "source": [
        "train_df = pd.read_parquet(\"https://storage.googleapis.com/arize-assets/fixtures/Embeddings/arize-demo-models-data/CV/fashion_mnist_quality_drift_training.parquet\")\n",
        "prod_df = pd.read_parquet(\"https://storage.googleapis.com/arize-assets/fixtures/Embeddings/arize-demo-models-data/CV/fashion_mnist_quality_drift_production.parquet\")"
      ],
      "outputs": [],
      "metadata": {}
    },
    {
      "cell_type": "markdown",
      "source": [
        "# Step 2. Prepare your data to be sent to Arize\n"
      ],
      "metadata": {
        "id": "0BIeGAemfziv"
      }
    },
    {
      "cell_type": "markdown",
      "source": [
        "## Update the timestamps\n",
        "\n",
        "The data that you are working with was constructed in April of 2022. Hence, we will update the timestamps so they are current at the time that you're sending data to Arize."
      ],
      "metadata": {
        "id": "Cyer0ywollCt"
      }
    },
    {
      "cell_type": "code",
      "execution_count": null,
      "source": [
        "last_ts = max(prod_df['prediction_ts'])\n",
        "now_ts = datetime.timestamp(datetime.now())\n",
        "delta_ts = now_ts - last_ts    \n",
        "\n",
        "train_df['prediction_ts'] = (train_df['prediction_ts'] + delta_ts).astype(float)\n",
        "prod_df['prediction_ts'] = (prod_df['prediction_ts'] + delta_ts).astype(float)"
      ],
      "outputs": [],
      "metadata": {
        "id": "xzYoV-hemYsE"
      }
    },
    {
      "cell_type": "markdown",
      "source": [
        "## Add prediction ids\n",
        "\n",
        "The Arize platform uses prediction IDs to link a prediction to an actual. Visit the [Arize documentation](https://docs.arize.com/arize/data-ingestion/model-schema/5.-prediction-id?q=prediction_id) for more details.\n",
        "\n",
        "You can generate prediction IDs as follows:"
      ],
      "metadata": {
        "id": "e37r7yiLpbvf"
      }
    },
    {
      "cell_type": "code",
      "execution_count": null,
      "source": [
        "def add_prediction_id(df):\n",
        "    return [str(uuid.uuid4()) for _ in range(df.shape[0])]"
      ],
      "outputs": [],
      "metadata": {
        "id": "RI4G0fNBm5UC"
      }
    },
    {
      "cell_type": "code",
      "execution_count": null,
      "source": [
        "train_df['prediction_id'] = add_prediction_id(train_df)\n",
        "prod_df['prediction_id'] = add_prediction_id(prod_df)"
      ],
      "outputs": [],
      "metadata": {
        "id": "n28vEY31niZ0"
      }
    },
    {
      "cell_type": "markdown",
      "source": [
        "# Step 3. Sending Data into Arize 💫"
      ],
      "metadata": {
        "id": "-PXrjo3Qpgm-"
      }
    },
    {
      "cell_type": "markdown",
      "source": [
        "## Import and Setup Arize Client\n",
        "\n",
        "The first step is to setup the Arize client. After that we will log the data.\n",
        "\n",
        "Copy the Arize `API_KEY` and `SPACE_KEY` from your Space Settings page (shown below) to the variables in the cell below. We will also be setting up some metadata to use across all logging."
      ],
      "metadata": {
        "id": "pwvCUBqkeW4V"
      }
    },
    {
      "cell_type": "markdown",
      "source": [
        "<img src=\"https://storage.googleapis.com/arize-assets/fixtures/copy-keys.png\" width=\"700\">"
      ],
      "metadata": {
        "id": "j3jd6J3qQb_K"
      }
    },
    {
      "cell_type": "code",
      "execution_count": null,
      "source": [
        "SPACE_KEY = \"SPACE_KEY\"\n",
        "API_KEY = \"API_KEY\"\n",
        "arize_client = Client(space_key=SPACE_KEY, api_key=API_KEY)\n",
        "model_id = \"CV-demo-fashion-mnist-quality-drift\"\n",
        "model_version = \"1.0\"\n",
        "model_type = ModelTypes.SCORE_CATEGORICAL\n",
        "if SPACE_KEY == \"SPACE_KEY\" or API_KEY == \"API_KEY\":\n",
        "    raise ValueError(\"❌ NEED TO CHANGE SPACE AND/OR API_KEY\")\n",
        "else:\n",
        "    print(\"✅ Import and Setup Arize Client Done! Now we can start using Arize!\")"
      ],
      "outputs": [],
      "metadata": {
        "colab": {
          "base_uri": "https://localhost:8080/"
        },
        "id": "SvkUY2dodBL5",
        "outputId": "e723839b-03b1-4c81-db3b-ea66693308a9"
      }
    },
    {
      "cell_type": "markdown",
      "source": [
        "\n",
        "Now that our Arize client is set up, let's go ahead and log all of our data to the platform. For more details on how **`arize.pandas.logger`** works, visit our documentation.\n",
        "\n",
        "[![Buttons_OpenOrange.png](https://storage.googleapis.com/arize-assets/fixtures/Buttons_OpenOrange.png)](https://docs.arize.com/arize/sdks-and-integrations/python-sdk/arize.pandas)"
      ],
      "metadata": {
        "id": "MhYZ7xOVfasj"
      }
    },
    {
      "cell_type": "markdown",
      "source": [
        "## Define the Schema \n",
        "\n",
        "A Schema instance specifies the column names for corresponding data in the dataframe. While we could define different Schemas for training and production datasets, the dataframes have the same column names, so the Schema will be the same in this instance.\n",
        "\n",
        "To ingest non-embedding features, it suffices to provide a list of column names that contain the features in our dataframe. Embedding features, however, are a little bit different.\n",
        "\n",
        "Arize allows you to ingest not only the embedding vector but the raw data associated with that embedding, or a URL link to that raw data. Therefore, up to 3 columns can be associated with the same _embedding object_*. To be able to do this, Arize's SDK provides the `EmbeddingColumnNames` class, used below.\n",
        "\n",
        "\n",
        "***NOTE**: This is how we refer to the 3 possible pieces of information that can be sent as embedding objects:\n",
        "* Embedding `vector` (required)\n",
        "* Embedding `data` (optional): raw text associated with the embedding vector\n",
        "* Embedding `link_to_data` (optional): link to the data file (image, audio, ...) associated with the embedding vector\n",
        "\n",
        "\n",
        "\n",
        "Learn more [here](https://docs.arize.com/arize/sending-data/model-schema-reference#8.-embedding-features-unstructured)."
      ],
      "metadata": {
        "id": "rCMZsMpi3aiA"
      }
    },
    {
      "cell_type": "code",
      "execution_count": null,
      "source": [
        "embedding_features = {\n",
        "    # Dictionary keys will be the displayed name of the embedding feature in the app\n",
        "    \"image_embedding\": EmbeddingColumnNames(\n",
        "        vector_column_name=\"image_vector\",\n",
        "        link_to_data_column_name=\"url\",\n",
        "    ),\n",
        "    \n",
        "}\n",
        "\n",
        "# Define a Schema() object for Arize to pick up data from the correct columns for logging\n",
        "schema = Schema(\n",
        "    prediction_id_column_name=\"prediction_id\",\n",
        "    timestamp_column_name=\"prediction_ts\",\n",
        "    prediction_label_column_name=\"pred_label\",\n",
        "    actual_label_column_name=\"label\",\n",
        "    embedding_feature_column_names=embedding_features\n",
        ")"
      ],
      "outputs": [],
      "metadata": {
        "id": "JOGpBqA034Zt"
      }
    },
    {
      "cell_type": "markdown",
      "source": [
        "## Log Training Data"
      ],
      "metadata": {
        "id": "Lw8vPvEj7sUu"
      }
    },
    {
      "cell_type": "code",
      "execution_count": null,
      "source": [
        "# Logging Training DataFrame\n",
        "response = arize_client.log(\n",
        "    dataframe=train_df,\n",
        "    model_id=model_id,\n",
        "    model_version=model_version,\n",
        "    model_type=model_type,\n",
        "    environment=Environments.TRAINING,\n",
        "    schema=schema\n",
        ")\n",
        "\n",
        "\n",
        "# If successful, the server will return a status_code of 200\n",
        "if response.status_code != 200:\n",
        "    print(f\"❌ logging failed with response code {response.status_code}, {response.text}\")\n",
        "else:\n",
        "    print(f\"✅ You have successfully logged training set to Arize\")\n"
      ],
      "outputs": [],
      "metadata": {
        "colab": {
          "base_uri": "https://localhost:8080/"
        },
        "id": "ZeevDQO_7sUu",
        "outputId": "5a678c46-2258-49de-d984-0c27b73a3459"
      }
    },
    {
      "cell_type": "markdown",
      "source": [
        "## Log Production Data"
      ],
      "metadata": {
        "id": "dLeCjcQRDWF6"
      }
    },
    {
      "cell_type": "code",
      "execution_count": null,
      "source": [
        "# Logging Production DataFrame\n",
        "response = arize_client.log(\n",
        "    dataframe=prod_df,\n",
        "    model_id=model_id,\n",
        "    model_version=model_version,\n",
        "    model_type=model_type,\n",
        "    environment=Environments.PRODUCTION,\n",
        "    schema=schema\n",
        ")\n",
        "\n",
        "if response.status_code != 200:\n",
        "    print(f\"❌ logging failed with response code {response.status_code}, {response.text}\")\n",
        "else:\n",
        "    print(f\"✅ You have successfully logged production set to Arize\")"
      ],
      "outputs": [],
      "metadata": {
        "colab": {
          "base_uri": "https://localhost:8080/"
        },
        "id": "CXjzjXP2hsah",
        "outputId": "4793af5c-8941-4960-df88-964e6a81c215"
      }
    },
    {
      "cell_type": "markdown",
      "source": [
        "# Step 4. Confirm Data in Arize ✅\n",
        "Note that the Arize platform takes about 15 minutes to index embedding data. While the model should appear immediately, the data will not show up until the indexing is complete. Feel free to head over to the **Data Ingestion** tab for your model to watch Arize work its magic!🔮\n",
        "\n",
        "You will be able to see the predictions, actuals, and feature importances that have been sent in the last 30 minutes, last day or last week.\n",
        "\n",
        "An example view of the Data Ingestion tab from a model, when data is sent continuously over 30 minutes, is shown in the image below.\n",
        "\n",
        "<img src=\"https://storage.googleapis.com/arize-assets/fixtures/data-ingestion-tab.png\" width=\"700\">"
      ],
      "metadata": {
        "id": "MX-GEkla5Rnh"
      }
    },
    {
      "cell_type": "markdown",
      "source": [
        "## Check the Embedding Data in Arize\n",
        "Now, you can see how Arize surfaces the low quality images before your customer does and troubleshoots the degradation in performance to save you the time and effort. \n",
        "\n",
        "First, set the baseline to the training set that we logged before.\n",
        "\n",
        "<img src=\"https://storage.googleapis.com/arize-assets/fixtures/Embeddings/CV/fashion_mnist_baseline_setup.gif\" width=\"700\">\n",
        "\n",
        "\n",
        "Since your model contains embedding data, you will see it in your Model's Overview page. \n",
        "\n",
        "<img src=\"https://storage.googleapis.com/arize-assets/fixtures/Embeddings/CV/fashion_mnist_embedding.png\" width=\"700\">\n",
        "\n",
        " Click on the Embedding Name or the Euclidean Distance value to see how your embedding data is drifting over time. In the picture below we represent the global euclidean distance between your production set (at different points in time) and the baseline (which we set to be our training set). We can see there is a period of a week where suddenly the distance is remarkably higher. This shows us that during that time image data was sent to our model that was different than what it was trained on. This is the period of time when the quality of some images is worse.\n",
        " \n",
        "<img src=\"https://storage.googleapis.com/arize-assets/fixtures/Embeddings/CV/fashion_mnist_drift.png\" width=\"700\">\n",
        "\n",
        "In addition to the drift tracking plot above, below you can find the UMAP visualization of your data, according to the point in time selected. Notice that the production data and our baseline (training) data are superimposed, which is indicative that the model is seeing data in production similar to the data it was trained on.\n",
        "\n",
        "<img src=\"https://storage.googleapis.com/arize-assets/fixtures/Embeddings/CV/fashion_mnist_no_drift_umap.png\" width=\"700\">\n",
        "\n",
        "For further inspection, you may select a 3D UMAP view and clicked _Explore UMAP_ to expand the view. With this view we can interact in 3D with our dataset. We can zoom, rotate, and drag so we can see the areas of our dataset that are most interesting to us. Check out the workflow below:\n",
        "\n",
        "<img src=\"https://storage.googleapis.com/arize-assets/fixtures/Embeddings/CV/fashion-mnist-workflow.gif\" width=\"700\">\n",
        "\n",
        "In the display above, Arize offers many coloring options:\n",
        "1. By Dataset: You can see that the coloring has been made to distinguish production data vs baseline data (training in this example). This is specifically useful to detect drift. In this example, we can see that there is some production data far away from any training data, giving an indication of severe dataset drift. We can identify exactly what datapoints our baseline is missing so that we can re-train effectively.\n",
        "2. By Prediction Label: This coloring option gives an insight on how is our model making decisions. Where are the different classes located in the space? Is the model predicting one class in regions where it should be predicting another?\n",
        "3. By Actual Label: This coloring option is great if we want to identify labeling issues. For instance, if inside the orange cloud, we can see a points of other colors, it is a good idea to check and see if the labels are wrong. Further we can use the corrected labels for re-training. This separation is specially difficult when clusters are joined, since both the model and UMAP have trouble separating the data-points.\n",
        "4. By Correctness: This coloring option offers a quick way of identifying where the bulk of your model's mistakes are placed, giving you an area to pay attention to. In this example, we can see the difference between the red and blue images and almost all the red images have significantly worse quality (e.g. they are rotated and blurred).\n",
        "5. By Confusion Matrix: This coloring option allows you to select a `positive class` and color the data-points as `True Positives`, `True Negatives`, `False Positives`, `False Negatives`.\n",
        "6. By Feature: You can identify areas of the space where your model might be underperforming and, by coloring the points by feature, identify patterns at feature level. In other words, you can identify a slice of your data sharing a common feature (or features) that are causing a problem.\n",
        "7. By Prediction Score: You can identify areas where your model is more confident of its predictions and areas where your model struggled more to make a decision.\n",
        "\n",
        "More coloring options will be added to help you understand and debug your model and dataset."
      ],
      "metadata": {
        "id": "S1JYzltL8Z3g"
      }
    },
    {
      "cell_type": "markdown",
      "source": [
        "# Wrap Up 🎁\n",
        "Congratulations, you've now sent your first machine learning embedding data to the Arize platform!!\n",
        "\n",
        "Additionally, if you want to remove this example model from your account, just click **Models** -> **CV-demo-fashion-mnist-quality-drift** -> **config** -> **delete**"
      ],
      "metadata": {
        "id": "aby-AFAe6jsV"
      }
    },
    {
      "cell_type": "markdown",
      "source": [
        "### Overview\n",
        "Arize is an end-to-end ML observability and model monitoring platform. The platform is designed to help ML engineers and data science practitioners surface and fix issues with ML models in production faster with:\n",
        "- Automated ML monitoring and model monitoring\n",
        "- Workflows to troubleshoot model performance\n",
        "- Real-time visualizations for model performance monitoring, data quality monitoring, and drift monitoring\n",
        "- Model prediction cohort analysis\n",
        "- Pre-deployment model validation\n",
        "- Integrated model explainability\n",
        "\n",
        "### Website\n",
        "Visit Us At: https://arize.com/model-monitoring/\n",
        "\n",
        "### Additional Resources\n",
        "- [What is ML observability?](https://arize.com/what-is-ml-observability/)\n",
        "- [Monitor Unstructured Data with Arize](https://arize.com/blog/monitor-unstructured-data-with-arize)\n",
        "- [Getting Started With Embeddings Is Easier Than You Think](https://arize.com/blog/getting-started-with-embeddings-is-easier-than-you-think)\n",
        "- [Playbook to model monitoring in production](https://arize.com/the-playbook-to-monitor-your-models-performance-in-production/)\n",
        "- [Using statistical distance metrics for ML monitoring and observability](https://arize.com/using-statistical-distance-metrics-for-machine-learning-observability/)\n",
        "<!-- - [ML infrastructure tools for data preparation](https://arize.com/ml-infrastructure-tools-for-data-preparation/) -->\n",
        "- [ML infrastructure tools for model building](https://arize.com/ml-infrastructure-tools-for-model-building/)\n",
        "- [ML infrastructure tools for production](https://arize.com/ml-infrastructure-tools-for-production-part-1/)\n",
        "<!-- - [ML infrastructure tools for model deployment and model serving](https://arize.com/ml-infrastructure-tools-for-production-part-2-model-deployment-and-serving/) -->\n",
        "\n",
        "- [ML infrastructure tools for ML monitoring and observability](https://arize.com/ml-infrastructure-tools-ml-observability/)\n",
        "\n",
        "Visit the [Arize Blog](https://arize.com/blog) and [Resource Center](https://arize.com/resource-hub/) for more resources on ML observability and model monitoring.\n"
      ],
      "metadata": {
        "id": "TP304Ecf6ePX"
      }
    }
  ],
  "metadata": {
    "accelerator": "GPU",
    "colab": {
      "background_execution": "on",
      "collapsed_sections": [
        "QOudyT6lPBqp"
      ],
      "machine_shape": "hm",
      "name": "Arize_Short_Tutorial_Image_Classification_Quality_Drift.ipynb",
      "provenance": [],
      "toc_visible": true
    },
    "kernelspec": {
      "display_name": "Python 3 (ipykernel)",
      "language": "python",
      "name": "python3"
    },
    "language_info": {
      "codemirror_mode": {
        "name": "ipython",
        "version": 3
      },
      "file_extension": ".py",
      "mimetype": "text/x-python",
      "name": "python",
      "nbconvert_exporter": "python",
      "pygments_lexer": "ipython3",
      "version": "3.8.13"
    }
  },
  "nbformat": 4,
  "nbformat_minor": 2
}