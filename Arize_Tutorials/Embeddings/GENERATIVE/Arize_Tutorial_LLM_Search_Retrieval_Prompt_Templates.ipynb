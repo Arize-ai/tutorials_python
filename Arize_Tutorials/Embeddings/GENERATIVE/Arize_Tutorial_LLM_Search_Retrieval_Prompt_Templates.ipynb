{
 "cells": [
  {
   "cell_type": "markdown",
   "id": "c82de5c2",
   "metadata": {},
   "source": [
    "<img src=\"https://storage.googleapis.com/arize-assets/arize-logo-white.jpg\" width=\"200\"/>\n",
    "\n",
    "# <center>Getting Started with the Arize Platform</center>\n",
    "## <center>Optimized Prompt Engineering Workflows (LLM Observability)</center>"
   ]
  },
  {
   "cell_type": "markdown",
   "id": "95bf4144",
   "metadata": {},
   "source": [
    "# Step 0. Install Dependencies, Import Libraries 📚"
   ]
  },
  {
   "cell_type": "code",
   "execution_count": null,
   "id": "d7257001",
   "metadata": {},
   "outputs": [],
   "source": [
    "!pip install 'arize==7.5.0rc1'\n",
    "\n",
    "import uuid\n",
    "import pandas as pd\n",
    "from arize.pandas.logger import Client\n",
    "from arize.utils.types import (\n",
    "    Environments,\n",
    "    ModelTypes,\n",
    "    EmbeddingColumnNames,\n",
    "    Schema,\n",
    "    PromptTemplateColumnNames,\n",
    "    LLMConfigColumnNames\n",
    ")\n",
    "from datetime import datetime"
   ]
  },
  {
   "cell_type": "markdown",
   "id": "6614da81",
   "metadata": {},
   "source": [
    "# Step 1. Download the data"
   ]
  },
  {
   "cell_type": "code",
   "execution_count": null,
   "id": "7d6e1b10",
   "metadata": {},
   "outputs": [],
   "source": [
    "data_url = (\n",
    "    \"https://storage.googleapis.com/arize-assets/fixtures/Embeddings/\"\n",
    "    \"arize-demo-models-data/GENERATIVE/prompt-response/\"\n",
    ")\n",
    "prod_df = pd.read_parquet(data_url+\"df_queries_08_25.parquet\")\n",
    "val_df = pd.read_parquet(data_url+\"df_documents_08_25.parquet\")"
   ]
  },
  {
   "cell_type": "code",
   "execution_count": null,
   "id": "4ad7cd5d",
   "metadata": {},
   "outputs": [],
   "source": [
    "prod_df.head()"
   ]
  },
  {
   "cell_type": "markdown",
   "id": "50894a1d",
   "metadata": {},
   "source": [
    "# Step 2. Prepare Your Data"
   ]
  },
  {
   "cell_type": "markdown",
   "id": "02f8ca60",
   "metadata": {},
   "source": [
    "## Add prediction ids\n",
    "\n",
    "The Arize platform uses prediction IDs to link a prediction to an actual. Visit the [Arize documentation](https://docs.arize.com/arize/data-ingestion/model-schema/5.-prediction-id?q=prediction_id) for more details.\n",
    "\n",
    "You can generate prediction IDs as follows:\n"
   ]
  },
  {
   "cell_type": "code",
   "execution_count": null,
   "id": "88b52907",
   "metadata": {},
   "outputs": [],
   "source": [
    "def add_prediction_id(df):\n",
    "    return [str(uuid.uuid4()) for _ in range(df.shape[0])]\n",
    "\n",
    "prod_df['prediction_id'] = add_prediction_id(prod_df)\n",
    "val_df['prediction_id'] = add_prediction_id(val_df)"
   ]
  },
  {
   "cell_type": "markdown",
   "id": "3acac800",
   "metadata": {},
   "source": [
    "## Update the timestamps\n",
    "\n",
    "The data that you are working with was constructed in August of 2023. Hence, we will update the timestamps so they are current at the time that you're sending data to Arize.\n",
    "\n"
   ]
  },
  {
   "cell_type": "code",
   "execution_count": null,
   "id": "fe8d1e03",
   "metadata": {},
   "outputs": [],
   "source": [
    "last_ts = max(prod_df['prediction_ts'])\n",
    "now_ts = datetime.timestamp(datetime.now())\n",
    "delta_ts = now_ts - last_ts    \n",
    "\n",
    "prod_df['prediction_ts'] = (prod_df['prediction_ts'] + delta_ts).astype(float)"
   ]
  },
  {
   "cell_type": "markdown",
   "id": "8b7b2ff1",
   "metadata": {},
   "source": [
    "# Step 5. Sending Data into Arize 💫"
   ]
  },
  {
   "cell_type": "markdown",
   "id": "36cc5751",
   "metadata": {},
   "source": [
    "## Set up Arize Client"
   ]
  },
  {
   "cell_type": "code",
   "execution_count": null,
   "id": "c553b51b",
   "metadata": {},
   "outputs": [],
   "source": [
    "SPACE_KEY = \"YOUR_SPACE_KEY\"\n",
    "API_KEY = \"YOUR_API_KEY\"\n",
    "\n",
    "arize_client = Client(space_key=SPACE_KEY, api_key=API_KEY)\n",
    "model_id = \"search-and-retrieval-prompt-template-debug-demo\"\n",
    "model_version = \"1.0\"\n",
    "model_type = ModelTypes.GENERATIVE_LLM\n",
    "\n",
    "if SPACE_KEY == \"YOUR_SPACE_KEY\" or API_KEY == \"YOUR_API_KEY\":\n",
    "    raise ValueError(\"❌ CHANGE SPACE AND API KEYS\")\n",
    "else:\n",
    "    print(\"✅ Arize client setup done! Now you can start using Arize!\")"
   ]
  },
  {
   "cell_type": "markdown",
   "id": "673f843a",
   "metadata": {},
   "source": [
    "## Define the Schema \n",
    "\n",
    "A Schema instance specifies the column names for corresponding data in the dataframe. \n",
    "\n",
    "To ingest non-embedding features, it suffices to provide a list of column names that contain the features in our dataframe. Prompt and response pairs, however, are a little bit different since embedding vectors need to be logged into the platform.\n",
    "\n",
    "Arize allows you to ingest prompt and response pairs directly by providing `prompt_column_names` and `response_column_names` as fields of the Schema. You ingest not only the embedding vector but the raw data associated with that embedding. Therefore, up to 2 columns can be associated with the prompt or response objects:\n",
    "* Embedding `vector` (required)\n",
    "* Embedding `data` (optional,but recommended): raw text associated with the embedding vector\n",
    "\n",
    "Learn more about unstructured features [here](https://docs.arize.com/arize/sending-data/model-schema-reference#8.-embedding-features-unstructured).\n",
    "\n",
    "In addition, in this tutorial you will be sending information about your prompt templates, the LLM used and the hyper parameters used to configure it. Arize allows you to send this information by providing `prompt_template_column_names` and `llm_config_column_names`. We make use of the following classes:\n",
    "* `PromptTemplateColumnNames`: Groups together the prompt templates with their version\n",
    "    * `template_column_name`: Name of the column containing the promtp template in string format. The variables are represented by using the double key braces: `{{variable_name}}`.\n",
    "    * `template_version_column_name`: Name of column containing the version of the template used. This will allow you to filter by this field in the Arize platform.\n",
    "* `LLMConfigColumnNames`: Groups together the LLM used and the hyper parameters passed to it.\n",
    "    * `model_column_name`: Name of the column containing the names of the LLMs used to produce responses to the prompts. Typical examples are \"gpt-3.5turbo\" or `gpt-4\".\n",
    "    * `params_column_name`: Name of column containing the hyperparameters used to configure the LLM used. The contents of the column must be well formatted JSON string. For example: `{'max_tokens': 500, 'presence_penalty': 0.66, 'temperature': 0.28}`\n",
    "    \n",
    "Learn more about Arize's prompt engineering workflows [here](https://docs.arize.com/arize/llm-large-language-models/prompt-engineering)."
   ]
  },
  {
   "cell_type": "code",
   "execution_count": null,
   "id": "c3384acc",
   "metadata": {},
   "outputs": [],
   "source": [
    "tag_columns = [\n",
    "    \"cost_per_call\",\n",
    "    \"euclidean_distance_0\",\n",
    "    \"euclidean_distance_1\",\n",
    "    \"instruction\",\n",
    "    \"openai_precision_1\",\n",
    "    \"openai_precision_2\",\n",
    "    \"openai_relevance_0\",\n",
    "    \"openai_relevance_1\",\n",
    "    \"prompt_template\",\n",
    "    \"prompt_template_name\",\n",
    "    \"retrieval_text_0\",\n",
    "    \"retrieval_text_1\",\n",
    "    \"text_similarity_0\",\n",
    "    \"text_similarity_1\",\n",
    "    \"tokens_used\",\n",
    "    \"user_feedback\",\n",
    "    \"user_query\",\n",
    "]"
   ]
  },
  {
   "cell_type": "code",
   "execution_count": null,
   "id": "117b28c1",
   "metadata": {},
   "outputs": [],
   "source": [
    "# Declare prompt and response columns\n",
    "prompt_columns=EmbeddingColumnNames(\n",
    "    vector_column_name=\"prompt_vector\",\n",
    "    data_column_name=\"prompt_text\"\n",
    ")\n",
    "\n",
    "response_columns=EmbeddingColumnNames(\n",
    "    vector_column_name=\"response_vector\",\n",
    "    data_column_name=\"response_text\"\n",
    ")"
   ]
  },
  {
   "cell_type": "code",
   "execution_count": null,
   "id": "34c1bdd1",
   "metadata": {},
   "outputs": [],
   "source": [
    "# Declare the columns for the prompt template playground\n",
    "prompt_template_columns = PromptTemplateColumnNames(\n",
    "        template_column_name=\"prompt_template\",\n",
    "        template_version_column_name=\"prompt_template_name\"\n",
    ")\n",
    "llm_config_columns = LLMConfigColumnNames(\n",
    "        model_column_name=\"llm_config_model_name\",\n",
    "        params_column_name=\"llm_params\",\n",
    ")"
   ]
  },
  {
   "cell_type": "code",
   "execution_count": null,
   "id": "9a465590",
   "metadata": {},
   "outputs": [],
   "source": [
    "prod_schema = Schema(\n",
    "    prediction_id_column_name=\"prediction_id\",\n",
    "    timestamp_column_name=\"prediction_ts\",\n",
    "    prediction_label_column_name=\"pred_label\",\n",
    "    actual_label_column_name=\"user_feedback\",\n",
    "    tag_column_names=tag_columns,\n",
    "    prompt_column_names=prompt_columns,\n",
    "    response_column_names=response_columns,\n",
    "    prompt_template_column_names=prompt_template_columns,\n",
    "    llm_config_column_names=llm_config_columns\n",
    ")"
   ]
  },
  {
   "cell_type": "markdown",
   "id": "49202924",
   "metadata": {},
   "source": [
    "## Send Production Data"
   ]
  },
  {
   "cell_type": "code",
   "execution_count": null,
   "id": "ca9c5f07",
   "metadata": {},
   "outputs": [],
   "source": [
    "response = arize_client.log(\n",
    "    dataframe=prod_df,\n",
    "    schema=prod_schema,\n",
    "    model_id=model_id,\n",
    "    model_version=model_version,\n",
    "    model_type=model_type,\n",
    "    environment=Environments.PRODUCTION,\n",
    ")\n",
    "if response.status_code == 200:\n",
    "    print(f\"✅ Successfully logged data for model {model_id} to Arize!\")\n",
    "else:\n",
    "    print(\n",
    "        f'❌ Logging failed with status code {response.status_code} and message \"{response.text}\"'\n",
    "    )"
   ]
  },
  {
   "cell_type": "markdown",
   "id": "dd0454b7",
   "metadata": {},
   "source": [
    "## Send Validation Data"
   ]
  },
  {
   "cell_type": "code",
   "execution_count": null,
   "id": "7aa79c42",
   "metadata": {},
   "outputs": [],
   "source": [
    "# Declare prompt and response columns\n",
    "prompt_columns=EmbeddingColumnNames(\n",
    "    vector_column_name=\"text_vector\",\n",
    "    data_column_name=\"text\"\n",
    ")\n",
    "\n",
    "response_columns=EmbeddingColumnNames(\n",
    "    vector_column_name=\"text_vector\",\n",
    ")"
   ]
  },
  {
   "cell_type": "code",
   "execution_count": null,
   "id": "b64e458f",
   "metadata": {},
   "outputs": [],
   "source": [
    "val_schema = Schema(\n",
    "    prediction_label_column_name=\"actual_label\",\n",
    "    actual_label_column_name=\"actual_label\",\n",
    "    prompt_column_names=prompt_columns,\n",
    "    response_column_names=response_columns,\n",
    ")"
   ]
  },
  {
   "cell_type": "code",
   "execution_count": null,
   "id": "136f912e",
   "metadata": {},
   "outputs": [],
   "source": [
    "response = arize_client.log(\n",
    "    dataframe=val_df,\n",
    "    schema=val_schema,\n",
    "    model_id=model_id,\n",
    "    model_version=model_version,\n",
    "    model_type=model_type,\n",
    "    batch_id=\"validation-1\",\n",
    "    environment=Environments.VALIDATION,\n",
    "#     sync=True\n",
    ")\n",
    "if response.status_code == 200:\n",
    "    print(f\"✅ Successfully logged data for model {model_id} to Arize!\")\n",
    "else:\n",
    "    print(\n",
    "        f'❌ Logging failed with status code {response.status_code} and message \"{response.text}\"'\n",
    "    )"
   ]
  }
 ],
 "metadata": {
  "language_info": {
   "name": "python"
  }
 },
 "nbformat": 4,
 "nbformat_minor": 5
}
