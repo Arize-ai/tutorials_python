{
  "nbformat": 4,
  "nbformat_minor": 2,
  "metadata": {
    "colab": {
      "name": "Arize_Short_Tutorial_Sentiment_Classification.ipynb",
      "provenance": []
    },
    "kernelspec": {
      "name": "python3",
      "display_name": "Python 3"
    },
    "language_info": {
      "name": "python"
    }
  },
  "cells": [
    {
      "cell_type": "markdown",
      "source": [
        "<center><img src=\"https://storage.googleapis.com/arize-assets/arize-logo-white.jpg\" width=\"200\"/></center>\n",
        "\n",
        "# <center>Getting Started with the Arize Platform</center>\n",
        "## <center> Investigating Embedding Drift in NLP: Sentiment Classification</center>\n",
        "\n",
        "**In this walkthrough, we are going to ingest embedding data and look at embedding drift.** \n",
        "\n",
        "In this scenario, you are in charge of maintaining a sentiment classification model. This simple model takes online reviews of your U.S.-based product as the input and predict whether the reviewer's sentiment was positive, negative, or neutral. You trained your sentiment classification model on English reviews. However, once the model was released into production, you notice that the performance of the model has degraded over a period of time.\n",
        "\n",
        "Arize is able to surface the reason for this performance degradation. In this example, the presence of reviews written in Spanish impact the model's performance. You can surface and troubleshoot this issue by analyzing the _embedding vectors_ associated with the online review text.\n",
        "\n",
        "It is worth noting that, according to our research, inspecting embedding drift can surface problems with your data before they cause performance degradation.\n",
        "\n",
        "In this tutorial, we will:\n",
        "* Download the embedding vectors and predictions of a dataset we have curated for this tutorial\n",
        "* Log the inferences into the Arize Platform\n",
        "* Visually explore embeddings in the Arize Platform\n",
        "\n",
        "Before we start, if this is your first Arize Tutorial, we recommend that you complete [Send Data to Arize in 5 Easy Steps](https://colab.research.google.com/github/Arize-ai/client_python/blob/main/arize/examples/tutorials/Arize_Tutorials/Quick_Start/Send_data_to_Arize_in_5_easy_steps_classification.ipynb) before continuing. If you are familiar with sending data to Arize, it only takes a few more lines to send embedding data. \n",
        "\n",
        "Let's get started!"
      ],
      "metadata": {
        "id": "Wc_7t-mWSkw2"
      }
    },
    {
      "cell_type": "markdown",
      "source": [
        "# Step 0. Install Dependencies and Import Libraries 📚"
      ],
      "metadata": {
        "id": "SDVA4kK5HHqa"
      }
    },
    {
      "cell_type": "code",
      "execution_count": null,
      "source": [
        "!pip install -q arize\n",
        "\n",
        "import urllib\n",
        "import uuid\n",
        "from datetime import datetime\n",
        "\n",
        "import pandas as pd\n",
        "from arize.pandas.logger import Client\n",
        "from arize.utils.types import Environments, ModelTypes, EmbeddingColumnNames, Schema"
      ],
      "outputs": [],
      "metadata": {
        "id": "RavywpzY-Jz0"
      }
    },
    {
      "cell_type": "markdown",
      "source": [
        "# Step 1. Download the data\n",
        "\n",
        "We have curated a dataset for you so that you can send it to Arize in this tutorial.\n"
      ],
      "metadata": {
        "id": "kowuTe3U8tYI"
      }
    },
    {
      "cell_type": "code",
      "execution_count": null,
      "source": [
        "url=\"https://storage.googleapis.com/arize-assets/fixtures/Embeddings/arize-demo-models-data/NLP/ecommerce_reviews_language_drift.hdf5\"\n",
        "filename = \"ecommerce_reviews_language_drift\"\n",
        "urllib.request.urlretrieve(url, filename)\n",
        "\n",
        "train_df = pd.read_hdf(filename, key = \"training\")\n",
        "val_df = pd.read_hdf(filename, key = \"validation\")\n",
        "prod_df = pd.read_hdf(filename, key = \"production\")"
      ],
      "outputs": [],
      "metadata": {
        "id": "s61aEase57Pz"
      }
    },
    {
      "cell_type": "markdown",
      "source": [
        "This is what the dataset looks like. The columns are:\n",
        "- **prediction_id**: unique identifier for each prediction\n",
        "- **prediction_ts**: timestamp of the prediction (unix)\n",
        "- **review_age**, **reviewer_gender**, **product_category**, **language**: features of our model\n",
        "- **text**: embedding raw data for our text feature\n",
        "- **text_vector**: embedding vector\n",
        "- **pred_label**: label our model predicted\n",
        "- **label**: actual, ground-truth label for each prediction"
      ],
      "metadata": {
        "id": "nU1tvYCJ2586"
      }
    },
    {
      "cell_type": "code",
      "execution_count": null,
      "source": [
        "prod_df.head()"
      ],
      "outputs": [],
      "metadata": {
        "id": "7xooNZDX28Ck"
      }
    },
    {
      "cell_type": "markdown",
      "source": [
        "We will need to do a bit more of data preparation before sending to Arize.\n",
        "\n"
      ],
      "metadata": {
        "id": "zuSuXaMo3xbE"
      }
    },
    {
      "cell_type": "markdown",
      "source": [
        "# Step 2. Prepare your data to be sent to Arize\n"
      ],
      "metadata": {
        "id": "0BIeGAemfziv"
      }
    },
    {
      "cell_type": "markdown",
      "source": [
        "## Update the timestamps\n",
        "\n",
        "The data that you are working with was constructed in April of 2022. Hence, we will update the timestamps so they are current at the time that you're sending data to Arize."
      ],
      "metadata": {
        "id": "Cyer0ywollCt"
      }
    },
    {
      "cell_type": "code",
      "execution_count": null,
      "source": [
        "last_ts = max(prod_df['prediction_ts'])\n",
        "now_ts = datetime.now().timestamp()\n",
        "delta_ts = now_ts - last_ts    \n",
        "\n",
        "train_df['prediction_ts'] = (train_df['prediction_ts'] + delta_ts).astype(float)\n",
        "val_df['prediction_ts'] = (val_df['prediction_ts'] + delta_ts).astype(float)\n",
        "prod_df['prediction_ts'] = (prod_df['prediction_ts'] + delta_ts).astype(float)"
      ],
      "outputs": [],
      "metadata": {
        "id": "xzYoV-hemYsE"
      }
    },
    {
      "cell_type": "markdown",
      "source": [
        "## Add prediction ids\n",
        "\n",
        "The Arize platform uses prediction IDs to link a prediction to an actual. Visit the [Arize documentation](https://docs.arize.com/arize/data-ingestion/model-schema/5.-prediction-id?q=prediction_id) for more details.\n",
        "\n",
        "You can generate prediction IDs as follows:"
      ],
      "metadata": {
        "id": "e37r7yiLpbvf"
      }
    },
    {
      "cell_type": "code",
      "execution_count": null,
      "source": [
        "def add_prediction_id(df):\n",
        "    return [str(uuid.uuid4()) for _ in range(df.shape[0])]"
      ],
      "outputs": [],
      "metadata": {
        "id": "RI4G0fNBm5UC"
      }
    },
    {
      "cell_type": "code",
      "execution_count": null,
      "source": [
        "train_df['prediction_id'] = add_prediction_id(train_df)\n",
        "val_df['prediction_id'] = add_prediction_id(val_df)\n",
        "prod_df['prediction_id'] = add_prediction_id(prod_df)"
      ],
      "outputs": [],
      "metadata": {
        "id": "n28vEY31niZ0"
      }
    },
    {
      "cell_type": "markdown",
      "source": [
        "# Step 3. Sending Data into Arize 💫\n"
      ],
      "metadata": {
        "id": "-PXrjo3Qpgm-"
      }
    },
    {
      "cell_type": "markdown",
      "source": [
        "## Import and Setup Arize Client\n",
        "\n",
        "The first step is to setup the Arize client. After that we will log the data.\n",
        "\n",
        "Copy the Arize `API_KEY` and `SPACE_KEY` from your Space Settings page (shown below) to the variables in the cell below. We will also be setting up some metadata to use across all logging."
      ],
      "metadata": {
        "id": "pwvCUBqkeW4V"
      }
    },
    {
      "cell_type": "markdown",
      "source": [
        "<img src=\"https://storage.googleapis.com/arize-assets/fixtures/copy-keys.png\" width=\"700\">"
      ],
      "metadata": {
        "id": "j3jd6J3qQb_K"
      }
    },
    {
      "cell_type": "code",
      "execution_count": null,
      "source": [
        "SPACE_KEY = \"SPACE_KEY\"\n",
        "API_KEY = \"API_KEY\"\n",
        "arize_client = Client(space_key=SPACE_KEY, api_key=API_KEY)\n",
        "model_id = \"NLP-demo-sentiment-classification-language-drift\"\n",
        "model_version = \"1.0\"\n",
        "model_type = ModelTypes.SCORE_CATEGORICAL\n",
        "if SPACE_KEY == \"SPACE_KEY\" or API_KEY == \"API_KEY\":\n",
        "    raise ValueError(\"❌ NEED TO CHANGE SPACE AND/OR API_KEY\")\n",
        "else:\n",
        "    print(\"✅ Import and Setup Arize Client Done! Now we can start using Arize!\")"
      ],
      "outputs": [],
      "metadata": {
        "id": "SvkUY2dodBL5"
      }
    },
    {
      "cell_type": "markdown",
      "source": [
        "\n",
        "Now that our Arize client is setup, let's go ahead and log all of our data to the platform. For more details on how **`arize.pandas.logger`** works, visit our documentation.\n",
        "\n",
        "[![Buttons_OpenOrange.png](https://storage.googleapis.com/arize-assets/fixtures/Buttons_OpenOrange.png)](https://docs.arize.com/arize/sdks-and-integrations/python-sdk/arize.pandas)"
      ],
      "metadata": {
        "id": "MhYZ7xOVfasj"
      }
    },
    {
      "cell_type": "markdown",
      "source": [
        "## Define the Schema \n",
        "\n",
        "A Schema instance specifies the column names for corresponding data in the dataframe. While we could define different Schemas for training and production datasets, the dataframes have the same column names, so the Schema will be the same in this instance.\n",
        "\n",
        "To ingest non-embedding features, it suffices to provide a list of column names that contain the features in our dataframe. Embedding features, however, are a little bit different.\n",
        "\n",
        "Arize allows you to ingest not only the embedding vector, but the raw data associated with that embedding, or a URL link to that raw data. Therefore, up to 3 columns can be associated to the same _embedding object_*. To be able to do this, Arize's SDK provides the `EmbeddingColumnNames` class, used below.\n",
        "\n",
        "*NOTE: This is how we refer to the 3 possible pieces of information that can be sent as embedding objects:\n",
        "* Embedding `vector` (required)\n",
        "* Embedding `data` (optional): raw text associated with the embedding vector\n",
        "* Embedding `link_to_data` (optional): link to the data file (image, audio, ...) associated with the embedding vector\n",
        "\n",
        "Learn more [here](https://docs.arize.com/arize/data-ingestion/model-schema/7b.-embedding-features)."
      ],
      "metadata": {
        "id": "rCMZsMpi3aiA"
      }
    },
    {
      "cell_type": "code",
      "execution_count": null,
      "source": [
        "features = [\n",
        "    'reviewer_age',\n",
        "    'reviewer_gender',\n",
        "    'product_category',\n",
        "    'language',\n",
        "]\n",
        "\n",
        "embedding_features = [\n",
        "    EmbeddingColumnNames(\n",
        "        vector_column_name=\"text_vector\",  # Will be name of embedding feature in the app\n",
        "        data_column_name=\"text\",\n",
        "    ),\n",
        "]\n",
        "\n",
        "# Define a Schema() object for Arize to pick up data from the correct columns for logging\n",
        "schema = Schema(\n",
        "    prediction_id_column_name=\"prediction_id\",\n",
        "    timestamp_column_name=\"prediction_ts\",\n",
        "    prediction_label_column_name=\"pred_label\",\n",
        "    actual_label_column_name=\"label\",\n",
        "    feature_column_names=features,\n",
        "    embedding_feature_column_names=embedding_features\n",
        ")\n",
        "\n"
      ],
      "outputs": [],
      "metadata": {
        "id": "JOGpBqA034Zt"
      }
    },
    {
      "cell_type": "markdown",
      "source": [
        "## Log Training Data"
      ],
      "metadata": {
        "id": "Lw8vPvEj7sUu"
      }
    },
    {
      "cell_type": "code",
      "execution_count": null,
      "source": [
        "# Logging Training DataFrame\n",
        "response = arize_client.log(\n",
        "    dataframe=train_df,\n",
        "    model_id=model_id,\n",
        "    model_version=model_version,\n",
        "    model_type=model_type,\n",
        "    environment=Environments.TRAINING,\n",
        "    schema=schema,\n",
        "    sync=True\n",
        ")\n",
        "\n",
        "\n",
        "# If successful, the server will return a status_code of 200\n",
        "if response.status_code != 200:\n",
        "    print(f\"❌ logging failed with response code {response.status_code}, {response.text}\")\n",
        "else:\n",
        "    print(f\"✅ You have successfully logged training set to Arize\")\n"
      ],
      "outputs": [],
      "metadata": {
        "id": "ZeevDQO_7sUu"
      }
    },
    {
      "cell_type": "markdown",
      "source": [
        "## Log Validation Data"
      ],
      "metadata": {
        "id": "6dEt_DLx2bYl"
      }
    },
    {
      "cell_type": "code",
      "execution_count": null,
      "source": [
        "# Logging Validation DataFrame\n",
        "response = arize_client.log(\n",
        "    dataframe=val_df,\n",
        "    model_id=model_id,\n",
        "    model_version=model_version,\n",
        "    batch_id=\"validation\",\n",
        "    model_type=model_type,\n",
        "    environment=Environments.VALIDATION,\n",
        "    schema=schema,\n",
        "    sync=True\n",
        ")\n",
        "\n",
        "\n",
        "# If successful, the server will return a status_code of 200\n",
        "if response.status_code != 200:\n",
        "    print(f\"❌ logging failed with response code {response.status_code}, {response.text}\")\n",
        "else:\n",
        "    print(f\"✅ You have successfully logged training set to Arize\")\n"
      ],
      "outputs": [],
      "metadata": {
        "id": "TyUavdbiNfzy"
      }
    },
    {
      "cell_type": "markdown",
      "source": [
        "## Log Production Data"
      ],
      "metadata": {
        "id": "dLeCjcQRDWF6"
      }
    },
    {
      "cell_type": "code",
      "execution_count": null,
      "source": [
        "# Logging Production Dataframe\n",
        "response = arize_client.log(\n",
        "    dataframe=prod_df,\n",
        "    model_id=model_id,\n",
        "    model_version=model_version,\n",
        "    model_type=model_type,\n",
        "    environment=Environments.PRODUCTION,\n",
        "    schema=schema,\n",
        "    sync=True\n",
        ")\n",
        "\n",
        "if response.status_code != 200:\n",
        "    print(f\"❌ logging failed with response code {response.status_code}, {response.text}\")\n",
        "else:\n",
        "    print(f\"✅ You have successfully logged production set to Arize\")"
      ],
      "outputs": [],
      "metadata": {
        "id": "CXjzjXP2hsah"
      }
    },
    {
      "cell_type": "markdown",
      "source": [
        "# Step 4. Confirm Data in Arize ✅\n",
        "Note that the Arize platform takes about 15 minutes to index embedding data. While the model should appear immediately, the data will not show up until the indexing is complete. Feel free to head over to the **Data Ingestion** tab for your model to watch Arize work its magic!🔮\n",
        "\n",
        "You will be able to see the predictions, actuals, and feature importances that have been sent in the last 30 minutes, last day or last week.\n",
        "\n",
        "An example view of the Data Ingestion tab from a model, when data is sent continuously over 30 minutes, is shown in the image below.\n",
        "\n",
        "<img src=\"https://storage.googleapis.com/arize-assets/fixtures/data-ingestion-tab.png\" width=\"700\">"
      ],
      "metadata": {
        "id": "MX-GEkla5Rnh"
      }
    },
    {
      "cell_type": "markdown",
      "source": [
        "# Check the Embedding Data in Arize\n",
        "\n",
        "First, set the baseline to the training set that we logged before.\n",
        "\n",
        "<img src=\"https://storage.cloud.google.com/arize-assets/fixtures/embedding_setup_baseline.gif\" width=\"700\">\n",
        "\n",
        "\n",
        "If your model contains embedding data, you will see it in your Model's Overview page. \n",
        "\n",
        "<img src=\"https://storage.cloud.google.com/arize-assets/fixtures/Embeddings/NLP/NLP-reviews-demo-language-drift-overview.jpg\" width=\"700\">\n",
        "\n",
        " Click on the Embedding Name or the Euclidean Distance value to see how your embedding data is drifting over time. In the picture below we represent the global euclidean distance between your production set (at different points in time) and the baseline (which we set to be our training set). We can see there is a period of a week where suddenly the distance is remarkably higher. This shows us that during that time text data was sent to our model that was different than what it was trained on (English). This is the period of time when reviews written in Spanish were sent alongside the expected English reviews.\n",
        " \n",
        "<img src=\"https://storage.cloud.google.com/arize-assets/fixtures/Embeddings/NLP/NLP-reviews-demo-language-drift-emb-0.jpg\" width=\"700\">\n",
        "\n",
        "In addition to the drift tracking plot above, below you can find the UMAP visualization of your data, according to the point in time selected. Notice that the production data and our baseline (training) data are superimposed, which is indicative that the model is seeing data in production similar to the data it was trained on.\n",
        "\n",
        "<img src=\"https://storage.cloud.google.com/arize-assets/fixtures/Embeddings/NLP/NLP-reviews-demo-language-drift-emb-1.jpg\" width=\"700\">\n",
        "\n",
        "Next, select a point in time when the drift was high and select a UMAP visualization in 2D. We can see that both training and production data are superimposed for the most part, but another cluster of production data has appeared. This indicates that the model is seeing data in production qualitatively different to the data it was trained on, and in this case causing performance degradation.\n",
        "\n",
        "<img src=\"https://storage.cloud.google.com/arize-assets/fixtures/Embeddings/NLP/NLP-reviews-demo-language-drift-emb-2.jpg\" width=\"700\">\n",
        "\n",
        "For further inspection, you may select a 3D UMAP view and clicked _Explore UMAP_ to expand the view. With this view we can interact in 3D with our dataset. We can zoom, rotate, and drag so we can see the areas of our dataset that are most interesting to us. Check out the workflow below:\n",
        "\n",
        "<img src=\"https://storage.cloud.google.com/arize-assets/fixtures/Embeddings/NLP/NLP-reviews-demo-language-drift-workflow.gif\" width=\"700\">\n",
        "\n",
        "In the display above, Arize offers many coloring options:\n",
        "1. By Dataset: You can see that the coloring has been made to distinguish production data vs baseline data (training in this example). This is specifically useful to detect drift. In this example, we can see that there is some production data far away from any training data, giving an indication of severe dataset drift. We can identify exactly what datapoints our baseline is missing so that re-train effectively.\n",
        "2. By Prediction Label: This coloring option gives an insight on how is our model making decisions. Where are the different classes located in the space? Is the model predicting one class in regions where it should be predicting another?\n",
        "3. By Actual Label: This coloring option is great if we want to identify labeling issues. For instance, if inside the orange cloud, we can see points of other colors, it is a good idea to check and see if the labels are wrong. Further we can use the corrected labels for re-training.\n",
        "4. By Correctness: This coloring option offers a quick way of identifying where the bulk of your model's mistakes are placed, giving you an area to pay attention to. In this example, we can see that the spanish reviews are almost all red.\n",
        "5. By Confusion Matrix: This coloring option allows you to select a `positive class` and color the data-points as `True Positives`, `True Negatives`, `False Positives`, `False Negatives`.\n",
        "\n",
        "More coloring options will be added to help understand and debug your model and dataset, including color by feature values."
      ],
      "metadata": {
        "id": "S1JYzltL8Z3g"
      }
    },
    {
      "cell_type": "markdown",
      "source": [
        "# Wrap Up 🎁\n",
        "Congratulations, you've now sent your first machine learning embedding data to the Arize platform!!\n",
        "\n",
        "Additionally, if you want to remove this example model from your account, just click **Models** -> **NLP-reviews-demo-language-drift** -> **config** -> **delete**"
      ],
      "metadata": {
        "id": "aby-AFAe6jsV"
      }
    },
    {
      "cell_type": "markdown",
      "source": [
        "### Overview\n",
        "Arize is an end-to-end ML observability and model monitoring platform. The platform is designed to help ML engineers and data science practitioners surface and fix issues with ML models in production faster with:\n",
        "- Automated ML monitoring and model monitoring\n",
        "- Workflows to troubleshoot model performance\n",
        "- Real-time visualizations for model performance monitoring, data quality monitoring, and drift monitoring\n",
        "- Model prediction cohort analysis\n",
        "- Pre-deployment model validation\n",
        "- Integrated model explainability\n",
        "\n",
        "### Website\n",
        "Visit Us At: https://arize.com/model-monitoring/\n",
        "\n",
        "### Additional Resources\n",
        "- [What is ML observability?](https://arize.com/what-is-ml-observability/)\n",
        "- [Monitor Unstructured Data with Arize](https://arize.com/blog/monitor-unstructured-data-with-arize)\n",
        "- [Getting Started With Embeddings Is Easier Than You Think](https://arize.com/blog/getting-started-with-embeddings-is-easier-than-you-think)\n",
        "- [Playbook to model monitoring in production](https://arize.com/the-playbook-to-monitor-your-models-performance-in-production/)\n",
        "- [Using statistical distance metrics for ML monitoring and observability](https://arize.com/using-statistical-distance-metrics-for-machine-learning-observability/)\n",
        "<!-- - [ML infrastructure tools for data preparation](https://arize.com/ml-infrastructure-tools-for-data-preparation/) -->\n",
        "- [ML infrastructure tools for model building](https://arize.com/ml-infrastructure-tools-for-model-building/)\n",
        "- [ML infrastructure tools for production](https://arize.com/ml-infrastructure-tools-for-production-part-1/)\n",
        "<!-- - [ML infrastructure tools for model deployment and model serving](https://arize.com/ml-infrastructure-tools-for-production-part-2-model-deployment-and-serving/) -->\n",
        "\n",
        "- [ML infrastructure tools for ML monitoring and observability](https://arize.com/ml-infrastructure-tools-ml-observability/)\n",
        "\n",
        "Visit the [Arize Blog](https://arize.com/blog) and [Resource Center](https://arize.com/resource-hub/) for more resources on ML observability and model monitoring.\n"
      ],
      "metadata": {
        "id": "TP304Ecf6ePX"
      }
    }
  ]
}
