{
 "cells": [
  {
   "cell_type": "markdown",
   "metadata": {
    "id": "maEUdAGVY3kE"
   },
   "source": [
    "<center><img src=\"https://storage.googleapis.com/arize-assets/arize-logo-white.jpg\" width=\"200\"/></center>\n",
    "\n",
    "# Targeted Advertising in the Media and Entertainment Industry\n",
    "Walk through how to use Arize to evaulate the performance of a targeted advertising model using an example dataset."
   ]
  },
  {
   "cell_type": "code",
   "execution_count": null,
   "metadata": {},
   "outputs": [],
   "source": [
    "# Install and import dependencies\n",
    "\n",
    "!pip install -q arize\n",
    "from arize.pandas.logger import Client, Schema\n",
    "from arize.utils.types import ModelTypes, Environments, Metrics\n",
    "\n",
    "import pandas as pd\n",
    "import numpy as np\n",
    "from datetime import datetime"
   ]
  },
  {
   "cell_type": "markdown",
   "metadata": {
    "id": "EoDTrVWKAgo1"
   },
   "source": [
    "### 🌐 Upload Data to Arize: Download Data\n",
    "Here are sample parquet files that represent the <strong>training</strong> and <strong>production</strong> data of a model designed to evaluate the click through rate of a targeted advertising model based on features such as domain, device, and keywords.\n",
    "\n",
    "In addition to features, these datasets also include relevant metadata such as education, state, gender, and ags."
   ]
  },
  {
   "cell_type": "code",
   "execution_count": null,
   "metadata": {},
   "outputs": [],
   "source": [
    "df_production = pd.read_parquet(\n",
    "    \"https://storage.googleapis.com/arize-assets/fixtures/Industry_Use_Case/media_and_entertainment_targeted_advertising_production.parquet\",\n",
    ")\n",
    "df_training = pd.read_parquet(\n",
    "    \"https://storage.googleapis.com/arize-assets/fixtures/Industry_Use_Case/media_and_entertainment_targeted_advertising_training.parquet\",\n",
    ")"
   ]
  },
  {
   "attachments": {},
   "cell_type": "markdown",
   "metadata": {
    "id": "Qx_ZeQqTachA"
   },
   "source": [
    "### 🤝 Upload Data to Arize: Create Arize Client\n",
    "Sign up/login to your Arize account <a href=\"https://app.arize.com/auth/login\">here</a>. Find your <a href=\"https://docs.arize.com/arize/api-reference/arize.pandas/client\">Space and API keys</a>. Copy/paste into the cell below."
   ]
  },
  {
   "cell_type": "code",
   "execution_count": null,
   "metadata": {},
   "outputs": [],
   "source": [
    "SPACE_ID = \"SPACE_ID\"  # update value here with your Space ID\n",
    "API_KEY = \"API_KEY\"  # update value here with your API key\n",
    "\n",
    "arize_client = Client(space_id=SPACE_ID, api_key=API_KEY)"
   ]
  },
  {
   "cell_type": "code",
   "execution_count": null,
   "metadata": {},
   "outputs": [],
   "source": [
    "if SPACE_ID == \"SPACE_ID\" or API_KEY == \"API_KEY\":\n",
    "    raise ValueError(\"❌ CHANGE SPACE_ID AND/OR API_KEY\")\n",
    "else:\n",
    "    print(\n",
    "        \"✅ Import and Setup Arize Client Done! Now we can start using Arize!\"\n",
    "    )"
   ]
  },
  {
   "cell_type": "markdown",
   "metadata": {
    "id": "L2G4_6TWai0m"
   },
   "source": [
    "### 📋 Upload Data to Arize: Define Schema\n",
    "Create your <a href=\"https://docs.arize.com/arize/sending-data-to-arize/model-schema-reference\">model schema</a>. First, we'll define the features, shap values, and tags.  "
   ]
  },
  {
   "cell_type": "code",
   "execution_count": null,
   "metadata": {},
   "outputs": [],
   "source": [
    "features_col_names = [\n",
    "    \"position\",\n",
    "    \"domain\",\n",
    "    \"category\",\n",
    "    \"device\",\n",
    "    \"keywords\",\n",
    "]\n",
    "shap_col_names = [f\"{x}_shap\" for x in features_col_names]\n",
    "tag_column_names = ['Dependents', 'Partner', 'EmploymentStatus', 'LocationCode', 'Education', 'State', 'Gender', 'Age']"
   ]
  },
  {
   "cell_type": "markdown",
   "metadata": {
    "id": "ltS3-zujapNL"
   },
   "source": [
    "### 🪵 Upload Data to Arize: Log Training Data\n",
    "Define the training schema and log the training data to Arize."
   ]
  },
  {
   "cell_type": "code",
   "execution_count": null,
   "metadata": {},
   "outputs": [],
   "source": [
    "# Define a Schema() object for Arize to pick up data from the correct columns for logging\n",
    "training_schema = Schema(\n",
    "    prediction_id_column_name=\"prediction_ids\",\n",
    "    prediction_label_column_name=\"prediction_labels\",\n",
    "    prediction_score_column_name=\"prediction_scores\",\n",
    "    actual_label_column_name=\"actuals\",\n",
    "    actual_score_column_name=\"actual_scores\",\n",
    "    feature_column_names=features_col_names,\n",
    "    tag_column_names = tag_column_names,\n",
    ")\n",
    "# Logging Training DataFrame\n",
    "response = arize_client.log(\n",
    "    dataframe=df_training,\n",
    "    model_id=\"targeted-advertisitng-media-and-entertainment\",\n",
    "    model_version=\"1,0\",\n",
    "    model_type=ModelTypes.BINARY_CLASSIFICATION,\n",
    "    environment=Environments.TRAINING,\n",
    "    schema=training_schema,\n",
    ")"
   ]
  },
  {
   "cell_type": "markdown",
   "metadata": {
    "id": "m-0lZwRv2egW"
   },
   "source": [
    "## Log the Production Data\n",
    "Similarly, we will use the `arize.pandas.logger` to log the production dataset. Here, we will first need to update the timestamps to align with current day and time. This is to ensure that the sample data shows up as recent in Arize.\n"
   ]
  },
  {
   "cell_type": "code",
   "execution_count": null,
   "metadata": {},
   "outputs": [],
   "source": [
    "#update timestamps to most recent dates\n",
    "last_ts = max(df_production['prediction_ts'])\n",
    "now_ts = datetime.timestamp(datetime.now())\n",
    "delta_ts = now_ts - last_ts\n",
    "\n",
    "df_production['prediction_ts'] = (df_production['prediction_ts'] + delta_ts).astype(float)\n",
    "\n",
    "# Define a Schema() object for Arize to pick up data from the correct columns for logging\n",
    "production_schema = Schema(\n",
    "    prediction_id_column_name=\"prediction_ids\",\n",
    "    timestamp_column_name=\"prediction_ts\",\n",
    "    prediction_label_column_name=\"prediction_labels\",\n",
    "    prediction_score_column_name=\"prediction_scores\",\n",
    "    actual_label_column_name=\"actuals\",\n",
    "    actual_score_column_name=\"actual_scores\",\n",
    "    feature_column_names=features_col_names,\n",
    "    shap_values_column_names=dict(zip(features_col_names, shap_col_names)),\n",
    "    tag_column_names = tag_column_names,\n",
    ")\n",
    "\n",
    "# arize_client.log returns a Response object from Python's requests module\n",
    "response = arize_client.log(\n",
    "    dataframe=df_production,\n",
    "    model_id=\"targeted-advertisitng-media-and-entertainment\",\n",
    "    model_version=\"1.0\",\n",
    "    model_type=ModelTypes.BINARY_CLASSIFICATION,\n",
    "    environment=Environments.PRODUCTION,\n",
    "    schema=production_schema,\n",
    ")\n",
    "\n",
    "# If successful, the server will return a status_code of 200\n",
    "if response.status_code != 200:\n",
    "    print(f\"logging failed with response code {response.status_code}, {response.text}\")\n",
    "else:\n",
    "    print(f\"✅ You have successfully logged production set to Arize\")"
   ]
  },
  {
   "cell_type": "markdown",
   "metadata": {
    "id": "A1v5YH6HOzBI"
   },
   "source": [
    "## 🏃 Follow 'Success!' Link To Arize\n",
    "Once you've successfully logged your model to Arize, follow the link to setup monitors, uncover problem areas, and more!\n",
    "\n",
    "<strong>Note</strong>: It might take a few minutes for all the data to index in Arize, if you don't see all 5000 rows immedieatly, sit back and relax, data is on it's way!"
   ]
  },
  {
   "cell_type": "markdown",
   "metadata": {
    "id": "yCdLG1L1PT9K"
   },
   "source": [
    "###🔍 In Arize: Model Setup\n",
    "Now that we can see our model data in Arize, let's get our model setup with some basic configurations.\n",
    "* Navigate to the 'Config' tab. Select 'Click' as the positive class and 'Accuracy' as the default metric.\n",
    "* On the Config page, select, 'Configure Baseline' and set the baseline to 'Pre-Production Data'"
   ]
  },
  {
   "cell_type": "markdown",
   "metadata": {
    "id": "iTPmBdAVOFNs"
   },
   "source": [
    "<image src=\"https://storage.googleapis.com/arize-assets/fixtures/Industry_Use_Case/media_advertising_setup.png\" width = 850px>"
   ]
  },
  {
   "attachments": {},
   "cell_type": "markdown",
   "metadata": {
    "id": "OXODwYKGKYwy"
   },
   "source": [
    "### 🔍 In Arize: Monitor Setup\n",
    "\n",
    "Let's setup some monitors to get alerted when our model deviates from expected behavior.\n",
    "* Navigate to the 'Monitors' tab and click 'Enable' on the 'Accuracy' card within the Performance Monitors.\n",
    "* Scroll through the list of other metrics and monitor types, enable a few that seem interesting! We suggest enabling 1 performance, 1 drift, and 1 data quality monitor to get started."
   ]
  },
  {
   "cell_type": "markdown",
   "metadata": {
    "id": "F7ET_koEOIl6"
   },
   "source": [
    "<image src=\"https://storage.googleapis.com/arize-assets/fixtures/Industry_Use_Case/media_advertising_monitors.png\" width = 850px>"
   ]
  },
  {
   "attachments": {},
   "cell_type": "markdown",
   "metadata": {
    "id": "VE4glddZLDF0"
   },
   "source": [
    "### 📈 In Arize: Performance Tracing\n",
    "Now, let's take a look at the 'Performance Tracing' tab to identify areas to improve and better understand the impact of each feature on our model performance.\n",
    "\n",
    "* Navigate to the 'Performance Tracing' tab\n",
    "* Since we uploaded training data, click 'Add Comparison' and select 'Training' in the first drop down menu\n",
    "* Zoom in on an area of poor performance in dataset A (production) by clicking and dragging your cursor directly on the graph"
   ]
  },
  {
   "cell_type": "markdown",
   "metadata": {
    "id": "IvvBbSu5ONB6"
   },
   "source": [
    "<image src=\"https://storage.googleapis.com/arize-assets/fixtures/Industry_Use_Case/media_advertising_performance.png\" width = 850px>"
   ]
  },
  {
   "attachments": {},
   "cell_type": "markdown",
   "metadata": {
    "id": "1JxZeJzsLpjR"
   },
   "source": [
    "### 📈 In Arize: Performance Tracing\n",
    "\n",
    "* Scroll down to the performance insights to surface the features that impact your model performance the most. In this case, `domain = new_site.com`.\n",
    "* Click on the feature to uncover a comparative histogram\n",
    "\n",
    "It looks like we're missing training data for this new site! Click on 'Exclude Slice' to see what happens to our model performance"
   ]
  },
  {
   "cell_type": "markdown",
   "metadata": {
    "id": "hycu7SmkOQa2"
   },
   "source": [
    "<image src=\"https://storage.googleapis.com/arize-assets/fixtures/Industry_Use_Case/media_advertising_performance_2.png\" width = 850px>"
   ]
  },
  {
   "attachments": {},
   "cell_type": "markdown",
   "metadata": {
    "id": "mD2yL7QsLjP6"
   },
   "source": [
    "### 📈 In Arize: Drift Tracing\n",
    "\n",
    "Another great way to identify areas to improve within your model is to investigate model drift. Model drift compares your current dataset against a baseline (in this case our training dataset).\n",
    "\n",
    "* Navigate to the 'Drift Tracing' tab\n",
    "* Click on the Prediction Drift Over Time graph on an area of high drift\n",
    "* Scroll down to uncover a distribution comparison and features that impact drift\n",
    "* Click on Domain and select an area of high drift and scroll down to view the distribution comparison.\n",
    "\n",
    "Notice anything familiar? The feature slice we uncovered earlier, `new_site.com` is the culprit of our model issues! Use this information to target rebuilding and retraining efforts so you don't miss out on an opportuinity."
   ]
  },
  {
   "cell_type": "markdown",
   "metadata": {
    "id": "ygs3Kvx6OTc1"
   },
   "source": [
    "<image src=\"https://storage.googleapis.com/arize-assets/fixtures/Industry_Use_Case/media_advertising_drift.png\" width = 850px>"
   ]
  },
  {
   "attachments": {},
   "cell_type": "markdown",
   "metadata": {
    "id": "xlRRpnk0PuBX"
   },
   "source": [
    "## 🚀 Continue Exploring Arize\n",
    "This tutorial just scratches the surface of what Arize can do. Continue to explore the world of ML Observability with Arize to monitor, troubleshoot, and fine tune your models!\n",
    "\n",
    "<strong>Recommended Resources:</strong>\n",
    "* [Arize Community Slack](https://join.slack.com/t/arize-ai/shared_invite/zt-1is2wp3xv-SQgwwszCEeS06Sm1q4xFFw)\n",
    "* [Arize Documentation](https://docs.arize.com/arize/)\n",
    "* [ML Observability Course](https://courses.arize.com/)"
   ]
  }
 ],
 "metadata": {
  "language_info": {
   "name": "python"
  }
 },
 "nbformat": 4,
 "nbformat_minor": 0
}
