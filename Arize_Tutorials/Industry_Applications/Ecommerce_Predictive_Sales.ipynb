{
 "cells": [
  {
   "cell_type": "markdown",
   "metadata": {
    "id": "emgzF1oxPtxc"
   },
   "source": [
    "<center><img src=\"https://storage.googleapis.com/arize-assets/arize-logo-white.jpg\" width=\"200\"/></center>\n",
    "\n",
    "# Predictive Sales in the eCommerce Industry\n",
    "\n",
    "Walk through how to use Arize for a sales prediction model using an example dataset."
   ]
  },
  {
   "cell_type": "markdown",
   "metadata": {
    "id": "OXARCfB_QZ1H"
   },
   "source": [
    "## 📨 Upload Data to Arize\n",
    "\n",
    "Upload example data to Arize, this example uses the [Python Pandas method](https://docs.arize.com/arize/sending-data-methods/log-directly-via-sdk-api)."
   ]
  },
  {
   "cell_type": "code",
   "execution_count": null,
   "metadata": {},
   "outputs": [],
   "source": [
    "# Install and import dependencies\n",
    "\n",
    "!pip install -q arize\n",
    "from arize.pandas.logger import Client, Schema\n",
    "from arize.utils.types import ModelTypes, Environments, Metrics\n",
    "\n",
    "import pandas as pd\n",
    "import numpy as np"
   ]
  },
  {
   "cell_type": "markdown",
   "metadata": {
    "id": "eAvrX4B5ZvEg"
   },
   "source": [
    "### 🌐 Upload Data to Arize: Download Data\n",
    "We'll use a sample Parquet file that represents a model that predicts the number of units sold for a given product. This dataset includes features such as product price, commodity price, discount offered, main promotion type, and promotion spend."
   ]
  },
  {
   "cell_type": "code",
   "execution_count": null,
   "metadata": {},
   "outputs": [],
   "source": [
    "file_url = \"https://storage.googleapis.com/arize-assets/fixtures/Industry_Use_Case/ecommerce_predictive_sales.parquet\"\n",
    "df = pd.read_parquet(file_url)\n",
    "df.head()"
   ]
  },
  {
   "cell_type": "markdown",
   "metadata": {
    "id": "5iqZam7hyEN6"
   },
   "source": [
    "### 🤝 Upload Data to Arize: Create Arize Client\n",
    "Sign up/login to your Arize account <a href=\"https://app.arize.com/auth/login\">here</a>. Find your <a href=\"https://docs.arize.com/arize/api-reference/arize.pandas/client\">Space and API keys</a>. Copy/paste into the cell below."
   ]
  },
  {
   "cell_type": "code",
   "execution_count": null,
   "metadata": {},
   "outputs": [],
   "source": [
    "SPACE_KEY = \"YOUR_SPACE_KEY\"  # update value here with your Space Key\n",
    "API_KEY = \"YOUR_API_KEY\"  # update value here with your API key\n",
    "\n",
    "arize_client = Client(space_key=SPACE_KEY, api_key=API_KEY)"
   ]
  },
  {
   "cell_type": "code",
   "execution_count": null,
   "metadata": {},
   "outputs": [],
   "source": [
    "if SPACE_KEY == \"SPACE_KEY\" or API_KEY == \"API_KEY\":\n",
    "    raise ValueError(\"❌ NEED TO CHANGE SPACE AND/OR API_KEY\")\n",
    "else:\n",
    "    print(\n",
    "        \"✅ Import and Setup Arize Client Done! Now we can start using Arize!\"\n",
    "    )"
   ]
  },
  {
   "cell_type": "markdown",
   "metadata": {
    "id": "UiM8epdyrPpi"
   },
   "source": [
    "### 📋 Upload Data to Arize: Define Schema\n",
    "Create your <a href=\"https://docs.arize.com/arize/sending-data-to-arize/model-schema-reference\">model schema</a>. This helps Arize organize your model data such as features, prediction, rank, etc."
   ]
  },
  {
   "cell_type": "code",
   "execution_count": null,
   "metadata": {},
   "outputs": [],
   "source": [
    "feature_column_names = [\n",
    "    \"past_sales\",\n",
    "    \"commodity_price\",\n",
    "    \"previous_price\",\n",
    "    \"discount_offered\",\n",
    "    \"promotion_spend\",\n",
    "    \"product_category\",\n",
    "    \"main_promotion_type\",\n",
    "    \"influencer_spend\",\n",
    "]\n",
    "\n",
    "schema = Schema(\n",
    "    prediction_id_column_name=\"prediction_id\",\n",
    "    feature_column_names=feature_column_names,\n",
    "    timestamp_column_name=\"forecast_ts\",\n",
    "    prediction_label_column_name=\"expected_sold\",\n",
    "    actual_label_column_name=\"units_sold\",\n",
    "    tag_column_names=[\n",
    "        \"run_date\",\n",
    "        \"lag\",\n",
    "    ],\n",
    ")"
   ]
  },
  {
   "cell_type": "markdown",
   "metadata": {
    "id": "HS1qxucNMyfy"
   },
   "source": [
    "### 🪵 Log Data to Arize\n",
    "Log the DataFrame using the <a href=\"https://docs.arize.com/arize/sending-data-to-arize/data-ingestion-methods/sdk-reference/python-sdk/arize.pandas\">pandas API</a>."
   ]
  },
  {
   "cell_type": "code",
   "execution_count": null,
   "metadata": {},
   "outputs": [],
   "source": [
    "response = arize_client.log(\n",
    "    dataframe=df,\n",
    "    schema=schema,\n",
    "    model_id=\"ecommerce-predictive-sales\",\n",
    "    model_version=\"1.0\",\n",
    "    model_type=ModelTypes.REGRESSION,\n",
    "    metrics_validation=[Metrics.REGRESSION],\n",
    "    validate=True,\n",
    "    environment=Environments.PRODUCTION,\n",
    ")\n",
    "if response.status_code == 200:\n",
    "    print(f\"✅ You have successfully logged production dataset to Arize\")\n",
    "else:\n",
    "    print(\n",
    "        f\"Logging failed with response code {response.status_code}, {response.text}\"\n",
    "    )"
   ]
  },
  {
   "cell_type": "markdown",
   "metadata": {
    "id": "xnow5-0TO1oS"
   },
   "source": [
    "## 🏃 Follow 'Success!' Link To Arize\n",
    "Once you've successfully logged your model to Arize, follow the link to setup monitors, uncover problem areas, and more!\n",
    "\n",
    "<strong>Note</strong>: It might take a few minutes for all the data to index in Arize, if you don't see all 5000 rows immedieatly, sit back and relax, data is on it's way!"
   ]
  },
  {
   "cell_type": "markdown",
   "metadata": {
    "id": "sj9AEO89PVhr"
   },
   "source": [
    "###🔍 In Arize: Model Setup\n",
    "Now that we can see our model data in Arize, let's get our model setup with some basic configurations.\n",
    "* Navigate to the 'Config' tab and select 'Mean Error'as the default metric. This will help us understand the average difference between the number of expected sold product and number of actual sold product."
   ]
  },
  {
   "cell_type": "markdown",
   "metadata": {
    "id": "bjPRFYPM_Em1"
   },
   "source": [
    "<image src=\"https://storage.googleapis.com/arize-assets/fixtures/Industry_Use_Case/ecommerce_predictive_sales_setup.png\">"
   ]
  },
  {
   "attachments": {},
   "cell_type": "markdown",
   "metadata": {
    "id": "x1CsfvyU7yMR"
   },
   "source": [
    "### 🔍 In Arize: Monitor Setup\n",
    "Now, let's set up a monitor to get alerted when our Mean Error deviates signifigantly from expected values.\n",
    "* Navigate to the 'Monitors' tab and click 'Enable' on the Mean Error card.\n",
    "\n",
    "**Note**: Feel free to read the various metric cards and enable a few more on your own!"
   ]
  },
  {
   "cell_type": "markdown",
   "metadata": {
    "id": "pl1KWUq1_mHo"
   },
   "source": [
    "<image src=\"https://storage.googleapis.com/arize-assets/fixtures/Industry_Use_Case/ecommerce_predictive_sales_monitors.png\" width = 800px>"
   ]
  },
  {
   "attachments": {},
   "cell_type": "markdown",
   "metadata": {
    "id": "gwaMrO0o8bQo"
   },
   "source": [
    "### 📈 In Arize: Performance Tracing\n",
    "Now, let's take a look at the 'Performance Tracing' tab to identify areas to improve and better understand the impact of each feature on our model performance.\n",
    "\n",
    "* Navigate to the 'Performance Tracing' tab, click and hold your cursor on the graph to zoom in on a time period of high error\n",
    "* Click on the top feature on the 'Performance Insights' card, this automatically surfaces the features that impact model performance the most"
   ]
  },
  {
   "cell_type": "markdown",
   "metadata": {
    "id": "kvs2Bi3g_4SZ"
   },
   "source": [
    "<image src=\"https://storage.googleapis.com/arize-assets/fixtures/Industry_Use_Case/ecommerce_predictive_sales_overview.png\" width = 800px>"
   ]
  },
  {
   "attachments": {},
   "cell_type": "markdown",
   "metadata": {
    "id": "1y6jCEJZ-A5h"
   },
   "source": [
    "### 📈 In Arize: Performance Tracing\n",
    "\n",
    "The Performance Breakdown histograms provide a visual representation on how each slice within a feature impacts model performance. Slices with more volume and are darker red are typically problematic areas.\n",
    "\n",
    "In this case, when the commodity price is between 70-90, our mean error is higher than the rest of our feature slices. This indicates an area to refocus, as there may be shifting consumer trends or awareness for products in that pricing category."
   ]
  },
  {
   "cell_type": "markdown",
   "metadata": {
    "id": "hneE2zSN_zit"
   },
   "source": [
    "<image src=\"https://storage.googleapis.com/arize-assets/fixtures/Industry_Use_Case/ecommerce_predictive_sales_performance.png\" width = 800px>"
   ]
  },
  {
   "attachments": {},
   "cell_type": "markdown",
   "metadata": {
    "id": "4FLMipajPw_d"
   },
   "source": [
    "## 🚀 Continue Exploring Arize\n",
    "This tutorial just scratches the surface of what Arize can do. Continue to explore the world of ML Observability with Arize to monitor, troubleshoot, and fine tune your models!\n",
    "\n",
    "<strong>Recommended Resources:</strong>\n",
    "* [Arize Community Slack](https://join.slack.com/t/arize-ai/shared_invite/zt-1is2wp3xv-SQgwwszCEeS06Sm1q4xFFw)\n",
    "* [Arize Documentation](https://docs.arize.com/arize/)\n",
    "* [ML Observability Course](https://courses.arize.com/)"
   ]
  }
 ],
 "metadata": {
  "language_info": {
   "name": "python"
  }
 },
 "nbformat": 4,
 "nbformat_minor": 0
}
