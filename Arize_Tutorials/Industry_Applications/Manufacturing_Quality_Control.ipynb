{
 "cells": [
  {
   "cell_type": "markdown",
   "metadata": {
    "id": "emgzF1oxPtxc"
   },
   "source": [
    "<center><img src=\"https://storage.googleapis.com/arize-assets/arize-logo-white.jpg\" width=\"200\"/></center>\n",
    "\n",
    "# Quality Control in the Manufacturing Industry\n",
    "\n",
    "Walk through how to use Arize for a quality control model using an example dataset."
   ]
  },
  {
   "cell_type": "markdown",
   "metadata": {
    "id": "OXARCfB_QZ1H"
   },
   "source": [
    "## 📨 Upload Data to Arize\n",
    "\n",
    "Upload example data to Arize, this example uses the [Python Pandas method](https://docs.arize.com/arize/sending-data-methods/log-directly-via-sdk-api)."
   ]
  },
  {
   "cell_type": "code",
   "execution_count": null,
   "metadata": {},
   "outputs": [],
   "source": [
    "# Install and import dependencies\n",
    "\n",
    "!pip install -q arize\n",
    "from arize.pandas.logger import Client, Schema\n",
    "from arize.utils.types import ModelTypes, Environments\n",
    "\n",
    "import pandas as pd"
   ]
  },
  {
   "cell_type": "markdown",
   "metadata": {
    "id": "eAvrX4B5ZvEg"
   },
   "source": [
    "### 🌐 Upload Data to Arize: Download Data\n",
    "We'll use a sample Parquet file that represents a model that predicts the stability of a system using control chart data. This is typically used to detemine if a manufacturing process is in a state of statistical control using features such as:\n",
    "\n",
    "*   Center Line: Average of the data points in the manufacturing process\n",
    "*   Upper Control Limit: Highest acceptable value for the manufactirng process\n",
    "*   Lower Control Limit: Lowest acceptable value for the manufacturing process\n",
    "\n",
    "\n",
    "\n"
   ]
  },
  {
   "cell_type": "code",
   "execution_count": null,
   "metadata": {},
   "outputs": [],
   "source": [
    "file_url = \"https://storage.googleapis.com/arize-assets/fixtures/Industry_Use_Case/manufacturing_quality_control.parquet\"\n",
    "df = pd.read_parquet(file_url)\n",
    "df.head()"
   ]
  },
  {
   "cell_type": "markdown",
   "metadata": {
    "id": "5iqZam7hyEN6"
   },
   "source": [
    "### 🤝 Upload Data to Arize: Create Arize Client\n",
    "Sign up/login to your Arize account <a href=\"https://app.arize.com/auth/login\">here</a>. Find your <a href=\"https://docs.arize.com/arize/api-reference/arize.pandas/client\">Space and API keys</a>. Copy/paste into the cell below."
   ]
  },
  {
   "cell_type": "code",
   "execution_count": null,
   "metadata": {},
   "outputs": [],
   "source": [
    "SPACE_ID = \"SPACE_ID\"  # update value here with your Space ID\n",
    "API_KEY = \"API_KEY\"  # update value here with your API key\n",
    "\n",
    "arize_client = Client(space_id=SPACE_ID, api_key=API_KEY)"
   ]
  },
  {
   "cell_type": "code",
   "execution_count": null,
   "metadata": {},
   "outputs": [],
   "source": [
    "if SPACE_ID == \"SPACE_ID\" or API_KEY == \"API_KEY\":\n",
    "    raise ValueError(\"❌ CHANGE SPACE_ID AND/OR API_KEY\")\n",
    "else:\n",
    "    print(\n",
    "        \"✅ Import and Setup Arize Client Done! Now we can start using Arize!\"\n",
    "    )"
   ]
  },
  {
   "cell_type": "markdown",
   "metadata": {
    "id": "UiM8epdyrPpi"
   },
   "source": [
    "### 📋 Upload Data to Arize: Define Schema\n",
    "Create your <a href=\"https://docs.arize.com/arize/sending-data-to-arize/model-schema-reference\">model schema</a>. This helps Arize organize your model data such as features, predictions, actuals, etc."
   ]
  },
  {
   "cell_type": "code",
   "execution_count": null,
   "metadata": {},
   "outputs": [],
   "source": [
    "feature_column_names = [\n",
    "    \"Data_Points\",\n",
    "    \"Center_Line\",\n",
    "    \"Upper_Control_Limit\",\n",
    "    \"Lower_Control_Limit\",\n",
    "    \"In_Control\",\n",
    "]\n",
    "\n",
    "schema = Schema(\n",
    "    prediction_label_column_name=\"Predicted_Stability\",\n",
    "    actual_label_column_name=\"Actual_Stability\",\n",
    "    feature_column_names=feature_column_names,\n",
    ")"
   ]
  },
  {
   "cell_type": "markdown",
   "metadata": {
    "id": "HS1qxucNMyfy"
   },
   "source": [
    "### 🪵 Log Data to Arize\n",
    "Log the DataFrame using the <a href=\"https://docs.arize.com/arize/sending-data-to-arize/data-ingestion-methods/sdk-reference/python-sdk/arize.pandas\">pandas API</a>."
   ]
  },
  {
   "cell_type": "code",
   "execution_count": null,
   "metadata": {},
   "outputs": [],
   "source": [
    "response = arize_client.log(\n",
    "    dataframe=df,\n",
    "    model_id=\"quality-control-manufacturing\",\n",
    "    model_version=\"1.0\",\n",
    "    model_type=ModelTypes.BINARY_CLASSIFICATION,\n",
    "    environment=Environments.PRODUCTION,\n",
    "    schema=schema,\n",
    ")\n",
    "\n",
    "if response.status_code == 200:\n",
    "    print(\"✅ You have successfully logged production dataset to Arize\")\n",
    "else:\n",
    "    print(\n",
    "        f\"Logging failed with response code {response.status_code}, {response.text}\"\n",
    "    )"
   ]
  },
  {
   "cell_type": "markdown",
   "metadata": {
    "id": "PVHPo5rgquDD"
   },
   "source": [
    "## 🏃 Follow 'Success!' Link To Arize\n",
    "Once you've successfully logged your model to Arize, follow the link to setup monitors, uncover problem areas, and more!\n",
    "\n",
    "<strong>Note</strong>: It might take a few minutes for all the data to index in Arize, if you don't see all 5000 rows immedieatly, sit back and relax, data is on it's way!"
   ]
  },
  {
   "cell_type": "markdown",
   "metadata": {
    "id": "PgpWOEFPtgLG"
   },
   "source": [
    "### 🔍 In Arize: Model Setup\n",
    "It looks like our model is in good shape! Since we uploaded prediction and actual data, we can measure model performance. In this case, our average accuracy is 0.98 right now. Let set up some monitors to keep it that way!\n",
    "\n",
    "* Naviage to the 'Config' tab to configure your positive class to 'Stable'"
   ]
  },
  {
   "cell_type": "markdown",
   "metadata": {
    "id": "psiaQwp9sp2h"
   },
   "source": [
    "<img src=\"https://storage.googleapis.com/arize-assets/fixtures/Industry_Use_Case/manufacturing_quality_control_homepage.png\" width=\"1200\">"
   ]
  },
  {
   "cell_type": "markdown",
   "metadata": {
    "id": "MywE_Gv_t_Jo"
   },
   "source": [
    "### 🤖 In Arize: Monitor Setup\n",
    "\n",
    "Since our model is behaving as expected, we want to configure monitors to get alerted right when our model deviates from expected behavior.\n",
    "* Navigate to the 'Monitors' tab, select 'Setup Monitors'\n",
    "* Enable 'Accuracy' monitor, and any others that interest you!"
   ]
  },
  {
   "cell_type": "markdown",
   "metadata": {
    "id": "DuQZvFGXs5Q_"
   },
   "source": [
    "<img src=\"https://storage.googleapis.com/arize-assets/fixtures/Industry_Use_Case/manufacturing_quality_control_monitors.png\" width=\"800\">"
   ]
  },
  {
   "cell_type": "markdown",
   "metadata": {
    "id": "KKTEBJQVvHm8"
   },
   "source": [
    "### 🤖 In Arize: Monitor Config\n",
    "\n",
    "All monitors created from the 'Setup Monitors' tab are configured with default settings. Edit settings to change how sensitive your monitors and where you get alerted.\n",
    "* Click into the 'Config' tab on the 'Monitors' page\n",
    "\n",
    "Learn more about monitor settings [here](https://docs.arize.com/arize/monitors/performance-monitors)."
   ]
  },
  {
   "cell_type": "markdown",
   "metadata": {
    "id": "R8OUPZUKwWd0"
   },
   "source": [
    "<img src=\"https://storage.googleapis.com/arize-assets/fixtures/Industry_Use_Case/manufacturing_quality_control_edit.png\" width=\"1200\">"
   ]
  },
  {
   "attachments": {},
   "cell_type": "markdown",
   "metadata": {
    "id": "ODoKFwcB1N_L"
   },
   "source": [
    "## 🚀 Continue Exploring Arize\n",
    "This tutorial just scratches the surface of what Arize can do. Continue to explore the world of ML Observability with Arize to monitor, troubleshoot, and fine tune your models!\n",
    "\n",
    "<strong>Recommended Resources:</strong>\n",
    "* [Arize Community Slack](https://join.slack.com/t/arize-ai/shared_invite/zt-1is2wp3xv-SQgwwszCEeS06Sm1q4xFFw)\n",
    "* [Arize Documentation](https://docs.arize.com/arize/)\n",
    "* [ML Observability Course](https://courses.arize.com/)"
   ]
  }
 ],
 "metadata": {
  "language_info": {
   "name": "python"
  }
 },
 "nbformat": 4,
 "nbformat_minor": 0
}
