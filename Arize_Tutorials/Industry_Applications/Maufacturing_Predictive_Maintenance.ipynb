{
 "cells": [
  {
   "cell_type": "markdown",
   "metadata": {
    "id": "nMTvctEe1yxG"
   },
   "source": [
    "<center><img src=\"https://storage.googleapis.com/arize-assets/arize-logo-white.jpg\" width=\"200\"/></center>\n",
    "\n",
    "# Predictive Maintenance in the Manufacturing Industry\n",
    "Walk through how to use Arize for a predictive maintenance model using an example dataset."
   ]
  },
  {
   "cell_type": "markdown",
   "metadata": {
    "id": "ltakVIbE17_P"
   },
   "source": [
    "## 📨 Upload Data to Arize\n",
    "Upload example data to Arize, this example uses the [Python Pandas method](https://docs.arize.com/arize/sending-data-methods/log-directly-via-sdk-api)."
   ]
  },
  {
   "cell_type": "code",
   "execution_count": null,
   "metadata": {},
   "outputs": [],
   "source": [
    "# Install and import dependencies\n",
    "\n",
    "!pip install -q arize\n",
    "from arize.pandas.logger import Client, Schema\n",
    "from arize.utils.types import ModelTypes, Environments, Metrics\n",
    "\n",
    "import pandas as pd\n",
    "import numpy as np\n",
    "import datetime"
   ]
  },
  {
   "cell_type": "markdown",
   "metadata": {
    "id": "FEy7iD8G2BCY"
   },
   "source": [
    "### 🌐 Upload Data to Arize: Download Data\n",
    "Here are sample parquet files that represent the <strong>training</strong> and <strong>production</strong> data of a model designed to predict machine maintenance based on features such as:\n",
    "* Machine Age: Age of the machine in months\n",
    "* Environment: Physical environment that includes factors such as humidity, dust levels, ambient temperature, etc.\n",
    "* Parts Replaced: If the machine has had repairs or maintenance issues\n",
    "* Pressure: Measured in PSI to indicate blockages\n",
    "* Operational Time: Maximum time the machine is in use"
   ]
  },
  {
   "cell_type": "code",
   "execution_count": null,
   "metadata": {},
   "outputs": [],
   "source": [
    "production_df = pd.read_parquet(\n",
    "    \"https://storage.googleapis.com/arize-assets/fixtures/Industry_Use_Case/manufacturing_predictive_maintenance_production.parquet\",\n",
    ")\n",
    "training_df = pd.read_parquet(\n",
    "    \"https://storage.googleapis.com/arize-assets/fixtures/Industry_Use_Case/manufacturing_predictive_maintenance_training.parquet\",\n",
    ")"
   ]
  },
  {
   "cell_type": "code",
   "execution_count": null,
   "metadata": {},
   "outputs": [],
   "source": [
    "#create a prediction timestamp column\n",
    "\n",
    "production_df.drop('prediction_ts', axis=1, inplace=True)\n",
    "\n",
    "current_time = datetime.datetime.now().timestamp()\n",
    "\n",
    "earlier_time = (\n",
    "    datetime.datetime.now() - datetime.timedelta(days=30)\n",
    ").timestamp()\n",
    "\n",
    "optional_prediction_timestamps = np.linspace(\n",
    "    earlier_time, current_time, num=production_df.shape[0]\n",
    ")\n",
    "\n",
    "production_df.insert(1, \"prediction_ts\", optional_prediction_timestamps.astype(int))\n",
    "production_df[[\"prediction_ts\"]].head()"
   ]
  },
  {
   "attachments": {},
   "cell_type": "markdown",
   "metadata": {
    "id": "9Nrdkq5V2uGa"
   },
   "source": [
    "### 🤝 Upload Data to Arize: Create Arize Client\n",
    "Sign up/login to your Arize account <a href=\"https://app.arize.com/auth/login\">here</a>. Find your <a href=\"https://docs.arize.com/arize/api-reference/arize.pandas/client\">Space and API keys</a>. Copy/paste into the cell below."
   ]
  },
  {
   "cell_type": "code",
   "execution_count": null,
   "metadata": {},
   "outputs": [],
   "source": [
    "SPACE_KEY = \"YOUR_SPACE_KEY\"  # update value here with your Space Key\n",
    "API_KEY = \"YOUR_API_KEY\"  # update value here with your API key\n",
    "\n",
    "arize_client = Client(space_key=SPACE_KEY, api_key=API_KEY)"
   ]
  },
  {
   "cell_type": "code",
   "execution_count": null,
   "metadata": {},
   "outputs": [],
   "source": [
    "if SPACE_KEY == \"SPACE_KEY\" or API_KEY == \"API_KEY\":\n",
    "    raise ValueError(\"❌ NEED TO CHANGE SPACE AND/OR API_KEY\")\n",
    "else:\n",
    "    print(\n",
    "        \"✅ Import and Setup Arize Client Done! Now we can start using Arize!\"\n",
    "    )"
   ]
  },
  {
   "cell_type": "markdown",
   "metadata": {
    "id": "-uVM4Kff2zCV"
   },
   "source": [
    "### 📋 Upload Data to Arize: Define Schema\n",
    "Create your <a href=\"https://docs.arize.com/arize/sending-data-to-arize/model-schema-reference\">model schema</a>. First, we'll define the features, shap values, and tags.  "
   ]
  },
  {
   "cell_type": "code",
   "execution_count": null,
   "metadata": {},
   "outputs": [],
   "source": [
    "feature_column_names = [ \"Machine_Age\", \"Environment\", \"Parts_Replaced\", \"Pressure\", \"Operational_Time\", \"Usage\"]\n",
    "shap_column_names = [f\"{x}_shap\" for x in feature_column_names]"
   ]
  },
  {
   "cell_type": "code",
   "execution_count": null,
   "metadata": {},
   "outputs": [],
   "source": [
    "# Define a Schema() object for Arize to pick up data from the correct columns for logging\n",
    "training_schema = Schema(\n",
    "    prediction_id_column_name=\"prediction_id\",\n",
    "    prediction_label_column_name=\"Prediction_Labels\",\n",
    "    prediction_score_column_name=\"Prediction_Scores\",\n",
    "    actual_label_column_name=\"Actual_Labels\",\n",
    "    actual_score_column_name=\"Actual_Scores\",\n",
    "    feature_column_names=feature_column_names,\n",
    ")\n",
    "\n",
    "# Logging Training DataFrame\n",
    "training_response = arize_client.log(\n",
    "    dataframe=training_df,\n",
    "    model_id=\"preictive-maintenance-manufacturing\",\n",
    "    model_version=\"v1.0\",\n",
    "    model_type=ModelTypes.BINARY_CLASSIFICATION,\n",
    "    environment=Environments.TRAINING,\n",
    "    schema=training_schema,\n",
    ")"
   ]
  },
  {
   "attachments": {},
   "cell_type": "markdown",
   "metadata": {
    "id": "61FCDHEuQc2m"
   },
   "source": [
    "### 🪵 Log Production Data to Arize"
   ]
  },
  {
   "cell_type": "code",
   "execution_count": null,
   "metadata": {},
   "outputs": [],
   "source": [
    "production_schema = Schema(\n",
    "    prediction_id_column_name=\"prediction_id\",\n",
    "    timestamp_column_name=\"prediction_ts\",\n",
    "    prediction_label_column_name=\"Prediction_Labels\",\n",
    "    prediction_score_column_name=\"Prediction_Scores\",\n",
    "    actual_label_column_name=\"Actual_Labels\",\n",
    "    actual_score_column_name=\"Actual_Scores\",\n",
    "    feature_column_names=feature_column_names,\n",
    "    shap_values_column_names=dict(zip(feature_column_names, shap_column_names)),\n",
    ")\n",
    "\n",
    "production_response = arize_client.log(\n",
    "    dataframe=production_df,\n",
    "    model_id=\"preictive-maintenance-manufacturing\",\n",
    "    model_version=\"v1.0\",\n",
    "    model_type=ModelTypes.BINARY_CLASSIFICATION,\n",
    "    environment=Environments.PRODUCTION,\n",
    "    schema=production_schema,\n",
    ")"
   ]
  },
  {
   "cell_type": "markdown",
   "metadata": {
    "id": "uB-lxFsxF6GZ"
   },
   "source": [
    "## 🏃 Follow 'Success!' Link To Arize\n",
    "Once you've successfully logged your model to Arize, follow the link to setup monitors, uncover problem areas, and more!\n",
    "\n",
    "<strong>Note</strong>: It might take a few minutes for all the data to index in Arize, if you don't see all the data immedieatly, sit back and relax, data is on it's way!"
   ]
  },
  {
   "attachments": {},
   "cell_type": "markdown",
   "metadata": {
    "id": "ciODcTkFF79K"
   },
   "source": [
    "### 🔍 In Arize: Model Setup\n",
    "It looks like our model is in good shape! Since we uploaded prediction and actual data, we can measure model performance. In this case, our average accuracy is 0.91 right now. Let set up some monitors to keep it that way!\n",
    "\n",
    "* Naviage to the 'Config' tab to configure your positive class to 'Maintain'.\n",
    "* Within the 'Config' tab, select 'Configure Baseline', and select 'Pre-Production'"
   ]
  },
  {
   "cell_type": "markdown",
   "metadata": {
    "id": "fK7uZTUdKd9v"
   },
   "source": [
    "<img src=\"https://storage.googleapis.com/arize-assets/fixtures/Industry_Use_Case/manufacturing_predictive_maintenance_homepage.png\" width=\"1200\">"
   ]
  },
  {
   "cell_type": "markdown",
   "metadata": {
    "id": "5JTRf3MdHl_E"
   },
   "source": [
    "### 🤖 In Arize: Monitor Setup\n",
    "\n",
    "Since our model is behaving as expected, we want to configure monitors to get alerted right when our model deviates from expected behavior.\n",
    "* Navigate to the 'Monitors' tab, select 'Setup Monitors'\n",
    "* Enable 'False Negative' monitor, and any others that interest you!"
   ]
  },
  {
   "cell_type": "markdown",
   "metadata": {
    "id": "iqPvvCj4Kzhs"
   },
   "source": [
    "<img src=\"https://storage.googleapis.com/arize-assets/fixtures/Industry_Use_Case/manufacturing_predictive_maintenance_monitors.png\" width=\"1200\">"
   ]
  },
  {
   "cell_type": "markdown",
   "metadata": {
    "id": "m6sGiiFBIsxO"
   },
   "source": [
    "### 🤖 In Arize: Monitor Config\n",
    "\n",
    "All monitors created from the 'Setup Monitors' tab are configured with default settings. Edit settings to change how sensitive your monitors and where you get alerted.\n",
    "* Click into the 'Config' tab on the 'Monitors' page\n",
    "\n",
    "Learn more about monitor settings [here](https://docs.arize.com/arize/monitors/performance-monitors)."
   ]
  },
  {
   "cell_type": "markdown",
   "metadata": {
    "id": "_fkousQELJtN"
   },
   "source": [
    "<img src=\"https://storage.googleapis.com/arize-assets/fixtures/Industry_Use_Case/manufacturing_predictive_maintenance_config.png\" width=\"1200\">"
   ]
  },
  {
   "cell_type": "markdown",
   "metadata": {
    "id": "qOp57uJ6IuMs"
   },
   "source": [
    "### 📈 In Arize: Performance Tracing\n",
    "Lets explore our model performance using the performance tracing tab to identify areas to improve. Since we uploaded traning and production data, we can compare the two to see how our production model.\n",
    "\n",
    "* Click 'Add Comparison' in the 'Performance Tracing' tab\n",
    "* Next to 'Dataset B', click on the the drop down menu and select training"
   ]
  },
  {
   "cell_type": "markdown",
   "metadata": {
    "id": "oC18u7LYLDvd"
   },
   "source": [
    "<img src=\"https://storage.googleapis.com/arize-assets/fixtures/Industry_Use_Case/manufacturing_predictive_maintenance_performance.png\" width=\"1200\">"
   ]
  },
  {
   "cell_type": "markdown",
   "metadata": {
    "id": "Ku04K_3fOfny"
   },
   "source": [
    "### 📈 In Arize: Performance Tracing\n",
    "\n",
    "Notice how our production model performance dips slightly as compared to training? While slight deviations are expected, let's ingestigate further.\n",
    "\n",
    "* Scroll down to the 'Performance Insights' card\n",
    "* Click on 'Operational Time', try excluding the slice with the filter function\n",
    "\n",
    "Our model performance improves! This indicates to us that our model is heavily influenced by the 'Operational Time' feature.\n",
    "\n",
    "* Scroll down to the 'Environment' feature.\n",
    "\n",
    "Notice how there's a missing bar in the training histogram? Click 'View Feature Details' to gain more insights. It looks like our training model is missing some data!"
   ]
  },
  {
   "cell_type": "markdown",
   "metadata": {
    "id": "gssRkVWwPq_M"
   },
   "source": [
    "<img src=\"https://storage.googleapis.com/arize-assets/fixtures/Industry_Use_Case/manufacturing_predictive_maintenance_training.png\" width=\"1200\">"
   ]
  },
  {
   "attachments": {},
   "cell_type": "markdown",
   "metadata": {
    "id": "CKALSFWLIrPn"
   },
   "source": [
    "## 🚀 Continue Exploring Arize\n",
    "By visually investigating model performance, we can easily identify problematic areas within our model to consider during the feature engineering and model rebuilding process.\n",
    "\n",
    "This tutorial just scratches the surface of what Arize can do. Continue to explore the world of ML Observability with Arize to monitor, troubleshoot, and fine tune your models!\n",
    "\n",
    "<strong>Recommended Resources:</strong>\n",
    "* [Arize Community Slack](https://join.slack.com/t/arize-ai/shared_invite/zt-1is2wp3xv-SQgwwszCEeS06Sm1q4xFFw)\n",
    "* [Arize Documentation](https://docs.arize.com/arize/)\n",
    "* [ML Observability Course](https://courses.arize.com/)"
   ]
  }
 ],
 "metadata": {
  "language_info": {
   "name": "python"
  }
 },
 "nbformat": 4,
 "nbformat_minor": 0
}
