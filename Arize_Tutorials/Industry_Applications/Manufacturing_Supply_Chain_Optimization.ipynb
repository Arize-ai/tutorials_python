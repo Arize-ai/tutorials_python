{
 "cells": [
  {
   "cell_type": "markdown",
   "metadata": {
    "id": "jRxr91rYcpRJ"
   },
   "source": [
    "<center><img src=\"https://storage.googleapis.com/arize-assets/arize-logo-white.jpg\" width=\"200\"/></center>\n",
    "\n",
    "# Supply Chain Optimization in the Manufacturing Industry\n",
    "Walk through how to use Arize for a supply chain optimization application using an example dataset."
   ]
  },
  {
   "cell_type": "markdown",
   "metadata": {
    "id": "xmIfT9JwbnKD"
   },
   "source": [
    "## 📨 Upload Data to Arize\n",
    "Upload example data to Arize, this example uses the [Python Pandas method](https://docs.arize.com/arize/sending-data-methods/log-directly-via-sdk-api)."
   ]
  },
  {
   "cell_type": "code",
   "execution_count": null,
   "metadata": {},
   "outputs": [],
   "source": [
    "# Install and import dependencies\n",
    "\n",
    "!pip install -q arize\n",
    "from arize.pandas.logger import Client, Schema\n",
    "from arize.utils.types import ModelTypes, Environments, Metrics\n",
    "\n",
    "import pandas as pd\n",
    "import numpy as np"
   ]
  },
  {
   "cell_type": "markdown",
   "metadata": {
    "id": "Nm8Q9XfPc7-C"
   },
   "source": [
    "### 🌐 Upload Data to Arize: Download Data\n",
    "Here are sample parquet files that represent the <strong>training</strong> and <strong>production</strong> data of a model designed to forecast product demand to aid supply chain optimization efforts based on features such as:\n",
    "* Item Size: The physical size of the item\n",
    "* Average Historical Sales: Average sales over the past 6 months\n",
    "* Projected Sales: Projected sales based on seasonality from another timeseries model\n",
    "* New Release: If the item was released within the last 2 months\n",
    "* Shelf Life: How long the item intends to be on sale for"
   ]
  },
  {
   "cell_type": "code",
   "execution_count": null,
   "metadata": {},
   "outputs": [],
   "source": [
    "training_df = pd.read_csv(\n",
    "    \"https://storage.googleapis.com/arize-assets/fixtures/demand_forecast_val.csv\"\n",
    ")\n",
    "production_df = pd.read_csv(\n",
    "    \"https://storage.googleapis.com/arize-assets/fixtures/demand_forecast_prod.csv\"\n",
    ")"
   ]
  },
  {
   "attachments": {},
   "cell_type": "markdown",
   "metadata": {
    "id": "fiHDHMt9eI_9"
   },
   "source": [
    "### 🤝 Upload Data to Arize: Create Arize Client\n",
    "Sign up/login to your Arize account <a href=\"https://app.arize.com/auth/login\">here</a>. Find your <a href=\"https://docs.arize.com/arize/api-reference/arize.pandas/client\">Space and API keys</a>. Copy/paste into the cell below."
   ]
  },
  {
   "cell_type": "code",
   "execution_count": null,
   "metadata": {},
   "outputs": [],
   "source": [
    "SPACE_ID = \"SPACE_ID\"  # update value here with your Space ID\n",
    "API_KEY = \"API_KEY\"  # update value here with your API key\n",
    "\n",
    "arize_client = Client(space_id=SPACE_ID, api_key=API_KEY)"
   ]
  },
  {
   "cell_type": "code",
   "execution_count": null,
   "metadata": {},
   "outputs": [],
   "source": [
    "if SPACE_ID == \"SPACE_ID\" or API_KEY == \"API_KEY\":\n",
    "    raise ValueError(\"❌ CHANGE SPACE_ID AND/OR API_KEY\")\n",
    "else:\n",
    "    print(\n",
    "        \"✅ Import and Setup Arize Client Done! Now we can start using Arize!\"\n",
    "    )"
   ]
  },
  {
   "cell_type": "markdown",
   "metadata": {
    "id": "QAfU6yk3bnKH"
   },
   "source": [
    "### 📋 Upload Data to Arize: Define Schema\n",
    "Create your <a href=\"https://docs.arize.com/arize/sending-data-to-arize/model-schema-reference\">model schema</a>. First, we'll define the features, shap values, and tags.  "
   ]
  },
  {
   "cell_type": "code",
   "execution_count": null,
   "metadata": {},
   "outputs": [],
   "source": [
    "feature_column_names = [\n",
    "    \"item_size\",\n",
    "    \"supplier_id\",\n",
    "    \"avg_historical_sales\",\n",
    "    \"cur_projected_sales\",\n",
    "    \"item_new_release_flag\",\n",
    "    \"item_stickyness_factor\",\n",
    "    \"item_release_year\",\n",
    "    \"shelf_life_weeks\",\n",
    "]"
   ]
  },
  {
   "cell_type": "markdown",
   "metadata": {
    "id": "DTOWBUR2eaD2"
   },
   "source": [
    "### 🪵 Upload Data to Arize: Log Training Data\n",
    "Define the training schema and log the training data to Arize."
   ]
  },
  {
   "cell_type": "code",
   "execution_count": null,
   "metadata": {},
   "outputs": [],
   "source": [
    "# Define a Schema() object for Arize to pick up data from the correct columns for logging\n",
    "training_schema = Schema(\n",
    "    feature_column_names=feature_column_names,\n",
    "    prediction_id_column_name=\"prediction_ids\",\n",
    "    prediction_label_column_name=\"predictions\",\n",
    "    actual_label_column_name=\"actuals\",\n",
    ")\n",
    "\n",
    "# Logging to Arize platform using arize_client.log\n",
    "training_response = arize_client.log(\n",
    "    dataframe=training_df,\n",
    "    model_id=\"supply-chain-manufacturing\",\n",
    "    model_version=\"1.0\",\n",
    "    model_type=ModelTypes.REGRESSION,\n",
    "    environment=Environments.TRAINING,\n",
    "    schema=training_schema,\n",
    ")"
   ]
  },
  {
   "cell_type": "markdown",
   "metadata": {
    "id": "NuKk0we9jbBS"
   },
   "source": [
    "### 🪵 Upload Data to Arize: Log Production Data\n",
    "Define the training schema and log the production data to Arize."
   ]
  },
  {
   "cell_type": "code",
   "execution_count": null,
   "metadata": {},
   "outputs": [],
   "source": [
    "production_schema = Schema(\n",
    "    feature_column_names=feature_column_names,\n",
    "    prediction_id_column_name=\"prediction_ids\",\n",
    "    timestamp_column_name=\"prediction_ts\",\n",
    "    prediction_label_column_name=\"predictions\",\n",
    "    actual_label_column_name=\"actuals\",\n",
    ")\n",
    "\n",
    "prod_response = arize_client.log(\n",
    "    dataframe=production_df,\n",
    "    model_id=\"supply-chain-manufacturing\",\n",
    "    model_version=\"1.0\",\n",
    "    model_type=ModelTypes.REGRESSION,\n",
    "    environment=Environments.PRODUCTION,\n",
    "    schema=production_schema,\n",
    ")"
   ]
  },
  {
   "cell_type": "markdown",
   "metadata": {
    "id": "LvK_MQTURU6W"
   },
   "source": [
    "## 🏃 Follow 'Success!' Link To Arize\n",
    "Once you've successfully logged your model to Arize, follow the link to setup monitors, uncover problem areas, and more!\n",
    "\n",
    "<strong>Note</strong>: It might take a few minutes for all the data to index in Arize, if you don't see all the data immedieatly, sit back and relax, data is on it's way!"
   ]
  },
  {
   "attachments": {},
   "cell_type": "markdown",
   "metadata": {
    "id": "YhbJeYRIRcSf"
   },
   "source": [
    "### 🔍 In Arize: Model Setup\n",
    "Now that we can see our model data in Arize, let's take a look at model performance. We'll want to catch cases of **under-forecasting** since it directly impacts customers. To do so, we'll set **Mean Error** as our default metric.\n",
    "\n",
    "* Naviage to the 'Config' tab to configure your default metric to 'Mean Error'.\n",
    "* Within the 'Config' tab, select 'Configure Baseline', and select 'Pre-Production'"
   ]
  },
  {
   "cell_type": "markdown",
   "metadata": {
    "id": "imbCOwXPuNvr"
   },
   "source": [
    "<img src=\"https://storage.googleapis.com/arize-assets/fixtures/Industry_Use_Case/manufacturing_supply_chain_optimization_metric.png\" width=\"1200\">"
   ]
  },
  {
   "cell_type": "markdown",
   "metadata": {
    "id": "NvRYjgMbTYyZ"
   },
   "source": [
    "### 🤖 In Arize: Monitor Setup\n",
    "\n",
    "To prevent forecasting errors, configure monitors to get alerted right when our model deviates from expected behavior.\n",
    "* Navigate to the 'Monitors' tab, select 'Setup Monitors'\n",
    "* Enable 'Mean Error' and 'Mean Absolute Error' monitors, and any others that interest you!"
   ]
  },
  {
   "cell_type": "markdown",
   "metadata": {
    "id": "hDrsC8bXuduV"
   },
   "source": [
    "<img src=\"https://storage.googleapis.com/arize-assets/fixtures/Industry_Use_Case/manufacturing_supply_chain_optimization_monitors.png\" height=\"600\">"
   ]
  },
  {
   "cell_type": "markdown",
   "metadata": {
    "id": "8t0jsv-kT8f1"
   },
   "source": [
    "### 📈 In Arize: Performance Tracing & Drift Tracing\n",
    "Lets explore our model performance using the performance tracing tab to identify areas to improve. Since we uploaded traning and production data, we can compare the two to see how our production model.\n",
    "\n",
    "* Click 'Add Comparison' in the 'Performance Tracing' tab\n",
    "* Next to 'Dataset B', click on the the drop down menu and select training\n",
    "* Click on any of the worst performing features on the 'Performance Insights' card (i.e. item_stickyness_factor)\n",
    "* Click on 'View Feature Details' next to the histogram to investigate further"
   ]
  },
  {
   "cell_type": "markdown",
   "metadata": {
    "id": "uGDR67SOvNPu"
   },
   "source": [
    "<img src=\"https://storage.googleapis.com/arize-assets/fixtures/Industry_Use_Case/manufacturing_supply_chain_optimization_drift.png\" width=\"700\">"
   ]
  },
  {
   "cell_type": "markdown",
   "metadata": {
    "id": "urxASh2fwQma"
   },
   "source": [
    "### 📈 In Arize: Drift Tracing\n",
    "\n",
    "The feature 'item_stickyness_factor' has a spike in drift. Let's uncover why the feature drifted.\n",
    "\n",
    "* Click on datapoint at the highest part of the graph\n",
    "* Scroll down to the 'Distribution Comparison' card\n",
    "\n",
    "It looks like our current distribution has a spike in data in the feature slice 0-400k, which is likely the cause of performance degredation. Since this feature impacts model performance, use this information to inform feature engineering/rebuilding efforts."
   ]
  },
  {
   "cell_type": "markdown",
   "metadata": {
    "id": "34JonHfsxXcQ"
   },
   "source": [
    "<img src=\"https://storage.googleapis.com/arize-assets/fixtures/Industry_Use_Case/manufacturing_supply_chain_opimization_distribution.png\" width=\"1200\">"
   ]
  },
  {
   "attachments": {},
   "cell_type": "markdown",
   "metadata": {
    "id": "0Thi0uCMUVSg"
   },
   "source": [
    "## 🚀 Continue Exploring Arize\n",
    "By visually investigating model performance, we can easily identify problematic areas within our model to consider during the feature engineering and model rebuilding process.\n",
    "\n",
    "This tutorial just scratches the surface of what Arize can do. Continue to explore the world of ML Observability with Arize to monitor, troubleshoot, and fine tune your models!\n",
    "\n",
    "<strong>Recommended Resources:</strong>\n",
    "* [Arize Community Slack](https://join.slack.com/t/arize-ai/shared_invite/zt-1is2wp3xv-SQgwwszCEeS06Sm1q4xFFw)\n",
    "* [Arize Documentation](https://docs.arize.com/arize/)\n",
    "* [ML Observability Course](https://courses.arize.com/)"
   ]
  }
 ],
 "metadata": {
  "language_info": {
   "name": "python"
  }
 },
 "nbformat": 4,
 "nbformat_minor": 0
}
