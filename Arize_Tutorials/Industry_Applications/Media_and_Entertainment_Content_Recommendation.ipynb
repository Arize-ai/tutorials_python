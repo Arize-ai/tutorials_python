{
 "cells": [
  {
   "cell_type": "markdown",
   "metadata": {
    "id": "emgzF1oxPtxc"
   },
   "source": [
    "<center><img src=\"https://storage.googleapis.com/arize-assets/arize-logo-white.jpg\" width=\"200\"/></center>\n",
    "\n",
    "# Content Recommendation in the Media & Entertainment Industry\n",
    "\n",
    "Walk through how to use Arize for a content recommendation model using an example dataset."
   ]
  },
  {
   "cell_type": "markdown",
   "metadata": {
    "id": "OXARCfB_QZ1H"
   },
   "source": [
    "## 📨 Upload Data to Arize\n",
    "\n",
    "Upload example data to Arize, this example uses the [Python Pandas method](https://docs.arize.com/arize/sending-data-methods/log-directly-via-sdk-api)."
   ]
  },
  {
   "cell_type": "code",
   "execution_count": null,
   "metadata": {},
   "outputs": [],
   "source": [
    "# Install and import dependencies\n",
    "\n",
    "!pip install -q arize\n",
    "from arize.pandas.logger import Client, Schema\n",
    "from arize.utils.types import ModelTypes, Environments, Metrics\n",
    "\n",
    "import pandas as pd\n",
    "import numpy as np"
   ]
  },
  {
   "cell_type": "markdown",
   "metadata": {
    "id": "eAvrX4B5ZvEg"
   },
   "source": [
    "### 🌐 Upload Data to Arize: Download Data\n",
    "We'll use a sample Parquet file that represents a model that predicts the action a user takes on a recommended hotel in an ordered list. This model accounts for features such as the search destination, weekend, price, historical pricing, etc to predict the relevancy of a recommendation."
   ]
  },
  {
   "cell_type": "code",
   "execution_count": null,
   "metadata": {},
   "outputs": [],
   "source": [
    "file_url = \"https://storage.googleapis.com/arize-assets/fixtures/Industry_Use_Case/ecommerce_personalized_recommendation.parquet\"\n",
    "df = pd.read_parquet(file_url)\n",
    "df"
   ]
  },
  {
   "cell_type": "markdown",
   "metadata": {
    "id": "5iqZam7hyEN6"
   },
   "source": [
    "### 🤝 Upload Data to Arize: Create Arize Client\n",
    "Sign up/login to your Arize account <a href=\"https://app.arize.com/auth/login\">here</a>. Find your <a href=\"https://docs.arize.com/arize/api-reference/arize.pandas/client\">Space and API keys</a>. Copy/paste into the cell below."
   ]
  },
  {
   "cell_type": "code",
   "execution_count": null,
   "metadata": {},
   "outputs": [],
   "source": [
    "SPACE_ID = \"SPACE_ID\"  # update value here with your Space ID\n",
    "API_KEY = \"API_KEY\"  # update value here with your API key\n",
    "\n",
    "arize_client = Client(space_id=SPACE_ID, api_key=API_KEY)"
   ]
  },
  {
   "cell_type": "code",
   "execution_count": null,
   "metadata": {},
   "outputs": [],
   "source": [
    "if SPACE_ID == \"SPACE_ID\" or API_KEY == \"API_KEY\":\n",
    "    raise ValueError(\"❌ CHANGE SPACE_ID AND/OR API_KEY\")\n",
    "else:\n",
    "    print(\n",
    "        \"✅ Import and Setup Arize Client Done! Now we can start using Arize!\"\n",
    "    )"
   ]
  },
  {
   "cell_type": "markdown",
   "metadata": {
    "id": "UiM8epdyrPpi"
   },
   "source": [
    "### 📋 Upload Data to Arize: Define Schema\n",
    "Create your <a href=\"https://docs.arize.com/arize/sending-data-to-arize/model-schema-reference\">model schema</a>. This helps Arize organize your model data such as features, prediction, rank, etc."
   ]
  },
  {
   "cell_type": "code",
   "execution_count": null,
   "metadata": {},
   "outputs": [],
   "source": [
    "feature_column_names = [\n",
    "    \"prop_log_historical_price\",\n",
    "    \"price_usd\",\n",
    "    \"promotion_flag\",\n",
    "    \"search_destination_id\",\n",
    "    \"search_length_of_stay\",\n",
    "    \"search_booking_window\",\n",
    "    \"search_adults_count\",\n",
    "    \"search_children_count\",\n",
    "    \"search_room_count\",\n",
    "    \"search_saturday_night_bool\",\n",
    "    \"destination\",\n",
    "]\n",
    "\n",
    "schema = Schema(\n",
    "    prediction_id_column_name=\"prediction_id\",\n",
    "    timestamp_column_name=\"pred_timestamp\",\n",
    "    prediction_group_id_column_name=\"search_id\",\n",
    "    prediction_label_column_name=\"predicted_action\",\n",
    "    rank_column_name=\"rank\",\n",
    "    relevance_labels_column_name=\"attributions\",\n",
    "    relevance_score_column_name=\"relevance_score\",\n",
    "    feature_column_names=feature_column_names,\n",
    ")"
   ]
  },
  {
   "cell_type": "markdown",
   "metadata": {
    "id": "HS1qxucNMyfy"
   },
   "source": [
    "### 🪵 Log Data to Arize\n",
    "Log the DataFrame using the <a href=\"https://docs.arize.com/arize/sending-data-to-arize/data-ingestion-methods/sdk-reference/python-sdk/arize.pandas\">pandas API</a>."
   ]
  },
  {
   "cell_type": "code",
   "execution_count": null,
   "metadata": {},
   "outputs": [],
   "source": [
    "response = arize_client.log(\n",
    "    dataframe=df,\n",
    "    model_id=\"content-recommendation-media-and-entertainment\",\n",
    "    model_version=\"1.0\",\n",
    "    model_type=ModelTypes.RANKING,\n",
    "    environment=Environments.PRODUCTION,\n",
    "    schema=schema,\n",
    ")\n",
    "\n",
    "if response.status_code == 200:\n",
    "    print(f\"✅ You have successfully logged production dataset to Arize\")\n",
    "else:\n",
    "    print(\n",
    "        f\"Logging failed with response code {response.status_code}, {response.text}\"\n",
    "    )"
   ]
  },
  {
   "cell_type": "markdown",
   "metadata": {
    "id": "4yQ_pMUAO5r8"
   },
   "source": [
    "## 🏃 Follow 'Success!' Link To Arize\n",
    "Once you've successfully logged your model to Arize, follow the link to setup monitors, uncover problem areas, and more!\n",
    "\n",
    "<strong>Note</strong>: It might take a few minutes for all the data to index in Arize, if you don't see all the data immedieatly, sit back and relax, data is on it's way!"
   ]
  },
  {
   "attachments": {},
   "cell_type": "markdown",
   "metadata": {
    "id": "oMvgC7-8PYfA"
   },
   "source": [
    "### 🔍 In Arize: Model Setup\n",
    "Now that we can see our model data in Arize, let's get our model setup with some basic configurations.\n",
    "* Navigate to the 'Config' tab and select 'NDCG' as the default metric\n",
    "* Since we're leveraging a limited amount of data, let's narrow the production baseline window. Click on 'Configure Baseline' to shorten the baseline window and move it left"
   ]
  },
  {
   "cell_type": "markdown",
   "metadata": {
    "id": "4ZQ7HqzDKgL0"
   },
   "source": [
    "<image src=\"https://storage.googleapis.com/arize-assets/fixtures/Industry_Use_Case/media_recommendation_setup.png\" width = 850px>"
   ]
  },
  {
   "attachments": {},
   "cell_type": "markdown",
   "metadata": {
    "id": "pPWmc4D_GyoA"
   },
   "source": [
    "### 🔍 In Arize: Monitor Setup\n",
    "\n",
    "Let's setup a NDCG monitor to get alerted when our model deviates from expected behavior.\n",
    "* Navigate to the 'Monitors' tab and click 'Enable' on the NDCG card.\n",
    "* Scroll through the list of other metrics and monitor types, enable a few that seem interesting!"
   ]
  },
  {
   "cell_type": "markdown",
   "metadata": {
    "id": "QPIXQIb_Klix"
   },
   "source": [
    "<image src=\"https://storage.googleapis.com/arize-assets/fixtures/Industry_Use_Case/media_recommendation_monitors.png\" width=850px>"
   ]
  },
  {
   "attachments": {},
   "cell_type": "markdown",
   "metadata": {
    "id": "_Uy9FbUXHGBJ"
   },
   "source": [
    "### 📈 In Arize: Performance Tracing\n",
    "Now, let's take a look at the 'Performance Tracing' tab to identify areas to improve and better understand the impact of each feature on our model performance.\n",
    "\n",
    "* Navigate to the 'Performance Tracing' tab\n",
    "* Edit the 'Metric at K' value. Start from '10', '20', '30', '40', etc."
   ]
  },
  {
   "cell_type": "markdown",
   "metadata": {
    "id": "45axOAJyKq10"
   },
   "source": [
    "<image src=\"https://storage.googleapis.com/arize-assets/fixtures/Industry_Use_Case/media_recommendation_performance.png\" width=850px>"
   ]
  },
  {
   "attachments": {},
   "cell_type": "markdown",
   "metadata": {
    "id": "KGaT6O3-HR7p"
   },
   "source": [
    "### 📈 In Arize: Performance Tracing\n",
    "\n",
    "Notice how NDCG increases as K increases? This indicates that the recommendations are performing poorly higher in a recommended list. To ingestigate further, look at the Performance Breakdown histograms for a visual representation on how each slice within a feature impacts model performance.\n",
    "\n",
    "In this case, the feature 'Destination' is worst performing across the board. Locations such as Brekenridge, Lake Tahoe, Park City, and Aspen contribute the most to performance degredation, and indicate a problem with feature generation. It's possible this model wasn't trained with an adequaite amount of winter destinations, and is recommending hotels poorly as a result."
   ]
  },
  {
   "cell_type": "markdown",
   "metadata": {
    "id": "aUZVfwGJKwoY"
   },
   "source": [
    "<image src=\"https://storage.googleapis.com/arize-assets/fixtures/Industry_Use_Case/ecommerce_recommendations_rank.png\">"
   ]
  },
  {
   "attachments": {},
   "cell_type": "markdown",
   "metadata": {
    "id": "kxFdks0sP2sl"
   },
   "source": [
    "## 🚀 Continue Exploring Arize\n",
    "This tutorial just scratches the surface of what Arize can do. Continue to explore the world of ML Observability with Arize to monitor, troubleshoot, and fine tune your models!\n",
    "\n",
    "<strong>Recommended Resources:</strong>\n",
    "* [Arize Community Slack](https://join.slack.com/t/arize-ai/shared_invite/zt-1is2wp3xv-SQgwwszCEeS06Sm1q4xFFw)\n",
    "* [Arize Documentation](https://docs.arize.com/arize/)\n",
    "* [ML Observability Course](https://courses.arize.com/)"
   ]
  }
 ],
 "metadata": {
  "language_info": {
   "name": "python"
  }
 },
 "nbformat": 4,
 "nbformat_minor": 0
}
