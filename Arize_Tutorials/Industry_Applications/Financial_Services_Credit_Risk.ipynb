{
 "cells": [
  {
   "cell_type": "markdown",
   "metadata": {
    "id": "emgzF1oxPtxc"
   },
   "source": [
    "<center><img src=\"https://storage.googleapis.com/arize-assets/arize-logo-white.jpg\" width=\"200\"/></center>\n",
    "\n",
    "# Credit Risk Assessement in the Financial Servies Industry\n",
    "\n",
    "Walk through how to use Arize for a credit risk model using an example dataset."
   ]
  },
  {
   "cell_type": "markdown",
   "metadata": {
    "id": "OXARCfB_QZ1H"
   },
   "source": [
    "## 📨 Upload Data to Arize\n",
    "\n",
    "Upload example data to Arize, this example uses the [Python Pandas method](https://docs.arize.com/arize/sending-data-methods/log-directly-via-sdk-api)."
   ]
  },
  {
   "cell_type": "code",
   "execution_count": null,
   "metadata": {},
   "outputs": [],
   "source": [
    "# Install and import dependencies\n",
    "\n",
    "!pip install -q arize\n",
    "from arize.pandas.logger import Client, Schema\n",
    "from arize.utils.types import ModelTypes, Environments, Metrics\n",
    "\n",
    "import pandas as pd\n",
    "import numpy as np\n",
    "import datetime"
   ]
  },
  {
   "cell_type": "markdown",
   "metadata": {
    "id": "eAvrX4B5ZvEg"
   },
   "source": [
    "### 🌐 Upload Data to Arize: Download Data\n",
    "We'll use a sample Parquet file that represents a model that predicts the risk of lending to an individual based on their credit history. This model includes features such as credit history length, default history, interest rate, etc."
   ]
  },
  {
   "cell_type": "code",
   "execution_count": null,
   "metadata": {},
   "outputs": [],
   "source": [
    "file_url = \"https://storage.googleapis.com/arize-assets/fixtures/Industry_Use_Case/financial_services_credit_scoring.parquet\"\n",
    "df = pd.read_parquet(file_url)\n",
    "df"
   ]
  },
  {
   "cell_type": "code",
   "execution_count": null,
   "metadata": {},
   "outputs": [],
   "source": [
    "#create prediction timestamp column\n",
    "\n",
    "current_time = datetime.datetime.now().timestamp()\n",
    "\n",
    "earlier_time = (\n",
    "    datetime.datetime.now() - datetime.timedelta(days=30)\n",
    ").timestamp()\n",
    "\n",
    "optional_prediction_timestamps = np.linspace(\n",
    "    earlier_time, current_time, num=df.shape[0]\n",
    ")\n",
    "\n",
    "df.insert(1, \"prediction_ts\", optional_prediction_timestamps.astype(int))\n",
    "df[[\"prediction_ts\"]].head()"
   ]
  },
  {
   "cell_type": "markdown",
   "metadata": {
    "id": "5iqZam7hyEN6"
   },
   "source": [
    "### 🤝 Upload Data to Arize: Create Arize Client\n",
    "Sign up/login to your Arize account <a href=\"https://app.arize.com/auth/login\">here</a>. Find your <a href=\"https://docs.arize.com/arize/api-reference/arize.pandas/client\">Space and API keys</a>. Copy/paste into the cell below."
   ]
  },
  {
   "cell_type": "code",
   "execution_count": null,
   "metadata": {},
   "outputs": [],
   "source": [
    "SPACE_KEY = \"YOUR_SPACE_KEY\"  # update value here with your Space Key\n",
    "API_KEY = \"YOUR_API_KEY\"  # update value here with your API key\n",
    "\n",
    "arize_client = Client(space_key=SPACE_KEY, api_key=API_KEY)"
   ]
  },
  {
   "cell_type": "code",
   "execution_count": null,
   "metadata": {},
   "outputs": [],
   "source": [
    "if SPACE_KEY == \"SPACE_KEY\" or API_KEY == \"API_KEY\":\n",
    "    raise ValueError(\"❌ NEED TO CHANGE SPACE AND/OR API_KEY\")\n",
    "else:\n",
    "    print(\n",
    "        \"✅ Import and Setup Arize Client Done! Now we can start using Arize!\"\n",
    "    )"
   ]
  },
  {
   "cell_type": "markdown",
   "metadata": {
    "id": "UiM8epdyrPpi"
   },
   "source": [
    "### 📋 Upload Data to Arize: Define Schema\n",
    "Create your <a href=\"https://docs.arize.com/arize/sending-data-to-arize/model-schema-reference\">model schema</a>. This helps Arize organize your model data such as features, prediction, rank, etc."
   ]
  },
  {
   "cell_type": "code",
   "execution_count": null,
   "metadata": {},
   "outputs": [],
   "source": [
    "feature_column_names = [\n",
    "    \"person_home_ownership\",\n",
    "    \"person_emp_length\",\n",
    "    \"loan_intent\",\n",
    "    \"loan_grade\",\n",
    "    \"loan_amnt\",\n",
    "    \"loan_int_rate\",\n",
    "    \"loan_status\",\n",
    "    \"loan_percent_income\",\n",
    "    \"cb_person_default_on_file\",\n",
    "    \"cb_person_cred_hist_length\",\n",
    "]\n",
    "\n",
    "tag_column_names = [\n",
    "    \"person_age\",\n",
    "    \"person_income\",\n",
    "]\n",
    "\n",
    "#Define a Schema() object for Arize to pick up data from the correct columns for logging\n",
    "schema = Schema(\n",
    "    timestamp_column_name=\"prediction_ts\",\n",
    "    prediction_score_column_name=\"predicted_risk\",\n",
    "    actual_label_column_name=\"loan_default\",\n",
    "    feature_column_names=feature_column_names,\n",
    "    tag_column_names=tag_column_names\n",
    ")"
   ]
  },
  {
   "cell_type": "markdown",
   "metadata": {
    "id": "HS1qxucNMyfy"
   },
   "source": [
    "### 🪵 Log Data to Arize\n",
    "Log the DataFrame using the <a href=\"https://docs.arize.com/arize/sending-data-to-arize/data-ingestion-methods/sdk-reference/python-sdk/arize.pandas\">pandas API</a>."
   ]
  },
  {
   "cell_type": "code",
   "execution_count": null,
   "metadata": {},
   "outputs": [],
   "source": [
    "response = arize_client.log(\n",
    "    dataframe=df,\n",
    "    model_id=\"credit-risk-financial-services\",\n",
    "    model_version=\"1.0\",\n",
    "    model_type=ModelTypes.BINARY_CLASSIFICATION,\n",
    "    validate=True,\n",
    "    environment=Environments.PRODUCTION,\n",
    "    schema=schema\n",
    ")\n",
    "\n",
    "if response.status_code == 200:\n",
    "    print(f\"✅ You have successfully logged production dataset to Arize\")\n",
    "else:\n",
    "    print(\n",
    "        f\"Logging failed with response code {response.status_code}, {response.text}\"\n",
    "    )"
   ]
  },
  {
   "cell_type": "markdown",
   "metadata": {
    "id": "5KKXh42GO7U5"
   },
   "source": [
    "## 🏃 Follow 'Success!' Link To Arize\n",
    "Once you've successfully logged your model to Arize, follow the link to setup monitors, uncover problem areas, and more!\n",
    "\n",
    "<strong>Note</strong>: It might take a few minutes for all the data to index in Arize, if you don't see all the data immedieatly, sit back and relax, data is on it's way!"
   ]
  },
  {
   "cell_type": "markdown",
   "metadata": {
    "id": "y7Y6V7ENPZxS"
   },
   "source": [
    "### 🔍 In Arize: Model Setup\n",
    "Now that we can see our model data in Arize, let's get our model setup with some basic configurations.\n",
    "* Navigate to the 'Config' tab and select 'AUC' as the default metric and 'DEAULT'as the positive class\n",
    "* Since we're leveraging a limited amount of data, let's narrow the production baseline window. Click on 'Configure Baseline' to shorten the baseline window and move it left\n",
    "\n",
    "AUC summarizes the true positive rate and false positive rate, and helps measure our model's ability to distinguish between customers who likely will or won't default on their loan and their risk."
   ]
  },
  {
   "cell_type": "markdown",
   "metadata": {
    "id": "4l5tpo5ZYr2m"
   },
   "source": [
    "<image src=\"https://storage.googleapis.com/arize-assets/fixtures/Industry_Use_Case/financial_services_credit_setup.png\">"
   ]
  },
  {
   "attachments": {},
   "cell_type": "markdown",
   "metadata": {
    "id": "SejAczRXVFnw"
   },
   "source": [
    "### 🔍 In Arize: Monitor Setup\n",
    "\n",
    "Let's setup an AUC monitor to get alerted when our model deviates from expected behavior.\n",
    "* Navigate to the 'Monitors' tab and click 'Enable' on the AUC card.\n",
    "* Scroll through the list of other metrics and monitor types, enable a few that seem interesting!"
   ]
  },
  {
   "cell_type": "markdown",
   "metadata": {
    "id": "jINaTZgRY0BB"
   },
   "source": [
    "<image src=\"https://storage.googleapis.com/arize-assets/fixtures/Industry_Use_Case/financial_services_credit_monitors.png\" width=800px>"
   ]
  },
  {
   "cell_type": "markdown",
   "metadata": {
    "id": "WFePUKjvVV6K"
   },
   "source": [
    "### 📈 In Arize: Performance Tracing\n",
    "Now, let's take a look at the 'Performance Tracing' tab to identify areas to improve and better understand the impact of each feature on our model performance.\n",
    "\n",
    "* Navigate to the 'Performance Tracing' tab\n",
    "* Scroll down to the 'Performance Insights' card, click on the worst performing slices\n",
    "\n",
    "Arize will surface the features that negatively impact your prediction performance the most. Visualize how each component within a given feature impacts your model."
   ]
  },
  {
   "cell_type": "markdown",
   "metadata": {
    "id": "qFVsk1VtY7Rj"
   },
   "source": [
    "<image src=\"https://storage.googleapis.com/arize-assets/fixtures/Industry_Use_Case/financial_services_credit_performance.png\" width=800px>"
   ]
  },
  {
   "attachments": {},
   "cell_type": "markdown",
   "metadata": {
    "id": "GNLoGzcbP69O"
   },
   "source": [
    "## 🚀 Continue Exploring Arize\n",
    "This tutorial just scratches the surface of what Arize can do. Continue to explore the world of ML Observability with Arize to monitor, troubleshoot, and fine tune your models!\n",
    "\n",
    "<strong>Recommended Resources:</strong>\n",
    "* [Arize Community Slack](https://join.slack.com/t/arize-ai/shared_invite/zt-1is2wp3xv-SQgwwszCEeS06Sm1q4xFFw)\n",
    "* [Arize Documentation](https://docs.arize.com/arize/)\n",
    "* [ML Observability Course](https://courses.arize.com/)"
   ]
  }
 ],
 "metadata": {
  "language_info": {
   "name": "python"
  }
 },
 "nbformat": 4,
 "nbformat_minor": 0
}
