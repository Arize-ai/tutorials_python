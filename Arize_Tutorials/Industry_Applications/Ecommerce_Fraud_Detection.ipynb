{
 "cells": [
  {
   "cell_type": "markdown",
   "metadata": {
    "id": "p0TvdSg5HC3Q"
   },
   "source": [
    "<center><img src=\"https://storage.googleapis.com/arize-assets/arize-logo-white.jpg\" width=\"200\"/></center>\n",
    "\n",
    "# Fraud Detection in the eCommerce Industry\n",
    "Walk through how to use Arize for a fraud detection model using an example dataset."
   ]
  },
  {
   "cell_type": "markdown",
   "metadata": {
    "id": "SDVA4kK5HHqa"
   },
   "source": [
    "## 📨 Upload Data to Arize\n",
    "Upload example data to Arize, this example uses the [Python Pandas method](https://docs.arize.com/arize/sending-data-methods/log-directly-via-sdk-api)."
   ]
  },
  {
   "cell_type": "code",
   "execution_count": null,
   "metadata": {},
   "outputs": [],
   "source": [
    "# Install and import dependencies\n",
    "\n",
    "!pip install -q arize\n",
    "from arize.pandas.logger import Client, Schema\n",
    "from arize.utils.types import ModelTypes, Environments\n",
    "\n",
    "import pandas as pd\n",
    "import numpy as np\n",
    "import datetime"
   ]
  },
  {
   "cell_type": "markdown",
   "metadata": {
    "id": "7C8bwEnXHHnx"
   },
   "source": [
    "### 🌐 Upload Data to Arize: Download Data\n",
    "Here are sample parquet files that represent the <strong>training</strong> and <strong>production</strong> data of a model designed to evaluate the probability of a merchant chargeback being fraud based on features such as transaction amount, transaction frequency, shipping address discrepancies, purchase history, CVV verication, and appropriate time frames.\n"
   ]
  },
  {
   "cell_type": "code",
   "execution_count": null,
   "metadata": {},
   "outputs": [],
   "source": [
    "production_df = pd.read_parquet(\n",
    "    \"https://storage.googleapis.com/arize-assets/fixtures/Industry_Use_Case/ecommerce_fraud_detection_production.parquet\",\n",
    ")\n",
    "training_df = pd.read_parquet(\n",
    "    \"https://storage.googleapis.com/arize-assets/fixtures/Industry_Use_Case/ecommerce_fraud_detection_training.parquet\",\n",
    ")"
   ]
  },
  {
   "cell_type": "code",
   "execution_count": null,
   "metadata": {},
   "outputs": [],
   "source": [
    "# create timestamp columns\n",
    "current_time = datetime.datetime.now().timestamp()\n",
    "\n",
    "earlier_time = (\n",
    "    datetime.datetime.now() - datetime.timedelta(days=30)\n",
    ").timestamp()\n",
    "\n",
    "optional_prediction_timestamps = np.linspace(\n",
    "    earlier_time, current_time, num=production_df.shape[0]\n",
    ")\n",
    "\n",
    "production_df.insert(\n",
    "    1, \"prediction_ts\", optional_prediction_timestamps.astype(int)\n",
    ")\n",
    "production_df[[\"prediction_ts\"]].head()"
   ]
  },
  {
   "cell_type": "markdown",
   "metadata": {
    "id": "oBK7Of-8_4qo"
   },
   "source": [
    "###🤝 Upload Data to Arize: Create Arize Client\n",
    "Sign up/login to your Arize account <a href=\"https://app.arize.com/auth/login\">here</a>. Find your <a href=\"https://docs.arize.com/arize/api-reference/arize.pandas/client\">Space and API keys</a>. Copy/paste into the cell below."
   ]
  },
  {
   "cell_type": "code",
   "execution_count": null,
   "metadata": {},
   "outputs": [],
   "source": [
    "SPACE_ID = \"SPACE_ID\"  # update value here with your Space ID\n",
    "API_KEY = \"API_KEY\"  # update value here with your API key\n",
    "\n",
    "arize_client = Client(space_id=SPACE_ID, api_key=API_KEY)"
   ]
  },
  {
   "cell_type": "code",
   "execution_count": null,
   "metadata": {},
   "outputs": [],
   "source": [
    "if SPACE_ID == \"SPACE_ID\" or API_KEY == \"API_KEY\":\n",
    "    raise ValueError(\"❌ CHANGE SPACE_ID AND/OR API_KEY\")\n",
    "else:\n",
    "    print(\n",
    "        \"✅ Import and Setup Arize Client Done! Now we can start using Arize!\"\n",
    "    )"
   ]
  },
  {
   "cell_type": "markdown",
   "metadata": {
    "id": "HVIZgl2oIHGt"
   },
   "source": [
    "### 🪵 Upload Data to Arize: Create Schema & Log Training Data\n",
    "Create your <a href=\"https://docs.arize.com/arize/sending-data-to-arize/model-schema-reference\">model schema</a>.Define the training schema and log the training data to Arize.\n",
    "\n"
   ]
  },
  {
   "cell_type": "code",
   "execution_count": null,
   "metadata": {},
   "outputs": [],
   "source": [
    "# Define a Schema() object for Arize to pick up data from the correct columns for logging\n",
    "training_schema = Schema(\n",
    "    prediction_label_column_name=\"predicted_fraud\",\n",
    "    actual_label_column_name=\"actual_fraud\",\n",
    "    feature_column_names=[\n",
    "        \"transaction_amount\",\n",
    "        \"transaction_frequency\",\n",
    "        \"customer_behavior\",\n",
    "        \"shipping_address_discrepancies\",\n",
    "        \"velocity_checks\",\n",
    "        \"purchase_history\",\n",
    "        \"timeframe_analysis\",\n",
    "        \"merchant_specific_data\",\n",
    "    ],\n",
    ")\n",
    "\n",
    "# Logging Training DataFrame\n",
    "training_response = arize_client.log(\n",
    "    dataframe=training_df,\n",
    "    model_id=\"fraud-detection-ecommerce\",\n",
    "    model_version=\"1.0\",\n",
    "    model_type=ModelTypes.BINARY_CLASSIFICATION,\n",
    "    environment=Environments.TRAINING,\n",
    "    schema=training_schema,\n",
    ")"
   ]
  },
  {
   "attachments": {},
   "cell_type": "markdown",
   "metadata": {
    "id": "DRQdEXZDIvMo"
   },
   "source": [
    "### 🪵 Upload Data to Arize: Create Schema & Log Production Data\n",
    "Create your <a href=\"https://docs.arize.com/arize/sending-data-to-arize/model-schema-reference\">model schema</a>. Define the production schema and log the production data to Arize.\n"
   ]
  },
  {
   "cell_type": "code",
   "execution_count": null,
   "metadata": {},
   "outputs": [],
   "source": [
    "# Define a Schema() object for Arize to pick up data from the correct columns for logging\n",
    "production_schema = Schema(\n",
    "    prediction_id_column_name=\"prediction_id\",\n",
    "    timestamp_column_name=\"prediction_ts\",\n",
    "    prediction_label_column_name=\"predicted_fraud\",\n",
    "    feature_column_names=[\n",
    "        \"transaction_amount\",\n",
    "        \"transaction_frequency\",\n",
    "        \"customer_behavior\",\n",
    "        \"shipping_address_discrepancies\",\n",
    "        \"velocity_checks\",\n",
    "        \"purchase_history\",\n",
    "        \"timeframe_analysis\",\n",
    "        \"cvv_verification\",\n",
    "        \"merchant_specific_data\",\n",
    "    ],\n",
    ")\n",
    "\n",
    "# Logging Training DataFrame\n",
    "production_response = arize_client.log(\n",
    "    dataframe=production_df,\n",
    "    model_id=\"fraud-detection-ecommerce\",\n",
    "    model_version=\"1.0\",\n",
    "    model_type=ModelTypes.BINARY_CLASSIFICATION,\n",
    "    environment=Environments.PRODUCTION,\n",
    "    schema=production_schema,\n",
    ")"
   ]
  },
  {
   "cell_type": "markdown",
   "metadata": {
    "id": "EqGZyQWDO3kz"
   },
   "source": [
    "## 🏃 Follow 'Success!' Link To Arize\n",
    "Once you've successfully logged your model to Arize, follow the link to setup monitors, uncover problem areas, and more!\n",
    "\n",
    "<strong>Note</strong>: It might take a few minutes for all the data to index in Arize, if you don't see all 5000 rows immedieatly, sit back and relax, data is on it's way!"
   ]
  },
  {
   "cell_type": "markdown",
   "metadata": {
    "id": "jDOWSavBPXBQ"
   },
   "source": [
    "###🔍 In Arize: Model Setup\n",
    "Now that we can see our model data in Arize, let's get our model setup with some basic configurations.\n",
    "\n",
    "It's important to note that since we did not send in actuals (ground truth) data with our production model, we will not be able to see performance metrics in the platform, and some graphs may populate as 'No Data'.\n",
    "* Navigate to the 'Config' tab and select 'Fraud' as the positive class\n",
    "* On the Config page, click 'Configure Baseline' and pick 'Pre-Production'"
   ]
  },
  {
   "cell_type": "markdown",
   "metadata": {
    "id": "5zqrQLUwEchx"
   },
   "source": [
    "<image src=\"https://storage.googleapis.com/arize-assets/fixtures/Industry_Use_Case/ecommerce_fraud_setup.png\">"
   ]
  },
  {
   "attachments": {},
   "cell_type": "markdown",
   "metadata": {
    "id": "iwTGJH3LBdLF"
   },
   "source": [
    "### 🔍 In Arize: Monitor Setup\n",
    "\n",
    "Let's setup some monitors to get alerted when our model deviates from expected behavior. Since we don't have actuals, we can not enable performance monitors. Instead, we'll monitor drift as a proxy for performance.\n",
    "* Navigate to the 'Monitors' tab and scroll down to 'Drift Monitors'\n",
    "* Click 'Enable' for both the 'Prediction Drift' and 'Feature Drift' cards.\n",
    "\n",
    "Drift will measure how your production model compares to your baseline dataset. In our case, the training dataset. These monitors will alert us if our predictions deviate, and if our features deviate from expected values."
   ]
  },
  {
   "cell_type": "markdown",
   "metadata": {
    "id": "kyL-jrsQEdFu"
   },
   "source": [
    "<image src=\"https://storage.googleapis.com/arize-assets/fixtures/Industry_Use_Case/ecommerce_fraud_monitor.png\">"
   ]
  },
  {
   "cell_type": "markdown",
   "metadata": {
    "id": "fk6IYgfBCUKc"
   },
   "source": [
    "### 📈 In Arize: Drift Tracing\n",
    "Now, let's explore our features and prediction drift to better understand how our production data compares to training.\n",
    "* Navigate to the 'Drift Tracing' tab\n",
    "* Click on areas of high drift and scroll down to the 'Distribution Comparison' chart  "
   ]
  },
  {
   "cell_type": "markdown",
   "metadata": {
    "id": "dFG_EE8ZEdZh"
   },
   "source": [
    "<image src=\"https://storage.googleapis.com/arize-assets/fixtures/Industry_Use_Case/ecommerce_fraud_drift.png\">"
   ]
  },
  {
   "cell_type": "markdown",
   "metadata": {
    "id": "x9rPOxEwEtWF"
   },
   "source": [
    "* Scroll down to the 'Drift Breakdown' card, the features are sorted by highest drift to lowest drift. It looks like CVV Verication has drifted signifigantly.\n",
    "* Click on the feature to analyze it's individual drift. It looks like our training data is missing any CVV information, which is a signifigant issue!\n",
    "\n",
    "Use this information to build/rebuild your CVV feature to emcompass new fraud techniques to out-smart the frausters!"
   ]
  },
  {
   "cell_type": "markdown",
   "metadata": {
    "id": "vJA2GmfcErES"
   },
   "source": [
    "<image src=\"https://storage.googleapis.com/arize-assets/fixtures/Industry_Use_Case/ecommerce_fraud_feature.png\">"
   ]
  },
  {
   "attachments": {},
   "cell_type": "markdown",
   "metadata": {
    "id": "sSYHY9WNPzn8"
   },
   "source": [
    "## 🚀 Continue Exploring Arize\n",
    "This tutorial just scratches the surface of what Arize can do. Continue to explore the world of ML Observability with Arize to monitor, troubleshoot, and fine tune your models!\n",
    "\n",
    "<strong>Recommended Resources:</strong>\n",
    "* [Arize Community Slack](https://join.slack.com/t/arize-ai/shared_invite/zt-1is2wp3xv-SQgwwszCEeS06Sm1q4xFFw)\n",
    "* [Arize Documentation](https://docs.arize.com/arize/)\n",
    "* [ML Observability Course](https://courses.arize.com/)"
   ]
  }
 ],
 "metadata": {
  "language_info": {
   "name": "python"
  }
 },
 "nbformat": 4,
 "nbformat_minor": 0
}
