{
 "cells": [
  {
   "cell_type": "markdown",
   "metadata": {
    "id": "p0TvdSg5HC3Q"
   },
   "source": [
    "<center><img src=\"https://storage.googleapis.com/arize-assets/arize-logo-white.jpg\" width=\"200\"/></center>\n",
    "\n",
    "# Customer Churn in the Media & Entertainment Industry\n",
    "Walk through how to use Arize for a customer churn model using an example dataset."
   ]
  },
  {
   "cell_type": "markdown",
   "metadata": {
    "id": "SDVA4kK5HHqa"
   },
   "source": [
    "## 📨 Upload Data to Arize\n",
    "Upload example data to Arize, this example uses the [Python Pandas method](https://docs.arize.com/arize/sending-data-methods/log-directly-via-sdk-api)."
   ]
  },
  {
   "cell_type": "code",
   "execution_count": null,
   "metadata": {},
   "outputs": [],
   "source": [
    "# Install and import dependencies\n",
    "\n",
    "!pip install -q arize\n",
    "from arize.pandas.logger import Client, Schema\n",
    "from arize.utils.types import ModelTypes, Environments, Metrics\n",
    "\n",
    "import pandas as pd\n",
    "import numpy as np"
   ]
  },
  {
   "cell_type": "markdown",
   "metadata": {
    "id": "7C8bwEnXHHnx"
   },
   "source": [
    "### 🌐 Upload Data to Arize: Download Data\n",
    "Here are sample parquet files that represent the <strong>training</strong> and <strong>production</strong> data of a model designed to evaluate the probability that a customer will churn from a service based on features such as:\n",
    "* Profiles: The number of profiles associated with an account\n",
    "* Customer Age: The age of the account owner\n",
    "* Account Age: Age of the account in months\n",
    "\n",
    "As well as relevant metadata that can impact customer churn such as gender and income category.\n"
   ]
  },
  {
   "cell_type": "code",
   "execution_count": null,
   "metadata": {},
   "outputs": [],
   "source": [
    "production_df = pd.read_parquet(\n",
    "    \"https://storage.googleapis.com/arize-assets/fixtures/Industry_Use_Case/media_and_entertainment_churn_production.parquet\",\n",
    ")\n",
    "training_df = pd.read_parquet(\n",
    "    \"https://storage.googleapis.com/arize-assets/fixtures/Industry_Use_Case/media_and_entertainment_churn_training.parquet\",\n",
    ")"
   ]
  },
  {
   "attachments": {},
   "cell_type": "markdown",
   "metadata": {
    "id": "oBK7Of-8_4qo"
   },
   "source": [
    "### 🤝 Upload Data to Arize: Create Arize Client\n",
    "Sign up/login to your Arize account <a href=\"https://app.arize.com/auth/login\">here</a>. Find your <a href=\"https://docs.arize.com/arize/api-reference/arize.pandas/client\">Space and API keys</a>. Copy/paste into the cell below."
   ]
  },
  {
   "cell_type": "code",
   "execution_count": null,
   "metadata": {},
   "outputs": [],
   "source": [
    "SPACE_ID = \"SPACE_ID\"  # update value here with your Space ID\n",
    "API_KEY = \"API_KEY\"  # update value here with your API key\n",
    "\n",
    "arize_client = Client(space_id=SPACE_ID, api_key=API_KEY)"
   ]
  },
  {
   "cell_type": "code",
   "execution_count": null,
   "metadata": {},
   "outputs": [],
   "source": [
    "if SPACE_ID == \"SPACE_ID\" or API_KEY == \"API_KEY\":\n",
    "    raise ValueError(\"❌ CHANGE SPACE_ID AND/OR API_KEY\")\n",
    "else:\n",
    "    print(\n",
    "        \"✅ Import and Setup Arize Client Done! Now we can start using Arize!\"\n",
    "    )"
   ]
  },
  {
   "cell_type": "markdown",
   "metadata": {
    "id": "DStaoUT0B5KZ"
   },
   "source": [
    "### 📋 Upload Data to Arize: Define Schema\n",
    "Create your <a href=\"https://docs.arize.com/arize/sending-data-to-arize/model-schema-reference\">model schema</a>. First, we'll define the features, shap values, and tags.  "
   ]
  },
  {
   "cell_type": "code",
   "execution_count": null,
   "metadata": {},
   "outputs": [],
   "source": [
    "feature_column_names = [\n",
    "    \"Profiles\",\n",
    "    \"Customer_Age\",\n",
    "    \"Account_Age\",\n",
    "    \"Education_Level\",\n",
    "]\n",
    "tag_column_names = [\"Gender\", \"Income_Category\"]"
   ]
  },
  {
   "cell_type": "markdown",
   "metadata": {
    "id": "HVIZgl2oIHGt"
   },
   "source": [
    "### 🪵 Upload Data to Arize: Log Training Data\n",
    "Define the training schema and log the training data to Arize.\n",
    "\n"
   ]
  },
  {
   "cell_type": "code",
   "execution_count": null,
   "metadata": {},
   "outputs": [],
   "source": [
    "# Define a Schema() object for Arize to pick up data from the correct columns for logging\n",
    "training_schema = Schema(\n",
    "    prediction_id_column_name=\"predictionID\",\n",
    "    prediction_label_column_name=\"categoricalPredictionLabel\",\n",
    "    actual_label_column_name=\"categoricalActualLabel\",\n",
    "    feature_column_names=feature_column_names,\n",
    "    tag_column_names=tag_column_names,\n",
    ")\n",
    "\n",
    "# Logging Training DataFrame\n",
    "training_response = arize_client.log(\n",
    "    dataframe=training_df,\n",
    "    model_id=\"churn-media-and-entertainment\",\n",
    "    model_version=\"1.0\",\n",
    "    model_type=ModelTypes.BINARY_CLASSIFICATION,\n",
    "    environment=Environments.TRAINING,\n",
    "    schema=training_schema,\n",
    ")"
   ]
  },
  {
   "attachments": {},
   "cell_type": "markdown",
   "metadata": {
    "id": "DRQdEXZDIvMo"
   },
   "source": [
    "### 🪵 Upload Data to Arize: Log Production Data\n",
    "Define the production schema and log the production data to Arize.\n"
   ]
  },
  {
   "cell_type": "code",
   "execution_count": null,
   "metadata": {},
   "outputs": [],
   "source": [
    "# Define a Schema() object for Arize to pick up data from the correct columns for logging\n",
    "production_schema = Schema(\n",
    "    prediction_id_column_name=\"predictionID\",\n",
    "    timestamp_column_name=\"time\",\n",
    "    prediction_label_column_name=\"categoricalPredictionLabel\",\n",
    "    feature_column_names=feature_column_names,\n",
    "    tag_column_names=tag_column_names,\n",
    ")\n",
    "\n",
    "# arize_client.log returns a Response object from Python's requests module\n",
    "production_response = arize_client.log(\n",
    "    dataframe=production_df,\n",
    "    model_id=\"churn-media-and-entertainment\",\n",
    "    model_version=\"1.0\",\n",
    "    model_type=ModelTypes.BINARY_CLASSIFICATION,\n",
    "    environment=Environments.PRODUCTION,\n",
    "    schema=production_schema,\n",
    ")"
   ]
  },
  {
   "cell_type": "markdown",
   "metadata": {
    "id": "PATGQBz0Ovbd"
   },
   "source": [
    "## 🏃 Follow 'Success!' Link To Arize\n",
    "Once you've successfully logged your model to Arize, follow the link to setup monitors, uncover problem areas, and more!\n",
    "\n",
    "<strong>Note</strong>: It might take a few minutes for all the data to index in Arize, if you don't see all data immedieatly, sit back and relax, data is on it's way!"
   ]
  },
  {
   "cell_type": "markdown",
   "metadata": {
    "id": "kQOTddc6PSTv"
   },
   "source": [
    "###🔍 In Arize: Model Setup\n",
    "Now that we can see our model data in Arize, let's get our model setup with some basic configurations. It's important to note that since our model does not have actual (ground truth) data in our production dataset, there will be some visualizations within the performance tracing and model overview page that will indicate 'No Data'.\n",
    "* Navigate to the 'Config' tab and select 'Churn' as the positive class\n",
    "* Click 'Configure Baseline' and select 'Pre-Production' to use our training data as the baseline"
   ]
  },
  {
   "cell_type": "markdown",
   "metadata": {
    "id": "pxAjdIUW7gsm"
   },
   "source": [
    "<image src=\"https://storage.googleapis.com/arize-assets/fixtures/Industry_Use_Case/media_churn_setup.png\" width = 850px>"
   ]
  },
  {
   "cell_type": "markdown",
   "metadata": {
    "id": "vIcPrrxU1i1V"
   },
   "source": [
    "### 🔍 In Arize: Monitor Setup\n",
    "\n",
    "Since we don't have actual's data, we'll setup drift monitors to help indicate when our model deviates from expected behavior. Drift monitors compare our current data with a baseline (training data in our case), and will alert when our predictions or features deviate from training values.\n",
    "* Navigate to the 'Monitors' tab and click 'Enable' on the Prediction Drift and Feature Drift card.\n"
   ]
  },
  {
   "cell_type": "markdown",
   "metadata": {
    "id": "b8IJz-Wa7m2X"
   },
   "source": [
    "<image src=\"https://storage.googleapis.com/arize-assets/fixtures/Industry_Use_Case/media_churn_monitors.png\" width = 850px>"
   ]
  },
  {
   "attachments": {},
   "cell_type": "markdown",
   "metadata": {
    "id": "YoztDQcM2qFv"
   },
   "source": [
    "### 📈 In Arize: Drift Tracing\n",
    "Now, let's take a look at the 'Drift Tracing' tab to identify areas to improve and better understand the impact of each feature on our model performance.\n",
    "\n",
    "* Navigate to the 'Drift Tracing' tab\n",
    "* Click on different parts of the Prediction Drift Over Time chart to surface different distribution comparisons for that given time period\n",
    "* Scroll down to the 'Drift Breakdown' card and click on the various features and tags to uncover more about each individual feature's drift"
   ]
  },
  {
   "cell_type": "markdown",
   "metadata": {
    "id": "w1bB-tRi7pgJ"
   },
   "source": [
    "<image src=\"https://storage.googleapis.com/arize-assets/fixtures/Industry_Use_Case/media_churn_drift.png\" width = 850px>\n",
    "<image src=\"https://storage.googleapis.com/arize-assets/fixtures/Industry_Use_Case/media_churn_drift_2.png\" width = 850px>"
   ]
  },
  {
   "attachments": {},
   "cell_type": "markdown",
   "metadata": {
    "id": "9FmluGQ7PqnI"
   },
   "source": [
    "## 🚀 Continue Exploring Arize\n",
    "This tutorial just scratches the surface of what Arize can do. Continue to explore the world of ML Observability with Arize to monitor, troubleshoot, and fine tune your models!\n",
    "\n",
    "<strong>Recommended Resources:</strong>\n",
    "* [Arize Community Slack](https://join.slack.com/t/arize-ai/shared_invite/zt-1is2wp3xv-SQgwwszCEeS06Sm1q4xFFw)\n",
    "* [Arize Documentation](https://docs.arize.com/arize/)\n",
    "* [ML Observability Course](https://courses.arize.com/)"
   ]
  }
 ],
 "metadata": {
  "language_info": {
   "name": "python"
  }
 },
 "nbformat": 4,
 "nbformat_minor": 0
}
