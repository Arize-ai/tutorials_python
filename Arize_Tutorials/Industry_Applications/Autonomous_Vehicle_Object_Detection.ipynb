{
 "cells": [
  {
   "cell_type": "markdown",
   "metadata": {
    "id": "Pwyjqc6m6gZz"
   },
   "source": [
    "<center><img src=\"https://storage.googleapis.com/arize-assets/arize-logo-white.jpg\" width=\"200\"/></center>\n",
    "\n",
    "# Object Detection in the Autonomous Vehicle Industry\n",
    "Walk through how to use Arize for a object detection model using an example dataset."
   ]
  },
  {
   "cell_type": "markdown",
   "metadata": {
    "id": "EQKwVhvF7LjM"
   },
   "source": [
    "## 📨 Upload Data to Arize\n",
    "Upload example data to Arize, this example uses the [Python Pandas method](https://docs.arize.com/arize/sending-data-methods/log-directly-via-sdk-api)."
   ]
  },
  {
   "cell_type": "code",
   "execution_count": null,
   "metadata": {},
   "outputs": [],
   "source": [
    "# Install and import dependencies\n",
    "\n",
    "!pip install -q arize\n",
    "from arize.pandas.logger import Client\n",
    "from arize.utils.types import (\n",
    "    Schema,\n",
    "    Environments,\n",
    "    ModelTypes,\n",
    "    EmbeddingColumnNames,\n",
    "    ObjectDetectionColumnNames,\n",
    ")\n",
    "\n",
    "import pandas as pd\n",
    "import numpy as np\n",
    "from datetime import datetime"
   ]
  },
  {
   "cell_type": "markdown",
   "metadata": {
    "id": "MSf170h4JVfN"
   },
   "source": [
    "### 🌐 Upload Data to Arize: Download Data\n",
    "Here are sample parquet files that represent the <strong>training</strong> and <strong>production</strong> data of a object detection model designed to identify common object typically seen by autonomous vehicles.\n",
    "\n",
    "Since object detection models include image data, this dataset includes image vectors to easily visualize embeddings patterns in Arize."
   ]
  },
  {
   "cell_type": "code",
   "execution_count": null,
   "metadata": {},
   "outputs": [],
   "source": [
    "production_df = pd.read_parquet(\n",
    "    \"https://storage.googleapis.com/arize-assets/fixtures/Industry_Use_Case/autonomous_vehicle_object_detection_production.parquet\",\n",
    ")\n",
    "training_df = pd.read_parquet(\n",
    "    \"https://storage.googleapis.com/arize-assets/fixtures/Industry_Use_Case/autonomous_vehicle_object_detection_training.parquet\",\n",
    ")"
   ]
  },
  {
   "cell_type": "code",
   "execution_count": null,
   "metadata": {},
   "outputs": [],
   "source": [
    "# Update timestamps to current time\n",
    "\n",
    "last_ts = max(production_df[\"prediction_ts\"])\n",
    "now_ts = datetime.timestamp(datetime.now())\n",
    "delta_ts = now_ts - last_ts\n",
    "\n",
    "training_df[\"prediction_ts\"] = (training_df[\"prediction_ts\"] + delta_ts).astype(\n",
    "    float\n",
    ")\n",
    "production_df[\"prediction_ts\"] = (\n",
    "    production_df[\"prediction_ts\"] + delta_ts\n",
    ").astype(float)\n",
    "\n",
    "\n",
    "# Reset the index\n",
    "training_df = training_df.reset_index(drop=True)\n",
    "production_df = production_df.reset_index(drop=True)"
   ]
  },
  {
   "attachments": {},
   "cell_type": "markdown",
   "metadata": {
    "id": "IooTaCBlxl26"
   },
   "source": [
    "### 🤝 Upload Data to Arize: Create Arize Client\n",
    "Sign up/login to your Arize account <a href=\"https://app.arize.com/auth/login\">here</a>. Find your <a href=\"https://docs.arize.com/arize/api-reference/arize.pandas/client\">Space and API keys</a>. Copy/paste into the cell below.\n"
   ]
  },
  {
   "cell_type": "code",
   "execution_count": null,
   "metadata": {},
   "outputs": [],
   "source": [
    "SPACE_ID = \"SPACE_ID\"  # update value here with your Space ID\n",
    "API_KEY = \"API_KEY\"  # update value here with your API key\n",
    "\n",
    "arize_client = Client(space_id=SPACE_ID, api_key=API_KEY)"
   ]
  },
  {
   "cell_type": "code",
   "execution_count": null,
   "metadata": {},
   "outputs": [],
   "source": [
    "if SPACE_ID == \"SPACE_ID\" or API_KEY == \"API_KEY\":\n",
    "    raise ValueError(\"❌ CHANGE SPACE_ID AND/OR API_KEY\")\n",
    "else:\n",
    "    print(\n",
    "        \"✅ Import and Setup Arize Client Done! Now we can start using Arize!\"\n",
    "    )"
   ]
  },
  {
   "cell_type": "markdown",
   "metadata": {
    "id": "9lJmoCVv9kCw"
   },
   "source": [
    "### 📋 Upload Data to Arize: Define Schema\n",
    "Create your <a href=\"https://docs.arize.com/arize/sending-data-to-arize/model-schema-reference\">model schema</a>. First, we'll define the features, shap values, and tags. We will use the `ObjectDetectionColumnNames` and `EmbeddingColumnNames` classes from Arize's SDK.\n",
    "\n",
    "[Here](https://docs.arize.com/arize/sending-data/model-schema-reference#8.-embedding-features-unstructured) is more information about defining embedding features using `EmbeddingColumnNames`."
   ]
  },
  {
   "cell_type": "code",
   "execution_count": null,
   "metadata": {},
   "outputs": [],
   "source": [
    "tags = [\"drift_type\"]\n",
    "embedding_feature_column_names = {\n",
    "    \"image_embedding\": EmbeddingColumnNames(\n",
    "        vector_column_name=\"image_vector\", link_to_data_column_name=\"url\"\n",
    "    )\n",
    "}\n",
    "object_detection_prediction_column_names = ObjectDetectionColumnNames(\n",
    "    bounding_boxes_coordinates_column_name=\"prediction_bboxes\",\n",
    "    categories_column_name=\"prediction_categories\",\n",
    "    scores_column_name=\"prediction_scores\",\n",
    ")\n",
    "object_detection_actual_column_names = ObjectDetectionColumnNames(\n",
    "    bounding_boxes_coordinates_column_name=\"actual_bboxes\",\n",
    "    categories_column_name=\"actual_categories\",\n",
    ")\n",
    "\n",
    "# Define a Schema() object for Arize to pick up data from the correct columns for logging\n",
    "schema = Schema(\n",
    "    prediction_id_column_name=\"prediction_id\",\n",
    "    timestamp_column_name=\"prediction_ts\",\n",
    "    tag_column_names=tags,\n",
    "    embedding_feature_column_names=embedding_feature_column_names,\n",
    "    object_detection_prediction_column_names=object_detection_prediction_column_names,\n",
    "    object_detection_actual_column_names=object_detection_actual_column_names,\n",
    ")"
   ]
  },
  {
   "cell_type": "markdown",
   "metadata": {
    "id": "dNmzjXOAKCoA"
   },
   "source": [
    "### 🪵 Upload Data to Arize: Log Training Data\n",
    "Define the training schema and log the training data to Arize."
   ]
  },
  {
   "cell_type": "code",
   "execution_count": null,
   "metadata": {},
   "outputs": [],
   "source": [
    "# Logging Training DataFrame\n",
    "response = arize_client.log(\n",
    "    dataframe=training_df,\n",
    "    schema=schema,\n",
    "    model_id=\"object-detection-autonomous-vehicle\",\n",
    "    model_version=\"1.0\",\n",
    "    model_type=ModelTypes.OBJECT_DETECTION,\n",
    "    environment=Environments.TRAINING,\n",
    ")"
   ]
  },
  {
   "attachments": {},
   "cell_type": "markdown",
   "metadata": {
    "id": "nPTW_94Wq6SE"
   },
   "source": [
    "### 🪵 Upload Data to Arize: Log Production Data\n",
    "Define the production schema and log the production data to Arize."
   ]
  },
  {
   "cell_type": "code",
   "execution_count": null,
   "metadata": {},
   "outputs": [],
   "source": [
    "# Logging Production DataFrame\n",
    "response = arize_client.log(\n",
    "    dataframe=production_df,\n",
    "    schema=schema,\n",
    "    model_id=\"object-detection-autonomous-vehicle\",\n",
    "    model_version=\"1.0\",\n",
    "    model_type=ModelTypes.OBJECT_DETECTION,\n",
    "    environment=Environments.PRODUCTION,\n",
    ")"
   ]
  },
  {
   "cell_type": "markdown",
   "metadata": {
    "id": "_AbqMtQWOsad"
   },
   "source": [
    "## 🏃 Follow 'Success!' Link To Arize\n",
    "Once you've successfully logged your model to Arize, follow the link to setup monitors, uncover problem areas, and more!\n",
    "\n",
    "<strong>Note</strong>: It might take a few minutes for all the data to index in Arize, if you don't see all the model data immedieatly, sit back and relax, data is on it's way!"
   ]
  },
  {
   "attachments": {},
   "cell_type": "markdown",
   "metadata": {
    "id": "Y5BD5IKHPGOh"
   },
   "source": [
    "### 🔍 In Arize: Model Setup\n",
    "Now that we can see our model data in Arize, let's get our model setup with some basic configurations.\n",
    "* Navigate to the 'Config' tab, click on 'Configure Baseline', and select 'Pre-Production'"
   ]
  },
  {
   "cell_type": "markdown",
   "metadata": {
    "id": "-fcZm6Q12KmN"
   },
   "source": [
    "<image src=\"https://storage.googleapis.com/arize-assets/fixtures/Industry_Use_Case/autonomous_baseline.png\">"
   ]
  },
  {
   "cell_type": "markdown",
   "metadata": {
    "id": "w2eTs7W42bjD"
   },
   "source": [
    "### 🎨In Arize: Embeddings Visualization\n",
    "\n",
    "To view our data and gain a visual representation of our model performance, navigate to the 'Embeddings' tab.The UMAP visualization will automatically load and surface with the largest discrepancy between production and the baseline (training for this case).\n",
    "* Click on a [cluster](https://docs.arize.com/arize/embeddings/embedding-and-cluster-analyzer) to surface the images within each cluster\n"
   ]
  },
  {
   "cell_type": "markdown",
   "metadata": {
    "id": "a2fkeQOc32Hd"
   },
   "source": [
    "<image src=\"https://storage.googleapis.com/arize-assets/fixtures/Industry_Use_Case/autonomous_cluster.png\" width=850px>"
   ]
  },
  {
   "cell_type": "markdown",
   "metadata": {
    "id": "I-V2N-LA3_A_"
   },
   "source": [
    "### 🎨In Arize: Embeddings Visualization\n",
    "\n",
    "As we look through Cluster 20, notice how our production model is 'seeing' a wider variety of wildlife as compared to training. This might indicate an area to focus on as autonomous vehicles explore more rural areas.\n",
    "\n",
    "* Click on 'Download this cluster' to share this feedback across your teams for fine-tuning and relabeling efforts. Learn more [here](https://docs.arize.com/arize/active-learning-and-fine-tuning/export-data-to-notebook)."
   ]
  },
  {
   "attachments": {},
   "cell_type": "markdown",
   "metadata": {
    "id": "i8mUqq2dPkbm"
   },
   "source": [
    "## 🚀 Continue Exploring Arize\n",
    "This tutorial just scratches the surface of what Arize can do. Continue to explore the world of ML Observability with Arize to monitor, troubleshoot, and fine tune your models!\n",
    "\n",
    "<strong>Recommended Resources:</strong>\n",
    "* [Arize Community Slack](https://join.slack.com/t/arize-ai/shared_invite/zt-1is2wp3xv-SQgwwszCEeS06Sm1q4xFFw)\n",
    "* [Arize Documentation](https://docs.arize.com/arize/)\n",
    "* [ML Observability Course](https://courses.arize.com/)"
   ]
  }
 ],
 "metadata": {
  "language_info": {
   "name": "python"
  }
 },
 "nbformat": 4,
 "nbformat_minor": 0
}
