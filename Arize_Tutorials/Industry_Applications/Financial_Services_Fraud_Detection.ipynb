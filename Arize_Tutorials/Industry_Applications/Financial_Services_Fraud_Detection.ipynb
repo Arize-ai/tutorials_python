{
 "cells": [
  {
   "cell_type": "markdown",
   "metadata": {
    "id": "p0TvdSg5HC3Q"
   },
   "source": [
    "<center><img src=\"https://storage.googleapis.com/arize-assets/arize-logo-white.jpg\" width=\"200\"/></center>\n",
    "\n",
    "# Fraud Detection in the Financial Services Industry\n",
    "Walk through how to use Arize for a fraud detection model using an example dataset."
   ]
  },
  {
   "cell_type": "markdown",
   "metadata": {
    "id": "SDVA4kK5HHqa"
   },
   "source": [
    "## 📨 Upload Data to Arize\n",
    "Upload example data to Arize, this example uses the [Python Pandas method](https://docs.arize.com/arize/sending-data-methods/log-directly-via-sdk-api)."
   ]
  },
  {
   "cell_type": "code",
   "execution_count": null,
   "metadata": {},
   "outputs": [],
   "source": [
    "# Install and import dependencies\n",
    "\n",
    "!pip install -q arize\n",
    "from arize.pandas.logger import Client, Schema\n",
    "from arize.utils.types import ModelTypes, Environments, Metrics\n",
    "\n",
    "import pandas as pd\n",
    "import numpy as np\n",
    "import uuid\n",
    "\n",
    "import datetime\n",
    "from datetime import timedelta"
   ]
  },
  {
   "cell_type": "markdown",
   "metadata": {
    "id": "7C8bwEnXHHnx"
   },
   "source": [
    "### 🌐 Upload Data to Arize: Download Data\n",
    "Here are sample csv files that represent the <strong>training</strong> and <strong>production</strong> data of a model designed to evaluate the probability of a credit card transtion being fraud based on features such as `merchant_type`, `mean_amount`, `transaction_amount`, `entry_mode`, etc.\n"
   ]
  },
  {
   "cell_type": "code",
   "execution_count": null,
   "metadata": {},
   "outputs": [],
   "source": [
    "production = pd.read_csv(\n",
    "    \"https://storage.googleapis.com/arize-assets/fixtures/Tags-Demo-Data/credit_card_fraud_production.csv\",\n",
    ")\n",
    "train = pd.read_csv(\n",
    "    \"https://storage.googleapis.com/arize-assets/fixtures/Tags-Demo-Data/credit_card_fraud_training.csv\",\n",
    ")"
   ]
  },
  {
   "attachments": {},
   "cell_type": "markdown",
   "metadata": {
    "id": "oBK7Of-8_4qo"
   },
   "source": [
    "### 🤝 Upload Data to Arize: Create Arize Client\n",
    "Sign up/login to your Arize account <a href=\"https://app.arize.com/auth/login\">here</a>. Find your <a href=\"https://docs.arize.com/arize/api-reference/arize.pandas/client\">Space and API keys</a>. Copy/paste into the cell below."
   ]
  },
  {
   "cell_type": "code",
   "execution_count": null,
   "metadata": {},
   "outputs": [],
   "source": [
    "SPACE_ID = \"SPACE_ID\"  # update value here with your Space ID\n",
    "API_KEY = \"API_KEY\"  # update value here with your API key\n",
    "\n",
    "arize_client = Client(space_id=SPACE_ID, api_key=API_KEY)"
   ]
  },
  {
   "cell_type": "code",
   "execution_count": null,
   "metadata": {},
   "outputs": [],
   "source": [
    "if SPACE_ID == \"SPACE_ID\" or API_KEY == \"API_KEY\":\n",
    "    raise ValueError(\"❌ CHANGE SPACE_ID AND/OR API_KEY\")\n",
    "else:\n",
    "    print(\n",
    "        \"✅ Import and Setup Arize Client Done! Now we can start using Arize!\"\n",
    "    )"
   ]
  },
  {
   "cell_type": "markdown",
   "metadata": {
    "id": "DStaoUT0B5KZ"
   },
   "source": [
    "### 📋 Upload Data to Arize: Define Schema\n",
    "Create your <a href=\"https://docs.arize.com/arize/sending-data-to-arize/model-schema-reference\">model schema</a>. First, we'll define the features, shap values, and tags.  "
   ]
  },
  {
   "cell_type": "code",
   "execution_count": null,
   "metadata": {},
   "outputs": [],
   "source": [
    "feature_column_names = [\n",
    "    \"MERCHANT_TYPE\",\n",
    "    \"MERCHANT_ID\",\n",
    "    \"ENTRY_MODE\",\n",
    "    \"STATE\",\n",
    "    \"MEAN_AMOUNT\",\n",
    "    \"STD_AMOUNT\",\n",
    "    \"TX_AMOUNT\",\n",
    "    \"VISA_RISK_SCORE\",\n",
    "    \"MASTERCARD_RISK_SCORE\",\n",
    "    \"AMEX_RISK_SCORE\",\n",
    "]\n",
    "shap_column_names = [f\"{x}_shap\" for x in feature_column_names]\n",
    "tag_column_names = ['Dependents', 'Partner', 'EmploymentStatus', 'LocationCode', 'Education', 'Gender', 'Age']"
   ]
  },
  {
   "cell_type": "markdown",
   "metadata": {
    "id": "HVIZgl2oIHGt"
   },
   "source": [
    "### 🪵 Upload Data to Arize: Log Training Data\n",
    "Define the training schema and log the training data to Arize.\n",
    "\n"
   ]
  },
  {
   "cell_type": "code",
   "execution_count": null,
   "metadata": {},
   "outputs": [],
   "source": [
    "# Define a Schema() object for Arize to pick up data from the correct columns for logging\n",
    "training_schema = Schema(\n",
    "    prediction_id_column_name=\"prediction_id\",\n",
    "    prediction_label_column_name=\"PREDICTION\",\n",
    "    prediction_score_column_name=\"PREDICTION_SCORE\",\n",
    "    actual_label_column_name=\"ACTUAL\",\n",
    "    actual_score_column_name=\"ACTUAL_SCORE\",\n",
    "    feature_column_names= feature_column_names,\n",
    "    tag_column_names = tag_column_names\n",
    ")\n",
    "# Logging Training DataFrame\n",
    "training_response = arize_client.log(\n",
    "    dataframe=train,\n",
    "    model_id=\"fraud-detection-financial-services\",\n",
    "    model_version=\"1.0\",\n",
    "    model_type=ModelTypes.BINARY_CLASSIFICATION,\n",
    "    environment=Environments.TRAINING,\n",
    "    schema=training_schema,\n",
    ")"
   ]
  },
  {
   "attachments": {},
   "cell_type": "markdown",
   "metadata": {
    "id": "DRQdEXZDIvMo"
   },
   "source": [
    "### 🪵 Upload Data to Arize: Log Production Data\n",
    "Define the production schema and log the production data to Arize.\n"
   ]
  },
  {
   "cell_type": "code",
   "execution_count": null,
   "metadata": {},
   "outputs": [],
   "source": [
    "# changing dates for ease of visualization / to mimic recent produciton dataset\n",
    "END_DATE = datetime.date.today().strftime(\"%Y-%m-%d\")\n",
    "START_DATE = (datetime.date.today() - timedelta(31)).strftime(\"%Y-%m-%d\")\n",
    "\n",
    "\n",
    "def setPredictionIDandTime(df, start, end):\n",
    "    out_df = pd.DataFrame()\n",
    "    dts = pd.date_range(start, end).to_pydatetime().tolist()\n",
    "    for dt in dts:\n",
    "        day_df = df.loc[df[\"day\"] == dt.day].copy()\n",
    "        day_df[\"prediction_ts\"] = int(dt.strftime(\"%s\"))\n",
    "        out_df = pd.concat([out_df, day_df], ignore_index=True)\n",
    "    out_df[\"prediction_id\"] = [str(uuid.uuid4()) for _ in range(out_df.shape[0])]\n",
    "    return out_df.drop(columns=\"day\")\n",
    "\n",
    "\n",
    "production = setPredictionIDandTime(production, START_DATE, END_DATE)\n",
    "\n",
    "production_schema = Schema(\n",
    "    prediction_id_column_name=\"prediction_id\",\n",
    "    timestamp_column_name=\"prediction_ts\",\n",
    "    prediction_label_column_name=\"PREDICTION\",\n",
    "    prediction_score_column_name=\"PREDICTION_SCORE\",\n",
    "    actual_label_column_name=\"ACTUAL\",\n",
    "    actual_score_column_name=\"ACTUAL_SCORE\",\n",
    "    feature_column_names=feature_column_names,\n",
    "    shap_values_column_names=dict(zip(feature_column_names, shap_column_names)),\n",
    "    tag_column_names = tag_column_names,\n",
    ")\n",
    "\n",
    "production_response = arize_client.log(\n",
    "    dataframe=production,\n",
    "    model_id=\"fraud-detection-financial-services\",\n",
    "    model_version=\"1.0\",\n",
    "    model_type=ModelTypes.BINARY_CLASSIFICATION,\n",
    "    environment=Environments.PRODUCTION,\n",
    "    schema=production_schema,\n",
    ")"
   ]
  },
  {
   "cell_type": "markdown",
   "metadata": {
    "id": "uA7pfM3TO82m"
   },
   "source": [
    "## 🏃 Follow 'Success!' Link To Arize\n",
    "Once you've successfully logged your model to Arize, follow the link to setup monitors, uncover problem areas, and more!\n",
    "\n",
    "<strong>Note</strong>: It might take a few minutes for all the data to index in Arize, if you don't see all 5000 rows immedieatly, sit back and relax, data is on it's way!"
   ]
  },
  {
   "attachments": {},
   "cell_type": "markdown",
   "metadata": {
    "id": "qQ1Rd5MnPbLp"
   },
   "source": [
    "### 🔍 In Arize: Model Setup\n",
    "Now that we can see our model data in Arize, let's get our model setup with some basic configurations.\n",
    "* Navigate to the 'Config' tab. Select 'Fraud' as the positive class and set 'Accuracy' as the default metric.\n",
    "* Click 'Configure Baseline' and select 'Pre-Production'"
   ]
  },
  {
   "cell_type": "markdown",
   "metadata": {
    "id": "J6mHsnj_nuZv"
   },
   "source": [
    "<image src=\"https://storage.googleapis.com/arize-assets/fixtures/Industry_Use_Case/financial_services_fraud_setup.png\" width=800px>"
   ]
  },
  {
   "attachments": {},
   "cell_type": "markdown",
   "metadata": {
    "id": "cZAftwwXcUq-"
   },
   "source": [
    "### 🔍 In Arize: Monitor Setup\n",
    "\n",
    "Let's setup a monitor to get alerted when our model deviates from expected behavior.\n",
    "* Navigate to the 'Monitors' tab and click 'Enable' on the 'Accuracy' card. Since the consequences are severe when predicting cases that miss fraud, enable the 'False Negative Rate' card.\n",
    "\n",
    "Scroll through the list of other metrics and monitor types, enable a few that seem interesting!"
   ]
  },
  {
   "cell_type": "markdown",
   "metadata": {
    "id": "6zm_GOWknoQe"
   },
   "source": [
    "<image src=\"https://storage.googleapis.com/arize-assets/fixtures/Industry_Use_Case/financial_services_fraud_monitor.png\" width=800px>"
   ]
  },
  {
   "cell_type": "markdown",
   "metadata": {
    "id": "pOtKIRappGwN"
   },
   "source": [
    "### 📈 In Arize: Drift Tracing\n",
    "Now, let's take a look at the 'Drift Tracing' tabs to identify areas to improve and better understand the impact of each feature on our model performance. Since fraud models typically recieve delayed ground truth data, looking at model and feature drift helps identify model issues before you recieve performance information.\n",
    "\n",
    "Drift compares our current dataset against a baseline, in this case, our production data.\n",
    "\n",
    "* Navigate to the 'Drift Tracing' tab\n",
    "\n"
   ]
  },
  {
   "cell_type": "markdown",
   "metadata": {
    "id": "Hz7mCODerDzS"
   },
   "source": [
    "<image src=\"https://storage.googleapis.com/arize-assets/fixtures/Industry_Use_Case/financial_services_fraud_drift.png\" width=800px>"
   ]
  },
  {
   "cell_type": "markdown",
   "metadata": {
    "id": "3uWlliKZp0zE"
   },
   "source": [
    "### 📈 In Arize: Drift Tracing\n",
    "\n",
    "Notice the spike in drift, click on a datapoint on the graph to uncover more information about drift turing that time.\n",
    "\n",
    "* Scroll down to the 'Drift Breakdown' card, it looks like 'TX_AMOUNT' sgnifigantly contributes to the spike in drift\n",
    "* Click on 'TX_AMOUNT' to uncover more about the feature drift\n",
    "\n",
    "Within the feature 'TX_AMOUNT', the specific slice '140-222' has way more data in production than in training, this can indicate evolving trends and areas to focus on for feature engineering."
   ]
  },
  {
   "cell_type": "markdown",
   "metadata": {
    "id": "NcvLpindrHhX"
   },
   "source": [
    "<image src=\"https://storage.googleapis.com/arize-assets/fixtures/Industry_Use_Case/financial_services_fraud_inspect.png\" width=800px>"
   ]
  },
  {
   "cell_type": "markdown",
   "metadata": {
    "id": "XJVbp4KnseoJ"
   },
   "source": [
    "### 📈 In Arize: Performance Tracing\n",
    "\n",
    "Since our model has actuals (delayed ground truth) data, take a look at the 'Performance Tracing tab'.\n",
    "\n",
    "Arize will surface the features that negatively impact your prediction performance the most. Visualize how each component within a given feature impacts your model.\n",
    "\n",
    "* Navigate to the 'Performance Tracing' tab\n",
    "* Scroll down to the 'Performance Insights' card, click on the worst performing slices"
   ]
  },
  {
   "cell_type": "markdown",
   "metadata": {
    "id": "1Fui33sKP8Xl"
   },
   "source": [
    "## 🚀 Continue Exploring Arize\n",
    "This tutorial just scratches the surface of what Arize can do. Continue to explore the world of ML Observability with Arize to monitor, troubleshoot, and fine tune your models!\n",
    "\n",
    "<strong>Recommended Resources:</strong>\n",
    "* [Arize Community Slack](https://join.slack.com/t/arize-ai/shared_invite/zt-1is2wp3xv-SQgwwszCEeS06Sm1q4xFFw)\n",
    "* [Arize Documentation](https://docs.arize.com/arize/)\n",
    "* [ML Observability Course](https://courses.arize.com/)"
   ]
  }
 ],
 "metadata": {
  "language_info": {
   "name": "python"
  }
 },
 "nbformat": 4,
 "nbformat_minor": 0
}
