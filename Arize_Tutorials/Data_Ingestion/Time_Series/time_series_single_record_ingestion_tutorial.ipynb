{
 "cells": [
  {
   "cell_type": "markdown",
   "metadata": {
    "id": "Di-xzibZM-vA"
   },
   "source": [
    "<center><img src=\"https://storage.googleapis.com/arize-assets/arize-logo-white.jpg\" width=\"200\"/></center>\n",
    "\n",
    "# Single-Record Ingestion for Time Series\n",
    "\n",
    "This example walks through the Arize single-record API for ingesting time series data. Guides for all model types are available [here](https://docs.arize.com/arize/sending-data-to-arize/model-types)."
   ]
  },
  {
   "cell_type": "markdown",
   "metadata": {
    "id": "0i0EZDtYM-vB"
   },
   "source": [
    "## Install and Import Dependencies"
   ]
  },
  {
   "cell_type": "code",
   "execution_count": null,
   "metadata": {},
   "outputs": [],
   "source": [
    "!pip install -q arize\n",
    "\n",
    "import json\n",
    "import urllib\n",
    "\n",
    "from arize.api import Client\n",
    "from arize.utils.types import ModelTypes, Environments"
   ]
  },
  {
   "cell_type": "markdown",
   "metadata": {
    "id": "_SrZ64v2M-vC"
   },
   "source": [
    "## Download and Display Data"
   ]
  },
  {
   "cell_type": "code",
   "execution_count": null,
   "metadata": {},
   "outputs": [],
   "source": [
    "with urllib.request.urlopen(\n",
    "    \"https://storage.googleapis.com/arize-assets/documentation-sample-data/data-ingestion/time-series-assets/time_series_single_record.json?raw=true\"\n",
    ") as f:\n",
    "    record = json.load(f)\n",
    "print(json.dumps(record, indent=4))"
   ]
  },
  {
   "attachments": {},
   "cell_type": "markdown",
   "metadata": {
    "id": "2r5eky7ZM-vD"
   },
   "source": [
    "## Create Arize Client\n",
    "\n",
    "Sign up/ log in to your Arize account [here](https://app.arize.com/auth/login). Find your [space ID and API key](https://docs.arize.com/arize/api-reference/arize.log/client). Copy/paste into the cell below."
   ]
  },
  {
   "cell_type": "code",
   "execution_count": null,
   "metadata": {},
   "outputs": [],
   "source": [
    "SPACE_ID = \"SPACE_ID\"  # Change this line.\n",
    "API_KEY = \"API_KEY\"  # Change this line.\n",
    "arize_client = Client(space_id=SPACE_ID, api_key=API_KEY)\n",
    "if SPACE_ID == \"SPACE_ID\" or API_KEY == \"API_KEY\":\n",
    "    raise ValueError(\"❌ CHANGE SPACE_ID AND/OR API_KEY\")\n",
    "else:\n",
    "    print(\"✅ Arize client setup done! Now you can start using Arize!\")"
   ]
  },
  {
   "cell_type": "markdown",
   "metadata": {
    "id": "9lv-jCs8M-vE"
   },
   "source": [
    "## Log Data to Arize\n",
    "\n",
    "Log the record using the [single-record API](https://docs.arize.com/arize/sending-data-to-arize/data-ingestion-methods/sdk-reference/python-sdk/arize.log). In Arize, time series models are a subset of the [regression model type](https://docs.arize.com/arize/model-types/regression) and are characterized by three fields:\n",
    "- The _forecast timestamp_ describes the date and time of the predicted event or observation and is passed into the timestamp field.\n",
    "- The _run date_ describes the date on which the model was run and the prediction was generated and is optionally passed in as a tag.\n",
    "- The _lag_ describes the number of days between the forecast timestamp and run date and is optionally passed in as a tag.\n",
    "\n",
    "For example, if you run a model on Monday to predict the temperature on Friday, the run date would be Monday's date, the forecast timestamp would be a timestamp for a time on Friday and the lag would be four days."
   ]
  },
  {
   "cell_type": "code",
   "execution_count": null,
   "metadata": {},
   "outputs": [],
   "source": [
    "future = arize_client.log(\n",
    "    prediction_id=record[\"prediction_id\"],\n",
    "    prediction_timestamp=record[\"forecast_ts\"],\n",
    "    features=record[\"features\"],\n",
    "    prediction_label=record[\"predicted_thermal\"],\n",
    "    actual_label=record[\"reported_thermal\"],\n",
    "    model_id=\"time-series-single-record-ingestion-tutorial\",\n",
    "    model_type=ModelTypes.REGRESSION,\n",
    "    model_version=\"1.0.0\",\n",
    "    environment=Environments.PRODUCTION,\n",
    "    tags=record[\"tags\"],\n",
    ")\n",
    "result = future.result()\n",
    "\n",
    "if result.status_code == 200:\n",
    "    print(\"✅ Successfully logged data to Arize!\")\n",
    "else:\n",
    "    print(\n",
    "        f'❌ Logging failed with status code {result.status_code} and message \"{result.text}\"'\n",
    "    )"
   ]
  }
 ],
 "metadata": {
  "language_info": {
   "name": "python"
  }
 },
 "nbformat": 4,
 "nbformat_minor": 1
}
