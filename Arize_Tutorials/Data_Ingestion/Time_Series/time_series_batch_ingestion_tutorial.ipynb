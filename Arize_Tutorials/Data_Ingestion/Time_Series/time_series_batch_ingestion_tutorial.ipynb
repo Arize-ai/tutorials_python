{
 "cells": [
  {
   "cell_type": "markdown",
   "metadata": {
    "id": "Di-xzibZM-vA"
   },
   "source": [
    "<center><img src=\"https://storage.googleapis.com/arize-assets/arize-logo-white.jpg\" width=\"200\"/></center>\n",
    "\n",
    "# Batch Ingestion for Time Series\n",
    "\n",
    "This example walks through the Arize `pandas` batch SDK for ingesting time series data. Guides for all model types are available [here](https://docs.arize.com/arize/sending-data-to-arize/model-types)."
   ]
  },
  {
   "cell_type": "markdown",
   "metadata": {
    "id": "0i0EZDtYM-vB"
   },
   "source": [
    "## Install and Import Dependencies"
   ]
  },
  {
   "cell_type": "code",
   "execution_count": null,
   "metadata": {},
   "outputs": [],
   "source": [
    "!pip install -q arize\n",
    "\n",
    "import datetime\n",
    "\n",
    "from arize.pandas.logger import Client, Schema\n",
    "from arize.utils.types import ModelTypes, Environments, Metrics\n",
    "import numpy as np\n",
    "import pandas as pd"
   ]
  },
  {
   "cell_type": "markdown",
   "metadata": {
    "id": "_SrZ64v2M-vC"
   },
   "source": [
    "## Download and Display Data"
   ]
  },
  {
   "cell_type": "code",
   "execution_count": null,
   "metadata": {},
   "outputs": [],
   "source": [
    "df = pd.read_csv(\n",
    "    \"https://storage.googleapis.com/arize-assets/documentation-sample-data/data-ingestion/time-series-assets/time_series_data.csv?raw=true\",\n",
    "    index_col=False,\n",
    ")\n",
    "df.head()"
   ]
  },
  {
   "cell_type": "markdown",
   "metadata": {},
   "source": [
    "## Add Forecast Timestamp, Run Date and Lag\n",
    "\n",
    "In Arize, time series models are a subset of the [regression model type](https://docs.arize.com/arize/model-types/regression) and are characterized by three fields:\n",
    "- The _forecast timestamp_ describes the date and time of the predicted event or observation and is passed into the timestamp field.\n",
    "- The _run date_ describes the date on which the model was run and the prediction was generated and is optionally passed in as a tag.\n",
    "- The _lag_ describes the number of days between the forecast timestamp and run date and is optionally passed in as a tag.\n",
    "\n",
    "For example, if you run a model on Monday to predict the temperature on Friday, the run date would be Monday's date, the forecast timestamp would be a timestamp for a time on Friday and the lag would be four days.\n",
    "\n",
    "The following cell distributes the forecast timestamps evenly across the past month and assumes the model generating the predictions was run one month ago."
   ]
  },
  {
   "cell_type": "code",
   "execution_count": null,
   "metadata": {},
   "outputs": [],
   "source": [
    "num_samples = df.shape[0]\n",
    "current_datetime = datetime.datetime.now()\n",
    "run_datetime = current_datetime - datetime.timedelta(days=30)\n",
    "run_datetime = datetime.datetime(\n",
    "    run_datetime.year, run_datetime.month, run_datetime.day\n",
    ")  # Format run datetime\n",
    "forecast_timestamps = np.linspace(\n",
    "    run_datetime.timestamp(), current_datetime.timestamp(), num_samples\n",
    ").astype(int)\n",
    "forecast_datetimes = [\n",
    "    datetime.datetime.fromtimestamp(ts) for ts in forecast_timestamps\n",
    "]  # Format forecast datetime\n",
    "num_lag_days = [\n",
    "    (dt - run_datetime).days for dt in forecast_datetimes\n",
    "]  # Calculate lag\n",
    "\n",
    "df.insert(1, \"forecast_ts\", forecast_timestamps)\n",
    "df.insert(2, \"run_date\", run_datetime.strftime(\"%Y-%m-%d\"))\n",
    "df.insert(3, \"lag\", num_lag_days)\n",
    "df[[\"forecast_ts\", \"run_date\", \"lag\"]]"
   ]
  },
  {
   "attachments": {},
   "cell_type": "markdown",
   "metadata": {
    "id": "2r5eky7ZM-vD"
   },
   "source": [
    "## Create Arize Client\n",
    "\n",
    "Sign up/log in to your Arize account [here](https://app.arize.com/auth/login). Find your [space ID and API key](https://docs.arize.com/arize/api-reference/arize.pandas/client). Copy/paste into the cell below."
   ]
  },
  {
   "cell_type": "code",
   "execution_count": null,
   "metadata": {},
   "outputs": [],
   "source": [
    "SPACE_ID = \"SPACE_ID\"  # Change this line.\n",
    "API_KEY = \"API_KEY\"  # Change this line.\n",
    "arize_client = Client(space_id=SPACE_ID, api_key=API_KEY)\n",
    "if SPACE_ID == \"SPACE_ID\" or API_KEY == \"API_KEY\":\n",
    "    raise ValueError(\"❌ CHANGE SPACE_ID AND/OR API_KEY\")\n",
    "else:\n",
    "    print(\"✅ Arize client setup done! Now you can start using Arize!\")"
   ]
  },
  {
   "cell_type": "markdown",
   "metadata": {
    "id": "imDLm1gbM-vD"
   },
   "source": [
    "## Define Schema\n",
    "\n",
    "Create your [model schema](https://docs.arize.com/arize/sending-data-to-arize/model-schema-reference)."
   ]
  },
  {
   "cell_type": "code",
   "execution_count": null,
   "metadata": {},
   "outputs": [],
   "source": [
    "feature_column_names = list(df.columns[4:-2])\n",
    "schema = Schema(\n",
    "    prediction_id_column_name=\"prediction_id\",\n",
    "    feature_column_names=feature_column_names,\n",
    "    timestamp_column_name=\"forecast_ts\",\n",
    "    prediction_label_column_name=\"predicted_thermal\",\n",
    "    actual_label_column_name=\"reported_thermal\",\n",
    "    tag_column_names=[\n",
    "        \"run_date\",\n",
    "        \"lag\",\n",
    "    ],\n",
    ")"
   ]
  },
  {
   "cell_type": "markdown",
   "metadata": {
    "id": "9lv-jCs8M-vE"
   },
   "source": [
    "## Log Data to Arize\n",
    "\n",
    "Log the DataFrame using the [pandas API](https://docs.arize.com/arize/sending-data-to-arize/data-ingestion-methods/sdk-reference/python-sdk/arize.pandas)."
   ]
  },
  {
   "cell_type": "code",
   "execution_count": null,
   "metadata": {},
   "outputs": [],
   "source": [
    "response = arize_client.log(\n",
    "    dataframe=df,\n",
    "    schema=schema,\n",
    "    model_id=\"time-series-batch-ingestion-tutorial\",\n",
    "    model_version=\"1.0.0\",\n",
    "    model_type=ModelTypes.REGRESSION,\n",
    "    metrics_validation=[Metrics.REGRESSION],\n",
    "    validate=True,\n",
    "    environment=Environments.PRODUCTION,\n",
    ")\n",
    "\n",
    "if response.status_code == 200:\n",
    "    print(\"✅ Successfully logged data to Arize!\")\n",
    "else:\n",
    "    print(\n",
    "        f'❌ Logging failed with status code {response.status_code} and message \"{response.text}\"'\n",
    "    )"
   ]
  }
 ],
 "metadata": {
  "language_info": {
   "name": "python"
  }
 },
 "nbformat": 4,
 "nbformat_minor": 1
}
