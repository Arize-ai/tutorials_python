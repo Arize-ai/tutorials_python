{
 "cells": [
  {
   "cell_type": "markdown",
   "metadata": {
    "id": "Di-xzibZM-vA"
   },
   "source": [
    "<center><img src=\"https://storage.googleapis.com/arize-assets/arize-logo-white.jpg\" width=\"200\"/></center>\n",
    "\n",
    "# Batch Ingestion for Time Series\n",
    "\n",
    "This example walks through the Arize `pandas` batch SDK for ingesting time series data. Guides for all model types are available [here](https://docs.arize.com/arize/sending-data-to-arize/model-types)."
   ]
  },
  {
   "cell_type": "markdown",
   "metadata": {
    "id": "0i0EZDtYM-vB"
   },
   "source": [
    "## Install and Import Dependencies"
   ]
  },
  {
   "cell_type": "code",
   "execution_count": null,
   "metadata": {
    "id": "-M9Bc89DM-vC"
   },
   "outputs": [],
   "source": [
    "!pip install -q arize\n",
    "\n",
    "import datetime\n",
    "\n",
    "from arize.pandas.logger import Client\n",
    "from arize.utils.types import ModelTypes, Environments, Schema\n",
    "import numpy as np\n",
    "import pandas as pd"
   ]
  },
  {
   "cell_type": "markdown",
   "metadata": {
    "id": "_SrZ64v2M-vC"
   },
   "source": [
    "## Download and Display Data"
   ]
  },
  {
   "cell_type": "code",
   "execution_count": null,
   "metadata": {
    "id": "-kx2lUBtM-vD",
    "scrolled": true
   },
   "outputs": [],
   "source": [
    "df = pd.read_csv(\n",
    "    \"https://storage.googleapis.com/arize-assets/documentation-sample-data/data-ingestion/time-series-assets/time_series_data.csv?raw=true\",\n",
    "    index_col=False,\n",
    ")\n",
    "df.head()"
   ]
  },
  {
   "cell_type": "markdown",
   "metadata": {},
   "source": [
    "## Add Forecast Timestamp, Run Date and Lag\n",
    "\n",
    "In Arize, time series models are a subset of the [regression model type](https://docs.arize.com/arize/model-types/regression) and are characterized by three fields:\n",
    "- The _forecast timestamp_ describes the date and time of the predicted event or observation and is passed into the timestamp field.\n",
    "- The _run date_ describes the date on which the model was run and the prediction was generated and is optionally passed in as a tag.\n",
    "- The _lag_ describes the number of days between the forecast timestamp and run date and is optionally passed in as a tag.\n",
    "\n",
    "For example, if you run a model on Monday to predict the temperature on Friday, the run date would be Monday's date, the forecast timestamp would be a timestamp for a time on Friday and the lag would be four days.\n",
    "\n",
    "The following cell distributes the forecast timestamps evenly across the past month and assumes the model generating the predictions was run one month ago."
   ]
  },
  {
   "cell_type": "code",
   "execution_count": null,
   "metadata": {},
   "outputs": [],
   "source": [
    "num_samples = df.shape[0]\n",
    "current_datetime = datetime.datetime.now()\n",
    "run_datetime = current_datetime - datetime.timedelta(days=30)\n",
    "run_datetime = datetime.datetime(run_datetime.year, run_datetime.month, run_datetime.day)  # Format run datetime\n",
    "forecast_timestamps = np.linspace(run_datetime.timestamp(), current_datetime.timestamp(), num_samples).astype(int)\n",
    "forecast_datetimes = [datetime.datetime.fromtimestamp(ts) for ts in forecast_timestamps]  # Format forecast datetime\n",
    "num_lag_days = [(dt - run_datetime).days for dt in forecast_datetimes] # Calculate lag\n",
    "\n",
    "df.insert(1, \"forecast_ts\", forecast_timestamps)\n",
    "df.insert(2, \"run_date\", run_datetime.strftime(\"%Y-%m-%d\"))\n",
    "df.insert(3, \"lag\", num_lag_days)\n",
    "df[[\"forecast_ts\", \"run_date\", \"lag\"]]"
   ]
  },
  {
   "cell_type": "markdown",
   "metadata": {
    "id": "2r5eky7ZM-vD"
   },
   "source": [
    "## Create Arize Client\n",
    "\n",
    "Sign up/log in to your Arize account [here](https://app.arize.com/auth/login). Find your [space and API keys](https://docs.arize.com/arize/sending-data/sdk-reference/python-sdk/arize.init#retrieving-space-and-api-keys). Copy/paste into the cell below."
   ]
  },
  {
   "cell_type": "code",
   "execution_count": null,
   "metadata": {
    "id": "8Z_oS9U5M-vD"
   },
   "outputs": [],
   "source": [
    "SPACE_KEY = \"SPACE_KEY\"  # Change this line.\n",
    "API_KEY = \"API_KEY\"  # Change this line.\n",
    "arize_client = Client(space_key=SPACE_KEY, api_key=API_KEY)\n",
    "if SPACE_KEY == \"SPACE_KEY\" or API_KEY == \"API_KEY\":\n",
    "    raise ValueError(\"❌ CHANGE SPACE AND API KEYS\")\n",
    "else:\n",
    "    print(\"✅ Arize client setup done! Now you can start using Arize!\")"
   ]
  },
  {
   "cell_type": "markdown",
   "metadata": {
    "id": "imDLm1gbM-vD"
   },
   "source": [
    "## Define Schema\n",
    "\n",
    "Create your [model schema](https://docs.arize.com/arize/sending-data-to-arize/model-schema-reference)."
   ]
  },
  {
   "cell_type": "code",
   "execution_count": null,
   "metadata": {
    "id": "2Epb5Yz0M-vD"
   },
   "outputs": [],
   "source": [
    "feature_column_names = list(df.columns[4:-2])\n",
    "schema = Schema(\n",
    "    prediction_id_column_name=\"prediction_id\",\n",
    "    feature_column_names=feature_column_names,\n",
    "    timestamp_column_name=\"forecast_ts\",\n",
    "    prediction_label_column_name=\"predicted_thermal\",\n",
    "    actual_label_column_name=\"reported_thermal\",\n",
    "    tag_column_names=[\n",
    "        \"run_date\",\n",
    "        \"lag\",\n",
    "    ],\n",
    ")"
   ]
  },
  {
   "cell_type": "markdown",
   "metadata": {
    "id": "9lv-jCs8M-vE"
   },
   "source": [
    "## Log Data to Arize\n",
    "\n",
    "Log the DataFrame using the [pandas API](https://docs.arize.com/arize/sending-data-to-arize/data-ingestion-methods/sdk-reference/python-sdk/arize.pandas)."
   ]
  },
  {
   "cell_type": "code",
   "execution_count": null,
   "metadata": {
    "id": "DocudZhaM-vE"
   },
   "outputs": [],
   "source": [
    "response = arize_client.log(\n",
    "    dataframe=df,\n",
    "    schema=schema,\n",
    "    model_id=\"time-series-batch-ingestion-tutorial\",\n",
    "    model_version=\"1.0.0\",\n",
    "    model_type=ModelTypes.NUMERIC,\n",
    "    environment=Environments.PRODUCTION,\n",
    ")\n",
    "\n",
    "if response.status_code == 200:\n",
    "    print(f\"✅ Successfully logged data to Arize!\")\n",
    "else:\n",
    "    print(f'❌ Logging failed with status code {response.status_code} and message \"{response.text}\"')"
   ]
  }
 ],
 "metadata": {
  "colab": {
   "collapsed_sections": [],
   "provenance": []
  },
  "kernelspec": {
   "display_name": "Python 3 (ipykernel)",
   "language": "python",
   "name": "python3"
  },
  "language_info": {
   "codemirror_mode": {
    "name": "ipython",
    "version": 3
   },
   "file_extension": ".py",
   "mimetype": "text/x-python",
   "name": "python",
   "nbconvert_exporter": "python",
   "pygments_lexer": "ipython3",
   "version": "3.10.8"
  }
 },
 "nbformat": 4,
 "nbformat_minor": 1
}
