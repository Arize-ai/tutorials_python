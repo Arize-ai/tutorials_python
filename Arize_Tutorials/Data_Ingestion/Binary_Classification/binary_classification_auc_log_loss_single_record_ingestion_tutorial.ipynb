{
 "cells": [
  {
   "cell_type": "markdown",
   "metadata": {
    "id": "Di-xzibZM-vA"
   },
   "source": [
    "<center><img src=\"https://storage.googleapis.com/arize-assets/arize-logo-white.jpg\" width=\"200\"/></center>\n",
    "\n",
    "# Single-Record Ingestion for Binary Classification (Classification, AUC and Log Loss Metrics)\n",
    "\n",
    "This example walks through the Arize single-record API for [ingesting binary classification data with support for classification, AUC and log loss metrics](https://docs.arize.com/arize/model-types/binary-classification#case-2-supports-classification-and-auc-log-loss-metrics). Guides for other model types are available [here](https://docs.arize.com/arize/sending-data-to-arize/model-types)."
   ]
  },
  {
   "cell_type": "markdown",
   "metadata": {
    "id": "0i0EZDtYM-vB"
   },
   "source": [
    "## Install and Import Dependencies"
   ]
  },
  {
   "cell_type": "code",
   "execution_count": null,
   "metadata": {},
   "outputs": [],
   "source": [
    "!pip install -q arize\n",
    "\n",
    "import concurrent.futures as cf\n",
    "import json\n",
    "import urllib\n",
    "\n",
    "from arize.api import Client\n",
    "from arize.utils.types import ModelTypes, Environments, Schema"
   ]
  },
  {
   "cell_type": "markdown",
   "metadata": {
    "id": "_SrZ64v2M-vC"
   },
   "source": [
    "## Download and Display Data\n",
    "\n",
    "Note that predicted labels, actual labels and predicted scores are present, but actual scores are removed."
   ]
  },
  {
   "cell_type": "code",
   "execution_count": null,
   "metadata": {},
   "outputs": [],
   "source": [
    "with urllib.request.urlopen(\n",
    "    \"https://storage.googleapis.com/arize-assets/documentation-sample-data/data-ingestion/binary-classification-assets/binary_classification_single_record.json?raw=true\"\n",
    ") as f:\n",
    "    record = json.load(f)\n",
    "record.pop(\"actual_score\")\n",
    "print(json.dumps(record, indent=4))"
   ]
  },
  {
   "cell_type": "markdown",
   "metadata": {
    "id": "2r5eky7ZM-vD"
   },
   "source": [
    "## Create Arize Client\n",
    "\n",
    "Sign up/ log in to your Arize account [here](https://app.arize.com/auth/login). Find your [space and API keys](https://docs.arize.com/arize/sending-data/sdk-reference/python-sdk/arize.init#retrieving-space-and-api-keys). Copy/paste into the cell below."
   ]
  },
  {
   "cell_type": "code",
   "execution_count": null,
   "metadata": {},
   "outputs": [],
   "source": [
    "SPACE_KEY = \"SPACE_KEY\"  # Change this line.\n",
    "API_KEY = \"API_KEY\"  # Change this line.\n",
    "arize_client = Client(space_key=SPACE_KEY, api_key=API_KEY)\n",
    "if SPACE_KEY == \"SPACE_KEY\" or API_KEY == \"API_KEY\":\n",
    "    raise ValueError(\"❌ CHANGE SPACE AND API KEYS\")\n",
    "else:\n",
    "    print(\"✅ Arize client setup done! Now you can start using Arize!\")"
   ]
  },
  {
   "cell_type": "markdown",
   "metadata": {
    "id": "9lv-jCs8M-vE"
   },
   "source": [
    "## Log Data to Arize\n",
    "\n",
    "Log the record using the [single-record API](https://docs.arize.com/arize/sending-data-to-arize/data-ingestion-methods/sdk-reference/python-sdk/arize.log)."
   ]
  },
  {
   "cell_type": "code",
   "execution_count": null,
   "metadata": {},
   "outputs": [],
   "source": [
    "future = arize_client.log(\n",
    "    prediction_id=record[\"prediction_id\"],\n",
    "    features=record[\"features\"],\n",
    "    prediction_label=(record[\"predicted_label\"], record[\"predicted_score\"]),\n",
    "    actual_label=record[\"actual_label\"],\n",
    "    model_id=\"binary-classification-auc-log-loss-single-record-ingestion-tutorial\",\n",
    "    model_type=ModelTypes.BINARY_CLASSIFICATION,\n",
    "    model_version=\"1.0.0\",\n",
    "    environment=Environments.PRODUCTION\n",
    ")\n",
    "result = future.result()\n",
    "\n",
    "if result.status_code == 200:\n",
    "    print(f\"✅ Successfully logged data to Arize!\")\n",
    "else:\n",
    "    print(\n",
    "        f'❌ Logging failed with status code {result.status_code} and message \"{result.text}\"'\n",
    "    )"
   ]
  }
 ],
 "metadata": {
  "language_info": {
   "name": "python"
  }
 },
 "nbformat": 4,
 "nbformat_minor": 1
}
