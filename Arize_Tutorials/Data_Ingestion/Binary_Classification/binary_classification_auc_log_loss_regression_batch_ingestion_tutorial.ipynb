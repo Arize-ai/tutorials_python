{
 "cells": [
  {
   "cell_type": "markdown",
   "metadata": {
    "id": "Di-xzibZM-vA"
   },
   "source": [
    "<center><img src=\"https://storage.googleapis.com/arize-assets/arize-logo-white.jpg\" width=\"200\"/></center>\n",
    "\n",
    "# Batch Ingestion for Binary Classification (Classification, AUC, Log Loss and Regression Metrics)\n",
    "\n",
    "This example walks through the Arize `pandas` batch SDK for [ingesting binary classification data with support for classification, AUC, log loss and regression metrics](https://docs.arize.com/arize/sending-data-to-arize/model-types/binary-classification/binary-classification-complete). Guides for other model types are available [here](https://docs.arize.com/arize/sending-data-to-arize/model-types)."
   ]
  },
  {
   "cell_type": "markdown",
   "metadata": {
    "id": "0i0EZDtYM-vB"
   },
   "source": [
    "## Install and Import Dependencies"
   ]
  },
  {
   "cell_type": "code",
   "execution_count": null,
   "metadata": {
    "id": "-M9Bc89DM-vC"
   },
   "outputs": [],
   "source": [
    "!pip install -q arize\n",
    "\n",
    "import datetime\n",
    "\n",
    "from arize.pandas.logger import Client\n",
    "from arize.utils.types import ModelTypes, Environments, Schema\n",
    "import numpy as np\n",
    "import pandas as pd"
   ]
  },
  {
   "cell_type": "markdown",
   "metadata": {
    "id": "_SrZ64v2M-vC"
   },
   "source": [
    "## Download and Display Data\n",
    "\n",
    "Note the presence of predicted labels, predicted scores, actual labels and actual scores (in this case, actual scores assume binary values, 1 for the positive class and 0 for the negative class). All four are required to compute the full suite of classification, AUC, log loss and regression metrics."
   ]
  },
  {
   "cell_type": "code",
   "execution_count": null,
   "metadata": {
    "id": "-kx2lUBtM-vD"
   },
   "outputs": [],
   "source": [
    "df = pd.read_csv(\n",
    "    \"https://storage.googleapis.com/arize-assets/documentation-sample-data/data-ingestion/binary-classification-assets/binary_classification_data.csv?raw=true\",\n",
    "    index_col=False,\n",
    ")\n",
    "feature_column_names = df.columns[1:-4]\n",
    "df.head()"
   ]
  },
  {
   "cell_type": "markdown",
   "metadata": {},
   "source": [
    "## Add Timestamps for Predictions\n",
    "\n",
    "Generate sample timestamps for each prediction. More information on timestamps in Arize can be found [here](https://docs.arize.com/arize/sending-data-to-arize/model-schema-reference/timestamp)."
   ]
  },
  {
   "cell_type": "code",
   "execution_count": null,
   "metadata": {},
   "outputs": [],
   "source": [
    "current_time = datetime.datetime.now().timestamp()\n",
    "\n",
    "earlier_time = (\n",
    "    datetime.datetime.now() - datetime.timedelta(days=30)\n",
    ").timestamp()\n",
    "\n",
    "optional_prediction_timestamps = np.linspace(\n",
    "    earlier_time, current_time, num=df.shape[0]\n",
    ")\n",
    "\n",
    "df.insert(1, \"prediction_ts\", optional_prediction_timestamps.astype(int))\n",
    "df[[\"prediction_ts\"]].head()"
   ]
  },
  {
   "cell_type": "markdown",
   "metadata": {
    "id": "2r5eky7ZM-vD"
   },
   "source": [
    "## Create Arize Client\n",
    "\n",
    "Sign up/ log in to your Arize account [here](https://app.arize.com/auth/login). Find your [space and API keys](https://docs.arize.com/arize/product-guides/sending-data). Copy/paste into the cell below."
   ]
  },
  {
   "cell_type": "code",
   "execution_count": null,
   "metadata": {
    "id": "8Z_oS9U5M-vD"
   },
   "outputs": [],
   "source": [
    "SPACE_KEY = \"SPACE_KEY\"  # Change this line.\n",
    "API_KEY = \"API_KEY\"  # Change this line.\n",
    "arize_client = Client(space_key=SPACE_KEY, api_key=API_KEY)\n",
    "if SPACE_KEY == \"SPACE_KEY\" or API_KEY == \"API_KEY\":\n",
    "    raise ValueError(\"❌ CHANGE SPACE AND API KEYS\")\n",
    "else:\n",
    "    print(\"✅ Arize client setup done! Now you can start using Arize!\")"
   ]
  },
  {
   "cell_type": "markdown",
   "metadata": {
    "id": "imDLm1gbM-vD"
   },
   "source": [
    "## Define Schema\n",
    "\n",
    "Create your [model schema](https://docs.arize.com/arize/sending-data-to-arize/model-schema-reference)."
   ]
  },
  {
   "cell_type": "code",
   "execution_count": null,
   "metadata": {
    "id": "2Epb5Yz0M-vD"
   },
   "outputs": [],
   "source": [
    "schema = Schema(\n",
    "    prediction_id_column_name=\"prediction_id\",\n",
    "    timestamp_column_name=\"prediction_ts\",\n",
    "    prediction_label_column_name=\"predicted_label\",\n",
    "    prediction_score_column_name=\"predicted_score\",\n",
    "    actual_label_column_name=\"actual_label\",\n",
    "    actual_score_column_name=\"actual_score\",\n",
    "    feature_column_names=feature_column_names,\n",
    ")"
   ]
  },
  {
   "cell_type": "markdown",
   "metadata": {
    "id": "9lv-jCs8M-vE"
   },
   "source": [
    "## Log Data to Arize\n",
    "\n",
    "Log the DataFrame using the [pandas API](https://docs.arize.com/arize/sending-data-to-arize/data-ingestion-methods/sdk-reference/python-sdk/arize.pandas)."
   ]
  },
  {
   "cell_type": "code",
   "execution_count": null,
   "metadata": {
    "id": "DocudZhaM-vE"
   },
   "outputs": [],
   "source": [
    "response = arize_client.log(\n",
    "    dataframe=df,\n",
    "    schema=schema,\n",
    "    model_id=\"binary-classification-auc-log-loss-regression-batch-ingestion-tutorial\",\n",
    "    model_version=\"1.0.0\",\n",
    "    model_type=ModelTypes.SCORE_CATEGORICAL,\n",
    "    environment=Environments.PRODUCTION,\n",
    ")\n",
    "\n",
    "if response.status_code == 200:\n",
    "    print(f\"✅ Successfully logged data to Arize!\")\n",
    "else:\n",
    "    print(\n",
    "        f'❌ Logging failed with status code {response.status_code} and message \"{response.text}\"'\n",
    "    )"
   ]
  }
 ],
 "metadata": {
  "colab": {
   "collapsed_sections": [],
   "provenance": []
  },
  "kernelspec": {
   "display_name": "Python 3 (ipykernel)",
   "language": "python",
   "name": "python3"
  },
  "language_info": {
   "codemirror_mode": {
    "name": "ipython",
    "version": 3
   },
   "file_extension": ".py",
   "mimetype": "text/x-python",
   "name": "python",
   "nbconvert_exporter": "python",
   "pygments_lexer": "ipython3",
   "version": "3.10.8"
  }
 },
 "nbformat": 4,
 "nbformat_minor": 1
}
