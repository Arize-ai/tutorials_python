{
 "cells": [
  {
   "cell_type": "markdown",
   "metadata": {
    "id": "WsfHDvrtmsEa"
   },
   "source": [
    "<center><img src=\"https://storage.googleapis.com/arize-assets/arize-logo-white.jpg\" width=\"200\"/></center>\n",
    "\n",
    "# Data Upload Quickstart (Python Pandas SDK)\n",
    "\n",
    "This example walks through the Arize `pandas` batch SDK for easily sending an example [SciKit Learn](https://scikit-learn.org/stable/modules/generated/sklearn.datasets.load_breast_cancer.html#sklearn.datasets.load_breast_cancer)\n",
    "dataset to Arize. \n",
    "\n",
    "Guides for other model types are available [here](https://docs.arize.com/arize/sending-data-to-arize/model-types)."
   ]
  },
  {
   "cell_type": "markdown",
   "metadata": {
    "id": "9Uiv3_yDnR-F"
   },
   "source": [
    "## Install and Import Dependencies"
   ]
  },
  {
   "cell_type": "code",
   "execution_count": null,
   "metadata": {},
   "outputs": [],
   "source": [
    "!pip install -q arize\n",
    "\n",
    "from arize.pandas.logger import Client, Schema\n",
    "from arize.utils.types import ModelTypes, Environments, Schema, Metrics\n",
    "import pandas as pd"
   ]
  },
  {
   "cell_type": "markdown",
   "metadata": {
    "id": "Szwlx7Cpnh2j"
   },
   "source": [
    "## 👇  Download & Display Data\n",
    "\n",
    "Download the `load_breast_cancer` dataset, assign the dataset to a variable, and preview the data to better understand what we're working with"
   ]
  },
  {
   "cell_type": "code",
   "execution_count": null,
   "metadata": {},
   "outputs": [],
   "source": [
    "from sklearn.datasets import load_breast_cancer\n",
    "\n",
    "breast_cancer_dataset = load_breast_cancer()\n",
    "breast_cancer_dataset"
   ]
  },
  {
   "attachments": {},
   "cell_type": "markdown",
   "metadata": {
    "id": "o5JJ-dLyoSdc"
   },
   "source": [
    "## ⚒️ Extract Features, Predictions, and Actuals\n",
    "\n",
    "The dataset contains all the information we need to create a Pandas dataframe, extract:\n",
    "\n",
    "*   Feature data: The values of each feature\n",
    "*   Feature names: The corresponding names of each feature\n",
    "*   Actual data: A numerical representation of ground truth data\n",
    "*   Actual labels: The corresponding labels associated with actual data"
   ]
  },
  {
   "cell_type": "code",
   "execution_count": null,
   "metadata": {},
   "outputs": [],
   "source": [
    "breast_cancer_features = breast_cancer_dataset[\"data\"]  # feature data\n",
    "breast_cancer_feature_names = breast_cancer_dataset[\n",
    "    \"feature_names\"\n",
    "]  # feature names\n",
    "breast_cancer_targets = breast_cancer_dataset[\"target\"]  # target data\n",
    "breast_cancer_target_names = breast_cancer_dataset[\n",
    "    \"target_names\"\n",
    "]  # target names"
   ]
  },
  {
   "cell_type": "markdown",
   "metadata": {
    "id": "Y7R-qvsZo9au"
   },
   "source": [
    "## 🪢 Assign Actual Labels\n",
    "\n",
    "Assign `breast_cancer_taget_names` to their corresponding `breast_cancer_targets` to use as a human-comprehensible list of actual labels. "
   ]
  },
  {
   "cell_type": "code",
   "execution_count": null,
   "metadata": {},
   "outputs": [],
   "source": [
    "target_name_transcription = []\n",
    "\n",
    "for i in breast_cancer_targets:\n",
    "    target_name_transcription.append(breast_cancer_target_names[i])"
   ]
  },
  {
   "cell_type": "markdown",
   "metadata": {
    "id": "VKaotQQepTIH"
   },
   "source": [
    "## 🐼 Create A Pandas Dataframe\n",
    "\n",
    "Create a Pandas dataframe to use the Arize Python Pandas logger using the feature & feature values, and list of actual labels (`target_name_transcription`). \n",
    "\n",
    "**Note**: We've also added an identical column called, **prediction_label**, this is because data will not populate in the Arize platform without a record of prediction_labels. "
   ]
  },
  {
   "cell_type": "code",
   "execution_count": null,
   "metadata": {},
   "outputs": [],
   "source": [
    "df = pd.DataFrame(breast_cancer_features, columns=breast_cancer_feature_names)\n",
    "\n",
    "df[\"actual_label\"] = target_name_transcription\n",
    "df[\"prediction_label\"] = target_name_transcription\n",
    "\n",
    "df[\"prediction_label\"] = (\n",
    "    df[\"prediction_label\"].iloc[::-1].reset_index(drop=True)\n",
    ")  # this is optional, but makes the data more interesting in the platform"
   ]
  },
  {
   "attachments": {},
   "cell_type": "markdown",
   "metadata": {
    "id": "sJEN_zo3p30s"
   },
   "source": [
    "## 🪵 Log Data to Arize\n",
    "\n",
    "\n",
    "1.   Sign up/ log in to your Arize account [here](https://app.arize.com/auth/login). Find your [space ID and API key](https://docs.arize.com/arize/api-reference/arize.pandas/client). Copy/paste into the cell below.\n",
    "2.   Define the [Schema](https://docs.arize.com/arize/api-reference/arize.pandas/schema) so Arize knows what your columns correspond to\n",
    "3.  [Log](https://docs.arize.com/arize/api-reference/arize.pandas/log) the model data to Arize!\n",
    "\n"
   ]
  },
  {
   "cell_type": "code",
   "execution_count": null,
   "metadata": {},
   "outputs": [],
   "source": [
    "API_KEY = \"API_KEY\"\n",
    "SPACE_ID = \"SPACE_ID\"\n",
    "arize_client = Client(space_id=SPACE_ID, api_key=API_KEY)\n",
    "\n",
    "if SPACE_ID == \"SPACE_ID\" or API_KEY == \"API_KEY\":\n",
    "    raise ValueError(\"❌ CHANGE SPACE_ID AND/OR API_KEY\")\n",
    "else:\n",
    "    print(\"✅ Arize client setup done! Now you can start using Arize!\")"
   ]
  },
  {
   "cell_type": "code",
   "execution_count": null,
   "metadata": {},
   "outputs": [],
   "source": [
    "schema = Schema(\n",
    "    prediction_id_column_name=\"prediction_id\",\n",
    "    actual_label_column_name=\"actual_label\",\n",
    "    prediction_label_column_name=\"prediction_label\",\n",
    "    feature_column_names=[\n",
    "        \"mean radius\",\n",
    "        \"mean texture\",\n",
    "        \"mean perimeter\",\n",
    "        \"mean area\",\n",
    "        \"mean smoothness\",\n",
    "        \"mean compactness\",\n",
    "        \"mean concavity\",\n",
    "        \"mean concave points\",\n",
    "        \"mean symmetry\",\n",
    "        \"mean fractal dimension\",\n",
    "        \"radius error\",\n",
    "        \"texture error\",\n",
    "        \"perimeter error\",\n",
    "        \"area error\",\n",
    "        \"smoothness error\",\n",
    "        \"compactness error\",\n",
    "        \"concavity error\",\n",
    "        \"concave points error\",\n",
    "        \"symmetry error\",\n",
    "        \"fractal dimension error\",\n",
    "        \"worst radius\",\n",
    "        \"worst texture\",\n",
    "        \"worst perimeter\",\n",
    "        \"worst area\",\n",
    "        \"worst smoothness\",\n",
    "        \"worst compactness\",\n",
    "        \"worst concavity\",\n",
    "        \"worst concave points\",\n",
    "        \"worst symmetry\",\n",
    "        \"worst fractal dimension\",\n",
    "    ],\n",
    ")"
   ]
  },
  {
   "cell_type": "code",
   "execution_count": null,
   "metadata": {},
   "outputs": [],
   "source": [
    "response = arize_client.log(\n",
    "    dataframe=df,\n",
    "    schema=schema,\n",
    "    model_id=\"breast_cancer_dataset\",\n",
    "    model_version=\"v1\",\n",
    "    model_type=ModelTypes.BINARY_CLASSIFICATION,\n",
    "    metrics_validation=[Metrics.CLASSIFICATION],\n",
    "    environment=Environments.PRODUCTION,\n",
    ")\n",
    "if response.status_code == 200:\n",
    "    print(f\"✅ Successfully logged data to Arize!\")\n",
    "else:\n",
    "    print(\n",
    "        f'❌ Logging failed with status code {response.status_code} and message \"{response.text}\"'\n",
    "    )"
   ]
  },
  {
   "cell_type": "markdown",
   "metadata": {
    "id": "KWYoWFirqlhw"
   },
   "source": [
    "## 🎉 Check Out Arize\n",
    "\n",
    "Now that you've uploaded some data to Arize, check it out on the platform. Follow our [verify data upload steps](https://docs.arize.com/arize/sending-data-guides/troubleshooting-data-upload#looks-great-verify-your-data) and learn how to quickly configure monitors [here](https://docs.arize.com/arize/monitors/monitors-quickstart). "
   ]
  }
 ],
 "metadata": {
  "language_info": {
   "name": "python"
  }
 },
 "nbformat": 4,
 "nbformat_minor": 0
}
