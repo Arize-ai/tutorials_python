{
 "cells": [
  {
   "cell_type": "markdown",
   "metadata": {
    "id": "emgzF1oxPtxc"
   },
   "source": [
    "<center><img src=\"https://storage.googleapis.com/arize-assets/arize-logo-white.jpg\" width=\"200\"/></center>\n",
    "\n",
    "# Single-Record Ingestion for Multiclass Classification (Classification and Regression Metrics)\n",
    "\n",
    "In this tutorial, we'll outline how to send single-record prediction labels and actuals from multiclass models to Arize in order to calculate classification and regression metrics for our model. Multiclass classification models are defined as a classification model with more than two classes. Each example can only be labeled as one class. For more information on multiclass ingestion, please see our documentation <a href=\"https://docs.arize.com/arize/model-types/multiclass-classification\">here</a>. For a full list of all model types, please see our documentation <a href=\"https://docs.arize.com/arize/\">here</a>."
   ]
  },
  {
   "cell_type": "markdown",
   "metadata": {
    "id": "OXARCfB_QZ1H"
   },
   "source": [
    "## Install and Import Dependencies"
   ]
  },
  {
   "cell_type": "code",
   "execution_count": null,
   "metadata": {
    "id": "hwNrs2V5TRiE"
   },
   "outputs": [],
   "source": [
    "!pip install -q arize\n",
    "from arize.api import Client\n",
    "from arize.utils.types import ModelTypes, Environments\n",
    "\n",
    "import concurrent.futures as cf\n",
    "import pandas as pd\n",
    "import json\n",
    "import urllib.request"
   ]
  },
  {
   "cell_type": "markdown",
   "metadata": {
    "id": "eAvrX4B5ZvEg"
   },
   "source": [
    "## Download and Display Data\n",
    "For this tutorial, we will use a sample JSON file representing a single prediction. "
   ]
  },
  {
   "cell_type": "code",
   "execution_count": null,
   "metadata": {
    "id": "45QqWeNraaY3"
   },
   "outputs": [],
   "source": [
    "file_url = \"https://storage.googleapis.com/arize-assets/documentation-sample-data/data-ingestion/multiclass-classification-assets/multiclass-single-example.json\"\n",
    "\n",
    "with urllib.request.urlopen(file_url) as f:\n",
    "    record = json.load(f)\n",
    "\n",
    "print(json.dumps(record, indent=3))"
   ]
  },
  {
   "cell_type": "markdown",
   "metadata": {
    "id": "5iqZam7hyEN6"
   },
   "source": [
    "## Create Arize Client\n",
    "Sign up/login to your Arize account <a href=\"https://app.arize.com/auth/login\">here</a>. Find your <a href=\"https://docs.arize.com/arize/sending-data/sdk-reference/python-sdk/arize.init#retrieving-space-and-api-keys\">Space and API keys</a>. Copy/paste into the cell below. "
   ]
  },
  {
   "cell_type": "code",
   "execution_count": null,
   "metadata": {
    "id": "wL80Hx2AyDq4"
   },
   "outputs": [],
   "source": [
    "SPACE_KEY = \"SPACE_KEY\"  # update value here with your Space Key\n",
    "API_KEY = \"API_KEY\"  # update value here with your API key\n",
    "\n",
    "arize_client = Client(space_key=SPACE_KEY, api_key=API_KEY)\n",
    "\n",
    "if SPACE_KEY == \"SPACE_KEY\" or API_KEY == \"API_KEY\":\n",
    "    raise ValueError(\"❌ NEED TO CHANGE SPACE AND/OR API_KEY\")\n",
    "else:\n",
    "    print(\n",
    "        \"✅ Import and Setup Arize Client Done! Now we can start using Arize!\"\n",
    "    )"
   ]
  },
  {
   "cell_type": "markdown",
   "metadata": {
    "id": "IReDCiYwyPBu"
   },
   "source": [
    "## Log Data to Arize\n",
    "Log the record using the <a href=\"https://docs.arize.com/arize/sending-data-to-arize/data-ingestion-methods/sdk-reference/python-sdk/arize.log\">single-record API</a>."
   ]
  },
  {
   "cell_type": "code",
   "execution_count": null,
   "metadata": {
    "id": "fte1kxtVpzBy"
   },
   "outputs": [],
   "source": [
    "# extracting values for clarity\n",
    "prediction_label = record[\"class_prediction\"]\n",
    "prediction_score = record[\"prediction_scores\"][prediction_label]\n",
    "actual_label = record[\"actual_class\"]\n",
    "actual_score = 1.0 if prediction_label == actual_label else 0.0\n",
    "\n",
    "# log example to Arize\n",
    "future = arize_client.log(\n",
    "    model_id=\"multiclass-classification-and-regression-metrics-single-record-ingestion-tutorial\",\n",
    "    model_version=\"1.0\",\n",
    "    model_type=ModelTypes.SCORE_CATEGORICAL,\n",
    "    environment=Environments.PRODUCTION,\n",
    "    prediction_id=record[\"prediction_id\"],\n",
    "    prediction_label=(prediction_label, prediction_score),\n",
    "    actual_label=(actual_label, actual_score),\n",
    "    features=record[\"features\"],\n",
    ")\n",
    "\n",
    "res = future.result(timeout=10)\n",
    "if res.status_code == 200:\n",
    "    print(f\"✅ future completed with response code {res.status_code}\")\n",
    "else:\n",
    "    print(f\"❌ future failed with response code {res.status_code}, {res.text}\")"
   ]
  }
 ],
 "metadata": {
  "colab": {
   "provenance": [
    {
     "file_id": "1H3ru6lT5e3PmMve4ylqigexIN-acMaLb",
     "timestamp": 1669141594902
    }
   ]
  },
  "kernelspec": {
   "display_name": "Python 3 (ipykernel)",
   "language": "python",
   "name": "python3"
  },
  "language_info": {
   "codemirror_mode": {
    "name": "ipython",
    "version": 3
   },
   "file_extension": ".py",
   "mimetype": "text/x-python",
   "name": "python",
   "nbconvert_exporter": "python",
   "pygments_lexer": "ipython3",
   "version": "3.10.0"
  },
  "vscode": {
   "interpreter": {
    "hash": "20a2e9668a7544737263b9122324a20f569441f0073504b971c29b8163a0bf74"
   }
  }
 },
 "nbformat": 4,
 "nbformat_minor": 1
}
