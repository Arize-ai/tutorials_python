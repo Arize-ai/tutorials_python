{
 "cells": [
  {
   "cell_type": "markdown",
   "metadata": {
    "id": "emgzF1oxPtxc"
   },
   "source": [
    "<center><img src=\"https://storage.googleapis.com/arize-assets/arize-logo-white.jpg\" width=\"200\"/></center>\n",
    "\n",
    "# Single-Record Ingestion for Multiclass Classification (Classification and AUC Metrics)\n",
    "\n",
    "In this tutorial, we'll outline how to send single-record predictions (scores + labels) and actuals from multiclass models to Arize in order to calculate classification metrics and AUC for our model. Multiclass classification models are defined as a classification model with more than two classes. Each example can only be labeled as one class. For more information on multiclass ingestion, please see our documentation <a href=\"https://docs.arize.com/arize/model-types/multiclass-classification\">here</a>. For a full list of all model types, please see our documentation <a href=\"https://docs.arize.com/arize/\">here</a>."
   ]
  },
  {
   "cell_type": "markdown",
   "metadata": {
    "id": "OXARCfB_QZ1H"
   },
   "source": [
    "## Install and Import Dependencies"
   ]
  },
  {
   "cell_type": "code",
   "execution_count": null,
   "metadata": {},
   "outputs": [],
   "source": [
    "!pip install -q arize\n",
    "from arize.api import Client\n",
    "from arize.utils.types import ModelTypes, Environments\n",
    "\n",
    "import concurrent.futures as cf\n",
    "import pandas as pd\n",
    "import json\n",
    "import urllib.request"
   ]
  },
  {
   "cell_type": "markdown",
   "metadata": {
    "id": "eAvrX4B5ZvEg"
   },
   "source": [
    "## Download and Display Data\n",
    "For this tutorial, we will use a sample JSON file representing a single prediction. "
   ]
  },
  {
   "cell_type": "code",
   "execution_count": null,
   "metadata": {},
   "outputs": [],
   "source": [
    "file_url = \"https://storage.googleapis.com/arize-assets/documentation-sample-data/data-ingestion/multiclass-classification-assets/multiclass-single-example.json\"\n",
    "\n",
    "with urllib.request.urlopen(file_url) as f:\n",
    "    record = json.load(f)\n",
    "\n",
    "print(json.dumps(record, indent=3))"
   ]
  },
  {
   "attachments": {},
   "cell_type": "markdown",
   "metadata": {
    "id": "5iqZam7hyEN6"
   },
   "source": [
    "## Create Arize Client\n",
    "Sign up/login to your Arize account <a href=\"https://app.arize.com/auth/login\">here</a>. Find your <a href=\"https://docs.arize.com/arize/api-reference/arize.log/client\">Space and API keys</a>. Copy/paste into the cell below. "
   ]
  },
  {
   "cell_type": "code",
   "execution_count": null,
   "metadata": {},
   "outputs": [],
   "source": [
    "SPACE_KEY = \"SPACE_KEY\"  # update value here with your Space Key\n",
    "API_KEY = \"API_KEY\"  # update value here with your API key\n",
    "\n",
    "arize_client = Client(space_key=SPACE_KEY, api_key=API_KEY)\n",
    "\n",
    "if SPACE_KEY == \"SPACE_KEY\" or API_KEY == \"API_KEY\":\n",
    "    raise ValueError(\"❌ NEED TO CHANGE SPACE AND/OR API_KEY\")\n",
    "else:\n",
    "    print(\n",
    "        \"✅ Import and Setup Arize Client Done! Now we can start using Arize!\"\n",
    "    )"
   ]
  },
  {
   "cell_type": "markdown",
   "metadata": {
    "id": "IReDCiYwyPBu"
   },
   "source": [
    "## Log Data to Arize\n",
    "In order to send the probability/propensity for each class label in the prediction (i.e., the prediction scores), we need to fan out the single inference into a prediction for each class value. We'll use <a href=\"https://docs.arize.com/arize/sending-data/model-schema-reference#9.-tags\">tags</a> to identify which class value is associated with each prediction score, which we can then filter on in the Arize platform. The prediction label will remain the same across all predictions and will represent what the model actually predicted for that specific record. The actual label will also remain the same across all predictions and will be the record's true actual label. The example below shows how 1 record will be fanned out into three predictions - one for each class value. "
   ]
  },
  {
   "cell_type": "markdown",
   "metadata": {
    "id": "6onrT3F_4wOB"
   },
   "source": [
    "#### Example prediction\n",
    "\n",
    "**Inference**\n",
    "```\n",
    "record = {\n",
    "  \"prediction_id\": \"pred_123\",\n",
    "  \"prediction_scores\": {\n",
    "    \"first_class\": 0.75,\n",
    "    \"business_class\": 0.15,\n",
    "    \"economy_class\": 0.10\n",
    "  },\n",
    "  \"predicted_class\": \"first_class\",\n",
    "  \"actual\": \"first_class\"\n",
    "}\n",
    "```\n",
    "\n",
    "**Predictions Sent to Arize**\n",
    "\n",
    "| prediction_id | prediction_label | prediction_score | tag | actual_label |\n",
    "| --- | ----------- | ------| ----- | --------- | \n",
    "| pred_123_first_class | first_class | 0.75 | first_class | first_class | \n",
    "| pred_123_business_class | first_class | 0.15 | business_class | first_class | \n",
    "| pred_123_economy_class | first_class | 0.10 | economy_class | first_class | \n"
   ]
  },
  {
   "cell_type": "markdown",
   "metadata": {
    "id": "HS1qxucNMyfy"
   },
   "source": [
    "***\n",
    "#### Code to Implement the Above\n",
    "Log the record using the <a href=\"https://docs.arize.com/arize/sending-data-to-arize/data-ingestion-methods/sdk-reference/python-sdk/arize.log\">single-record API</a>."
   ]
  },
  {
   "cell_type": "code",
   "execution_count": null,
   "metadata": {},
   "outputs": [],
   "source": [
    "resps = []\n",
    "\n",
    "id_prefix = record[\"prediction_id\"]\n",
    "pred_label = record[\"class_prediction\"]\n",
    "actual_label = record[\"actual_class\"]\n",
    "feature_dict = record[\"features\"]\n",
    "\n",
    "for label in record[\"prediction_scores\"]:\n",
    "    # get ID for label + prediction combo\n",
    "    id_ = f\"{id_prefix}_{label}\"\n",
    "\n",
    "    # log example to Arize\n",
    "    future = arize_client.log(\n",
    "        model_id=\"multiclass-classification-and-auc-metrics-single-record-ingestion-tutorial\",\n",
    "        model_version=\"1.0\",\n",
    "        model_type=ModelTypes.SCORE_CATEGORICAL,\n",
    "        environment=Environments.PRODUCTION,\n",
    "        prediction_id=id_,\n",
    "        prediction_label=(pred_label, record[\"prediction_scores\"][label]),\n",
    "        actual_label=actual_label,\n",
    "        features=feature_dict,\n",
    "        tags={\"label\": label}\n",
    "    )\n",
    "    resps.append(future)\n",
    "\n",
    "for future in cf.as_completed(resps):\n",
    "    res = future.result(timeout=10)\n",
    "    if res.status_code == 200:\n",
    "        print(f\"✅ future completed with response code {res.status_code}\")\n",
    "    else:\n",
    "        print(\n",
    "            f\"❌ future failed with response code {res.status_code}, {res.text}\"\n",
    "        )"
   ]
  }
 ],
 "metadata": {
  "language_info": {
   "name": "python"
  }
 },
 "nbformat": 4,
 "nbformat_minor": 1
}
