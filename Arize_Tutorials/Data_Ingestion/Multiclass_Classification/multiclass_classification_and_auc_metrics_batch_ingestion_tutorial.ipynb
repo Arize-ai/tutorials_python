{
 "cells": [
  {
   "cell_type": "markdown",
   "metadata": {
    "id": "emgzF1oxPtxc"
   },
   "source": [
    "<center><img src=\"https://storage.googleapis.com/arize-assets/arize-logo-white.jpg\" width=\"200\"/></center>\n",
    "\n",
    "# Batch Ingestion for Multiclass Classification (Classification and AUC Metrics)\n",
    "\n",
    "In this tutorial, we'll outline how to send predictions (scores + labels) and actuals from multiclass models to Arize in batch in order to calculate classification metrics and AUC for our model. Multiclass classification models are defined as a classification model with more than two classes. Each example can only be labeled as one class. For more information on multiclass ingestion, please see our documentation <a href=\"https://docs.arize.com/arize/model-types/multiclass-classification\">here</a>. For a list of all model types, please see our documentation <a href=\"https://docs.arize.com/arize/\">here</a>."
   ]
  },
  {
   "cell_type": "markdown",
   "metadata": {
    "id": "OXARCfB_QZ1H"
   },
   "source": [
    "## Install and Import Dependencies"
   ]
  },
  {
   "cell_type": "code",
   "execution_count": null,
   "metadata": {
    "id": "hwNrs2V5TRiE"
   },
   "outputs": [],
   "source": [
    "!pip install -q arize\n",
    "from arize.pandas.logger import Client, Schema\n",
    "from arize.utils.types import ModelTypes, Environments\n",
    "\n",
    "import pandas as pd\n",
    "import datetime\n",
    "import numpy as np"
   ]
  },
  {
   "cell_type": "markdown",
   "metadata": {
    "id": "eAvrX4B5ZvEg"
   },
   "source": [
    "## Download and Display Data\n",
    "For this tutorial, we will use a sample Parquet file containing 100 predictions. "
   ]
  },
  {
   "cell_type": "code",
   "execution_count": null,
   "metadata": {
    "id": "45QqWeNraaY3"
   },
   "outputs": [],
   "source": [
    "file_url = \"https://storage.googleapis.com/arize-assets/documentation-sample-data/data-ingestion/multiclass-classification-assets/multiclass-sample-data.parquet\"\n",
    "df = pd.read_parquet(file_url)\n",
    "df.head()"
   ]
  },
  {
   "cell_type": "markdown",
   "metadata": {},
   "source": [
    "## Add Timestamps for Predictions\n",
    "Generate sample timestamps for each prediction. More information on timestamps in Arize can be found <a href=\"https://docs.arize.com/arize/sending-data/model-schema-reference#6.-timestamp\">here</a>."
   ]
  },
  {
   "cell_type": "code",
   "execution_count": null,
   "metadata": {},
   "outputs": [],
   "source": [
    "current_time = datetime.datetime.now().timestamp()\n",
    "\n",
    "earlier_time = (\n",
    "    datetime.datetime.now() - datetime.timedelta(days=30)\n",
    ").timestamp()\n",
    "\n",
    "optional_prediction_timestamps = np.linspace(\n",
    "    earlier_time, current_time, num=df.shape[0]\n",
    ")\n",
    "\n",
    "df[\"prediction_ts\"] = pd.Series(optional_prediction_timestamps.astype(int))\n",
    "df[[\"prediction_ts\"]].head()"
   ]
  },
  {
   "cell_type": "markdown",
   "metadata": {
    "id": "G1a0vVt8y7pW"
   },
   "source": [
    "## Restructure DataFrame\n",
    "In order to send the probability/propensity for each class label in the prediction (i.e., the prediction scores), we need to fan out the single inference into a prediction for each class value. Thus, we need to restructure our DataFrame to reflect this. We'll use <a href=\"https://docs.arize.com/arize/sending-data/model-schema-reference#9.-tags\">tags</a> to identify which class value is associated with each prediction score, which we can then filter on in the Arize platform. The prediction label will remain the same across all predictions and will represent what the model actually predicted for that specific record. The actual label will also remain the same across all predictions and will be the record's true actual label. The example below shows how 1 record will be fanned out into three predictions - one for each class value. \n",
    "\n",
    "#### Example prediction\n",
    "\n",
    "**Inference**\n",
    "\n",
    "| prediction_id | prediction_classes | prediction_scores | class_pred | actual_class |\n",
    "| --- | ----------- | ------| ----- | --------- | \n",
    "| pred_123 | [first_class, business_class, economy_class] | [0.75, 0.15, 0.10] | first_class | first_class |\n",
    "\n",
    "**Predictions Sent to Arize**\n",
    "\n",
    "| prediction_id | prediction_label | prediction_score | tag | actual_label |\n",
    "| --- | ----------- | ------| ----- | --------- | \n",
    "| pred_123_first_class | first_class | 0.75 | first_class | first_class | \n",
    "| pred_123_business_class | first_class | 0.15 | business_class | first_class | \n",
    "| pred_123_economy_class | first_class | 0.10 | economy_class | first_class | \n"
   ]
  },
  {
   "cell_type": "code",
   "execution_count": null,
   "metadata": {
    "id": "Da7aE3EGy9GU"
   },
   "outputs": [],
   "source": [
    "def restructure_df(df: pd.DataFrame) -> pd.DataFrame:\n",
    "    \"\"\"Return the restructured DataFrame with predictions fanned-out per class value.\"\"\"\n",
    "\n",
    "    # Explode each class value in list into separate rows\n",
    "    df_restructured = df.explode(\n",
    "        column=[\"prediction_classes\", \"prediction_scores\"]\n",
    "    )\n",
    "\n",
    "    # Rename prediction_classes column and prediction_scores column for clarity\n",
    "    df_restructured.rename(\n",
    "        columns={\n",
    "            \"prediction_classes\": \"tag\",\n",
    "            \"prediction_scores\": \"class_score\"\n",
    "        },\n",
    "        inplace=True\n",
    "    )\n",
    "\n",
    "    # Set new prediction_id with combination of existing ID and the tag value\n",
    "    df_restructured[\"prediction_id\"] = (\n",
    "        df_restructured[\"prediction_id\"] + \"_\" + df_restructured[\"tag\"]\n",
    "    )\n",
    "\n",
    "    return df_restructured"
   ]
  },
  {
   "cell_type": "code",
   "execution_count": null,
   "metadata": {
    "id": "04x4TlUDxwNz"
   },
   "outputs": [],
   "source": [
    "# Restructure DataFrame and show sample\n",
    "df = restructure_df(df)\n",
    "df.head(6)"
   ]
  },
  {
   "cell_type": "markdown",
   "metadata": {
    "id": "5iqZam7hyEN6"
   },
   "source": [
    "## Create Arize Client\n",
    "Sign up/login to your Arize account <a href=\"https://app.arize.com/auth/login\">here</a>. Find your <a href=\"https://docs.arize.com/arize/sending-data/sdk-reference/python-sdk/arize.init#retrieving-space-and-api-keys\">Space and API keys</a>. Copy/paste into the cell below. "
   ]
  },
  {
   "cell_type": "code",
   "execution_count": null,
   "metadata": {
    "id": "wL80Hx2AyDq4"
   },
   "outputs": [],
   "source": [
    "SPACE_KEY = \"SPACE_KEY\"  # update value here with your Space Key\n",
    "API_KEY = \"API_KEY\"  # update value here with your API key\n",
    "\n",
    "arize_client = Client(space_key=SPACE_KEY, api_key=API_KEY)\n",
    "\n",
    "if SPACE_KEY == \"SPACE_KEY\" or API_KEY == \"API_KEY\":\n",
    "    raise ValueError(\"❌ NEED TO CHANGE SPACE AND/OR API_KEY\")\n",
    "else:\n",
    "    print(\n",
    "        \"✅ Import and Setup Arize Client Done! Now we can start using Arize!\"\n",
    "    )"
   ]
  },
  {
   "cell_type": "markdown",
   "metadata": {
    "id": "UiM8epdyrPpi"
   },
   "source": [
    "## Define Schema\n",
    "Create your <a href=\"https://docs.arize.com/arize/sending-data-to-arize/model-schema-reference\">model schema</a>."
   ]
  },
  {
   "cell_type": "code",
   "execution_count": null,
   "metadata": {
    "id": "ZfvgXEEfrQEo"
   },
   "outputs": [],
   "source": [
    "schema = Schema(\n",
    "    prediction_id_column_name=\"prediction_id\",\n",
    "    timestamp_column_name=\"prediction_ts\",\n",
    "    prediction_label_column_name=\"class_pred\",\n",
    "    prediction_score_column_name=\"class_score\",\n",
    "    feature_column_names=[\"feature1\", \"feature2\", \"feature3\", \"feature4\"],\n",
    "    tag_column_names=[\"tag\"],\n",
    "    actual_label_column_name=\"actual_class\"\n",
    ")"
   ]
  },
  {
   "cell_type": "markdown",
   "metadata": {
    "id": "HS1qxucNMyfy"
   },
   "source": [
    "## Log Data to Arize\n",
    "Log the DataFrame using the <a href=\"https://docs.arize.com/arize/sending-data-to-arize/data-ingestion-methods/sdk-reference/python-sdk/arize.pandas\">pandas API</a>. "
   ]
  },
  {
   "cell_type": "code",
   "execution_count": null,
   "metadata": {
    "id": "fte1kxtVpzBy"
   },
   "outputs": [],
   "source": [
    "response = arize_client.log(\n",
    "    dataframe=df,\n",
    "    model_id=\"multiclass-classification-and-auc-metrics-batch-ingestion-tutorial\",\n",
    "    model_version=\"1.0\",\n",
    "    model_type=ModelTypes.SCORE_CATEGORICAL,\n",
    "    environment=Environments.PRODUCTION,\n",
    "    schema=schema\n",
    ")\n",
    "\n",
    "if response.status_code == 200:\n",
    "    print(f\"✅ You have successfully logged production dataset to Arize\")\n",
    "else:\n",
    "    print(\n",
    "        f\"Logging failed with response code {response.status_code}, {response.text}\"\n",
    "    )"
   ]
  }
 ],
 "metadata": {
  "colab": {
   "provenance": []
  },
  "kernelspec": {
   "display_name": "Python 3 (ipykernel)",
   "language": "python",
   "name": "python3"
  },
  "language_info": {
   "codemirror_mode": {
    "name": "ipython",
    "version": 3
   },
   "file_extension": ".py",
   "mimetype": "text/x-python",
   "name": "python",
   "nbconvert_exporter": "python",
   "pygments_lexer": "ipython3",
   "version": "3.10.0"
  },
  "vscode": {
   "interpreter": {
    "hash": "20a2e9668a7544737263b9122324a20f569441f0073504b971c29b8163a0bf74"
   }
  }
 },
 "nbformat": 4,
 "nbformat_minor": 1
}
