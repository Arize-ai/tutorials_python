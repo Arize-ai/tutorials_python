{
 "cells": [
  {
   "cell_type": "markdown",
   "metadata": {
    "id": "emgzF1oxPtxc"
   },
   "source": [
    "<center><img src=\"https://storage.googleapis.com/arize-assets/arize-logo-white.jpg\" width=\"200\"/></center>\n",
    "\n",
    "# Single-Record Ingestion for Multi-Label Multiclass Classification\n",
    "\n",
    "In this tutorial, we'll outline how to send single-record prediction labels and actuals from multiclass models to Arize. Multiclass classification models are defined as a classification model with more than two classes. For a multiclass model, Multi-Label indicates the output of the model can be assigned to multiple classes. For more information on multiclass ingestion, please see our documentation <a href=\"https://docs.arize.com/arize/model-types/multiclass-classification\">here</a>. For a full list of all model types, please see our documentation <a href=\"https://docs.arize.com/arize/\">here</a>."
   ]
  },
  {
   "cell_type": "markdown",
   "metadata": {
    "id": "OXARCfB_QZ1H"
   },
   "source": [
    "## Install and Import Dependencies"
   ]
  },
  {
   "cell_type": "code",
   "execution_count": null,
   "metadata": {},
   "outputs": [],
   "source": [
    "!pip install -q arize\n",
    "from arize.api import Client\n",
    "from arize.utils.types import ModelTypes, Environments, MultiClassPredictionLabel, MultiClassActualLabel\n",
    "\n",
    "import concurrent.futures as cf\n",
    "import pandas as pd\n",
    "import json\n",
    "import urllib.request"
   ]
  },
  {
   "cell_type": "markdown",
   "metadata": {
    "id": "eAvrX4B5ZvEg"
   },
   "source": [
    "## Download and Display Data\n",
    "For this tutorial, we will use a sample JSON file representing a single prediction. "
   ]
  },
  {
   "cell_type": "code",
   "execution_count": null,
   "metadata": {},
   "outputs": [],
   "source": [
    "file_url = \"https://storage.googleapis.com/arize-assets/documentation-sample-data/data-ingestion/multiclass-classification-assets/multi-label-multiclass-single-example.json\"\n",
    "\n",
    "with urllib.request.urlopen(file_url) as f:\n",
    "    record = json.load(f)\n",
    "\n",
    "print(json.dumps(record, indent=3))"
   ]
  },
  {
   "attachments": {},
   "cell_type": "markdown",
   "metadata": {
    "id": "5iqZam7hyEN6"
   },
   "source": [
    "## Create Arize Client\n",
    "Sign up/login to your Arize account <a href=\"https://app.arize.com/auth/login\">here</a>. Find your <a href=\"https://docs.arize.com/arize/api-reference/arize.log/client\">Space and API keys</a>. Copy/paste into the cell below. "
   ]
  },
  {
   "cell_type": "code",
   "execution_count": null,
   "metadata": {},
   "outputs": [],
   "source": [
    "SPACE_KEY = \"SPACE_KEY\"  # update value here with your Space Key\n",
    "API_KEY = \"API_KEY\"  # update value here with your API key\n",
    "\n",
    "arize_client = Client(space_key=SPACE_KEY, api_key=API_KEY)\n",
    "\n",
    "if SPACE_KEY == \"SPACE_KEY\" or API_KEY == \"API_KEY\":\n",
    "    raise ValueError(\"❌ NEED TO CHANGE SPACE AND/OR API_KEY\")\n",
    "else:\n",
    "    print(\n",
    "        \"✅ Import and Setup Arize Client Done! Now we can start using Arize!\"\n",
    "    )"
   ]
  },
  {
   "cell_type": "markdown",
   "metadata": {
    "id": "IReDCiYwyPBu"
   },
   "source": [
    "## Log Data to Arize\n",
    "Log the record using the <a href=\"https://docs.arize.com/arize/sending-data-to-arize/data-ingestion-methods/sdk-reference/python-sdk/arize.log\">single-record API</a>.\n",
    "To log the record to Arize, you must pass in the <a href=\"https://docs.arize.com/arize/model-types/multiclass-classification#multi-class-prediction-and-threshold-values\">MultiClassPredictionLabel</a> as the prediction_label parameter and the <a href=\"https://docs.arize.com/arize/model-types/multiclass-classification#multi-class-actual-values\"</a> as the actual_label parameter in the log call."
   ]
  },
  {
   "cell_type": "code",
   "execution_count": null,
   "metadata": {},
   "outputs": [],
   "source": [
    "# log example to Arize\n",
    "prediction_label = MultiClassPredictionLabel(\n",
    "    prediction_scores=record[\"prediction_scores\"],\n",
    "    threshold_scores=record[\"threshold_scores\"],\n",
    ")\n",
    "actual_label = MultiClassActualLabel(\n",
    "    actual_scores=record[\"actual_scores\"],\n",
    ")\n",
    "future = arize_client.log(\n",
    "    model_id=\"multiclass-classification-multi-label-single-record-ingestion-tutorial\",\n",
    "    model_version=\"1.0\",\n",
    "    model_type=ModelTypes.MULTI_CLASS,\n",
    "    environment=Environments.PRODUCTION,\n",
    "    prediction_id=record[\"prediction_id\"],\n",
    "    prediction_label=prediction_label,\n",
    "    actual_label=actual_label,\n",
    "    features=record[\"features\"]\n",
    ")\n",
    "\n",
    "res = future.result(timeout=10)\n",
    "if res.status_code == 200:\n",
    "    print(f\"✅ future completed with response code {res.status_code}\")\n",
    "else:\n",
    "    print(f\"❌ future failed with response code {res.status_code}, {res.text}\")"
   ]
  },
  {
   "cell_type": "code",
   "execution_count": null,
   "metadata": {},
   "outputs": [],
   "source": []
  }
 ],
 "metadata": {
  "language_info": {
   "name": "python"
  }
 },
 "nbformat": 4,
 "nbformat_minor": 1
}
