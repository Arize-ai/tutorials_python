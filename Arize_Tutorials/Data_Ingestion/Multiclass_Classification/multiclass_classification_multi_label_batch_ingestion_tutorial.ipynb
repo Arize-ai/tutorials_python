{
 "cells": [
  {
   "cell_type": "markdown",
   "metadata": {
    "id": "emgzF1oxPtxc"
   },
   "source": [
    "<center><img src=\"https://storage.googleapis.com/arize-assets/arize-logo-white.jpg\" width=\"200\"/></center>\n",
    "\n",
    "# Batch Ingestion for Multi-Label Multiclass Classification\n",
    "\n",
    "In this tutorial, we'll outline how to send prediction labels and actuals from multiclass models to Arize in batch. Multiclass classification models are defined as a classification model with more than two classes. For a multiclass model, Multi-Label indicates the output of the model can be assigned to multiple classes. For more information on multiclass ingestion, please see our documentation <a href=\"https://docs.arize.com/arize/model-types/multiclass-classification\">here</a>. For a full list of all model types, please see our documentation <a href=\"https://docs.arize.com/arize/\">here</a>."
   ]
  },
  {
   "cell_type": "markdown",
   "metadata": {
    "id": "OXARCfB_QZ1H"
   },
   "source": [
    "## Install and Import Dependencies"
   ]
  },
  {
   "cell_type": "code",
   "execution_count": null,
   "metadata": {},
   "outputs": [],
   "source": [
    "!pip install -q arize\n",
    "from arize.pandas.logger import Client, Schema\n",
    "from arize.utils.types import ModelTypes, Environments\n",
    "\n",
    "import pandas as pd\n",
    "import datetime\n",
    "import numpy as np"
   ]
  },
  {
   "cell_type": "markdown",
   "metadata": {
    "id": "eAvrX4B5ZvEg"
   },
   "source": [
    "## Download and Display Data\n",
    "For this tutorial, we will use a sample Parquet file containing 100 predictions. "
   ]
  },
  {
   "cell_type": "code",
   "execution_count": null,
   "metadata": {},
   "outputs": [],
   "source": [
    "file_url = \"https://storage.googleapis.com/arize-assets/documentation-sample-data/data-ingestion/multiclass-classification-assets/multi-label-multiclass-sample-data.parquet\"\n",
    "df = pd.read_parquet(file_url)\n",
    "df.head()"
   ]
  },
  {
   "cell_type": "markdown",
   "metadata": {},
   "source": [
    "## Add Timestamps for Predictions\n",
    "Generate sample timestamps for each prediction. More information on timestamps in Arize can be found <a href=\"https://docs.arize.com/arize/sending-data/model-schema-reference#6.-timestamp\">here</a>."
   ]
  },
  {
   "cell_type": "code",
   "execution_count": null,
   "metadata": {},
   "outputs": [],
   "source": [
    "current_time = datetime.datetime.now().timestamp()\n",
    "\n",
    "earlier_time = (\n",
    "    datetime.datetime.now() - datetime.timedelta(days=30)\n",
    ").timestamp()\n",
    "\n",
    "optional_prediction_timestamps = np.linspace(\n",
    "    earlier_time, current_time, num=df.shape[0]\n",
    ")\n",
    "\n",
    "df[\"prediction_ts\"] = pd.Series(optional_prediction_timestamps.astype(int))\n",
    "df[\"prediction_ts\"].head()"
   ]
  },
  {
   "attachments": {},
   "cell_type": "markdown",
   "metadata": {
    "id": "5iqZam7hyEN6"
   },
   "source": [
    "## Create Arize Client\n",
    "Sign up/login to your Arize account <a href=\"https://app.arize.com/auth/login\">here</a>. Find your <a href=\"https://docs.arize.com/arize/api-reference/arize.pandas/client\">Space and API keys</a>. Copy/paste into the cell below. "
   ]
  },
  {
   "cell_type": "code",
   "execution_count": null,
   "metadata": {},
   "outputs": [],
   "source": [
    "SPACE_ID = \"SPACE_ID\"  # update value here with your Space ID\n",
    "API_KEY = \"API_KEY\"  # update value here with your API key\n",
    "\n",
    "arize_client = Client(space_id=SPACE_ID, api_key=API_KEY)\n",
    "\n",
    "if SPACE_ID == \"SPACE_ID\" or API_KEY == \"API_KEY\":\n",
    "    raise ValueError(\"❌ CHANGE SPACE_ID AND/OR API_KEY\")\n",
    "else:\n",
    "    print(\n",
    "        \"✅ Import and Setup Arize Client Done! Now we can start using Arize!\"\n",
    "    )"
   ]
  },
  {
   "cell_type": "markdown",
   "metadata": {
    "id": "UiM8epdyrPpi"
   },
   "source": [
    "## Define Schema\n",
    "Create your <a href=\"https://docs.arize.com/arize/sending-data-to-arize/model-schema-reference\">model schema</a>."
   ]
  },
  {
   "cell_type": "code",
   "execution_count": null,
   "metadata": {},
   "outputs": [],
   "source": [
    "schema = Schema(\n",
    "    prediction_id_column_name=\"prediction_id\",\n",
    "    timestamp_column_name=\"prediction_ts\",\n",
    "    prediction_score_column_name=\"prediction_scores\",\n",
    "    multi_class_threshold_scores_column_name=\"threshold_scores\",\n",
    "    feature_column_names=[\"feature1\", \"feature2\", \"feature3\", \"feature4\"],\n",
    "    actual_score_column_name=\"actual_scores\",\n",
    ")"
   ]
  },
  {
   "cell_type": "markdown",
   "metadata": {
    "id": "HS1qxucNMyfy"
   },
   "source": [
    "## Log Data to Arize\n",
    "Log the DataFrame using the <a href=\"https://docs.arize.com/arize/sending-data-to-arize/data-ingestion-methods/sdk-reference/python-sdk/arize.pandas\">pandas API</a>. "
   ]
  },
  {
   "cell_type": "code",
   "execution_count": null,
   "metadata": {},
   "outputs": [],
   "source": [
    "response = arize_client.log(\n",
    "    dataframe=df,\n",
    "    model_id=\"multiclass-classification-multi-label-batch-ingestion-tutorial\",\n",
    "    model_version=\"1.0\",\n",
    "    model_type=ModelTypes.MULTI_CLASS,\n",
    "    environment=Environments.PRODUCTION,\n",
    "    schema=schema,\n",
    ")\n",
    "\n",
    "if response.status_code == 200:\n",
    "    print(f\"✅ You have successfully logged production dataset to Arize\")\n",
    "else:\n",
    "    print(\n",
    "        f\"Logging failed with response code {response.status_code}, {response.text}\"\n",
    "    )"
   ]
  }
 ],
 "metadata": {
  "language_info": {
   "name": "python"
  }
 },
 "nbformat": 4,
 "nbformat_minor": 1
}
