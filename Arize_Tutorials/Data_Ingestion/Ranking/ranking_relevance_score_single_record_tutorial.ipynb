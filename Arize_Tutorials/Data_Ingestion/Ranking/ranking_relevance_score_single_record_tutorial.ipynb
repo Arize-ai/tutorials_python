{
  "nbformat": 4,
  "nbformat_minor": 0,
  "metadata": {
    "colab": {
      "provenance": []
    },
    "kernelspec": {
      "name": "python3",
      "display_name": "Python 3"
    },
    "language_info": {
      "name": "python"
    }
  },
  "cells": [
    {
      "cell_type": "markdown",
      "source": [
        "<center><img src=\"https://storage.googleapis.com/arize-assets/arize-logo-white.jpg\" width=\"200\"/></center>\n",
        "\n",
        "# Single-Record Ingestion for Ranking With Relevance Score\n",
        "\n",
        "This example walks through the Arize single-record API for [ingesting ranking data with support for NDCG only](https://docs.arize.com/arize/model-types/ranking#case-1-ranking-with-relevance-score). Guides for other model types are available [here](https://docs.arize.com/arize/sending-data-to-arize/model-types)."
      ],
      "metadata": {
        "id": "5gyfpdfIoEv2"
      }
    },
    {
      "cell_type": "markdown",
      "source": [
        "## Install and Import Dependencies"
      ],
      "metadata": {
        "id": "_nKCJoWko-Hq"
      }
    },
    {
      "cell_type": "code",
      "execution_count": null,
      "metadata": {
        "id": "iW6p6comnzMh"
      },
      "outputs": [],
      "source": [
        "!pip install -q arize==6.1.0\n",
        "\n",
        "import uuid\n",
        "from datetime import datetime\n",
        "\n",
        "\n",
        "import pandas as pd\n",
        "from arize.api import Client\n",
        "from arize.utils.types import Environments, ModelTypes, Schema, RankingPredictionLabel, RankingActualLabel"
      ]
    },
    {
      "cell_type": "markdown",
      "source": [
        "## Download and Display Data\n",
        "For this tutorial, we'll use a sample Parquet file that represents a model that predicts the likelihood that a user clicks on a recommended hotel in an ordered list.\n",
        "\n",
        "**Note**: This tutorial is for record-by-record ingestion, use the sample table as a visual indicator of how each column logs into Arize. "
      ],
      "metadata": {
        "id": "0Ym6-EovpFH9"
      }
    },
    {
      "cell_type": "code",
      "source": [
        "file_url = \"https://storage.googleapis.com/arize-assets/documentation-sample-data/data-ingestion/ranking-assets/ranking-relevance-score-sample-data.parquet\"\n",
        "df = pd.read_parquet(file_url)\n",
        "df.head()"
      ],
      "metadata": {
        "id": "aBCr1dznpaGP"
      },
      "execution_count": null,
      "outputs": []
    },
    {
      "cell_type": "markdown",
      "source": [
        "## Create Arize Client\n",
        "\n",
        "Sign up/ log in to your Arize account [here](https://app.arize.com/auth/login). Find your [space and API keys](https://docs.arize.com/arize/sending-data/sdk-reference/python-sdk/arize.init#retrieving-space-and-api-keys). Copy/paste into the cell below."
      ],
      "metadata": {
        "id": "icuUoNz8psoG"
      }
    },
    {
      "cell_type": "code",
      "source": [
        "SPACE_KEY = \"YOUR SPACE KEY\"  # Change this line.\n",
        "API_KEY = \"YOUR API KEY\"  # Change this line.\n",
        "\n",
        "arize_client = Client(space_key=SPACE_KEY, api_key=API_KEY)\n",
        "\n",
        "if SPACE_KEY == \"SPACE_KEY\" or API_KEY == \"API_KEY\":\n",
        "    raise ValueError(\"❌ CHANGE SPACE AND API KEYS\")\n",
        "else:\n",
        "    print(\"✅ Arize client setup done! Now you can start using Arize!\")"
      ],
      "metadata": {
        "id": "Repn96RJpuZR"
      },
      "execution_count": null,
      "outputs": []
    },
    {
      "cell_type": "markdown",
      "source": [
        "## Define Features\n",
        "\n"
      ],
      "metadata": {
        "id": "MIt1sGWupzY0"
      }
    },
    {
      "cell_type": "code",
      "source": [
        "features = {\n",
        "    \"prop_log_historical_price\" : 5.22 ,\n",
        "    \"price_usd\" : 98.04,\n",
        "    \"promotion_flag\" : 1.0,\n",
        "    \"search_destination_id\" : 8192.0,\n",
        "    \"search_length_of_stay\" : 4.0,\n",
        "    \"search_booking_window\" : 227.0,\n",
        "    \"search_adults_count\" : 1.0,\n",
        "    \"search_children_count\" : 0.0,\n",
        "    \"search_room_count\" : 1.0,\n",
        "    \"search_saturday_night_bool\" : 0.0,\n",
        "    \"destination\" : \"Yellowstone\",\n",
        "    }"
      ],
      "metadata": {
        "id": "0d9EkNt-n2us"
      },
      "execution_count": null,
      "outputs": []
    },
    {
      "cell_type": "markdown",
      "source": [
        "##Define Prediction & Actual Labels\n",
        "\n",
        "Create ranking labels using the arguments: `group_id`, `rank`, `score`, and `relevance_scores` before logging the record. "
      ],
      "metadata": {
        "id": "9lqELLTmrhV3"
      }
    },
    {
      "cell_type": "code",
      "source": [
        "pred_label = RankingPredictionLabel(\n",
        "      group_id=\"148\", # search_id column\n",
        "      rank=1, # rank column\n",
        "      score=0.155441 # predicted_relevancy_score coulmn\n",
        "  )\n",
        "act_label = RankingActualLabel(\n",
        "    relevance_score=0 # actual_relevancy_score column\n",
        ")"
      ],
      "metadata": {
        "id": "ltAtq9aNsTt9"
      },
      "execution_count": null,
      "outputs": []
    },
    {
      "cell_type": "markdown",
      "source": [
        "## Log Data To Arize\n",
        "\n",
        "Log the record using the [single-record API](https://docs.arize.com/arize/sending-data-to-arize/data-ingestion-methods/sdk-reference/python-sdk/arize.log)"
      ],
      "metadata": {
        "id": "2VKLf-ncrgU-"
      }
    },
    {
      "cell_type": "code",
      "source": [
        "response = arize_client.log(\n",
        "    model_id=\"demo-ranking-with_relevance-score\",\n",
        "    model_version=\"v1\",\n",
        "    environment=Environments.PRODUCTION,\n",
        "    model_type=ModelTypes.RANKING,\n",
        "    prediction_id=\"311103e3-a493-40ea-a21a-e457d617c956\",\n",
        "    prediction_label=pred_label,\n",
        "    actual_label=act_label,\n",
        "    features=features,\n",
        ")\n",
        "## Listen to response code to ensure successful delivery\n",
        "result = response.result()\n",
        "\n",
        "if result.status_code == 200:\n",
        "    print(f\"✅ Successfully logged data to Arize!\")\n",
        "else:\n",
        "    print(f'Log failed with response code {res.status_code}, {res.text}')"
      ],
      "metadata": {
        "id": "FP8Nrw_pshO7"
      },
      "execution_count": null,
      "outputs": []
    }
  ]
}