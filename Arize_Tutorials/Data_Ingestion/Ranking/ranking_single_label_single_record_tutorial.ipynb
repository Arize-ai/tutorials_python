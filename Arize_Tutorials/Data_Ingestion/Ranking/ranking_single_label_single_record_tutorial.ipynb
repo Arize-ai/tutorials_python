{
 "cells": [
  {
   "cell_type": "markdown",
   "metadata": {
    "id": "5gyfpdfIoEv2"
   },
   "source": [
    "<center><img src=\"https://storage.googleapis.com/arize-assets/arize-logo-white.jpg\" width=\"200\"/></center>\n",
    "\n",
    "# Single-Record Ingestion for Ranking With Single Label\n",
    "\n",
    "This example walks through the Arize single-record API for [ingesting ranking data](https://docs.arize.com/arize/model-types/ranking#case-2-ranking-with-single-label) with support for NDCG, GroupAUC, MAP, and MRR. Guides for other model types are available [here](https://docs.arize.com/arize/sending-data-to-arize/model-types)."
   ]
  },
  {
   "cell_type": "markdown",
   "metadata": {
    "id": "_nKCJoWko-Hq"
   },
   "source": [
    "## Install and Import Dependencies"
   ]
  },
  {
   "cell_type": "code",
   "execution_count": null,
   "metadata": {},
   "outputs": [],
   "source": [
    "!pip install -q arize\n",
    "\n",
    "import uuid\n",
    "from datetime import datetime\n",
    "\n",
    "\n",
    "import pandas as pd\n",
    "from arize.api import Client\n",
    "from arize.utils.types import (\n",
    "    Environments,\n",
    "    ModelTypes,\n",
    "    Schema,\n",
    "    RankingPredictionLabel,\n",
    "    RankingActualLabel,\n",
    ")"
   ]
  },
  {
   "cell_type": "markdown",
   "metadata": {
    "id": "0Ym6-EovpFH9"
   },
   "source": [
    "## Download and Display Data\n",
    "For this tutorial, we'll use a sample Parquet file that represents a model that predicts the likelihood that a user clicks on a recommended hotel in an ordered list.\n",
    "\n",
    "**Note**: This tutorial is for record-by-record ingestion, use the sample table as a visual indicator of how each column logs into Arize. "
   ]
  },
  {
   "cell_type": "code",
   "execution_count": null,
   "metadata": {},
   "outputs": [],
   "source": [
    "file_url = \"https://storage.googleapis.com/arize-assets/documentation-sample-data/data-ingestion/ranking-assets/ranking-single-label-sample-data.parquet\"\n",
    "df = pd.read_parquet(file_url)\n",
    "df.head()"
   ]
  },
  {
   "attachments": {},
   "cell_type": "markdown",
   "metadata": {
    "id": "icuUoNz8psoG"
   },
   "source": [
    "## Create Arize Client\n",
    "\n",
    "Sign up/ log in to your Arize account [here](https://app.arize.com/auth/login). Find your [space ID and API key](https://docs.arize.com/arize/api-reference/arize.log/client). Copy/paste into the cell below."
   ]
  },
  {
   "cell_type": "code",
   "execution_count": null,
   "metadata": {},
   "outputs": [],
   "source": [
    "SPACE_ID = \"SPACE_ID\"  # Change this line.\n",
    "API_KEY = \"API_KEY\"  # Change this line.\n",
    "\n",
    "arize_client = Client(space_id=SPACE_ID, api_key=API_KEY)\n",
    "\n",
    "if SPACE_ID == \"SPACE_ID\" or API_KEY == \"API_KEY\":\n",
    "    raise ValueError(\"❌ CHANGE SPACE_ID AND/OR API_KEY\")\n",
    "else:\n",
    "    print(\"✅ Arize client setup done! Now you can start using Arize!\")"
   ]
  },
  {
   "cell_type": "markdown",
   "metadata": {
    "id": "MIt1sGWupzY0"
   },
   "source": [
    "## Define Features\n",
    "\n"
   ]
  },
  {
   "cell_type": "code",
   "execution_count": null,
   "metadata": {},
   "outputs": [],
   "source": [
    "features = {\n",
    "    \"prop_log_historical_price\": 5.22,\n",
    "    \"price_usd\": 98.04,\n",
    "    \"promotion_flag\": 1.0,\n",
    "    \"search_destination_id\": 8192.0,\n",
    "    \"search_length_of_stay\": 4.0,\n",
    "    \"search_booking_window\": 227.0,\n",
    "    \"search_adults_count\": 1.0,\n",
    "    \"search_children_count\": 0.0,\n",
    "    \"search_room_count\": 1.0,\n",
    "    \"search_saturday_night_bool\": 0.0,\n",
    "    \"destination\": \"Yellowstone\",\n",
    "}"
   ]
  },
  {
   "attachments": {},
   "cell_type": "markdown",
   "metadata": {
    "id": "9lqELLTmrhV3"
   },
   "source": [
    "## Define Prediction & Actual Labels\n",
    "\n",
    "Create ranking labels using the arguments: `group_id`, `rank`, `label`, and `relevance_labels` before logging the record. "
   ]
  },
  {
   "cell_type": "code",
   "execution_count": null,
   "metadata": {},
   "outputs": [],
   "source": [
    "pred_label = RankingPredictionLabel(\n",
    "    group_id=\"148\",  # search_id column\n",
    "    rank=1,  # rank column\n",
    "    label=\"Relevant\",  # predicted_relevancy coulmn\n",
    ")\n",
    "act_label = RankingActualLabel(\n",
    "    relevance_labels=[\"Not Relevant\"]  # actual_relevancy column\n",
    ")"
   ]
  },
  {
   "cell_type": "markdown",
   "metadata": {
    "id": "2VKLf-ncrgU-"
   },
   "source": [
    "## Log Data To Arize\n",
    "\n",
    "Log the record using the [single-record API](https://docs.arize.com/arize/sending-data-to-arize/data-ingestion-methods/sdk-reference/python-sdk/arize.log)"
   ]
  },
  {
   "cell_type": "code",
   "execution_count": null,
   "metadata": {},
   "outputs": [],
   "source": [
    "response = arize_client.log(\n",
    "    model_id=\"demo-ranking-with-single-label\",\n",
    "    model_version=\"v1\",\n",
    "    environment=Environments.PRODUCTION,\n",
    "    model_type=ModelTypes.RANKING,\n",
    "    prediction_id=\"311103e3-a493-40ea-a21a-e457d617c956\",\n",
    "    prediction_label=pred_label,\n",
    "    actual_label=act_label,\n",
    "    features=features,\n",
    ")\n",
    "## Listen to response code to ensure successful delivery\n",
    "result = response.result()\n",
    "\n",
    "if result.status_code == 200:\n",
    "    print(f\"✅ Successfully logged data to Arize!\")\n",
    "else:\n",
    "    print(f\"Log failed with response code {res.status_code}, {res.text}\")"
   ]
  }
 ],
 "metadata": {
  "language_info": {
   "name": "python"
  }
 },
 "nbformat": 4,
 "nbformat_minor": 0
}
