{
 "cells": [
  {
   "cell_type": "markdown",
   "metadata": {
    "id": "emgzF1oxPtxc"
   },
   "source": [
    "<center><img src=\"https://storage.googleapis.com/arize-assets/arize-logo-white.jpg\" width=\"200\"/></center>\n",
    "\n",
    "# Batch Ingestion for Ranking with Single Label\n",
    "\n",
    "In this tutorial, we'll outline how to send rank, prediction labels, and attributions in batch to Arize using the `pandas` SDK in order to calculate rank-aware metrics and classification metrics. Docs on this ingestion method can be found <a href='https://docs.arize.com/arize/model-types/ranking#case-2-ranking-with-single-label'>here</a>."
   ]
  },
  {
   "cell_type": "markdown",
   "metadata": {
    "id": "OXARCfB_QZ1H"
   },
   "source": [
    "## Install and Import Dependencies"
   ]
  },
  {
   "cell_type": "code",
   "execution_count": null,
   "metadata": {
    "id": "hwNrs2V5TRiE"
   },
   "outputs": [],
   "source": [
    "!pip install -q arize\n",
    "from arize.pandas.logger import Client, Schema\n",
    "from arize.utils.types import ModelTypes, Environments, Metrics\n",
    "\n",
    "import pandas as pd\n",
    "import datetime\n",
    "import numpy as np"
   ]
  },
  {
   "cell_type": "markdown",
   "metadata": {
    "id": "eAvrX4B5ZvEg"
   },
   "source": [
    "## Download and Display Data\n",
    "For this tutorial, we'll use a sample Parquet file that represents a model that predicts the likelihood that a user clicks on a recommended hotel in an ordered list. "
   ]
  },
  {
   "cell_type": "code",
   "execution_count": null,
   "metadata": {
    "id": "45QqWeNraaY3"
   },
   "outputs": [],
   "source": [
    "file_url = \"https://storage.googleapis.com/arize-assets/documentation-sample-data/data-ingestion/ranking-assets/ranking-single-label-sample-data.parquet\"\n",
    "df = pd.read_parquet(file_url)\n",
    "df.head()"
   ]
  },
  {
   "cell_type": "markdown",
   "metadata": {},
   "source": [
    "## Add Timestamps for Predictions\n",
    "Generate sample timestamps for each prediction. More information on timestamps in Arize can be found <a href=\"https://docs.arize.com/arize/sending-data/model-schema-reference#6.-timestamp\">here</a>."
   ]
  },
  {
   "cell_type": "code",
   "execution_count": null,
   "metadata": {},
   "outputs": [],
   "source": [
    "# Generate new sample timestamps for each row based on search_id\n",
    "current_time = datetime.datetime.now().timestamp()\n",
    "\n",
    "earlier_time = (\n",
    "    datetime.datetime.now() - datetime.timedelta(days=30)\n",
    ").timestamp()\n",
    "\n",
    "optional_prediction_timestamps = np.linspace(\n",
    "    earlier_time, current_time, num=len(df.groupby(by=\"search_id\").size())\n",
    ")\n",
    "\n",
    "df_times = pd.DataFrame(\n",
    "    data={\n",
    "        \"pred_timestamp\": pd.Series(\n",
    "            optional_prediction_timestamps.astype(int)\n",
    "        ),\n",
    "        \"search_id\": df.groupby(by=\"search_id\").size().index,\n",
    "    }\n",
    ")\n",
    "df_times.head()"
   ]
  },
  {
   "cell_type": "code",
   "execution_count": null,
   "metadata": {},
   "outputs": [],
   "source": [
    "# Add new timestamps to our dataframe\n",
    "df = df.merge(df_times, on=\"search_id\", how=\"left\")\n",
    "df.head()"
   ]
  },
  {
   "cell_type": "markdown",
   "metadata": {
    "id": "5iqZam7hyEN6"
   },
   "source": [
    "## Create Arize Client\n",
    "Sign up/login to your Arize account <a href=\"https://app.arize.com/auth/login\">here</a>. Find your <a href=\"https://docs.arize.com/arize/sending-data/sdk-reference/python-sdk/arize.init#retrieving-space-and-api-keys\">Space and API keys</a>. Copy/paste into the cell below. "
   ]
  },
  {
   "cell_type": "code",
   "execution_count": null,
   "metadata": {
    "id": "wL80Hx2AyDq4"
   },
   "outputs": [],
   "source": [
    "SPACE_KEY = \"SPACE_KEY\"  # update value here with your Space Key\n",
    "API_KEY = \"API_KEY\"  # update value here with your API key\n",
    "\n",
    "arize_client = Client(space_key=SPACE_KEY, api_key=API_KEY)\n",
    "\n",
    "if SPACE_KEY == \"SPACE_KEY\" or API_KEY == \"API_KEY\":\n",
    "    raise ValueError(\"❌ NEED TO CHANGE SPACE AND/OR API_KEY\")\n",
    "else:\n",
    "    print(\n",
    "        \"✅ Import and Setup Arize Client Done! Now we can start using Arize!\"\n",
    "    )"
   ]
  },
  {
   "cell_type": "markdown",
   "metadata": {
    "id": "UiM8epdyrPpi"
   },
   "source": [
    "## Define Schema\n",
    "Create your <a href=\"https://docs.arize.com/arize/sending-data-to-arize/model-schema-reference\">model schema</a>."
   ]
  },
  {
   "cell_type": "code",
   "execution_count": null,
   "metadata": {
    "id": "ZfvgXEEfrQEo"
   },
   "outputs": [],
   "source": [
    "feature_column_names = [\n",
    "    \"prop_log_historical_price\",\n",
    "    \"price_usd\",\n",
    "    \"promotion_flag\",\n",
    "    \"search_destination_id\",\n",
    "    \"search_length_of_stay\",\n",
    "    \"search_booking_window\",\n",
    "    \"search_adults_count\",\n",
    "    \"search_children_count\",\n",
    "    \"search_room_count\",\n",
    "    \"search_saturday_night_bool\",\n",
    "    \"destination\",\n",
    "]\n",
    "\n",
    "schema = Schema(\n",
    "    prediction_id_column_name=\"prediction_id\",\n",
    "    timestamp_column_name=\"pred_timestamp\",\n",
    "    prediction_group_id_column_name=\"search_id\",\n",
    "    prediction_label_column_name=\"predicted_relevancy\",\n",
    "    rank_column_name=\"rank\",\n",
    "    relevance_labels_column_name=\"actual_relevancy\",\n",
    "    feature_column_names=feature_column_names\n",
    ")"
   ]
  },
  {
   "cell_type": "markdown",
   "metadata": {
    "id": "HS1qxucNMyfy"
   },
   "source": [
    "## Log Data to Arize\n",
    "Log the DataFrame using the <a href=\"https://docs.arize.com/arize/sending-data-to-arize/data-ingestion-methods/sdk-reference/python-sdk/arize.pandas\">pandas API</a>. "
   ]
  },
  {
   "cell_type": "code",
   "execution_count": null,
   "metadata": {
    "id": "fte1kxtVpzBy"
   },
   "outputs": [],
   "source": [
    "response = arize_client.log(\n",
    "    dataframe=df,\n",
    "    model_id=\"ranking-single-label-batch-ingestion-tutorial\",\n",
    "    model_version=\"1.0\",\n",
    "    model_type=ModelTypes.RANKING,\n",
    "    metrics_validation=[Metrics.RANKING, Metrics.RANKING_LABEL],\n",
    "    validate=True,\n",
    "    environment=Environments.PRODUCTION,\n",
    "    schema=schema\n",
    ")\n",
    "\n",
    "if response.status_code == 200:\n",
    "    print(f\"✅ You have successfully logged production dataset to Arize\")\n",
    "else:\n",
    "    print(\n",
    "        f\"Logging failed with response code {response.status_code}, {response.text}\"\n",
    "    )"
   ]
  }
 ],
 "metadata": {
  "colab": {
   "provenance": []
  },
  "kernelspec": {
   "display_name": "Python 3 (ipykernel)",
   "language": "python",
   "name": "python3"
  },
  "language_info": {
   "codemirror_mode": {
    "name": "ipython",
    "version": 3
   },
   "file_extension": ".py",
   "mimetype": "text/x-python",
   "name": "python",
   "nbconvert_exporter": "python",
   "pygments_lexer": "ipython3",
   "version": "3.10.0"
  },
  "vscode": {
   "interpreter": {
    "hash": "20a2e9668a7544737263b9122324a20f569441f0073504b971c29b8163a0bf74"
   }
  }
 },
 "nbformat": 4,
 "nbformat_minor": 1
}
